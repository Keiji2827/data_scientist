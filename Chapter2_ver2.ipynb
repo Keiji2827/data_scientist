{
  "nbformat": 4,
  "nbformat_minor": 0,
  "metadata": {
    "colab": {
      "name": "Chapter2_ver2.ipynb",
      "version": "0.3.2",
      "provenance": [],
      "include_colab_link": true
    },
    "kernelspec": {
      "display_name": "Python [Root]",
      "language": "python",
      "name": "Python [Root]"
    }
  },
  "cells": [
    {
      "cell_type": "markdown",
      "metadata": {
        "id": "view-in-github",
        "colab_type": "text"
      },
      "source": [
        "<a href=\"https://colab.research.google.com/github/Keiji2827/data_scientist/blob/master/Chapter2_ver2.ipynb\" target=\"_parent\"><img src=\"https://colab.research.google.com/assets/colab-badge.svg\" alt=\"Open In Colab\"/></a>"
      ]
    },
    {
      "metadata": {
        "nbpresent": {
          "id": "af88da20-0f51-483e-bd72-afc896a9da05"
        },
        "id": "cEogwBaU64Ov",
        "colab_type": "text"
      },
      "cell_type": "markdown",
      "source": [
        "# 2 Numpy、Scipy、Pandas、Matplotlibの基礎"
      ]
    },
    {
      "metadata": {
        "id": "E4Noi8J-64Ox",
        "colab_type": "text"
      },
      "cell_type": "markdown",
      "source": [
        "- **[2.1 Numpy、Scipy、Pandas、Matpltolibの基礎](#2.1-Numpy、Scipy、Pandas、Matpltolibの基礎)** \n",
        "    - [2.1.1 Numpyの基礎](#2.1.1-Numpyの基礎)\n",
        "    - [2.1.2 Scipyの基礎](#2.1.2-Scipyの基礎)\n",
        "    - [2.1.3 Pandasの基礎](#2.1.3-Pandasの基礎)\n",
        "    - [2.1.4 Matplotlibの基礎](#2.1.4-Matplotlibの基礎)\n",
        "<br><br>\n",
        "- **[2.2 総合問題](#2.2-総合問題)**\n",
        "    - [2.2.1 モンテカルロ法](#2.2.1-モンテカルロ法)"
      ]
    },
    {
      "metadata": {
        "collapsed": true,
        "id": "kwMa5zyM64Oy",
        "colab_type": "text"
      },
      "cell_type": "markdown",
      "source": [
        "\n",
        "***"
      ]
    },
    {
      "metadata": {
        "nbpresent": {
          "id": "b0fc1861-b979-45c5-abd0-3b05200de3b6"
        },
        "id": "ibbYoLqe64Oy",
        "colab_type": "text"
      },
      "cell_type": "markdown",
      "source": [
        "## 2.1 Numpy、Scipy、Pandas、Matpltolibの基礎\n",
        "ゴール：Numpy、Scipy、Pandas、Matplotlibのモジュールを読み込みそれらの基本的な役割を知る"
      ]
    },
    {
      "metadata": {
        "id": "Q1iIuWwL64Oz",
        "colab_type": "code",
        "outputId": "d2809ebc-aa37-4431-b1b0-8943ce02df0b",
        "colab": {
          "base_uri": "https://localhost:8080/",
          "height": 34
        }
      },
      "cell_type": "code",
      "source": [
        "# 以下のモジュールを使うので、あらかじめ読み込んでおいてください\n",
        "import numpy as np\n",
        "import numpy.random as random\n",
        "import scipy as sp\n",
        "import pandas as pd\n",
        "from pandas import Series, DataFrame\n",
        "\n",
        "# 可視化モジュール\n",
        "import matplotlib.pyplot as plt\n",
        "import matplotlib as mpl\n",
        "import seaborn as sns\n",
        "%matplotlib inline\n",
        "\n",
        "# 小数第３まで表示\n",
        "%precision 3"
      ],
      "execution_count": 0,
      "outputs": [
        {
          "output_type": "execute_result",
          "data": {
            "text/plain": [
              "u'%.3f'"
            ]
          },
          "metadata": {
            "tags": []
          },
          "execution_count": 2
        }
      ]
    },
    {
      "metadata": {
        "id": "ZlXh56nb64O7",
        "colab_type": "text"
      },
      "cell_type": "markdown",
      "source": [
        "### 2.1.1 Numpyの基礎\n",
        "キーワード：多次元配列、転置、行列の積、乱数、復元抽出、非復元抽出"
      ]
    },
    {
      "metadata": {
        "id": "cQhww1er64O9",
        "colab_type": "text"
      },
      "cell_type": "markdown",
      "source": [
        "この章では、データ分析でよく使われるPythonのモジュールNumpy、Scipy、Pandas、Matplotlibについて基礎的な使い方を学びます。これらのモジュールを扱ったのは、今後紹介する機械学習のsklearn等のモジュールのベースとなっており、またデータを前処理したり、可視化するのに非常に便利なツールだからです。ここではこれらの使い方の基本を紹介しますが、さらに詳しいことは次の章以降で学びます。\n",
        "\n",
        "まずは、Numpyの基本的な使い方についてです。Numpyを使うと、多次元配列を処理することができます。実際に扱うデータは多次元であることが多く、その処理をするためにNumpyを使うと便利です。また、NumpyはCで実装されており、処理が高速です。\n",
        "\n",
        "以下で、**import** モジュール名（numpy）でモジュールを読み込んでおり、**as** で短い名前（ここではnp）をつけます。これで該当のモジュールが使えるようになります。なお、%はマジックコマンドと言われJupyter Notebookで使える特殊変数ようなものです。以下はその1つであるprecisionを使って、小数点第3位まで結果を表示させるようにしています。他にも色々とありますので、都度紹介します。"
      ]
    },
    {
      "metadata": {
        "scrolled": true,
        "id": "mWvbVo_-64O-",
        "colab_type": "code",
        "outputId": "5895dc79-6f44-4182-8f62-4ceb47505ddf",
        "colab": {
          "base_uri": "https://localhost:8080/",
          "height": 34
        }
      },
      "cell_type": "code",
      "source": [
        "# numpyモジュールの読み込み\n",
        "import numpy as np\n",
        "\n",
        "# 小数第３まで表示という意味\n",
        "%precision 3"
      ],
      "execution_count": 0,
      "outputs": [
        {
          "output_type": "execute_result",
          "data": {
            "text/plain": [
              "u'%.3f'"
            ]
          },
          "metadata": {
            "tags": []
          },
          "execution_count": 3
        }
      ]
    },
    {
      "metadata": {
        "id": "CRTKXRa464PB",
        "colab_type": "text"
      },
      "cell_type": "markdown",
      "source": [
        "まずは、1から10までの配列を作成してみましょう。np.と後にarrayをつけて、配列を作っています。(数字が綺麗に並んでないですが、後から並び替えをするためにわざと作っています。)"
      ]
    },
    {
      "metadata": {
        "id": "2phxt5Di64PC",
        "colab_type": "code",
        "outputId": "3babcf2b-1605-467a-d583-b628eb41c820",
        "colab": {
          "base_uri": "https://localhost:8080/",
          "height": 34
        }
      },
      "cell_type": "code",
      "source": [
        "# 配列の作成\n",
        "sample_numpy_data = np.array([9,2,3,4,10,6,7,8,1,5])\n",
        "sample_numpy_data"
      ],
      "execution_count": 0,
      "outputs": [
        {
          "output_type": "execute_result",
          "data": {
            "text/plain": [
              "array([ 9,  2,  3,  4, 10,  6,  7,  8,  1,  5])"
            ]
          },
          "metadata": {
            "tags": []
          },
          "execution_count": 4
        }
      ]
    },
    {
      "metadata": {
        "id": "BsU2Kk9l64PF",
        "colab_type": "text"
      },
      "cell_type": "markdown",
      "source": [
        "次に、このデータの型をチェックするために、変数の後に「.」をつけて、dtypeを記述しています。以下の出力はintとありますので、整数型であることがわかります。これもオブジェクト型プログラミングの特徴です。ちなみに、「.」を入力後にタブ[tab]キーを押せば、その変数がもっているオブジェクトが表示されますので、そこから該当のものを選んで実行しましょう。そうすることで、すべてのオブジェクト等を正確に覚える必要はないですし、タイプミスも減ります。"
      ]
    },
    {
      "metadata": {
        "id": "fpuUgO8Z64PG",
        "colab_type": "code",
        "outputId": "a05ee74a-5742-444e-a2d6-f74d7472fa0e",
        "colab": {
          "base_uri": "https://localhost:8080/",
          "height": 34
        }
      },
      "cell_type": "code",
      "source": [
        "# データの型\n",
        "sample_numpy_data.dtype\n",
        "\n",
        "#sample_numpy_data.min()"
      ],
      "execution_count": 0,
      "outputs": [
        {
          "output_type": "execute_result",
          "data": {
            "text/plain": [
              "dtype('int64')"
            ]
          },
          "metadata": {
            "tags": []
          },
          "execution_count": 5
        }
      ]
    },
    {
      "metadata": {
        "id": "tDIOzgLL64PK",
        "colab_type": "text"
      },
      "cell_type": "markdown",
      "source": [
        ">**[ポイント]**\n",
        "\n",
        ">作業（コーディング）を早く正確にするためには、タブ[tab]を使いなそう"
      ]
    },
    {
      "metadata": {
        "id": "IiW6MWU064PL",
        "colab_type": "text"
      },
      "cell_type": "markdown",
      "source": [
        "以下は、データの次元数と要素数を表示しています。ndimとsizeです。これを使うことで、データの大きさ等がどれくらいなのかわかります。"
      ]
    },
    {
      "metadata": {
        "id": "omp4d2yn64PM",
        "colab_type": "code",
        "outputId": "fe1489c5-6e0b-494c-99dd-b2e941132057",
        "colab": {
          "base_uri": "https://localhost:8080/",
          "height": 51
        }
      },
      "cell_type": "code",
      "source": [
        "# 次元数\n",
        "print(\"次元数:\",sample_numpy_data.ndim)\n",
        "\n",
        "# 要素数\n",
        "print(\"要素数:\",sample_numpy_data.size)"
      ],
      "execution_count": 0,
      "outputs": [
        {
          "output_type": "stream",
          "text": [
            "('\\xe6\\xac\\xa1\\xe5\\x85\\x83\\xe6\\x95\\xb0:', 1)\n",
            "('\\xe8\\xa6\\x81\\xe7\\xb4\\xa0\\xe6\\x95\\xb0:', 10)\n"
          ],
          "name": "stdout"
        }
      ]
    },
    {
      "metadata": {
        "id": "d6K-3Fee64PQ",
        "colab_type": "text"
      },
      "cell_type": "markdown",
      "source": [
        "for文で書いた同じ結果（それぞれの数字を係数倍）も、Numpyを使うとだいぶ楽になります。"
      ]
    },
    {
      "metadata": {
        "id": "Ey4B5jH_64PR",
        "colab_type": "code",
        "outputId": "4b4b3521-bd23-45ba-cfc5-ba38db5bde6f",
        "colab": {
          "base_uri": "https://localhost:8080/",
          "height": 34
        }
      },
      "cell_type": "code",
      "source": [
        "# それぞれの数字を係数倍（ここでは2倍）\n",
        "sample_numpy_data * 2"
      ],
      "execution_count": 0,
      "outputs": [
        {
          "output_type": "execute_result",
          "data": {
            "text/plain": [
              "array([18,  4,  6,  8, 20, 12, 14, 16,  2, 10])"
            ]
          },
          "metadata": {
            "tags": []
          },
          "execution_count": 7
        }
      ]
    },
    {
      "metadata": {
        "id": "STHMqV6c64PV",
        "colab_type": "text"
      },
      "cell_type": "markdown",
      "source": [
        "それぞれの要素での掛け算や割り算も、for文などを使わずに簡単に計算できます。"
      ]
    },
    {
      "metadata": {
        "id": "omZGrqui64PW",
        "colab_type": "code",
        "outputId": "4a47a694-d368-4770-87f6-3208b6e5a407",
        "colab": {
          "base_uri": "https://localhost:8080/",
          "height": 68
        }
      },
      "cell_type": "code",
      "source": [
        "# それぞれの要素同士での演算\n",
        "print(\"掛け算:\",np.array([1,2,3,4,5,6,7,8,9,10]) * np.array([10,9,8,7,6,5,4,3,2,1]))\n",
        "print(\"累乗:\",np.array([1,2,3,4,5,6,7,8,9,10]) **2)\n",
        "print(\"割り算:\",np.array([1,2,3,4,5,6,7,8,9,10]) / np.array([10,9,8,7,6,5,4,3,2,1]))"
      ],
      "execution_count": 0,
      "outputs": [
        {
          "output_type": "stream",
          "text": [
            "('\\xe6\\x8e\\x9b\\xe3\\x81\\x91\\xe7\\xae\\x97:', array([10, 18, 24, 28, 30, 30, 28, 24, 18, 10]))\n",
            "('\\xe7\\xb4\\xaf\\xe4\\xb9\\x97:', array([  1,   4,   9,  16,  25,  36,  49,  64,  81, 100]))\n",
            "('\\xe5\\x89\\xb2\\xe3\\x82\\x8a\\xe7\\xae\\x97:', array([ 0,  0,  0,  0,  0,  1,  1,  2,  4, 10]))\n"
          ],
          "name": "stdout"
        }
      ]
    },
    {
      "metadata": {
        "id": "yzN0K8UR64Pa",
        "colab_type": "text"
      },
      "cell_type": "markdown",
      "source": [
        "以下では、0や1のデータを作っています。「zeros」は全ての要素を0で作成し、「ones」は全ての要素を1で作成します。dtypeで型を指定しています。"
      ]
    },
    {
      "metadata": {
        "scrolled": true,
        "id": "0G-vVoE564Pb",
        "colab_type": "code",
        "outputId": "26f38bc0-d60a-479e-de7d-09f3dbe0e17d",
        "colab": {
          "base_uri": "https://localhost:8080/",
          "height": 85
        }
      },
      "cell_type": "code",
      "source": [
        "# 0 や 1の初期化データ\n",
        "# (2,3)は2行3列の行列データを作っています。\n",
        "zero_data = np.zeros((2,3), dtype='i')\n",
        "one_data = np.ones((2,3), dtype='f')\n",
        "\n",
        "print(\"・0でint型　\\n\", zero_data)\n",
        "\n",
        "print(\"・1でfloat型 \\n\", one_data)"
      ],
      "execution_count": 0,
      "outputs": [
        {
          "output_type": "stream",
          "text": [
            "('\\xe3\\x83\\xbb0\\xe3\\x81\\xa7int\\xe5\\x9e\\x8b\\xe3\\x80\\x80\\n', array([[0, 0, 0],\n",
            "       [0, 0, 0]], dtype=int32))\n",
            "('\\xe3\\x83\\xbb1\\xe3\\x81\\xa7float\\xe5\\x9e\\x8b \\n', array([[1., 1., 1.],\n",
            "       [1., 1., 1.]], dtype=float32))\n"
          ],
          "name": "stdout"
        }
      ]
    },
    {
      "metadata": {
        "id": "vt6t931x64Pd",
        "colab_type": "text"
      },
      "cell_type": "markdown",
      "source": [
        "次は、配列の数字をソート（並び替え）してみましょう。デフォルトでは、昇順（小さい数字から大きい数字）になります。"
      ]
    },
    {
      "metadata": {
        "id": "phnjTJQr64Pe",
        "colab_type": "code",
        "outputId": "2d9ec139-0b38-4e5d-f8a8-a5bed7b1dd66",
        "colab": {
          "base_uri": "https://localhost:8080/",
          "height": 68
        }
      },
      "cell_type": "code",
      "source": [
        "print(\"now\",sample_numpy_data)\n",
        "# ソート\n",
        "sample_numpy_data.sort()\n",
        "print(\"ager sort\",sample_numpy_data)\n",
        "print(\"revers\",sample_numpy_data[::-2])\n"
      ],
      "execution_count": 0,
      "outputs": [
        {
          "output_type": "stream",
          "text": [
            "('now', array([ 9,  2,  3,  4, 10,  6,  7,  8,  1,  5]))\n",
            "('ager sort', array([ 1,  2,  3,  4,  5,  6,  7,  8,  9, 10]))\n",
            "('revers', array([10,  8,  6,  4,  2]))\n"
          ],
          "name": "stdout"
        }
      ]
    },
    {
      "metadata": {
        "id": "2Z7ZPD-p64Pj",
        "colab_type": "text"
      },
      "cell_type": "markdown",
      "source": [
        "なお、降順（大きい数字から小さい数字）にしたい場合は、sample_numpy_data[::-1].sort()のように、**スライス**を使ってやります。[::-1]は、-1つずつ飛ばすという意味で、-1は逆からを意味するので、逆さから数字を1つずたどっていくことになります。"
      ]
    },
    {
      "metadata": {
        "id": "UsJAMO6N64Pk",
        "colab_type": "text"
      },
      "cell_type": "markdown",
      "source": [
        "minやmaxを呼び出すことで、最小値や最大値なども求めることができます。これもオブジェクト指向の特徴です。積み上げcumsumは、前から順に足しあげていく演算です。"
      ]
    },
    {
      "metadata": {
        "scrolled": true,
        "id": "HHAp3Dyh64Pk",
        "colab_type": "code",
        "outputId": "659913d2-ed46-44f3-a3e6-e669e08bc115",
        "colab": {
          "base_uri": "https://localhost:8080/",
          "height": 102
        }
      },
      "cell_type": "code",
      "source": [
        "# 最小値\n",
        "print(\"Min:\",sample_numpy_data.min())\n",
        "# 最大値\n",
        "print(\"Max:\",sample_numpy_data.max())\n",
        "# 合計\n",
        "print(\"Sum:\",sample_numpy_data.sum())\n",
        "# 積み上げ\n",
        "print(\"Cum:\",sample_numpy_data.cumsum())\n",
        "# 積み上げ割合\n",
        "print(\"Ratio:\",sample_numpy_data.cumsum()/sample_numpy_data.sum())"
      ],
      "execution_count": 0,
      "outputs": [
        {
          "output_type": "stream",
          "text": [
            "('Min:', 1)\n",
            "('Max:', 10)\n",
            "('Sum:', 55)\n",
            "('Cum:', array([ 1,  3,  6, 10, 15, 21, 28, 36, 45, 55]))\n",
            "('Ratio:', array([0, 0, 0, 0, 0, 0, 0, 0, 0, 1]))\n"
          ],
          "name": "stdout"
        }
      ]
    },
    {
      "metadata": {
        "id": "8NtIK2Mb64Ps",
        "colab_type": "text"
      },
      "cell_type": "markdown",
      "source": [
        "次は、乱数についてです。乱数とは、簡単にいうと規則性のないデタラメな数をいいます。乱数を発生するときには、Numpyを使うことが多く、計算するときには以下のようにします。10個の乱数を発生させています。seedはなくても大丈夫ですが、乱数を固定化し、のちの検証などで一定の値を担保できます。正規分布等については後で説明します。平均が0でデータの散らばり具合を意味する分散が1の確率分布に従うデータから数字を取り出します。"
      ]
    },
    {
      "metadata": {
        "id": "1cV8zglD64Pt",
        "colab_type": "code",
        "outputId": "3fcb288c-bcbd-4c68-a72a-2c18488af5f2",
        "colab": {
          "base_uri": "https://localhost:8080/",
          "height": 51
        }
      },
      "cell_type": "code",
      "source": [
        "# 乱数の発生のためのモジュール読み込み\n",
        "import numpy.random as random\n",
        "\n",
        "# seedを設定することで乱数を固定化することができる\n",
        "# これを設定しないと、テストなどでチェックするときに再現が困難になる\n",
        "random.seed(0)\n",
        "\n",
        "# 正規分布（平均0、分散1）の乱数を10個発生\n",
        "norm_random_sample_data = random.randn(10)\n",
        "\n",
        "print(\"random:\", norm_random_sample_data)"
      ],
      "execution_count": 0,
      "outputs": [
        {
          "output_type": "stream",
          "text": [
            "('random:', array([ 1.764,  0.4  ,  0.979,  2.241,  1.868, -0.977,  0.95 , -0.151,\n",
            "       -0.103,  0.411]))\n"
          ],
          "name": "stdout"
        }
      ]
    },
    {
      "metadata": {
        "id": "zj8m4n9864Px",
        "colab_type": "text"
      },
      "cell_type": "markdown",
      "source": [
        "次は、発生させたデータの中から数字を抽出しています。random.choiceを使っています。replaceはデフォルトでTrueで、この場合は、データの中から重複を許してデータを抜き出す方法で、これを**復元抽出**と言います。一方、replaceをFalseに設定する場合はデータの重複を許さずにデータを抜き出す方法で、これを**非復元抽出**と言います。"
      ]
    },
    {
      "metadata": {
        "id": "TjDnoZj364Px",
        "colab_type": "code",
        "outputId": "919aae19-2b22-4b35-d057-9d29fbd31592",
        "colab": {
          "base_uri": "https://localhost:8080/",
          "height": 51
        }
      },
      "cell_type": "code",
      "source": [
        "# ランダム抽出\n",
        "print(random.choice(norm_random_sample_data,1))# 10個を抽出（重複あり,復元抽出）\n",
        "print(random.choice(norm_random_sample_data,10,replace=False)) # 10個を抽出（重複なし、非復元抽出)"
      ],
      "execution_count": 0,
      "outputs": [
        {
          "output_type": "stream",
          "text": [
            "[0.95]\n",
            "[ 0.979  2.241 -0.103  1.868 -0.977  0.4    1.764  0.95   0.411 -0.151]\n"
          ],
          "name": "stdout"
        }
      ]
    },
    {
      "metadata": {
        "id": "zXZyc7lE64P0",
        "colab_type": "text"
      },
      "cell_type": "markdown",
      "source": [
        "復元抽出では、同じ数字が何個かあったりしますが、非復元抽出では、同じ数字が入ることはありません。"
      ]
    },
    {
      "metadata": {
        "id": "TtgvpzqX64P1",
        "colab_type": "text"
      },
      "cell_type": "markdown",
      "source": [
        ">**[やってみよう]**\n",
        "\n",
        ">seed(0)の0を変えたり、ランダム抽出の数を増やしたりして、結果どうなっているか表示してみましょう。"
      ]
    },
    {
      "metadata": {
        "id": "oY0pvEgA64P1",
        "colab_type": "text"
      },
      "cell_type": "markdown",
      "source": [
        "次は、Numpyを用いた場合の計算時間の比較です。乱数を10の6乗コ発生させて、それを合計する実装です。一番はじめは普通の処理、2つ目がNumpyを使った処理です。"
      ]
    },
    {
      "metadata": {
        "id": "Q70KKesD64P3",
        "colab_type": "code",
        "outputId": "1971342d-d684-404f-e423-e4112eb0d7da",
        "colab": {
          "base_uri": "https://localhost:8080/",
          "height": 51
        }
      },
      "cell_type": "code",
      "source": [
        "# Nは乱数の発生数、10の6乗\n",
        "N = 10**6\n",
        "# normal version (以下のrange(N)は0からN-1までの整数を用意しています。 _ はあとで変数として使用しないため、このように表現します。)\n",
        "normal_sample_data = [random.random() for _ in range(N)]\n",
        "# numpy version\n",
        "numpy_random_data = np.array(normal_sample_data)\n",
        "\n",
        "# calc time :合計値\n",
        "%timeit sum(normal_sample_data)\n",
        "%timeit np.sum(numpy_random_data)"
      ],
      "execution_count": 0,
      "outputs": [
        {
          "output_type": "stream",
          "text": [
            "100 loops, best of 3: 13.9 ms per loop\n",
            "1000 loops, best of 3: 417 µs per loop\n"
          ],
          "name": "stdout"
        }
      ]
    },
    {
      "metadata": {
        "id": "0Z6wOBrc64P8",
        "colab_type": "text"
      },
      "cell_type": "markdown",
      "source": [
        "普通に演算するよりも、Numpyを使った方(np.sum())が早くなりました。%timeitは何回か同じ計算をして、ベスト3の平均計算時間を返しています。1つ目の「100 loops, best of 3: 5.78 ms per loop」は、100回計算して、ベスト3の計算時間平均が5.78ミリ秒という意味です。"
      ]
    },
    {
      "metadata": {
        "id": "M3a_HtJ364P9",
        "colab_type": "text"
      },
      "cell_type": "markdown",
      "source": [
        ">**[ポイント]**\n",
        "\n",
        ">パフォーマンス等をあげたい場合は、%timeit を使いながら、計算時間をチェックしましょう。"
      ]
    },
    {
      "metadata": {
        "id": "OvRFWDgF64P-",
        "colab_type": "text"
      },
      "cell_type": "markdown",
      "source": [
        "次は、Numpyを使って、行列を作成しています。0〜8までの数字を3×3行列で表示しています。arrange(9)は0から8までの整数で、その後にreshapeで行列に変換しています。"
      ]
    },
    {
      "metadata": {
        "id": "NDIFxyg464QA",
        "colab_type": "code",
        "outputId": "be974fa6-e42c-4e99-aed4-3daff793d35c",
        "colab": {
          "base_uri": "https://localhost:8080/",
          "height": 68
        }
      },
      "cell_type": "code",
      "source": [
        "# データの準備\n",
        "sample_multi_array_data1 = np.arange(9).reshape(3,3)\n",
        "print(sample_multi_array_data1)"
      ],
      "execution_count": 0,
      "outputs": [
        {
          "output_type": "stream",
          "text": [
            "[[0 1 2]\n",
            " [3 4 5]\n",
            " [6 7 8]]\n"
          ],
          "name": "stdout"
        }
      ]
    },
    {
      "metadata": {
        "id": "5Gum2VjX64QD",
        "colab_type": "text"
      },
      "cell_type": "markdown",
      "source": [
        "行や列のみを抜き出す場合は、以下のようにします。[0,:]はインデックス0の行で、列はすべて取り出すという意味です。"
      ]
    },
    {
      "metadata": {
        "id": "nK7F-lHZ64QD",
        "colab_type": "code",
        "outputId": "93ddef1e-eb17-41cc-f948-937028e43d81",
        "colab": {
          "base_uri": "https://localhost:8080/",
          "height": 34
        }
      },
      "cell_type": "code",
      "source": [
        "# 行\n",
        "sample_multi_array_data1[0,:]"
      ],
      "execution_count": 0,
      "outputs": [
        {
          "output_type": "execute_result",
          "data": {
            "text/plain": [
              "array([0, 1, 2])"
            ]
          },
          "metadata": {
            "tags": []
          },
          "execution_count": 16
        }
      ]
    },
    {
      "metadata": {
        "id": "yR_4yu7p64QJ",
        "colab_type": "text"
      },
      "cell_type": "markdown",
      "source": [
        "行や列のみを抜き出す場合は、以下のようにします。[:,0]はインデックス0の列で、行はすべて取り出すという意味です。"
      ]
    },
    {
      "metadata": {
        "id": "1fzk6Dzy64QL",
        "colab_type": "code",
        "outputId": "baea9bff-edf9-471f-f7bd-90e5009e9b76",
        "colab": {
          "base_uri": "https://localhost:8080/",
          "height": 34
        }
      },
      "cell_type": "code",
      "source": [
        "# 列\n",
        "sample_multi_array_data1[:,0]"
      ],
      "execution_count": 0,
      "outputs": [
        {
          "output_type": "execute_result",
          "data": {
            "text/plain": [
              "array([0, 3, 6])"
            ]
          },
          "metadata": {
            "tags": []
          },
          "execution_count": 17
        }
      ]
    },
    {
      "metadata": {
        "id": "5WG19aK464QO",
        "colab_type": "text"
      },
      "cell_type": "markdown",
      "source": [
        "行列の掛け算をしてみましょう。以下は、データの準備として、同じ行数と列数の行列を作成しています。"
      ]
    },
    {
      "metadata": {
        "id": "NRQov2Jt64QQ",
        "colab_type": "code",
        "outputId": "56374531-2732-4f2e-9327-d671ba6ec122",
        "colab": {
          "base_uri": "https://localhost:8080/",
          "height": 68
        }
      },
      "cell_type": "code",
      "source": [
        "sample_multi_array_data2 = np.arange(9,9+9).reshape(3,3)\n",
        "print(sample_multi_array_data2)"
      ],
      "execution_count": 0,
      "outputs": [
        {
          "output_type": "stream",
          "text": [
            "[[ 9 10 11]\n",
            " [12 13 14]\n",
            " [15 16 17]]\n"
          ],
          "name": "stdout"
        }
      ]
    },
    {
      "metadata": {
        "id": "WSRpS4bF64QS",
        "colab_type": "text"
      },
      "cell_type": "markdown",
      "source": [
        "行列の掛け算では、dotを使います。なお、*を使うと、それぞれの要素を掛け算するだけなので、注意しましょう。"
      ]
    },
    {
      "metadata": {
        "id": "FR1V86K464QT",
        "colab_type": "code",
        "outputId": "f5933bfe-3a50-40c4-9b5c-f6c34fe19486",
        "colab": {}
      },
      "cell_type": "code",
      "source": [
        "# 行列の積\n",
        "np.dot(sample_multi_array_data1,sample_multi_array_data2)"
      ],
      "execution_count": 0,
      "outputs": [
        {
          "output_type": "execute_result",
          "data": {
            "text/plain": [
              "array([[ 42,  45,  48],\n",
              "       [150, 162, 174],\n",
              "       [258, 279, 300]])"
            ]
          },
          "metadata": {
            "tags": []
          },
          "execution_count": 18
        }
      ]
    },
    {
      "metadata": {
        "id": "TP_FqSc064QW",
        "colab_type": "code",
        "outputId": "4d5b7172-194c-4a38-93be-3d8707f4a496",
        "colab": {}
      },
      "cell_type": "code",
      "source": [
        "# 要素の積(注：行列の掛け算ではありません)\n",
        "sample_multi_array_data1 * sample_multi_array_data2"
      ],
      "execution_count": 0,
      "outputs": [
        {
          "output_type": "execute_result",
          "data": {
            "text/plain": [
              "array([[  0,  10,  22],\n",
              "       [ 36,  52,  70],\n",
              "       [ 90, 112, 136]])"
            ]
          },
          "metadata": {
            "tags": []
          },
          "execution_count": 19
        }
      ]
    },
    {
      "metadata": {
        "id": "CKIufrUp64QY",
        "colab_type": "text"
      },
      "cell_type": "markdown",
      "source": [
        "#### <練習問題 1>\n",
        "\n",
        "1から50までの自然数の和を計算するプログラムを書いて、最後の計算結果を表示させるプログラムを書いてください。ただし、Numpyを使ってください。"
      ]
    },
    {
      "metadata": {
        "id": "skpiXKhWTvaf",
        "colab_type": "code",
        "outputId": "3d1e21c6-af7e-47f9-9852-89e7f9a7080a",
        "colab": {
          "base_uri": "https://localhost:8080/",
          "height": 34
        }
      },
      "cell_type": "code",
      "source": [
        "normal_num = [num for num in range(51)]\n",
        "np.sum(normal_num)"
      ],
      "execution_count": 0,
      "outputs": [
        {
          "output_type": "execute_result",
          "data": {
            "text/plain": [
              "1275"
            ]
          },
          "metadata": {
            "tags": []
          },
          "execution_count": 28
        }
      ]
    },
    {
      "metadata": {
        "id": "FA_Lpvui64QY",
        "colab_type": "text"
      },
      "cell_type": "markdown",
      "source": [
        "#### <練習問題 2>\n",
        "\n",
        "正規分布に従う乱数を10個発生させて配列を作成してください。また、その中での最小値、最大値、合計を求めるプログラムを書いてください。"
      ]
    },
    {
      "metadata": {
        "id": "NzF6DO5gUtRW",
        "colab_type": "code",
        "outputId": "dcaca45d-1f90-41e7-c490-bf191f1588bd",
        "colab": {
          "base_uri": "https://localhost:8080/",
          "height": 68
        }
      },
      "cell_type": "code",
      "source": [
        "import numpy.random as random\n",
        "\n",
        "rand_num = random.random(10)\n",
        "print(\"Max is {:.3f}\".format(rand_num.max()))\n",
        "\n",
        "print(\"Min is \" + str(rand_num.min()))\n",
        "print(\"Sum is \" + str(rand_num.sum()))"
      ],
      "execution_count": 0,
      "outputs": [
        {
          "output_type": "stream",
          "text": [
            "Max is 0.859\n",
            "Min is 0.20352766002887346\n",
            "Sum is 5.553414091055605\n"
          ],
          "name": "stdout"
        }
      ]
    },
    {
      "metadata": {
        "id": "jwQm4Jgm64QZ",
        "colab_type": "text"
      },
      "cell_type": "markdown",
      "source": [
        "#### <練習問題 3>\n",
        "\n",
        "要素がすべて3の5行5列の行列を作成し、その行列の2乗をする計算をしてみましょう。"
      ]
    },
    {
      "metadata": {
        "id": "7FRVzSk1WU0r",
        "colab_type": "code",
        "outputId": "3d58bd52-0d54-4e22-ec18-88abc79760d4",
        "colab": {
          "base_uri": "https://localhost:8080/",
          "height": 68
        }
      },
      "cell_type": "code",
      "source": [
        "all3 = np.ones((3,3), dtype='i')\n",
        "all3_2 = all3\n",
        "\n",
        "print(np.dot(all3_2,all3_2))\n"
      ],
      "execution_count": 0,
      "outputs": [
        {
          "output_type": "stream",
          "text": [
            "[[3 3 3]\n",
            " [3 3 3]\n",
            " [3 3 3]]\n"
          ],
          "name": "stdout"
        }
      ]
    },
    {
      "metadata": {
        "id": "fACMP6wH64Qa",
        "colab_type": "text"
      },
      "cell_type": "markdown",
      "source": [
        "### 2.1.2 Scipyの基礎\n",
        "キーワード：逆行列、固有値、固有ベクトル、最適化"
      ]
    },
    {
      "metadata": {
        "id": "Stewxr2764Qb",
        "colab_type": "text"
      },
      "cell_type": "markdown",
      "source": [
        "Scipyは科学技術計算をするためのモジュールで、多様な数学処理が可能です。ここでは、線形代数の逆行列や固有値、方程式の解などを求めてみましょう。なお、これらの用語がわからない方は、ネットで調べるか、以前紹介した参考文献で学習してください。"
      ]
    },
    {
      "metadata": {
        "id": "hdOLllpB64Qc",
        "colab_type": "code",
        "colab": {}
      },
      "cell_type": "code",
      "source": [
        "# Scipyのモジュール\n",
        "import scipy as sp\n",
        "\n",
        "# 線形代数用のモジュール\n",
        "import scipy.linalg as linalg\n",
        "\n",
        "# 最適化計算（最小値）用のモジュール\n",
        "from scipy.optimize import minimize_scalar"
      ],
      "execution_count": 0,
      "outputs": []
    },
    {
      "metadata": {
        "id": "IFsPs68O64Qf",
        "colab_type": "text"
      },
      "cell_type": "markdown",
      "source": [
        "以下は、ある行列に対して行列式を求めています。detを使います。"
      ]
    },
    {
      "metadata": {
        "id": "uPS1N8Ns64Qg",
        "colab_type": "code",
        "outputId": "c5829ec1-e72f-4e5c-fff6-a178f8af17e5",
        "colab": {
          "base_uri": "https://localhost:8080/",
          "height": 51
        }
      },
      "cell_type": "code",
      "source": [
        "# サンプルデータ作成\n",
        "sample_matrix_data = np.array([[1,-1,-1],[-1,1,-1],[-1,-1,1]])\n",
        "\n",
        "# 行列式\n",
        "print(\"行列式\")\n",
        "print(linalg.det(sample_matrix_data))"
      ],
      "execution_count": 0,
      "outputs": [
        {
          "output_type": "stream",
          "text": [
            "行列式\n",
            "-4.0\n"
          ],
          "name": "stdout"
        }
      ]
    },
    {
      "metadata": {
        "id": "vwvhqSM664Qi",
        "colab_type": "text"
      },
      "cell_type": "markdown",
      "source": [
        "次は、逆行列です。invを使います。"
      ]
    },
    {
      "metadata": {
        "id": "4Y7ZoSt664Qi",
        "colab_type": "code",
        "outputId": "056285e6-853e-47e5-baad-2c9cc1460d75",
        "colab": {}
      },
      "cell_type": "code",
      "source": [
        "# 逆行列\n",
        "print(\"逆行列\")\n",
        "print(linalg.inv(sample_matrix_data))"
      ],
      "execution_count": 0,
      "outputs": [
        {
          "output_type": "stream",
          "text": [
            "逆行列\n",
            "[[ 0.  -0.5 -0.5]\n",
            " [-0.5 -0.  -0.5]\n",
            " [-0.5 -0.5  0. ]]\n"
          ],
          "name": "stdout"
        }
      ]
    },
    {
      "metadata": {
        "id": "pQKPlDf364Qk",
        "colab_type": "text"
      },
      "cell_type": "markdown",
      "source": [
        "念のため、確認してみましょう。行列の積が単位行列になっていることがわかります。"
      ]
    },
    {
      "metadata": {
        "id": "QplyCr_b64Qm",
        "colab_type": "code",
        "outputId": "a86b9120-2b15-4280-a50c-47cf76ef3605",
        "colab": {}
      },
      "cell_type": "code",
      "source": [
        "# 確認\n",
        "print(sample_matrix_data.dot(linalg.inv(sample_matrix_data)))"
      ],
      "execution_count": 0,
      "outputs": [
        {
          "output_type": "stream",
          "text": [
            "[[ 1.  0.  0.]\n",
            " [ 0.  1.  0.]\n",
            " [ 0.  0.  1.]]\n"
          ],
          "name": "stdout"
        }
      ]
    },
    {
      "metadata": {
        "id": "Eo4RH9S164Qp",
        "colab_type": "text"
      },
      "cell_type": "markdown",
      "source": [
        "次は、固有値と固有ベクトルを算出しています。"
      ]
    },
    {
      "metadata": {
        "id": "Z61H8SXl64Qr",
        "colab_type": "code",
        "outputId": "bb23617f-2197-411c-d911-d042914823cf",
        "colab": {}
      },
      "cell_type": "code",
      "source": [
        "# 固有値と固有ベクトル\n",
        "eig_value, eig_vector = linalg.eig(sample_matrix_data)\n",
        "\n",
        "# 固有値と固有ベクトル\n",
        "print(\"固有値\")\n",
        "print(eig_value)\n",
        "print(\"固有ベクトル\")\n",
        "print(eig_vector)"
      ],
      "execution_count": 0,
      "outputs": [
        {
          "output_type": "stream",
          "text": [
            "固有値\n",
            "[-1.+0.j  2.+0.j  2.+0.j]\n",
            "固有ベクトル\n",
            "[[ 0.577 -0.816  0.428]\n",
            " [ 0.577  0.408 -0.816]\n",
            " [ 0.577  0.408  0.389]]\n"
          ],
          "name": "stdout"
        }
      ]
    },
    {
      "metadata": {
        "id": "vlFQrBJunDdC",
        "colab_type": "code",
        "colab": {}
      },
      "cell_type": "code",
      "source": [
        "print()"
      ],
      "execution_count": 0,
      "outputs": []
    },
    {
      "metadata": {
        "id": "0ROVMg-Y64Qv",
        "colab_type": "text"
      },
      "cell_type": "markdown",
      "source": [
        "次は最適化計算を使って、方程式の解を求めてみましょう。ここで計算する式として、"
      ]
    },
    {
      "metadata": {
        "id": "m75o3tGS64Qw",
        "colab_type": "text"
      },
      "cell_type": "markdown",
      "source": [
        "\\begin{eqnarray}\n",
        "f(x) = x^2 + 2x +1\n",
        "\\end{eqnarray}"
      ]
    },
    {
      "metadata": {
        "id": "byPQFuiB64Qx",
        "colab_type": "text"
      },
      "cell_type": "markdown",
      "source": [
        "の2次関数を考えます。もちろん、紙と鉛筆で計算することも可能で、解は-1ですが、解の近似計算でよく使われるニュートン法を使って求めてみましょう。まずは、上の関数を用意します。"
      ]
    },
    {
      "metadata": {
        "id": "HrxzODPE64Qy",
        "colab_type": "code",
        "colab": {}
      },
      "cell_type": "code",
      "source": [
        "# 関数の定義\n",
        "def sample_function(x):\n",
        "    return (x**2 + 2*x + 1)"
      ],
      "execution_count": 0,
      "outputs": []
    },
    {
      "metadata": {
        "id": "JBN4U1TB64Q1",
        "colab_type": "text"
      },
      "cell_type": "markdown",
      "source": [
        "次に、f(x)=0の解xを求めるために、以下でnewton関数を使います。newton関数の1つ目の引数が先ほど用意した関数sample_functionをセットし、2つ目の引数にはf(x)=0 の0をセットします。"
      ]
    },
    {
      "metadata": {
        "id": "qCsybVJS64Q1",
        "colab_type": "code",
        "outputId": "fbe0ea57-c742-4866-83d1-b88015bf6b13",
        "colab": {}
      },
      "cell_type": "code",
      "source": [
        "# ニュートン法の読み込み\n",
        "from scipy.optimize import newton\n",
        "\n",
        "# 計算実行\n",
        "print(newton(sample_function,0))"
      ],
      "execution_count": 0,
      "outputs": [
        {
          "output_type": "stream",
          "text": [
            "-0.9999999852953547\n"
          ],
          "name": "stdout"
        }
      ]
    },
    {
      "metadata": {
        "id": "RmbiAeLP64Q3",
        "colab_type": "text"
      },
      "cell_type": "markdown",
      "source": [
        "ほぼ-1になっているのがわかります。"
      ]
    },
    {
      "metadata": {
        "id": "QwR8AzA-64Q4",
        "colab_type": "text"
      },
      "cell_type": "markdown",
      "source": [
        "なお、ニュートン法をはじめて聞いた方は検索をして調べるか、以下のサイト等を参考にしてください。"
      ]
    },
    {
      "metadata": {
        "id": "u80ksgdi64Q4",
        "colab_type": "text"
      },
      "cell_type": "markdown",
      "source": [
        ">[参考URL]\n",
        "\n",
        ">https://ja.wikipedia.org/wiki/ニュートン法\n",
        "\n",
        ">http://qiita.com/PlanetMeron/items/09d7eb204868e1a49f49"
      ]
    },
    {
      "metadata": {
        "id": "XuG4FNCE64Q5",
        "colab_type": "text"
      },
      "cell_type": "markdown",
      "source": [
        "次に同じ関数で、最小値を求めることを考えます。ここでは、minimize_scalarを使うことにします。なお、パラメータでは、Brent 法を使っており、放物線補間法と黄金分割法（単峰関数の極値（極大値または極小値）を求める方法）を組み合わせた方法で、黄金分割法よりも収束が速いのが特徴です。この講座では、あまり使わないので、用語等については覚えなくても大丈夫ですが、これら以外にも色々なアプローチ方法がありますので、時間がある方は調べてみてください。"
      ]
    },
    {
      "metadata": {
        "id": "hnzAzNBU64Q6",
        "colab_type": "code",
        "outputId": "73c7ef62-6abd-42f5-c4c8-fc0d0bd63e9f",
        "colab": {}
      },
      "cell_type": "code",
      "source": [
        "# 計算実行\n",
        "print(minimize_scalar(sample_function,method=\"Brent\"))"
      ],
      "execution_count": 0,
      "outputs": [
        {
          "output_type": "stream",
          "text": [
            "     fun: 0.0\n",
            "    nfev: 5\n",
            "     nit: 4\n",
            " success: True\n",
            "       x: -1.0000000000000002\n"
          ],
          "name": "stdout"
        }
      ]
    },
    {
      "metadata": {
        "id": "0-Og2T4y64Q8",
        "colab_type": "text"
      },
      "cell_type": "markdown",
      "source": [
        "ここでScipyについては一旦終了します。次の章でさらに色々な科学計算（積分や微分方程式など）ができることを学びます。"
      ]
    },
    {
      "metadata": {
        "id": "zr-7GJB664Q-",
        "colab_type": "text"
      },
      "cell_type": "markdown",
      "source": [
        ">**[やってみよう]**\n",
        "\n",
        ">上の関数を変更したりして、最小値等を計算を実行してみましょう。"
      ]
    },
    {
      "metadata": {
        "id": "JZ9kdvG964Q_",
        "colab_type": "text"
      },
      "cell_type": "markdown",
      "source": [
        "#### <練習問題 1>\n",
        "\n",
        "以下の行列について、行列式を求めてください。\n",
        "\n",
        "$\n",
        "  A = \\left(\n",
        "    \\begin{array}{ccc}\n",
        "      1 & 2 & 3 \\\\\n",
        "      1 & 3 & 2 \\\\\n",
        "      3 & 1 & 2\n",
        "    \\end{array}\n",
        "  \\right)\n",
        "$"
      ]
    },
    {
      "metadata": {
        "id": "Z7WgGrK8kVC8",
        "colab_type": "code",
        "outputId": "2b25b1dc-b9c6-41fd-84bf-d795cfd2ee27",
        "colab": {
          "base_uri": "https://localhost:8080/",
          "height": 34
        }
      },
      "cell_type": "code",
      "source": [
        "A=[[1,2,3],[1,3,2],[3,1,2]]\n",
        "#A=[[3,1],[1,3]]\n",
        "linalg.det(A)"
      ],
      "execution_count": 0,
      "outputs": [
        {
          "output_type": "execute_result",
          "data": {
            "text/plain": [
              "-12.000"
            ]
          },
          "metadata": {
            "tags": []
          },
          "execution_count": 117
        }
      ]
    },
    {
      "metadata": {
        "id": "Cq2skKkz64RA",
        "colab_type": "text"
      },
      "cell_type": "markdown",
      "source": [
        "#### <練習問題 2>\n",
        "\n",
        "上と同じ行列について、逆行列、固有値と固有ベクトルを求めてください。"
      ]
    },
    {
      "metadata": {
        "id": "QFEzdb0uln15",
        "colab_type": "code",
        "outputId": "225fb583-38a1-4a1f-b8f1-5e17621bc5c8",
        "colab": {
          "base_uri": "https://localhost:8080/",
          "height": 170
        }
      },
      "cell_type": "code",
      "source": [
        "print(linalg.inv(A))\n",
        "eig_value, eig_vector = linalg.eig(A)\n",
        "print(\"固有値\")\n",
        "print(eig_value)\n",
        "print(\"固有ベクトル\")\n",
        "print(eig_vector)\n",
        "\n"
      ],
      "execution_count": 0,
      "outputs": [
        {
          "output_type": "stream",
          "text": [
            "[[-0.333  0.083  0.417]\n",
            " [-0.333  0.583 -0.083]\n",
            " [ 0.667 -0.417 -0.083]]\n",
            "固有値\n",
            "[ 6.   +0.j -1.414+0.j  1.414+0.j]\n",
            "固有ベクトル\n",
            "[[-0.577 -0.722  0.16 ]\n",
            " [-0.577 -0.143 -0.811]\n",
            " [-0.577  0.677  0.563]]\n"
          ],
          "name": "stdout"
        }
      ]
    },
    {
      "metadata": {
        "id": "CCGVxTcomGS4",
        "colab_type": "code",
        "outputId": "56612bdf-9bbf-473b-c984-01bd1abf400e",
        "colab": {
          "base_uri": "https://localhost:8080/",
          "height": 119
        }
      },
      "cell_type": "code",
      "source": [
        "print(np.dot(A,eig_vector))\n",
        "print(np.multiply(eig_value,eig_vector))\n"
      ],
      "execution_count": 0,
      "outputs": [
        {
          "output_type": "stream",
          "text": [
            "[[-3.464  1.022  0.227]\n",
            " [-3.464  0.202 -1.147]\n",
            " [-3.464 -0.957  0.796]]\n",
            "[[-3.464+0.j  1.022-0.j  0.227+0.j]\n",
            " [-3.464+0.j  0.202-0.j -1.147+0.j]\n",
            " [-3.464+0.j -0.957+0.j  0.796+0.j]]\n"
          ],
          "name": "stdout"
        }
      ]
    },
    {
      "metadata": {
        "id": "lPP5M3Yd64RA",
        "colab_type": "text"
      },
      "cell_type": "markdown",
      "source": [
        "#### <練習問題 3>\n",
        "\n",
        "以下の関数が0となる解を求めてみましょう。"
      ]
    },
    {
      "metadata": {
        "id": "OWN6YfGl64RB",
        "colab_type": "text"
      },
      "cell_type": "markdown",
      "source": [
        "\\begin{eqnarray}\n",
        "f(x) = x^3 + 2x+ 1\n",
        "\\end{eqnarray}"
      ]
    },
    {
      "metadata": {
        "id": "U_WJFfGcpG1e",
        "colab_type": "code",
        "outputId": "ba2b2be9-f96e-41e1-c598-ff384f183119",
        "colab": {
          "base_uri": "https://localhost:8080/",
          "height": 34
        }
      },
      "cell_type": "code",
      "source": [
        "def func(x):\n",
        "  return x**3 + 2*x + 1\n",
        "  \n",
        "  # ニュートン法の読み込み\n",
        "from scipy.optimize import newton\n",
        "\n",
        "# 計算実行\n",
        "print(newton(func,0))"
      ],
      "execution_count": 0,
      "outputs": [
        {
          "output_type": "stream",
          "text": [
            "-0.453397651516\n"
          ],
          "name": "stdout"
        }
      ]
    },
    {
      "metadata": {
        "id": "SNezL_Oj64RB",
        "colab_type": "text"
      },
      "cell_type": "markdown",
      "source": [
        "### 2.1.3 Pandasの基礎\n",
        "キーワード：Series、DataFrame、データの操作、データの結合、ソート"
      ]
    },
    {
      "metadata": {
        "id": "Id_-A8O564RD",
        "colab_type": "text"
      },
      "cell_type": "markdown",
      "source": [
        "ここでは、Pandasについて学びます。Pandasを使うと、データの様々なハンドリングをスムーズに柔軟に実施することができ、表計算や後ほど学ぶデータベースのようなデータ操作が可能となります。以下で、必要となるモジュールを読み込んできます。"
      ]
    },
    {
      "metadata": {
        "nbpresent": {
          "id": "93a5d1f3-e3b5-4840-95c2-503725844dc3"
        },
        "id": "UgAb23vc64RE",
        "colab_type": "code",
        "colab": {}
      },
      "cell_type": "code",
      "source": [
        "from pandas import Series,DataFrame\n",
        "import pandas as pd"
      ],
      "execution_count": 0,
      "outputs": []
    },
    {
      "metadata": {
        "id": "CD8feLpP64RI",
        "colab_type": "text"
      },
      "cell_type": "markdown",
      "source": [
        "以下では、Seriesを使っています。これは、配列のようなオブジェクトです。インデックスも左に表示しています。"
      ]
    },
    {
      "metadata": {
        "id": "DoKaS1YF64RI",
        "colab_type": "code",
        "outputId": "09d73645-934a-431e-f624-0e4d732861c8",
        "colab": {
          "base_uri": "https://localhost:8080/",
          "height": 208
        }
      },
      "cell_type": "code",
      "source": [
        "# Series\n",
        "sample_pandas_data = pd.Series([0,1,2,3,4,5,6,7,8,9])\n",
        "print(sample_pandas_data)"
      ],
      "execution_count": 0,
      "outputs": [
        {
          "output_type": "stream",
          "text": [
            "0    0\n",
            "1    1\n",
            "2    2\n",
            "3    3\n",
            "4    4\n",
            "5    5\n",
            "6    6\n",
            "7    7\n",
            "8    8\n",
            "9    9\n",
            "dtype: int64\n"
          ],
          "name": "stdout"
        }
      ]
    },
    {
      "metadata": {
        "id": "jg23grUU64RK",
        "colab_type": "code",
        "outputId": "3946e36b-1e62-4997-ffae-553dfce53960",
        "colab": {
          "base_uri": "https://localhost:8080/",
          "height": 243
        }
      },
      "cell_type": "code",
      "source": [
        "print(\"data value:\",sample_pandas_data.values)\n",
        "print(\"index:\",sample_pandas_data.index)\n",
        "print(sample_pandas_data)"
      ],
      "execution_count": 0,
      "outputs": [
        {
          "output_type": "stream",
          "text": [
            "('data value:', array([0, 1, 2, 3, 4, 5, 6, 7, 8, 9]))\n",
            "('index:', RangeIndex(start=0, stop=10, step=1))\n",
            "0    0\n",
            "1    1\n",
            "2    2\n",
            "3    3\n",
            "4    4\n",
            "5    5\n",
            "6    6\n",
            "7    7\n",
            "8    8\n",
            "9    9\n",
            "dtype: int64\n"
          ],
          "name": "stdout"
        }
      ]
    },
    {
      "metadata": {
        "id": "pOUGVTyT64RO",
        "colab_type": "text"
      },
      "cell_type": "markdown",
      "source": [
        "もし、インデックスを数字ではなく、何か特定の文字などに置き換えたい場合は、以下のように宣言します。"
      ]
    },
    {
      "metadata": {
        "id": "JgQmWOlK64RP",
        "colab_type": "code",
        "outputId": "af9ce48f-e0b8-467b-8be4-93bfe25af93f",
        "colab": {
          "base_uri": "https://localhost:8080/",
          "height": 204
        }
      },
      "cell_type": "code",
      "source": [
        "# indexを文字で\n",
        "sample_pandas_index_data = pd.Series([0,1,2,3,4,5,6,7,8,9]\n",
        "                                     ,index=['a','b','c','d','e','f','g','h','i','j'])\n",
        "print(sample_pandas_index_data)"
      ],
      "execution_count": 0,
      "outputs": [
        {
          "output_type": "stream",
          "text": [
            "a    0\n",
            "b    1\n",
            "c    2\n",
            "d    3\n",
            "e    4\n",
            "f    5\n",
            "g    6\n",
            "h    7\n",
            "i    8\n",
            "j    9\n",
            "dtype: int64\n"
          ],
          "name": "stdout"
        }
      ]
    },
    {
      "metadata": {
        "id": "j_i4tBrxklX-",
        "colab_type": "code",
        "colab": {}
      },
      "cell_type": "code",
      "source": [
        ""
      ],
      "execution_count": 0,
      "outputs": []
    },
    {
      "metadata": {
        "id": "0LPzkTs364RT",
        "colab_type": "code",
        "outputId": "a753e5a5-399f-4fbd-b43e-26fbc4d4d447",
        "colab": {
          "base_uri": "https://localhost:8080/",
          "height": 393
        }
      },
      "cell_type": "code",
      "source": [
        "print(\"data\",sample_pandas_index_data.values)\n",
        "print(\"index\",sample_pandas_index_data.index)\n",
        "sample_pandas_index_data\n",
        "DataFrame(sample_pandas_index_data)"
      ],
      "execution_count": 0,
      "outputs": [
        {
          "output_type": "stream",
          "text": [
            "('data', array([0, 1, 2, 3, 4, 5, 6, 7, 8, 9]))\n",
            "('index', Index([u'a', u'b', u'c', u'd', u'e', u'f', u'g', u'h', u'i', u'j'], dtype='object'))\n"
          ],
          "name": "stdout"
        },
        {
          "output_type": "execute_result",
          "data": {
            "text/html": [
              "<div>\n",
              "<style scoped>\n",
              "    .dataframe tbody tr th:only-of-type {\n",
              "        vertical-align: middle;\n",
              "    }\n",
              "\n",
              "    .dataframe tbody tr th {\n",
              "        vertical-align: top;\n",
              "    }\n",
              "\n",
              "    .dataframe thead th {\n",
              "        text-align: right;\n",
              "    }\n",
              "</style>\n",
              "<table border=\"1\" class=\"dataframe\">\n",
              "  <thead>\n",
              "    <tr style=\"text-align: right;\">\n",
              "      <th></th>\n",
              "      <th>0</th>\n",
              "    </tr>\n",
              "  </thead>\n",
              "  <tbody>\n",
              "    <tr>\n",
              "      <th>a</th>\n",
              "      <td>0</td>\n",
              "    </tr>\n",
              "    <tr>\n",
              "      <th>b</th>\n",
              "      <td>1</td>\n",
              "    </tr>\n",
              "    <tr>\n",
              "      <th>c</th>\n",
              "      <td>2</td>\n",
              "    </tr>\n",
              "    <tr>\n",
              "      <th>d</th>\n",
              "      <td>3</td>\n",
              "    </tr>\n",
              "    <tr>\n",
              "      <th>e</th>\n",
              "      <td>4</td>\n",
              "    </tr>\n",
              "    <tr>\n",
              "      <th>f</th>\n",
              "      <td>5</td>\n",
              "    </tr>\n",
              "    <tr>\n",
              "      <th>g</th>\n",
              "      <td>6</td>\n",
              "    </tr>\n",
              "    <tr>\n",
              "      <th>h</th>\n",
              "      <td>7</td>\n",
              "    </tr>\n",
              "    <tr>\n",
              "      <th>i</th>\n",
              "      <td>8</td>\n",
              "    </tr>\n",
              "    <tr>\n",
              "      <th>j</th>\n",
              "      <td>9</td>\n",
              "    </tr>\n",
              "  </tbody>\n",
              "</table>\n",
              "</div>"
            ],
            "text/plain": [
              "   0\n",
              "a  0\n",
              "b  1\n",
              "c  2\n",
              "d  3\n",
              "e  4\n",
              "f  5\n",
              "g  6\n",
              "h  7\n",
              "i  8\n",
              "j  9"
            ]
          },
          "metadata": {
            "tags": []
          },
          "execution_count": 22
        }
      ]
    },
    {
      "metadata": {
        "id": "a-ia_Yd_64RW",
        "colab_type": "text"
      },
      "cell_type": "markdown",
      "source": [
        "次は、DataFrameについてです。DataFrameは各々の列で異なる型を持たせることが可能です。"
      ]
    },
    {
      "metadata": {
        "id": "sdBMTFDR64RW",
        "colab_type": "code",
        "outputId": "ce6ab3df-a94a-490e-febc-91d129cb5d22",
        "colab": {
          "base_uri": "https://localhost:8080/",
          "height": 119
        }
      },
      "cell_type": "code",
      "source": [
        "attri_data1 = {'ID':['100','101','102','103','104']\n",
        "        ,'city':['Tokyo','Osaka','Kyoto','Hokkaidao','Tokyo']\n",
        "        ,'birth_year':[1990,1989,1992,1997,1982]\n",
        "        ,'name':['Hiroshi','Akiko','Yuki','Satoru','Steeve']}\n",
        "\n",
        "attri_data_frame1 = DataFrame(attri_data1)\n",
        "\n",
        "print(attri_data_frame1)"
      ],
      "execution_count": 0,
      "outputs": [
        {
          "output_type": "stream",
          "text": [
            "    ID  birth_year       city     name\n",
            "0  100        1990      Tokyo  Hiroshi\n",
            "1  101        1989      Osaka    Akiko\n",
            "2  102        1992      Kyoto     Yuki\n",
            "3  103        1997  Hokkaidao   Satoru\n",
            "4  104        1982      Tokyo   Steeve\n"
          ],
          "name": "stdout"
        }
      ]
    },
    {
      "metadata": {
        "id": "HA6LuFdp64RY",
        "colab_type": "text"
      },
      "cell_type": "markdown",
      "source": [
        "DataFrameも、インデックスの更新が可能です。"
      ]
    },
    {
      "metadata": {
        "id": "aBwOoYNo64RZ",
        "colab_type": "code",
        "outputId": "1b95b64f-8324-4c5f-ad59-2aa0cbce87b9",
        "colab": {
          "base_uri": "https://localhost:8080/",
          "height": 204
        }
      },
      "cell_type": "code",
      "source": [
        "attri_data_frame_index1 = DataFrame(attri_data1,index=['a','b','c','d','e'])\n",
        "attri_data_frame_index1"
      ],
      "execution_count": 0,
      "outputs": [
        {
          "output_type": "execute_result",
          "data": {
            "text/html": [
              "<div>\n",
              "<style scoped>\n",
              "    .dataframe tbody tr th:only-of-type {\n",
              "        vertical-align: middle;\n",
              "    }\n",
              "\n",
              "    .dataframe tbody tr th {\n",
              "        vertical-align: top;\n",
              "    }\n",
              "\n",
              "    .dataframe thead th {\n",
              "        text-align: right;\n",
              "    }\n",
              "</style>\n",
              "<table border=\"1\" class=\"dataframe\">\n",
              "  <thead>\n",
              "    <tr style=\"text-align: right;\">\n",
              "      <th></th>\n",
              "      <th>city</th>\n",
              "      <th>dirth_year</th>\n",
              "      <th>iD</th>\n",
              "      <th>name</th>\n",
              "    </tr>\n",
              "  </thead>\n",
              "  <tbody>\n",
              "    <tr>\n",
              "      <th>a</th>\n",
              "      <td>Tokyo</td>\n",
              "      <td>1990</td>\n",
              "      <td>100</td>\n",
              "      <td>Hiroshi</td>\n",
              "    </tr>\n",
              "    <tr>\n",
              "      <th>b</th>\n",
              "      <td>Osaka</td>\n",
              "      <td>1989</td>\n",
              "      <td>101</td>\n",
              "      <td>Akiko</td>\n",
              "    </tr>\n",
              "    <tr>\n",
              "      <th>c</th>\n",
              "      <td>Kyoto</td>\n",
              "      <td>1992</td>\n",
              "      <td>102</td>\n",
              "      <td>Yuki</td>\n",
              "    </tr>\n",
              "    <tr>\n",
              "      <th>d</th>\n",
              "      <td>Hokkaidao</td>\n",
              "      <td>1997</td>\n",
              "      <td>103</td>\n",
              "      <td>Satoru</td>\n",
              "    </tr>\n",
              "    <tr>\n",
              "      <th>e</th>\n",
              "      <td>Tokyo</td>\n",
              "      <td>1982</td>\n",
              "      <td>104</td>\n",
              "      <td>Steeve</td>\n",
              "    </tr>\n",
              "  </tbody>\n",
              "</table>\n",
              "</div>"
            ],
            "text/plain": [
              "        city  dirth_year   iD     name\n",
              "a      Tokyo        1990  100  Hiroshi\n",
              "b      Osaka        1989  101    Akiko\n",
              "c      Kyoto        1992  102     Yuki\n",
              "d  Hokkaidao        1997  103   Satoru\n",
              "e      Tokyo        1982  104   Steeve"
            ]
          },
          "metadata": {
            "tags": []
          },
          "execution_count": 21
        }
      ]
    },
    {
      "metadata": {
        "id": "avs0GBhd64Rb",
        "colab_type": "text"
      },
      "cell_type": "markdown",
      "source": [
        "行列の転置のように、ひっくり返す場合には、.Tを使います。"
      ]
    },
    {
      "metadata": {
        "id": "BbEF6zpF64Rc",
        "colab_type": "code",
        "outputId": "62215fc0-25d6-43e4-cbec-28d2fe4b83c1",
        "colab": {
          "base_uri": "https://localhost:8080/",
          "height": 204
        }
      },
      "cell_type": "code",
      "source": [
        "# 転置\n",
        "#attri_data_frame1.T\n",
        "attri_data_frame1"
      ],
      "execution_count": 0,
      "outputs": [
        {
          "output_type": "execute_result",
          "data": {
            "text/html": [
              "<div>\n",
              "<style scoped>\n",
              "    .dataframe tbody tr th:only-of-type {\n",
              "        vertical-align: middle;\n",
              "    }\n",
              "\n",
              "    .dataframe tbody tr th {\n",
              "        vertical-align: top;\n",
              "    }\n",
              "\n",
              "    .dataframe thead th {\n",
              "        text-align: right;\n",
              "    }\n",
              "</style>\n",
              "<table border=\"1\" class=\"dataframe\">\n",
              "  <thead>\n",
              "    <tr style=\"text-align: right;\">\n",
              "      <th></th>\n",
              "      <th>city</th>\n",
              "      <th>dirth_year</th>\n",
              "      <th>iD</th>\n",
              "      <th>name</th>\n",
              "    </tr>\n",
              "  </thead>\n",
              "  <tbody>\n",
              "    <tr>\n",
              "      <th>0</th>\n",
              "      <td>Tokyo</td>\n",
              "      <td>1990</td>\n",
              "      <td>100</td>\n",
              "      <td>Hiroshi</td>\n",
              "    </tr>\n",
              "    <tr>\n",
              "      <th>1</th>\n",
              "      <td>Osaka</td>\n",
              "      <td>1989</td>\n",
              "      <td>101</td>\n",
              "      <td>Akiko</td>\n",
              "    </tr>\n",
              "    <tr>\n",
              "      <th>2</th>\n",
              "      <td>Kyoto</td>\n",
              "      <td>1992</td>\n",
              "      <td>102</td>\n",
              "      <td>Yuki</td>\n",
              "    </tr>\n",
              "    <tr>\n",
              "      <th>3</th>\n",
              "      <td>Hokkaidao</td>\n",
              "      <td>1997</td>\n",
              "      <td>103</td>\n",
              "      <td>Satoru</td>\n",
              "    </tr>\n",
              "    <tr>\n",
              "      <th>4</th>\n",
              "      <td>Tokyo</td>\n",
              "      <td>1982</td>\n",
              "      <td>104</td>\n",
              "      <td>Steeve</td>\n",
              "    </tr>\n",
              "  </tbody>\n",
              "</table>\n",
              "</div>"
            ],
            "text/plain": [
              "        city  dirth_year   iD     name\n",
              "0      Tokyo        1990  100  Hiroshi\n",
              "1      Osaka        1989  101    Akiko\n",
              "2      Kyoto        1992  102     Yuki\n",
              "3  Hokkaidao        1997  103   Satoru\n",
              "4      Tokyo        1982  104   Steeve"
            ]
          },
          "metadata": {
            "tags": []
          },
          "execution_count": 17
        }
      ]
    },
    {
      "metadata": {
        "id": "y1KPceEt64Re",
        "colab_type": "text"
      },
      "cell_type": "markdown",
      "source": [
        "特定の列を指定したい場合は、データの後にカラム名をつけます。複数の場合は、複数のカラム名を指定しましょう。"
      ]
    },
    {
      "metadata": {
        "id": "RUmdMaJH64Rh",
        "colab_type": "code",
        "outputId": "302ebb6d-e7d4-4319-a775-a4cd1ed6e1cf",
        "colab": {}
      },
      "cell_type": "code",
      "source": [
        "# 列名の指定（１つ）\n",
        "attri_data_frame1.birth_year"
      ],
      "execution_count": 0,
      "outputs": [
        {
          "output_type": "execute_result",
          "data": {
            "text/plain": [
              "0    1990\n",
              "1    1989\n",
              "2    1992\n",
              "3    1997\n",
              "4    1982\n",
              "Name: birth_year, dtype: int64"
            ]
          },
          "metadata": {
            "tags": []
          },
          "execution_count": 36
        }
      ]
    },
    {
      "metadata": {
        "id": "fnm8SY-q64Rj",
        "colab_type": "code",
        "outputId": "37c6804e-521b-4e47-b7fe-a4632b84085e",
        "colab": {}
      },
      "cell_type": "code",
      "source": [
        "# 列名の指定(複数の場合)\n",
        "attri_data_frame1[[\"ID\",\"birth_year\"]]"
      ],
      "execution_count": 0,
      "outputs": [
        {
          "output_type": "execute_result",
          "data": {
            "text/html": [
              "<div>\n",
              "<table border=\"1\" class=\"dataframe\">\n",
              "  <thead>\n",
              "    <tr style=\"text-align: right;\">\n",
              "      <th></th>\n",
              "      <th>ID</th>\n",
              "      <th>birth_year</th>\n",
              "    </tr>\n",
              "  </thead>\n",
              "  <tbody>\n",
              "    <tr>\n",
              "      <th>0</th>\n",
              "      <td>100</td>\n",
              "      <td>1990</td>\n",
              "    </tr>\n",
              "    <tr>\n",
              "      <th>1</th>\n",
              "      <td>101</td>\n",
              "      <td>1989</td>\n",
              "    </tr>\n",
              "    <tr>\n",
              "      <th>2</th>\n",
              "      <td>102</td>\n",
              "      <td>1992</td>\n",
              "    </tr>\n",
              "    <tr>\n",
              "      <th>3</th>\n",
              "      <td>103</td>\n",
              "      <td>1997</td>\n",
              "    </tr>\n",
              "    <tr>\n",
              "      <th>4</th>\n",
              "      <td>104</td>\n",
              "      <td>1982</td>\n",
              "    </tr>\n",
              "  </tbody>\n",
              "</table>\n",
              "</div>"
            ],
            "text/plain": [
              "    ID  birth_year\n",
              "0  100        1990\n",
              "1  101        1989\n",
              "2  102        1992\n",
              "3  103        1997\n",
              "4  104        1982"
            ]
          },
          "metadata": {
            "tags": []
          },
          "execution_count": 37
        }
      ]
    },
    {
      "metadata": {
        "id": "D0enDwtm64Rk",
        "colab_type": "text"
      },
      "cell_type": "markdown",
      "source": [
        "一定の条件を満たすものだけ、データを取り出すことも可能です。例えば、cityがTokyoのみのデータを抽出したい場合は、以下のようにします。"
      ]
    },
    {
      "metadata": {
        "id": "oh9XFD3h64Rl",
        "colab_type": "code",
        "outputId": "6af9bc24-78dd-4a07-fa10-dff455afe2c2",
        "colab": {
          "base_uri": "https://localhost:8080/",
          "height": 119
        }
      },
      "cell_type": "code",
      "source": [
        "#　条件（フィルター）\n",
        "#attri_data_frame1[attri_data_frame1['city']=='Tokyo']\n",
        "attri_data_frame1['city']=='Tokyo'"
      ],
      "execution_count": 0,
      "outputs": [
        {
          "output_type": "execute_result",
          "data": {
            "text/plain": [
              "0     True\n",
              "1    False\n",
              "2    False\n",
              "3    False\n",
              "4     True\n",
              "Name: city, dtype: bool"
            ]
          },
          "metadata": {
            "tags": []
          },
          "execution_count": 20
        }
      ]
    },
    {
      "metadata": {
        "id": "hDDzsZeo64Ro",
        "colab_type": "text"
      },
      "cell_type": "markdown",
      "source": [
        "値を複数の条件で取り出したい場合は、isin(リスト)を以下のようにして、使ってください。あとの章でも使います。"
      ]
    },
    {
      "metadata": {
        "id": "6CDQbPWs64Ro",
        "colab_type": "code",
        "outputId": "5a1db0bc-5d77-4b11-c382-f4e14b8dcaaf",
        "colab": {
          "base_uri": "https://localhost:8080/",
          "height": 142
        }
      },
      "cell_type": "code",
      "source": [
        "#　条件（フィルター、複数の値）\n",
        "attri_data_frame1[attri_data_frame1['city'].isin(['Tokyo','Osaka'])]"
      ],
      "execution_count": 0,
      "outputs": [
        {
          "output_type": "execute_result",
          "data": {
            "text/html": [
              "<div>\n",
              "<style scoped>\n",
              "    .dataframe tbody tr th:only-of-type {\n",
              "        vertical-align: middle;\n",
              "    }\n",
              "\n",
              "    .dataframe tbody tr th {\n",
              "        vertical-align: top;\n",
              "    }\n",
              "\n",
              "    .dataframe thead th {\n",
              "        text-align: right;\n",
              "    }\n",
              "</style>\n",
              "<table border=\"1\" class=\"dataframe\">\n",
              "  <thead>\n",
              "    <tr style=\"text-align: right;\">\n",
              "      <th></th>\n",
              "      <th>city</th>\n",
              "      <th>dirth_year</th>\n",
              "      <th>iD</th>\n",
              "      <th>name</th>\n",
              "    </tr>\n",
              "  </thead>\n",
              "  <tbody>\n",
              "    <tr>\n",
              "      <th>0</th>\n",
              "      <td>Tokyo</td>\n",
              "      <td>1990</td>\n",
              "      <td>100</td>\n",
              "      <td>Hiroshi</td>\n",
              "    </tr>\n",
              "    <tr>\n",
              "      <th>1</th>\n",
              "      <td>Osaka</td>\n",
              "      <td>1989</td>\n",
              "      <td>101</td>\n",
              "      <td>Akiko</td>\n",
              "    </tr>\n",
              "    <tr>\n",
              "      <th>4</th>\n",
              "      <td>Tokyo</td>\n",
              "      <td>1982</td>\n",
              "      <td>104</td>\n",
              "      <td>Steeve</td>\n",
              "    </tr>\n",
              "  </tbody>\n",
              "</table>\n",
              "</div>"
            ],
            "text/plain": [
              "    city  dirth_year   iD     name\n",
              "0  Tokyo        1990  100  Hiroshi\n",
              "1  Osaka        1989  101    Akiko\n",
              "4  Tokyo        1982  104   Steeve"
            ]
          },
          "metadata": {
            "tags": []
          },
          "execution_count": 28
        }
      ]
    },
    {
      "metadata": {
        "id": "IDDis5ZLm8LJ",
        "colab_type": "code",
        "outputId": "ce92812a-d2e4-45fa-b7af-6a0cb67a59ee",
        "colab": {
          "base_uri": "https://localhost:8080/",
          "height": 111
        }
      },
      "cell_type": "code",
      "source": [
        "attri_data_frame1[attri_data_frame1['dirth_year']>1990]"
      ],
      "execution_count": 0,
      "outputs": [
        {
          "output_type": "execute_result",
          "data": {
            "text/html": [
              "<div>\n",
              "<style scoped>\n",
              "    .dataframe tbody tr th:only-of-type {\n",
              "        vertical-align: middle;\n",
              "    }\n",
              "\n",
              "    .dataframe tbody tr th {\n",
              "        vertical-align: top;\n",
              "    }\n",
              "\n",
              "    .dataframe thead th {\n",
              "        text-align: right;\n",
              "    }\n",
              "</style>\n",
              "<table border=\"1\" class=\"dataframe\">\n",
              "  <thead>\n",
              "    <tr style=\"text-align: right;\">\n",
              "      <th></th>\n",
              "      <th>city</th>\n",
              "      <th>dirth_year</th>\n",
              "      <th>iD</th>\n",
              "      <th>name</th>\n",
              "    </tr>\n",
              "  </thead>\n",
              "  <tbody>\n",
              "    <tr>\n",
              "      <th>2</th>\n",
              "      <td>Kyoto</td>\n",
              "      <td>1992</td>\n",
              "      <td>102</td>\n",
              "      <td>Yuki</td>\n",
              "    </tr>\n",
              "    <tr>\n",
              "      <th>3</th>\n",
              "      <td>Hokkaidao</td>\n",
              "      <td>1997</td>\n",
              "      <td>103</td>\n",
              "      <td>Satoru</td>\n",
              "    </tr>\n",
              "  </tbody>\n",
              "</table>\n",
              "</div>"
            ],
            "text/plain": [
              "        city  dirth_year   iD    name\n",
              "2      Kyoto        1992  102    Yuki\n",
              "3  Hokkaidao        1997  103  Satoru"
            ]
          },
          "metadata": {
            "tags": []
          },
          "execution_count": 32
        }
      ]
    },
    {
      "metadata": {
        "id": "xzhkMyaH64Rs",
        "colab_type": "text"
      },
      "cell_type": "markdown",
      "source": [
        ">**[やってみよう]**\n",
        "\n",
        ">他にも条件を変更（birth_yearが1990未満など）して、フィルターを実行してみましょう。"
      ]
    },
    {
      "metadata": {
        "id": "RyDtCoCE64Rt",
        "colab_type": "text"
      },
      "cell_type": "markdown",
      "source": [
        "ある特定の列を削除する方法は以下のようになります。axisで軸を設定し、1の場合は列方向です。行の削除はインデックスを指定して、axis=0とします。"
      ]
    },
    {
      "metadata": {
        "id": "-dF4AjuU64Ru",
        "colab_type": "code",
        "outputId": "40e447f9-35d8-4d61-cccd-a0ba5df2cce3",
        "colab": {
          "base_uri": "https://localhost:8080/",
          "height": 204
        }
      },
      "cell_type": "code",
      "source": [
        "# データの列の削除\n",
        "attri_data_frame1.drop(['birth_year'],axis=1)"
      ],
      "execution_count": 0,
      "outputs": [
        {
          "output_type": "execute_result",
          "data": {
            "text/html": [
              "<div>\n",
              "<style scoped>\n",
              "    .dataframe tbody tr th:only-of-type {\n",
              "        vertical-align: middle;\n",
              "    }\n",
              "\n",
              "    .dataframe tbody tr th {\n",
              "        vertical-align: top;\n",
              "    }\n",
              "\n",
              "    .dataframe thead th {\n",
              "        text-align: right;\n",
              "    }\n",
              "</style>\n",
              "<table border=\"1\" class=\"dataframe\">\n",
              "  <thead>\n",
              "    <tr style=\"text-align: right;\">\n",
              "      <th></th>\n",
              "      <th>ID</th>\n",
              "      <th>city</th>\n",
              "      <th>name</th>\n",
              "    </tr>\n",
              "  </thead>\n",
              "  <tbody>\n",
              "    <tr>\n",
              "      <th>0</th>\n",
              "      <td>100</td>\n",
              "      <td>Tokyo</td>\n",
              "      <td>Hiroshi</td>\n",
              "    </tr>\n",
              "    <tr>\n",
              "      <th>1</th>\n",
              "      <td>101</td>\n",
              "      <td>Osaka</td>\n",
              "      <td>Akiko</td>\n",
              "    </tr>\n",
              "    <tr>\n",
              "      <th>2</th>\n",
              "      <td>102</td>\n",
              "      <td>Kyoto</td>\n",
              "      <td>Yuki</td>\n",
              "    </tr>\n",
              "    <tr>\n",
              "      <th>3</th>\n",
              "      <td>103</td>\n",
              "      <td>Hokkaidao</td>\n",
              "      <td>Satoru</td>\n",
              "    </tr>\n",
              "    <tr>\n",
              "      <th>4</th>\n",
              "      <td>104</td>\n",
              "      <td>Tokyo</td>\n",
              "      <td>Steeve</td>\n",
              "    </tr>\n",
              "  </tbody>\n",
              "</table>\n",
              "</div>"
            ],
            "text/plain": [
              "    ID       city     name\n",
              "0  100      Tokyo  Hiroshi\n",
              "1  101      Osaka    Akiko\n",
              "2  102      Kyoto     Yuki\n",
              "3  103  Hokkaidao   Satoru\n",
              "4  104      Tokyo   Steeve"
            ]
          },
          "metadata": {
            "tags": []
          },
          "execution_count": 36
        }
      ]
    },
    {
      "metadata": {
        "id": "YXLlUeOP64Rx",
        "colab_type": "text"
      },
      "cell_type": "markdown",
      "source": [
        "次は、別のデータテーブルがあった時に、キーをベースにして、テーブルを結合する方法です。mergeを使います。なお、キーを明示しない場合は、自動で見つけて結合します。"
      ]
    },
    {
      "metadata": {
        "id": "0Xt0jFVg64Rx",
        "colab_type": "code",
        "outputId": "85f46550-6faf-4def-86cb-36b66eb69371",
        "colab": {
          "base_uri": "https://localhost:8080/",
          "height": 119
        }
      },
      "cell_type": "code",
      "source": [
        "# 別のデータの準備\n",
        "attri_data2 = {'ID':['100','101','102','105','107']\n",
        "        ,'math':[50,43,33,76,98]\n",
        "        ,'English':[90,30,20,50,30]\n",
        "        ,'sex':['M','F','F','M','M']}\n",
        "attri_data_frame2 = DataFrame(attri_data2)\n",
        "print(attri_data_frame2)"
      ],
      "execution_count": 0,
      "outputs": [
        {
          "output_type": "stream",
          "text": [
            "   English   ID  math sex\n",
            "0       90  100    50   M\n",
            "1       30  101    43   F\n",
            "2       20  102    33   F\n",
            "3       50  105    76   M\n",
            "4       30  107    98   M\n"
          ],
          "name": "stdout"
        }
      ]
    },
    {
      "metadata": {
        "id": "bNvTTNFT64Rz",
        "colab_type": "text"
      },
      "cell_type": "markdown",
      "source": [
        "以下で結合しています。キーはIDで、100,101,102が共通であるため、それで結合しています。"
      ]
    },
    {
      "metadata": {
        "id": "s7fnGdDY64R0",
        "colab_type": "code",
        "outputId": "6b091aca-b04c-4836-d3cd-3508811599b7",
        "colab": {
          "base_uri": "https://localhost:8080/",
          "height": 142
        }
      },
      "cell_type": "code",
      "source": [
        "# データのマージ（内部結合、詳しくは次の章で）\n",
        "pd.merge(attri_data_frame1,attri_data_frame2)"
      ],
      "execution_count": 0,
      "outputs": [
        {
          "output_type": "execute_result",
          "data": {
            "text/html": [
              "<div>\n",
              "<style scoped>\n",
              "    .dataframe tbody tr th:only-of-type {\n",
              "        vertical-align: middle;\n",
              "    }\n",
              "\n",
              "    .dataframe tbody tr th {\n",
              "        vertical-align: top;\n",
              "    }\n",
              "\n",
              "    .dataframe thead th {\n",
              "        text-align: right;\n",
              "    }\n",
              "</style>\n",
              "<table border=\"1\" class=\"dataframe\">\n",
              "  <thead>\n",
              "    <tr style=\"text-align: right;\">\n",
              "      <th></th>\n",
              "      <th>ID</th>\n",
              "      <th>birth_year</th>\n",
              "      <th>city</th>\n",
              "      <th>name</th>\n",
              "      <th>English</th>\n",
              "      <th>math</th>\n",
              "      <th>sex</th>\n",
              "    </tr>\n",
              "  </thead>\n",
              "  <tbody>\n",
              "    <tr>\n",
              "      <th>0</th>\n",
              "      <td>100</td>\n",
              "      <td>1990</td>\n",
              "      <td>Tokyo</td>\n",
              "      <td>Hiroshi</td>\n",
              "      <td>90</td>\n",
              "      <td>50</td>\n",
              "      <td>M</td>\n",
              "    </tr>\n",
              "    <tr>\n",
              "      <th>1</th>\n",
              "      <td>101</td>\n",
              "      <td>1989</td>\n",
              "      <td>Osaka</td>\n",
              "      <td>Akiko</td>\n",
              "      <td>30</td>\n",
              "      <td>43</td>\n",
              "      <td>F</td>\n",
              "    </tr>\n",
              "    <tr>\n",
              "      <th>2</th>\n",
              "      <td>102</td>\n",
              "      <td>1992</td>\n",
              "      <td>Kyoto</td>\n",
              "      <td>Yuki</td>\n",
              "      <td>20</td>\n",
              "      <td>33</td>\n",
              "      <td>F</td>\n",
              "    </tr>\n",
              "  </tbody>\n",
              "</table>\n",
              "</div>"
            ],
            "text/plain": [
              "    ID  birth_year   city     name  English  math sex\n",
              "0  100        1990  Tokyo  Hiroshi       90    50   M\n",
              "1  101        1989  Osaka    Akiko       30    43   F\n",
              "2  102        1992  Kyoto     Yuki       20    33   F"
            ]
          },
          "metadata": {
            "tags": []
          },
          "execution_count": 39
        }
      ]
    },
    {
      "metadata": {
        "id": "eNRBSDPk64R2",
        "colab_type": "text"
      },
      "cell_type": "markdown",
      "source": [
        "次はグループ集計といい、groupbyを使うことで、ある特定のカラムを軸にした集計ができます。以下は、性を軸として、数学のスコア平均を算出しています。他には、最大値や最小値等も算出できます。"
      ]
    },
    {
      "metadata": {
        "id": "0AEfY2Fm64R2",
        "colab_type": "code",
        "outputId": "52bbc9f5-a82e-46d8-e2d9-d57ca5875158",
        "colab": {
          "base_uri": "https://localhost:8080/",
          "height": 85
        }
      },
      "cell_type": "code",
      "source": [
        "# データのグループ集計(詳しくは次の章で)\n",
        "attri_data_frame2.groupby(\"sex\")[\"math\"].mean()"
      ],
      "execution_count": 0,
      "outputs": [
        {
          "output_type": "execute_result",
          "data": {
            "text/plain": [
              "sex\n",
              "F    38.000000\n",
              "M    74.666667\n",
              "Name: math, dtype: float64"
            ]
          },
          "metadata": {
            "tags": []
          },
          "execution_count": 41
        }
      ]
    },
    {
      "metadata": {
        "id": "y_qDW8aE64R5",
        "colab_type": "text"
      },
      "cell_type": "markdown",
      "source": [
        ">**[やってみよう]**\n",
        "\n",
        ">他にも変数を変えて、実行してみましょう。Englishの場合はどうなりますか。"
      ]
    },
    {
      "metadata": {
        "id": "GHtRoQ0v64R7",
        "colab_type": "text"
      },
      "cell_type": "markdown",
      "source": [
        "もちろん、Pandasにはソート機能もあります。値だけではなく、インデックスをベースにソートできます。"
      ]
    },
    {
      "metadata": {
        "id": "n6OS2cX264R7",
        "colab_type": "code",
        "outputId": "ce7ae3d3-79d7-406f-bbf8-eede68f11cec",
        "colab": {
          "base_uri": "https://localhost:8080/",
          "height": 119
        }
      },
      "cell_type": "code",
      "source": [
        "# データの準備\n",
        "attri_data2 = {'ID':['100','101','102','103','104']\n",
        "        ,'city':['Tokyo','Osaka','Kyoto','Hokkaido','Tokyo']\n",
        "        ,'birth_year':[1990,1989,1992,1997,1982]\n",
        "        ,'name':['Hiroshi','Akiko','Yuki','Satoru','Steeve']}\n",
        "attri_data_frame2 = DataFrame(attri_data2)\n",
        "attri_data_frame_index2 = DataFrame(attri_data2,index=['e','b','a','d','c'])\n",
        "print(attri_data_frame_index2)"
      ],
      "execution_count": 0,
      "outputs": [
        {
          "output_type": "stream",
          "text": [
            "    ID  birth_year      city     name\n",
            "e  100        1990     Tokyo  Hiroshi\n",
            "b  101        1989     Osaka    Akiko\n",
            "a  102        1992     Kyoto     Yuki\n",
            "d  103        1997  Hokkaido   Satoru\n",
            "c  104        1982     Tokyo   Steeve\n"
          ],
          "name": "stdout"
        }
      ]
    },
    {
      "metadata": {
        "id": "O0O7TbCh64R-",
        "colab_type": "code",
        "outputId": "0c217b80-5117-44c4-d259-f10b1ccea003",
        "colab": {
          "base_uri": "https://localhost:8080/",
          "height": 204
        }
      },
      "cell_type": "code",
      "source": [
        "# indexによるソート\n",
        "attri_data_frame_index2.sort_index()"
      ],
      "execution_count": 0,
      "outputs": [
        {
          "output_type": "execute_result",
          "data": {
            "text/html": [
              "<div>\n",
              "<style scoped>\n",
              "    .dataframe tbody tr th:only-of-type {\n",
              "        vertical-align: middle;\n",
              "    }\n",
              "\n",
              "    .dataframe tbody tr th {\n",
              "        vertical-align: top;\n",
              "    }\n",
              "\n",
              "    .dataframe thead th {\n",
              "        text-align: right;\n",
              "    }\n",
              "</style>\n",
              "<table border=\"1\" class=\"dataframe\">\n",
              "  <thead>\n",
              "    <tr style=\"text-align: right;\">\n",
              "      <th></th>\n",
              "      <th>ID</th>\n",
              "      <th>birth_year</th>\n",
              "      <th>city</th>\n",
              "      <th>name</th>\n",
              "    </tr>\n",
              "  </thead>\n",
              "  <tbody>\n",
              "    <tr>\n",
              "      <th>a</th>\n",
              "      <td>102</td>\n",
              "      <td>1992</td>\n",
              "      <td>Kyoto</td>\n",
              "      <td>Yuki</td>\n",
              "    </tr>\n",
              "    <tr>\n",
              "      <th>b</th>\n",
              "      <td>101</td>\n",
              "      <td>1989</td>\n",
              "      <td>Osaka</td>\n",
              "      <td>Akiko</td>\n",
              "    </tr>\n",
              "    <tr>\n",
              "      <th>c</th>\n",
              "      <td>104</td>\n",
              "      <td>1982</td>\n",
              "      <td>Tokyo</td>\n",
              "      <td>Steeve</td>\n",
              "    </tr>\n",
              "    <tr>\n",
              "      <th>d</th>\n",
              "      <td>103</td>\n",
              "      <td>1997</td>\n",
              "      <td>Hokkaido</td>\n",
              "      <td>Satoru</td>\n",
              "    </tr>\n",
              "    <tr>\n",
              "      <th>e</th>\n",
              "      <td>100</td>\n",
              "      <td>1990</td>\n",
              "      <td>Tokyo</td>\n",
              "      <td>Hiroshi</td>\n",
              "    </tr>\n",
              "  </tbody>\n",
              "</table>\n",
              "</div>"
            ],
            "text/plain": [
              "    ID  birth_year      city     name\n",
              "a  102        1992     Kyoto     Yuki\n",
              "b  101        1989     Osaka    Akiko\n",
              "c  104        1982     Tokyo   Steeve\n",
              "d  103        1997  Hokkaido   Satoru\n",
              "e  100        1990     Tokyo  Hiroshi"
            ]
          },
          "metadata": {
            "tags": []
          },
          "execution_count": 44
        }
      ]
    },
    {
      "metadata": {
        "id": "3U3CqqlO64SA",
        "colab_type": "code",
        "outputId": "054d9bc7-9714-42ca-bfdd-cf100fc9331f",
        "colab": {
          "base_uri": "https://localhost:8080/",
          "height": 119
        }
      },
      "cell_type": "code",
      "source": [
        "# 値によるソート、デフォルトは昇順\n",
        "attri_data_frame_index2.birth_year.sort_values()"
      ],
      "execution_count": 0,
      "outputs": [
        {
          "output_type": "execute_result",
          "data": {
            "text/plain": [
              "c    1982\n",
              "b    1989\n",
              "e    1990\n",
              "a    1992\n",
              "d    1997\n",
              "Name: birth_year, dtype: int64"
            ]
          },
          "metadata": {
            "tags": []
          },
          "execution_count": 45
        }
      ]
    },
    {
      "metadata": {
        "id": "b49hoIeT64SC",
        "colab_type": "text"
      },
      "cell_type": "markdown",
      "source": [
        "最後に、値があるかどうか、Nullの判定についてです。\n",
        "\n",
        "以下は、attri_data_frame_index2にTokyoという文字列があるかどうかをisinで調べて、それぞれのセルにTrueかFalseが返されます。入っていればTrue、入っていなければFalseになっていることがわかります。"
      ]
    },
    {
      "metadata": {
        "id": "XOIXawfT64SD",
        "colab_type": "code",
        "outputId": "e4f41ce8-80f0-4699-ea10-11fae7512474",
        "colab": {
          "base_uri": "https://localhost:8080/",
          "height": 119
        }
      },
      "cell_type": "code",
      "source": [
        "# 値があるかどうかの確認\n",
        "attri_data_frame_index2.city.isin([\"Tokyo\"])"
      ],
      "execution_count": 0,
      "outputs": [
        {
          "output_type": "execute_result",
          "data": {
            "text/plain": [
              "e     True\n",
              "b    False\n",
              "a    False\n",
              "d    False\n",
              "c     True\n",
              "Name: city, dtype: bool"
            ]
          },
          "metadata": {
            "tags": []
          },
          "execution_count": 47
        }
      ]
    },
    {
      "metadata": {
        "id": "EKYrLm3n64SE",
        "colab_type": "text"
      },
      "cell_type": "markdown",
      "source": [
        "次は、一部にnanをわざと入れて、isnullでそれぞれのセルを判定しています。"
      ]
    },
    {
      "metadata": {
        "id": "hJxZwLGz64SE",
        "colab_type": "code",
        "outputId": "85bbce4c-1e11-4ad7-b329-2dd3bd269d23",
        "colab": {}
      },
      "cell_type": "code",
      "source": [
        "#　欠損値の取り扱い\n",
        "# name をすべてnanにする\n",
        "attri_data_frame_index2.name = np.nan\n",
        "attri_data_frame_index2.isnull()"
      ],
      "execution_count": 0,
      "outputs": [
        {
          "output_type": "execute_result",
          "data": {
            "text/html": [
              "<div>\n",
              "<table border=\"1\" class=\"dataframe\">\n",
              "  <thead>\n",
              "    <tr style=\"text-align: right;\">\n",
              "      <th></th>\n",
              "      <th>ID</th>\n",
              "      <th>birth_year</th>\n",
              "      <th>city</th>\n",
              "      <th>name</th>\n",
              "    </tr>\n",
              "  </thead>\n",
              "  <tbody>\n",
              "    <tr>\n",
              "      <th>e</th>\n",
              "      <td>False</td>\n",
              "      <td>False</td>\n",
              "      <td>False</td>\n",
              "      <td>True</td>\n",
              "    </tr>\n",
              "    <tr>\n",
              "      <th>b</th>\n",
              "      <td>False</td>\n",
              "      <td>False</td>\n",
              "      <td>False</td>\n",
              "      <td>True</td>\n",
              "    </tr>\n",
              "    <tr>\n",
              "      <th>a</th>\n",
              "      <td>False</td>\n",
              "      <td>False</td>\n",
              "      <td>False</td>\n",
              "      <td>True</td>\n",
              "    </tr>\n",
              "    <tr>\n",
              "      <th>d</th>\n",
              "      <td>False</td>\n",
              "      <td>False</td>\n",
              "      <td>False</td>\n",
              "      <td>True</td>\n",
              "    </tr>\n",
              "    <tr>\n",
              "      <th>c</th>\n",
              "      <td>False</td>\n",
              "      <td>False</td>\n",
              "      <td>False</td>\n",
              "      <td>True</td>\n",
              "    </tr>\n",
              "  </tbody>\n",
              "</table>\n",
              "</div>"
            ],
            "text/plain": [
              "      ID birth_year   city  name\n",
              "e  False      False  False  True\n",
              "b  False      False  False  True\n",
              "a  False      False  False  True\n",
              "d  False      False  False  True\n",
              "c  False      False  False  True"
            ]
          },
          "metadata": {
            "tags": []
          },
          "execution_count": 59
        }
      ]
    },
    {
      "metadata": {
        "id": "XJEg1PVK64SJ",
        "colab_type": "code",
        "outputId": "b5217f6d-d06c-4890-81aa-bd12381daf4a",
        "colab": {
          "base_uri": "https://localhost:8080/",
          "height": 102
        }
      },
      "cell_type": "code",
      "source": [
        "# nullを判定し、合計する\n",
        "attri_data_frame_index2.isnull().sum()"
      ],
      "execution_count": 0,
      "outputs": [
        {
          "output_type": "execute_result",
          "data": {
            "text/plain": [
              "ID            0\n",
              "birth_year    0\n",
              "city          0\n",
              "name          0\n",
              "dtype: int64"
            ]
          },
          "metadata": {
            "tags": []
          },
          "execution_count": 48
        }
      ]
    },
    {
      "metadata": {
        "id": "PERi-O0E64SL",
        "colab_type": "text"
      },
      "cell_type": "markdown",
      "source": [
        "以上で、Pandasの簡単な説明は終わりです。次の章で実際のデータのハンドリングをしますので、ここで学んだことはしっかりと身につけてください。"
      ]
    },
    {
      "metadata": {
        "id": "u4kumNv664SM",
        "colab_type": "text"
      },
      "cell_type": "markdown",
      "source": [
        "#### <練習問題 1>\n",
        "\n",
        "以下のデータに対して、Moneyが500以上の人を絞り込んで、レコードを表示させてください。"
      ]
    },
    {
      "metadata": {
        "id": "mCW3X6dN64SM",
        "colab_type": "code",
        "outputId": "440f69e7-58b2-4001-fec3-f4085fecd7f0",
        "colab": {
          "base_uri": "https://localhost:8080/",
          "height": 173
        }
      },
      "cell_type": "code",
      "source": [
        "from pandas import Series,DataFrame\n",
        "import pandas as pd\n",
        "\n",
        "attri_data1 = {'ID':['1','2','3','4','5']\n",
        "        ,'sex':['F','F','M','M','F']\n",
        "        ,'Money':[1000,2000,500,300,700]\n",
        "        ,'name':['Saito','Horie','Kondo','Kawada','Matsubara']}\n",
        "\n",
        "attri_data_frame1 = DataFrame(attri_data1)\n",
        "#attri_data_frame1[attri_data_frame1['dirth_year']>1990]\n",
        "attri_data_frame1[attri_data_frame1['Money']>=500]"
      ],
      "execution_count": 0,
      "outputs": [
        {
          "output_type": "execute_result",
          "data": {
            "text/html": [
              "<div>\n",
              "<style scoped>\n",
              "    .dataframe tbody tr th:only-of-type {\n",
              "        vertical-align: middle;\n",
              "    }\n",
              "\n",
              "    .dataframe tbody tr th {\n",
              "        vertical-align: top;\n",
              "    }\n",
              "\n",
              "    .dataframe thead th {\n",
              "        text-align: right;\n",
              "    }\n",
              "</style>\n",
              "<table border=\"1\" class=\"dataframe\">\n",
              "  <thead>\n",
              "    <tr style=\"text-align: right;\">\n",
              "      <th></th>\n",
              "      <th>ID</th>\n",
              "      <th>Money</th>\n",
              "      <th>name</th>\n",
              "      <th>sex</th>\n",
              "    </tr>\n",
              "  </thead>\n",
              "  <tbody>\n",
              "    <tr>\n",
              "      <th>0</th>\n",
              "      <td>1</td>\n",
              "      <td>1000</td>\n",
              "      <td>Saito</td>\n",
              "      <td>F</td>\n",
              "    </tr>\n",
              "    <tr>\n",
              "      <th>1</th>\n",
              "      <td>2</td>\n",
              "      <td>2000</td>\n",
              "      <td>Horie</td>\n",
              "      <td>F</td>\n",
              "    </tr>\n",
              "    <tr>\n",
              "      <th>2</th>\n",
              "      <td>3</td>\n",
              "      <td>500</td>\n",
              "      <td>Kondo</td>\n",
              "      <td>M</td>\n",
              "    </tr>\n",
              "    <tr>\n",
              "      <th>4</th>\n",
              "      <td>5</td>\n",
              "      <td>700</td>\n",
              "      <td>Matsubara</td>\n",
              "      <td>F</td>\n",
              "    </tr>\n",
              "  </tbody>\n",
              "</table>\n",
              "</div>"
            ],
            "text/plain": [
              "  ID  Money       name sex\n",
              "0  1   1000      Saito   F\n",
              "1  2   2000      Horie   F\n",
              "2  3    500      Kondo   M\n",
              "4  5    700  Matsubara   F"
            ]
          },
          "metadata": {
            "tags": []
          },
          "execution_count": 71
        }
      ]
    },
    {
      "metadata": {
        "id": "vBD8X4bV64SO",
        "colab_type": "text"
      },
      "cell_type": "markdown",
      "source": [
        "#### <練習問題 2>\n",
        "\n",
        "上記のデータに対して、男女別（MF別）の平均Moneyを求めてください。"
      ]
    },
    {
      "metadata": {
        "id": "g2hq8A2XshQf",
        "colab_type": "code",
        "outputId": "7eeccd8d-b7c2-46fe-9505-92a870b2874f",
        "colab": {
          "base_uri": "https://localhost:8080/",
          "height": 85
        }
      },
      "cell_type": "code",
      "source": [
        "attri_data_frame1.groupby(\"sex\")[\"Money\"].mean()"
      ],
      "execution_count": 0,
      "outputs": [
        {
          "output_type": "execute_result",
          "data": {
            "text/plain": [
              "sex\n",
              "F    1233.333333\n",
              "M     400.000000\n",
              "Name: Money, dtype: float64"
            ]
          },
          "metadata": {
            "tags": []
          },
          "execution_count": 59
        }
      ]
    },
    {
      "metadata": {
        "id": "R6aviFEX64SQ",
        "colab_type": "text"
      },
      "cell_type": "markdown",
      "source": [
        "#### <練習問題 3>\n",
        "\n",
        "上記のデータに対して、以下のデータの同じIDの人をキーとして、データをマージしてください。そして、MoneyとMathとEnglishの平均を求めてください。"
      ]
    },
    {
      "metadata": {
        "id": "aJluTxCD64SQ",
        "colab_type": "code",
        "outputId": "3f0fc1fa-03ec-4576-b599-13103409d1c6",
        "colab": {
          "base_uri": "https://localhost:8080/",
          "height": 111
        }
      },
      "cell_type": "code",
      "source": [
        "attri_data2 = {'ID':['3','4','7']\n",
        "        ,'Math':[60,30,40]\n",
        "        ,'English':[80,20,30]}\n",
        "\n",
        "attri_data_frame2 = DataFrame(attri_data2)\n",
        "#attri_data_frame1\n",
        "pd.merge(attri_data_frame2,attri_data_frame1)\n",
        "#print(attri_data_frame1)"
      ],
      "execution_count": 0,
      "outputs": [
        {
          "output_type": "execute_result",
          "data": {
            "text/html": [
              "<div>\n",
              "<style scoped>\n",
              "    .dataframe tbody tr th:only-of-type {\n",
              "        vertical-align: middle;\n",
              "    }\n",
              "\n",
              "    .dataframe tbody tr th {\n",
              "        vertical-align: top;\n",
              "    }\n",
              "\n",
              "    .dataframe thead th {\n",
              "        text-align: right;\n",
              "    }\n",
              "</style>\n",
              "<table border=\"1\" class=\"dataframe\">\n",
              "  <thead>\n",
              "    <tr style=\"text-align: right;\">\n",
              "      <th></th>\n",
              "      <th>English</th>\n",
              "      <th>ID</th>\n",
              "      <th>Math</th>\n",
              "      <th>Money</th>\n",
              "      <th>name</th>\n",
              "      <th>sex</th>\n",
              "    </tr>\n",
              "  </thead>\n",
              "  <tbody>\n",
              "    <tr>\n",
              "      <th>0</th>\n",
              "      <td>80</td>\n",
              "      <td>3</td>\n",
              "      <td>60</td>\n",
              "      <td>500</td>\n",
              "      <td>Kondo</td>\n",
              "      <td>M</td>\n",
              "    </tr>\n",
              "    <tr>\n",
              "      <th>1</th>\n",
              "      <td>20</td>\n",
              "      <td>4</td>\n",
              "      <td>30</td>\n",
              "      <td>300</td>\n",
              "      <td>Kawada</td>\n",
              "      <td>M</td>\n",
              "    </tr>\n",
              "  </tbody>\n",
              "</table>\n",
              "</div>"
            ],
            "text/plain": [
              "   English ID  Math  Money    name sex\n",
              "0       80  3    60    500   Kondo   M\n",
              "1       20  4    30    300  Kawada   M"
            ]
          },
          "metadata": {
            "tags": []
          },
          "execution_count": 83
        }
      ]
    },
    {
      "metadata": {
        "id": "wVjGsgrv64SR",
        "colab_type": "text"
      },
      "cell_type": "markdown",
      "source": [
        "### 2.1.4 Matplotlibの基礎\n",
        "キーワード：データビジュアライゼーション、散布図、ヒストグラム"
      ]
    },
    {
      "metadata": {
        "id": "pWAQrQXe64SS",
        "colab_type": "text"
      },
      "cell_type": "markdown",
      "source": [
        "データ分析をする上で、対象となるデータを可視化することはとても重要です。単に数字を眺めているだけでは、データに潜む傾向がなかなか見えなかったりしますが、データをビジュアル化することで、データ間の関係性なども見えてきます。特に、近年はインフォグラフィックスなどといって、可視化が注目されています。\n",
        "ここでは、主にmatplotlibとseabornを使って、データを可視化する基本的な方法を身につけましょう。以下のサイトが参考になります。"
      ]
    },
    {
      "metadata": {
        "id": "YR8WFIPe64SS",
        "colab_type": "text"
      },
      "cell_type": "markdown",
      "source": [
        ">[参考URL]\n",
        "\n",
        ">http://matplotlib.org/\n",
        "\n",
        ">http://seaborn.pydata.org/"
      ]
    },
    {
      "metadata": {
        "id": "gEuejgdK64SS",
        "colab_type": "text"
      },
      "cell_type": "markdown",
      "source": [
        "さらに以下の参考サイトは、pythonではなく、java scriptベースのプログラミングですが、データをビジュアル化するという意味では参考になります。"
      ]
    },
    {
      "metadata": {
        "id": "gKp3T78V64ST",
        "colab_type": "text"
      },
      "cell_type": "markdown",
      "source": [
        "![dd](http://visualisingadvocacy.org/sites/visualisingadvocacy.org/files/D3-index.jpg)"
      ]
    },
    {
      "metadata": {
        "id": "LBucMJO964ST",
        "colab_type": "text"
      },
      "cell_type": "markdown",
      "source": [
        "参照：https://d3js.org"
      ]
    },
    {
      "metadata": {
        "id": "6tsL7RI-64ST",
        "colab_type": "text"
      },
      "cell_type": "markdown",
      "source": [
        "早速、必要なライブラリーを読み込みましょう。メインはmatplotlibで、seabornは図をさらにきれいにすることができます。"
      ]
    },
    {
      "metadata": {
        "nbpresent": {
          "id": "6eff5466-e51a-40e9-b5d6-0e511d329721"
        },
        "id": "YMg6Kxbm64ST",
        "colab_type": "code",
        "colab": {}
      },
      "cell_type": "code",
      "source": [
        "# matplotlib と seabornの読み込み\n",
        "# seabornはきれいに図示できる\n",
        "import matplotlib.pyplot as plt\n",
        "import matplotlib as mpl\n",
        "import seaborn as sns\n",
        "import numpy as np\n",
        "# ここで表示させるために必要なマジックコマンド\n",
        "%matplotlib inline"
      ],
      "execution_count": 0,
      "outputs": []
    },
    {
      "metadata": {
        "id": "UGZuqCpp64SW",
        "colab_type": "text"
      },
      "cell_type": "markdown",
      "source": [
        "まずは、散布図です。散布図は、2つの組み合わせデータに対して、x−y座標上に点をプロットしたグラフです。ここから2変数の関係性などが見えてきます。"
      ]
    },
    {
      "metadata": {
        "id": "gkCdo_0C64SW",
        "colab_type": "code",
        "outputId": "b7f51286-6f37-4f74-8b3e-014480737ba2",
        "colab": {
          "base_uri": "https://localhost:8080/",
          "height": 295
        }
      },
      "cell_type": "code",
      "source": [
        "# 散布図\n",
        "\n",
        "import numpy.random as random\n",
        "\n",
        "#　シード値の固定\n",
        "random.seed(1)\n",
        "# x軸のデータ\n",
        "x = np.random.randn(1130)\n",
        "# y軸のデータ\n",
        "#y = np.sin(x) + np.random.randn(1130)\n",
        "random.seed(2)\n",
        "y = np.sin(x)\n",
        "\n",
        "# plot\n",
        "plt.plot(x, y, \"o\")\n",
        "\n",
        "#以下でも散布図が描ける\n",
        "#plt.scatter(x, y)\n",
        "\n",
        "# title\n",
        "plt.title(\"Title Name\")\n",
        "# Xの座標名\n",
        "plt.xlabel(\"X\")\n",
        "# Yの座標名\n",
        "plt.ylabel(\"Y\")\n",
        "\n",
        "# gridの表示\n",
        "plt.grid(True)"
      ],
      "execution_count": 0,
      "outputs": [
        {
          "output_type": "display_data",
          "data": {
            "image/png": "[encoded data removed]",
            "text/plain": [
              "<Figure size 432x288 with 1 Axes>"
            ]
          },
          "metadata": {
            "tags": []
          }
        }
      ]
    },
    {
      "metadata": {
        "id": "3kkuSqIu64SZ",
        "colab_type": "text"
      },
      "cell_type": "markdown",
      "source": [
        "次もplotを使いますが、時系列など連続した（厳密には連続とみなした）曲線を描いています。"
      ]
    },
    {
      "metadata": {
        "id": "q-k13UKi64SZ",
        "colab_type": "code",
        "outputId": "5a123100-8188-49b3-d741-fbb33d7e2c60",
        "colab": {}
      },
      "cell_type": "code",
      "source": [
        "# 連続曲線\n",
        "np.random.seed(0)\n",
        "# データの範囲\n",
        "numpy_data_x = np.arange(1000)\n",
        "\n",
        "# 乱数の発生と積み上げ\n",
        "numpy_random_data_y = np.random.randn(1000).cumsum()\n",
        "\n",
        "# label=とlegendでラベルをつけることが可能\n",
        "plt.plot(numpy_data_x,numpy_random_data_y,label=\"Label\")\n",
        "plt.legend()\n",
        "\n",
        "plt.xlabel(\"X\")\n",
        "plt.ylabel(\"Y\")\n",
        "plt.grid(True)"
      ],
      "execution_count": 0,
      "outputs": [
        {
          "output_type": "display_data",
          "data": {
            "image/png": "[encoded data removed]",
            "text/plain": [
              "<matplotlib.figure.Figure at 0x11b8e70b8>"
            ]
          },
          "metadata": {
            "tags": []
          }
        }
      ]
    },
    {
      "metadata": {
        "id": "eMrdN5fd64Sb",
        "colab_type": "text"
      },
      "cell_type": "markdown",
      "source": [
        "subplot()でグラフを複数に分けることができます。以下は、2行1列のグラフを作成し、1番目と2番目と番号を指定して表示させています。なお、linspace(-10,10,100)は-10から10までの数を100コに分割した数字リストを取り出します。"
      ]
    },
    {
      "metadata": {
        "scrolled": true,
        "id": "hksJ6NKJ64Sb",
        "colab_type": "code",
        "outputId": "2e5ce7db-19d5-43d3-ae29-ca91c9528f9b",
        "colab": {}
      },
      "cell_type": "code",
      "source": [
        "# sin関数\n",
        "\n",
        "# 2行1列のグラフの1つ目\n",
        "plt.subplot(2,1,1)\n",
        "x = np.linspace(-10, 10,100)\n",
        "plt.plot(x, np.sin(x)) \n",
        "\n",
        "# 2行1列のグラフの2つ目\n",
        "plt.subplot(2,1,2)\n",
        "y = np.linspace(-10, 10,100)\n",
        "plt.plot(y, np.sin(2*y)) \n",
        "\n",
        "plt.grid(True)"
      ],
      "execution_count": 0,
      "outputs": [
        {
          "output_type": "display_data",
          "data": {
            "image/png": "[encoded data removed]",
            "text/plain": [
              "<matplotlib.figure.Figure at 0x11b92a7b8>"
            ]
          },
          "metadata": {
            "tags": []
          }
        }
      ]
    },
    {
      "metadata": {
        "id": "6hygNkSC64Sd",
        "colab_type": "text"
      },
      "cell_type": "markdown",
      "source": [
        "次は、Scipyで扱った二次関数のグラフです。方程式の解の問題を考える際、数値計算しなくても図をみればおおよその解はわかります。"
      ]
    },
    {
      "metadata": {
        "scrolled": false,
        "id": "yW6P4v7c64Sd",
        "colab_type": "code",
        "outputId": "76302428-6450-49fc-c39b-63eeac77b135",
        "colab": {}
      },
      "cell_type": "code",
      "source": [
        "x = np.arange(-10, 10)\n",
        "plt.plot(x, sample_function(x)) \n",
        "plt.grid(True)"
      ],
      "execution_count": 0,
      "outputs": [
        {
          "output_type": "display_data",
          "data": {
            "image/png": "[encoded data removed]",
            "text/plain": [
              "<matplotlib.figure.Figure at 0x11b759f60>"
            ]
          },
          "metadata": {
            "tags": []
          }
        }
      ]
    },
    {
      "metadata": {
        "id": "_1hjqflu64Se",
        "colab_type": "text"
      },
      "cell_type": "markdown",
      "source": [
        "次のグラフは、ヒストグラムと言われ、それぞれの値の**度数**(値が出現する回数)を示します。データの全体像を観察するときに使われる図です。ここからどんな数値が多いのか、少ないのか、偏りがあるのかないのか見ていきます。\n",
        "\n",
        "実装ではhistを使います。その中にあるパラメータは、対象となるデータ、ビンの数（幅、個数）、範囲を設定しています。他にも色々とパラメータがありますので、前と同様に?でチェックしてみてください。"
      ]
    },
    {
      "metadata": {
        "id": "t5Pi8aSk64Se",
        "colab_type": "code",
        "colab": {}
      },
      "cell_type": "code",
      "source": [
        "?plt.hist"
      ],
      "execution_count": 0,
      "outputs": []
    },
    {
      "metadata": {
        "id": "XiJoPILm64Sg",
        "colab_type": "text"
      },
      "cell_type": "markdown",
      "source": [
        "他、help(~)関数を使って、仕様を確認することができます。"
      ]
    },
    {
      "metadata": {
        "id": "dmJjpA_q64Sg",
        "colab_type": "code",
        "outputId": "1b22a3e4-eb76-4adb-f1ad-de750f8ebd2c",
        "colab": {}
      },
      "cell_type": "code",
      "source": [
        "help(plt.hist)"
      ],
      "execution_count": 0,
      "outputs": [
        {
          "output_type": "stream",
          "text": [
            "Help on function hist in module matplotlib.pyplot:\n",
            "\n",
            "hist(x, bins=None, range=None, normed=False, weights=None, cumulative=False, bottom=None, histtype='bar', align='mid', orientation='vertical', rwidth=None, log=False, color=None, label=None, stacked=False, hold=None, data=None, **kwargs)\n",
            "    Plot a histogram.\n",
            "    \n",
            "    Compute and draw the histogram of *x*. The return value is a\n",
            "    tuple (*n*, *bins*, *patches*) or ([*n0*, *n1*, ...], *bins*,\n",
            "    [*patches0*, *patches1*,...]) if the input contains multiple\n",
            "    data.\n",
            "    \n",
            "    Multiple data can be provided via *x* as a list of datasets\n",
            "    of potentially different length ([*x0*, *x1*, ...]), or as\n",
            "    a 2-D ndarray in which each column is a dataset.  Note that\n",
            "    the ndarray form is transposed relative to the list form.\n",
            "    \n",
            "    Masked arrays are not supported at present.\n",
            "    \n",
            "    Parameters\n",
            "    ----------\n",
            "    x : (n,) array or sequence of (n,) arrays\n",
            "        Input values, this takes either a single array or a sequency of\n",
            "        arrays which are not required to be of the same length\n",
            "    \n",
            "    bins : integer or array_like or 'auto', optional\n",
            "        If an integer is given, `bins + 1` bin edges are returned,\n",
            "        consistently with :func:`numpy.histogram` for numpy version >=\n",
            "        1.3.\n",
            "    \n",
            "        Unequally spaced bins are supported if `bins` is a sequence.\n",
            "    \n",
            "        If Numpy 1.11 is installed, may also be ``'auto'``.\n",
            "    \n",
            "        Default is taken from the rcParam ``hist.bins``.\n",
            "    \n",
            "    range : tuple or None, optional\n",
            "        The lower and upper range of the bins. Lower and upper outliers\n",
            "        are ignored. If not provided, `range` is (x.min(), x.max()). Range\n",
            "        has no effect if `bins` is a sequence.\n",
            "    \n",
            "        If `bins` is a sequence or `range` is specified, autoscaling\n",
            "        is based on the specified bin range instead of the\n",
            "        range of x.\n",
            "    \n",
            "        Default is ``None``\n",
            "    \n",
            "    normed : boolean, optional\n",
            "        If `True`, the first element of the return tuple will\n",
            "        be the counts normalized to form a probability density, i.e.,\n",
            "        ``n/(len(x)`dbin)``, i.e., the integral of the histogram will sum\n",
            "        to 1. If *stacked* is also *True*, the sum of the histograms is\n",
            "        normalized to 1.\n",
            "    \n",
            "        Default is ``False``\n",
            "    \n",
            "    weights : (n, ) array_like or None, optional\n",
            "        An array of weights, of the same shape as `x`.  Each value in `x`\n",
            "        only contributes its associated weight towards the bin count\n",
            "        (instead of 1).  If `normed` is True, the weights are normalized,\n",
            "        so that the integral of the density over the range remains 1.\n",
            "    \n",
            "        Default is ``None``\n",
            "    \n",
            "    cumulative : boolean, optional\n",
            "        If `True`, then a histogram is computed where each bin gives the\n",
            "        counts in that bin plus all bins for smaller values. The last bin\n",
            "        gives the total number of datapoints.  If `normed` is also `True`\n",
            "        then the histogram is normalized such that the last bin equals 1.\n",
            "        If `cumulative` evaluates to less than 0 (e.g., -1), the direction\n",
            "        of accumulation is reversed.  In this case, if `normed` is also\n",
            "        `True`, then the histogram is normalized such that the first bin\n",
            "        equals 1.\n",
            "    \n",
            "        Default is ``False``\n",
            "    \n",
            "    bottom : array_like, scalar, or None\n",
            "        Location of the bottom baseline of each bin.  If a scalar,\n",
            "        the base line for each bin is shifted by the same amount.\n",
            "        If an array, each bin is shifted independently and the length\n",
            "        of bottom must match the number of bins.  If None, defaults to 0.\n",
            "    \n",
            "        Default is ``None``\n",
            "    \n",
            "    histtype : {'bar', 'barstacked', 'step',  'stepfilled'}, optional\n",
            "        The type of histogram to draw.\n",
            "    \n",
            "        - 'bar' is a traditional bar-type histogram.  If multiple data\n",
            "          are given the bars are aranged side by side.\n",
            "    \n",
            "        - 'barstacked' is a bar-type histogram where multiple\n",
            "          data are stacked on top of each other.\n",
            "    \n",
            "        - 'step' generates a lineplot that is by default\n",
            "          unfilled.\n",
            "    \n",
            "        - 'stepfilled' generates a lineplot that is by default\n",
            "          filled.\n",
            "    \n",
            "        Default is 'bar'\n",
            "    \n",
            "    align : {'left', 'mid', 'right'}, optional\n",
            "        Controls how the histogram is plotted.\n",
            "    \n",
            "            - 'left': bars are centered on the left bin edges.\n",
            "    \n",
            "            - 'mid': bars are centered between the bin edges.\n",
            "    \n",
            "            - 'right': bars are centered on the right bin edges.\n",
            "    \n",
            "        Default is 'mid'\n",
            "    \n",
            "    orientation : {'horizontal', 'vertical'}, optional\n",
            "        If 'horizontal', `~matplotlib.pyplot.barh` will be used for\n",
            "        bar-type histograms and the *bottom* kwarg will be the left edges.\n",
            "    \n",
            "    rwidth : scalar or None, optional\n",
            "        The relative width of the bars as a fraction of the bin width.  If\n",
            "        `None`, automatically compute the width.\n",
            "    \n",
            "        Ignored if `histtype` is 'step' or 'stepfilled'.\n",
            "    \n",
            "        Default is ``None``\n",
            "    \n",
            "    log : boolean, optional\n",
            "        If `True`, the histogram axis will be set to a log scale. If `log`\n",
            "        is `True` and `x` is a 1D array, empty bins will be filtered out\n",
            "        and only the non-empty (`n`, `bins`, `patches`) will be returned.\n",
            "    \n",
            "        Default is ``False``\n",
            "    \n",
            "    color : color or array_like of colors or None, optional\n",
            "        Color spec or sequence of color specs, one per dataset.  Default\n",
            "        (`None`) uses the standard line color sequence.\n",
            "    \n",
            "        Default is ``None``\n",
            "    \n",
            "    label : string or None, optional\n",
            "        String, or sequence of strings to match multiple datasets.  Bar\n",
            "        charts yield multiple patches per dataset, but only the first gets\n",
            "        the label, so that the legend command will work as expected.\n",
            "    \n",
            "        default is ``None``\n",
            "    \n",
            "    stacked : boolean, optional\n",
            "        If `True`, multiple data are stacked on top of each other If\n",
            "        `False` multiple data are aranged side by side if histtype is\n",
            "        'bar' or on top of each other if histtype is 'step'\n",
            "    \n",
            "        Default is ``False``\n",
            "    \n",
            "    Returns\n",
            "    -------\n",
            "    n : array or list of arrays\n",
            "        The values of the histogram bins. See **normed** and **weights**\n",
            "        for a description of the possible semantics. If input **x** is an\n",
            "        array, then this is an array of length **nbins**. If input is a\n",
            "        sequence arrays ``[data1, data2,..]``, then this is a list of\n",
            "        arrays with the values of the histograms for each of the arrays\n",
            "        in the same order.\n",
            "    \n",
            "    bins : array\n",
            "        The edges of the bins. Length nbins + 1 (nbins left edges and right\n",
            "        edge of last bin).  Always a single array even when multiple data\n",
            "        sets are passed in.\n",
            "    \n",
            "    patches : list or list of lists\n",
            "        Silent list of individual patches used to create the histogram\n",
            "        or list of such list if multiple input datasets.\n",
            "    \n",
            "    Other Parameters\n",
            "    ----------------\n",
            "    kwargs : `~matplotlib.patches.Patch` properties\n",
            "    \n",
            "    See also\n",
            "    --------\n",
            "    hist2d : 2D histograms\n",
            "    \n",
            "    Notes\n",
            "    -----\n",
            "    Until numpy release 1.5, the underlying numpy histogram function was\n",
            "    incorrect with `normed`=`True` if bin sizes were unequal.  MPL\n",
            "    inherited that error.  It is now corrected within MPL when using\n",
            "    earlier numpy versions.\n",
            "    \n",
            "    Examples\n",
            "    --------\n",
            "    .. plot:: mpl_examples/statistics/histogram_demo_features.py\n",
            "    \n",
            "    .. note::\n",
            "        In addition to the above described arguments, this function can take a\n",
            "        **data** keyword argument. If such a **data** argument is given, the\n",
            "        following arguments are replaced by **data[<arg>]**:\n",
            "    \n",
            "        * All arguments with the following names: 'weights', 'x'.\n",
            "\n"
          ],
          "name": "stdout"
        }
      ]
    },
    {
      "metadata": {
        "id": "DEI4Ka8O64Sh",
        "colab_type": "code",
        "outputId": "9a8eb200-dd09-48b2-de68-da3803cef4e6",
        "colab": {
          "base_uri": "https://localhost:8080/",
          "height": 265
        }
      },
      "cell_type": "code",
      "source": [
        "# histogram\n",
        "random.seed(0)\n",
        "plt.hist(np.random.randn(105)*10 + 50, bins=60,range=(20,80))\n",
        "plt.grid(True)"
      ],
      "execution_count": 0,
      "outputs": [
        {
          "output_type": "display_data",
          "data": {
            "image/png": "[encoded data removed]",
            "text/plain": [
              "<Figure size 432x288 with 1 Axes>"
            ]
          },
          "metadata": {
            "tags": []
          }
        }
      ]
    },
    {
      "metadata": {
        "id": "DNIG-g8564Sj",
        "colab_type": "text"
      },
      "cell_type": "markdown",
      "source": [
        "以上で、Matplotlibの基礎、そしてデータ分析で使うPyhonのメインモジュール(Numpy、Scipy、Pandas)の基本的な紹介についてはこれで終わります。お疲れ様でした。ここで学んだテクニックは、次の記述統計で使ったり、さらに次の章で活用していきます。"
      ]
    },
    {
      "metadata": {
        "id": "QQwjKaj564Sk",
        "colab_type": "text"
      },
      "cell_type": "markdown",
      "source": [
        "#### <練習問題 1>\n",
        "\n",
        "y = 5x + 3 (xは-10から10の値)のグラフを書いてみましょう。"
      ]
    },
    {
      "metadata": {
        "id": "YUwMBRl01SXe",
        "colab_type": "code",
        "outputId": "72e68c56-3ecb-43f0-c35c-a1764c7caa03",
        "colab": {
          "base_uri": "https://localhost:8080/",
          "height": 282
        }
      },
      "cell_type": "code",
      "source": [
        "#def func1(x):\n",
        "#  return x*5+3\n",
        "  \n",
        "  \n",
        "import numpy.random as random\n",
        "\n",
        "#　シード値の固定\n",
        "random.seed(1)\n",
        "# x軸のデータ\n",
        "#x = np.random.randn(1130)\n",
        "x = np.linspace(-10, 10,100)\n",
        "# y軸のデータ\n",
        "#y = np.sin(x) + np.random.randn(1130)\n",
        "random.seed(2)\n",
        "y = 5*x+3\n",
        "\n",
        "# plot\n",
        "plt.plot(x, y, \"o\")\n"
      ],
      "execution_count": 0,
      "outputs": [
        {
          "output_type": "execute_result",
          "data": {
            "text/plain": [
              "[<matplotlib.lines.Line2D at 0x7fc08bcc6ad0>]"
            ]
          },
          "metadata": {
            "tags": []
          },
          "execution_count": 5
        },
        {
          "output_type": "display_data",
          "data": {
            "image/png": "[encoded data removed]",
            "text/plain": [
              "<Figure size 432x288 with 1 Axes>"
            ]
          },
          "metadata": {
            "tags": []
          }
        }
      ]
    },
    {
      "metadata": {
        "id": "rPEijXXV64Sl",
        "colab_type": "text"
      },
      "cell_type": "markdown",
      "source": [
        "#### <練習問題 2>\n",
        "\n",
        "先ほどのsin関数に加えて、cos関数のグラフも書いてください。"
      ]
    },
    {
      "metadata": {
        "id": "OccqHf0pA_QN",
        "colab_type": "code",
        "outputId": "2078b1ea-1d7c-4858-ab32-e5b1104ed431",
        "colab": {
          "base_uri": "https://localhost:8080/",
          "height": 282
        }
      },
      "cell_type": "code",
      "source": [
        "#def func1(x):\n",
        "#  return x*5+3\n",
        "  \n",
        "  \n",
        "import numpy.random as random\n",
        "\n",
        "#　シード値の固定\n",
        "random.seed(1)\n",
        "# x軸のデータ\n",
        "#x = np.random.randn(1130)\n",
        "x = np.linspace(-10, 10,100)\n",
        "# y軸のデータ\n",
        "#y = np.sin(x) + np.random.randn(1130)\n",
        "random.seed(2)\n",
        "y = np.cos(x)\n",
        "\n",
        "# plot\n",
        "plt.plot(x, y, \"o\")\n"
      ],
      "execution_count": 0,
      "outputs": [
        {
          "output_type": "execute_result",
          "data": {
            "text/plain": [
              "[<matplotlib.lines.Line2D at 0x7fc08bc07ed0>]"
            ]
          },
          "metadata": {
            "tags": []
          },
          "execution_count": 7
        },
        {
          "output_type": "display_data",
          "data": {
            "image/png": "[encoded data removed]",
            "text/plain": [
              "<Figure size 432x288 with 1 Axes>"
            ]
          },
          "metadata": {
            "tags": []
          }
        }
      ]
    },
    {
      "metadata": {
        "id": "tQLTQNnh64Sl",
        "colab_type": "text"
      },
      "cell_type": "markdown",
      "source": [
        "#### <練習問題 3>\n",
        "\n",
        "0から1の値をとる一様乱数を1000個、2組発生させて、それぞれのヒストグラムを書いてみましょう。結果はどうなっていますか。また、1000個だけではなく、100個や10000個などでも実施してみましょう。何かわかることはありますか。なお、それぞれのヒストグラムは別のグラフに表示するために、plt.subplotを利用してください。なお、一様乱数とは、ある数から数まで等確率で発生する乱数のことをいい、np.random.uniformを使ってください。"
      ]
    },
    {
      "metadata": {
        "id": "eUiYeikuBXxZ",
        "colab_type": "code",
        "outputId": "2f040a4d-267e-4a6f-d197-90e2e7b1ecf5",
        "colab": {
          "base_uri": "https://localhost:8080/",
          "height": 189
        }
      },
      "cell_type": "code",
      "source": [
        "# histogram\n",
        "random.seed(1)\n",
        "plt.subplot(3,2,1)\n",
        "plt.hist(np.random.uniform(0,1,100), bins=60,range=(0,1))\n",
        "plt.grid(True)\n",
        "plt.subplot(3,2,2)\n",
        "plt.hist(np.random.uniform(0,10,1000), bins=60,range=(0,10))\n",
        "plt.grid(True)\n",
        "plt.subplot(3,2,3)\n",
        "plt.hist(np.random.uniform(0,10,10000), bins=60,range=(0,10))\n",
        "plt.grid(True)\n",
        "plt.subplot(3,2,4)\n",
        "plt.hist(np.random.uniform(0,10,100000), bins=60,range=(0,10))\n",
        "plt.grid(True)\n"
      ],
      "execution_count": 0,
      "outputs": [
        {
          "output_type": "display_data",
          "data": {
            "image/png": "[encoded data removed]",
            "text/plain": [
              "<Figure size 432x288 with 4 Axes>"
            ]
          },
          "metadata": {
            "tags": []
          }
        }
      ]
    },
    {
      "metadata": {
        "id": "ryNzo9ZQ64Sl",
        "colab_type": "text"
      },
      "cell_type": "markdown",
      "source": [
        "## 2.2 総合問題"
      ]
    },
    {
      "metadata": {
        "id": "wLZSIMQB64Sm",
        "colab_type": "text"
      },
      "cell_type": "markdown",
      "source": [
        "### 2.2.1 モンテカルロ法\n",
        "\n",
        "乱数を発生させる方法を使って、円周率を求めるプログラムを作成してみましょう。（なお、このアプローチを**モンテカルロ法**といいます）\n",
        "\n",
        "（1）一様分布に従う乱数を2組発生させて、それぞれ10,000個の一様乱数を作ってみましょう。なお、一様乱数とは、ある数から数まで等確率で発生する乱数のことをいい、np.random.uniformを使います。使い方としては、0から1までの数を10個発生させる場合は、np.random.uniform(0.0, 1.0, 10)とします。\n",
        "\n",
        "（2）x−y軸を使った中心(0,0)、半径1の円と、長さ1の正方形を考え、円の面積は$\\pi$となり、正方形の面積は1となります。ここで先ほどのxとyの組み合わせの乱数10000個のうち、円の内部に入る点は何組あるでしょうか。ここで、円の内部に入るとは、x−y座標の原点から点 (x, y) のベクトルの長さを求め、それが1より小さくなる場合を判定基準とします。なお、その長さを求めるために、ユークリッドノルム($\\sqrt{x^2 + y^2}$)を使い、 math.hypot(x,y)で計算できます。（さらに、余裕があれば、円の中に入ったxとyの組み合わせと外に出たxとyの組み合わせをプロットして図にしてみましょう。）\n",
        "\n",
        "（3）半径1の1/4の円の面積と長さ1の長方形の面積の比は、$ \\pi /4 : 1$となりますので、これと先ほどの結果を利用して、円周率を求めてみましょう。"
      ]
    },
    {
      "metadata": {
        "id": "tKzHMbKFHwzO",
        "colab_type": "code",
        "outputId": "173483fc-38cb-4e19-b631-13c23c61db17",
        "colab": {
          "base_uri": "https://localhost:8080/",
          "height": 34
        }
      },
      "cell_type": "code",
      "source": [
        "num = 10000000\n",
        "\n",
        "# (1)\n",
        "np.random.seed(10)\n",
        "y = np.random.uniform(0,1,num)\n",
        "np.random.seed(1)\n",
        "x = np.random.uniform(0,1,num)\n",
        "out={0}\n",
        "#in ={0}\n",
        "# (2)\n",
        "#s = np.sqrt(y*y + x*x)\n",
        "m = 0.00000\n",
        "for i in range(num):\n",
        "#  s = np.math.hypot(x[i],y[i])\n",
        "  s = x[i]*x[i]+y[i]*y[i]\n",
        "  if (s <= 1):\n",
        "    m = m+1\n",
        "    \n",
        "\n",
        "4*m/num\n"
      ],
      "execution_count": 0,
      "outputs": [
        {
          "output_type": "execute_result",
          "data": {
            "text/plain": [
              "3.1411012"
            ]
          },
          "metadata": {
            "tags": []
          },
          "execution_count": 12
        }
      ]
    }
  ]
}