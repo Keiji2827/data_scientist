{
  "nbformat": 4,
  "nbformat_minor": 0,
  "metadata": {
    "colab": {
      "name": "Chapter6_ver2.ipynb",
      "version": "0.3.2",
      "provenance": [],
      "include_colab_link": true
    },
    "language_info": {
      "codemirror_mode": {
        "name": "ipython",
        "version": 3
      },
      "file_extension": ".py",
      "mimetype": "text/x-python",
      "name": "python",
      "nbconvert_exporter": "python",
      "pygments_lexer": "ipython3",
      "version": "3.5.2"
    },
    "kernelspec": {
      "display_name": "Python [Root]",
      "language": "python",
      "name": "Python [Root]"
    }
  },
  "cells": [
    {
      "cell_type": "markdown",
      "metadata": {
        "id": "view-in-github",
        "colab_type": "text"
      },
      "source": [
        "<a href=\"https://colab.research.google.com/github/Keiji2827/data_scientist/blob/master/Chapter6_ver2.ipynb\" target=\"_parent\"><img src=\"https://colab.research.google.com/assets/colab-badge.svg\" alt=\"Open In Colab\"/></a>"
      ]
    },
    {
      "metadata": {
        "id": "tOAKcY-rG-qK",
        "colab_type": "text"
      },
      "cell_type": "markdown",
      "source": [
        "# 6 Pandasを使ったデータ加工処理"
      ]
    },
    {
      "metadata": {
        "id": "6DtbG6rDG-qL",
        "colab_type": "text"
      },
      "cell_type": "markdown",
      "source": [
        "- **[6.1 Pandas](#6.1-Pandas)**\n",
        "    - [6.1.1 階層型インデックス](#6.1.1-階層型インデックス)\n",
        "    - [6.1.2 データのマージ](#6.1.2-データのマージ)\n",
        "    - [6.1.3 データの操作と変換](#6.1.3-データの操作と変換)\n",
        "    - [6.1.4 データの集約とグループ演算](#6.1.4-データの集約とグループ演算)\n",
        "<br><br>\n",
        "- **[6.2 欠損データと異常値の取り扱いの基礎](#6.2-欠損データと異常値の取り扱いの基礎)**\n",
        "    - [6.2.1 欠損データの扱い方](#6.2.1-欠損データの扱い方)\n",
        "    - [6.2.2 異常データの扱い方](#6.2.2-異常データの扱い方)\n",
        "<br><br>\n",
        "- **[6.3 総合問題](#6.3-総合問題)**\n",
        "    - [6.3.1 総合問題1](#6.3.1-総合問題1)"
      ]
    },
    {
      "metadata": {
        "id": "TBgFkG9gG-qM",
        "colab_type": "text"
      },
      "cell_type": "markdown",
      "source": [
        "***"
      ]
    },
    {
      "metadata": {
        "id": "GHL6F-yoG-qN",
        "colab_type": "text"
      },
      "cell_type": "markdown",
      "source": [
        "## 6.1 Pandas\n",
        "ゴール：Pandasの階層型インデックスを使える、データの結合ができる、group byなどを使って集計処理ができる"
      ]
    },
    {
      "metadata": {
        "id": "gezYbroSG-qO",
        "colab_type": "code",
        "colab": {},
        "outputId": "991b143b-4ee4-45e4-adff-0881d3f41b7f"
      },
      "cell_type": "code",
      "source": [
        "# 以下のモジュールを使うので、あらかじめ読み込んでおいてください\n",
        "import numpy as np\n",
        "import numpy.random as random\n",
        "import scipy as sp\n",
        "import pandas as pd\n",
        "from pandas import Series, DataFrame\n",
        "\n",
        "# 可視化モジュール\n",
        "import matplotlib.pyplot as plt\n",
        "import matplotlib as mpl\n",
        "import seaborn as sns\n",
        "%matplotlib inline\n",
        "\n",
        "# 小数第３まで表示\n",
        "%precision 3"
      ],
      "execution_count": 0,
      "outputs": [
        {
          "output_type": "execute_result",
          "data": {
            "text/plain": [
              "'%.3f'"
            ]
          },
          "metadata": {
            "tags": []
          },
          "execution_count": 1
        }
      ]
    },
    {
      "metadata": {
        "id": "nn9z04BzG-qS",
        "colab_type": "text"
      },
      "cell_type": "markdown",
      "source": [
        "### 6.1.1 階層型インデックス\n",
        "キーワード：階層型インデックス\n"
      ]
    },
    {
      "metadata": {
        "id": "0ZQtreS7G-qT",
        "colab_type": "text"
      },
      "cell_type": "markdown",
      "source": [
        "この章では、データを自由にハンドリングするためのPandasの応用的な処理について学んでいきます。まずは、**階層型インデックス**です。以前Pandasのインデックスについて少し扱いましたが、1つのインデックスだけではなく、階層的に設定したいこともあります。階層的に設定することで、各階層ごとに集計や計算が可能になり、後々便利です。\n",
        "\n",
        "以下のデータセットでは、インデックスを2段構造で設定しており、indexでその値を設定します。はじめがaとb、次が1と2でインデックスを設定しています。"
      ]
    },
    {
      "metadata": {
        "id": "7PzKsH2bG-qU",
        "colab_type": "code",
        "colab": {},
        "outputId": "75b1f7d7-6a9c-46bd-a488-4b09f82db926"
      },
      "cell_type": "code",
      "source": [
        "hier_data_frame = DataFrame(np.arange(9).reshape((3,3))\n",
        "                           ,index = [['a','a','b'],[1,2,2]]\n",
        "                           ,columns = [['Osaka','Tokyo','Osaka']\n",
        "                                      ,['Blue','Red','Red']]\n",
        "                           )\n",
        "hier_data_frame"
      ],
      "execution_count": 0,
      "outputs": [
        {
          "output_type": "execute_result",
          "data": {
            "text/html": [
              "<div>\n",
              "<style>\n",
              "    .dataframe thead tr:only-child th {\n",
              "        text-align: right;\n",
              "    }\n",
              "\n",
              "    .dataframe thead th {\n",
              "        text-align: left;\n",
              "    }\n",
              "\n",
              "    .dataframe tbody tr th {\n",
              "        vertical-align: top;\n",
              "    }\n",
              "</style>\n",
              "<table border=\"1\" class=\"dataframe\">\n",
              "  <thead>\n",
              "    <tr>\n",
              "      <th></th>\n",
              "      <th></th>\n",
              "      <th>Osaka</th>\n",
              "      <th>Tokyo</th>\n",
              "      <th>Osaka</th>\n",
              "    </tr>\n",
              "    <tr>\n",
              "      <th></th>\n",
              "      <th></th>\n",
              "      <th>Blue</th>\n",
              "      <th>Red</th>\n",
              "      <th>Red</th>\n",
              "    </tr>\n",
              "  </thead>\n",
              "  <tbody>\n",
              "    <tr>\n",
              "      <th rowspan=\"2\" valign=\"top\">a</th>\n",
              "      <th>1</th>\n",
              "      <td>0</td>\n",
              "      <td>1</td>\n",
              "      <td>2</td>\n",
              "    </tr>\n",
              "    <tr>\n",
              "      <th>2</th>\n",
              "      <td>3</td>\n",
              "      <td>4</td>\n",
              "      <td>5</td>\n",
              "    </tr>\n",
              "    <tr>\n",
              "      <th>b</th>\n",
              "      <th>2</th>\n",
              "      <td>6</td>\n",
              "      <td>7</td>\n",
              "      <td>8</td>\n",
              "    </tr>\n",
              "  </tbody>\n",
              "</table>\n",
              "</div>"
            ],
            "text/plain": [
              "    Osaka Tokyo Osaka\n",
              "     Blue   Red   Red\n",
              "a 1     0     1     2\n",
              "  2     3     4     5\n",
              "b 2     6     7     8"
            ]
          },
          "metadata": {
            "tags": []
          },
          "execution_count": 2
        }
      ]
    },
    {
      "metadata": {
        "id": "YjW7aDJ6G-qW",
        "colab_type": "text"
      },
      "cell_type": "markdown",
      "source": [
        "先ほど設定したインデックスに名前をつけることも可能です。"
      ]
    },
    {
      "metadata": {
        "id": "xynPfPUWG-qX",
        "colab_type": "code",
        "colab": {},
        "outputId": "d7b638c3-f988-4c4a-b025-7b0b920531f2"
      },
      "cell_type": "code",
      "source": [
        "# indexに名前を付ける\n",
        "hier_data_frame.index.names =['key1','key2']\n",
        "# カラムに名前を付ける\n",
        "hier_data_frame.columns.names =['city','color']\n",
        "hier_data_frame"
      ],
      "execution_count": 0,
      "outputs": [
        {
          "output_type": "execute_result",
          "data": {
            "text/html": [
              "<div>\n",
              "<style>\n",
              "    .dataframe thead tr:only-child th {\n",
              "        text-align: right;\n",
              "    }\n",
              "\n",
              "    .dataframe thead th {\n",
              "        text-align: left;\n",
              "    }\n",
              "\n",
              "    .dataframe tbody tr th {\n",
              "        vertical-align: top;\n",
              "    }\n",
              "</style>\n",
              "<table border=\"1\" class=\"dataframe\">\n",
              "  <thead>\n",
              "    <tr>\n",
              "      <th></th>\n",
              "      <th>city</th>\n",
              "      <th>Osaka</th>\n",
              "      <th>Tokyo</th>\n",
              "      <th>Osaka</th>\n",
              "    </tr>\n",
              "    <tr>\n",
              "      <th></th>\n",
              "      <th>color</th>\n",
              "      <th>Blue</th>\n",
              "      <th>Red</th>\n",
              "      <th>Red</th>\n",
              "    </tr>\n",
              "    <tr>\n",
              "      <th>key1</th>\n",
              "      <th>key2</th>\n",
              "      <th></th>\n",
              "      <th></th>\n",
              "      <th></th>\n",
              "    </tr>\n",
              "  </thead>\n",
              "  <tbody>\n",
              "    <tr>\n",
              "      <th rowspan=\"2\" valign=\"top\">a</th>\n",
              "      <th>1</th>\n",
              "      <td>0</td>\n",
              "      <td>1</td>\n",
              "      <td>2</td>\n",
              "    </tr>\n",
              "    <tr>\n",
              "      <th>2</th>\n",
              "      <td>3</td>\n",
              "      <td>4</td>\n",
              "      <td>5</td>\n",
              "    </tr>\n",
              "    <tr>\n",
              "      <th>b</th>\n",
              "      <th>2</th>\n",
              "      <td>6</td>\n",
              "      <td>7</td>\n",
              "      <td>8</td>\n",
              "    </tr>\n",
              "  </tbody>\n",
              "</table>\n",
              "</div>"
            ],
            "text/plain": [
              "city      Osaka Tokyo Osaka\n",
              "color      Blue   Red   Red\n",
              "key1 key2                  \n",
              "a    1        0     1     2\n",
              "     2        3     4     5\n",
              "b    2        6     7     8"
            ]
          },
          "metadata": {
            "tags": []
          },
          "execution_count": 3
        }
      ]
    },
    {
      "metadata": {
        "id": "FD25uTjmG-qZ",
        "colab_type": "text"
      },
      "cell_type": "markdown",
      "source": [
        "ここで例えば、カラムのcityについて、「Osaka」のデータだけ見たいとしましょう。グループの絞り込みで、データを抽出しています。"
      ]
    },
    {
      "metadata": {
        "id": "FnQxaHU3G-qa",
        "colab_type": "code",
        "colab": {},
        "outputId": "fc6211dc-1b24-484e-8876-fb958dc7fbac"
      },
      "cell_type": "code",
      "source": [
        "hier_data_frame['Osaka']"
      ],
      "execution_count": 0,
      "outputs": [
        {
          "output_type": "execute_result",
          "data": {
            "text/html": [
              "<div>\n",
              "<style>\n",
              "    .dataframe thead tr:only-child th {\n",
              "        text-align: right;\n",
              "    }\n",
              "\n",
              "    .dataframe thead th {\n",
              "        text-align: left;\n",
              "    }\n",
              "\n",
              "    .dataframe tbody tr th {\n",
              "        vertical-align: top;\n",
              "    }\n",
              "</style>\n",
              "<table border=\"1\" class=\"dataframe\">\n",
              "  <thead>\n",
              "    <tr style=\"text-align: right;\">\n",
              "      <th></th>\n",
              "      <th>color</th>\n",
              "      <th>Blue</th>\n",
              "      <th>Red</th>\n",
              "    </tr>\n",
              "    <tr>\n",
              "      <th>key1</th>\n",
              "      <th>key2</th>\n",
              "      <th></th>\n",
              "      <th></th>\n",
              "    </tr>\n",
              "  </thead>\n",
              "  <tbody>\n",
              "    <tr>\n",
              "      <th rowspan=\"2\" valign=\"top\">a</th>\n",
              "      <th>1</th>\n",
              "      <td>0</td>\n",
              "      <td>2</td>\n",
              "    </tr>\n",
              "    <tr>\n",
              "      <th>2</th>\n",
              "      <td>3</td>\n",
              "      <td>5</td>\n",
              "    </tr>\n",
              "    <tr>\n",
              "      <th>b</th>\n",
              "      <th>2</th>\n",
              "      <td>6</td>\n",
              "      <td>8</td>\n",
              "    </tr>\n",
              "  </tbody>\n",
              "</table>\n",
              "</div>"
            ],
            "text/plain": [
              "color      Blue  Red\n",
              "key1 key2           \n",
              "a    1        0    2\n",
              "     2        3    5\n",
              "b    2        6    8"
            ]
          },
          "metadata": {
            "tags": []
          },
          "execution_count": 4
        }
      ]
    },
    {
      "metadata": {
        "id": "-bIq8YqLG-qc",
        "colab_type": "text"
      },
      "cell_type": "markdown",
      "source": [
        "次はあるインデックスを軸にした集計で、以下はkey2ごとに合計を計算しています。"
      ]
    },
    {
      "metadata": {
        "id": "i4uudsaSG-qd",
        "colab_type": "code",
        "colab": {},
        "outputId": "519b01ef-3682-49aa-bbbc-4a6823f197be"
      },
      "cell_type": "code",
      "source": [
        "# 階層ごとの要約統計量：行合計\n",
        "hier_data_frame.sum(level='key2')"
      ],
      "execution_count": 0,
      "outputs": [
        {
          "output_type": "execute_result",
          "data": {
            "text/html": [
              "<div>\n",
              "<style>\n",
              "    .dataframe thead tr:only-child th {\n",
              "        text-align: right;\n",
              "    }\n",
              "\n",
              "    .dataframe thead th {\n",
              "        text-align: left;\n",
              "    }\n",
              "\n",
              "    .dataframe tbody tr th {\n",
              "        vertical-align: top;\n",
              "    }\n",
              "</style>\n",
              "<table border=\"1\" class=\"dataframe\">\n",
              "  <thead>\n",
              "    <tr>\n",
              "      <th>city</th>\n",
              "      <th>Osaka</th>\n",
              "      <th>Tokyo</th>\n",
              "      <th>Osaka</th>\n",
              "    </tr>\n",
              "    <tr>\n",
              "      <th>color</th>\n",
              "      <th>Blue</th>\n",
              "      <th>Red</th>\n",
              "      <th>Red</th>\n",
              "    </tr>\n",
              "    <tr>\n",
              "      <th>key2</th>\n",
              "      <th></th>\n",
              "      <th></th>\n",
              "      <th></th>\n",
              "    </tr>\n",
              "  </thead>\n",
              "  <tbody>\n",
              "    <tr>\n",
              "      <th>1</th>\n",
              "      <td>0</td>\n",
              "      <td>1</td>\n",
              "      <td>2</td>\n",
              "    </tr>\n",
              "    <tr>\n",
              "      <th>2</th>\n",
              "      <td>9</td>\n",
              "      <td>11</td>\n",
              "      <td>13</td>\n",
              "    </tr>\n",
              "  </tbody>\n",
              "</table>\n",
              "</div>"
            ],
            "text/plain": [
              "city  Osaka Tokyo Osaka\n",
              "color  Blue   Red   Red\n",
              "key2                   \n",
              "1         0     1     2\n",
              "2         9    11    13"
            ]
          },
          "metadata": {
            "tags": []
          },
          "execution_count": 5
        }
      ]
    },
    {
      "metadata": {
        "id": "Ww5r2rE0G-qg",
        "colab_type": "text"
      },
      "cell_type": "markdown",
      "source": [
        "次は、「color」ごとの合計値です。軸はaxisで設定しています。"
      ]
    },
    {
      "metadata": {
        "id": "Nk-ZbK4SG-qh",
        "colab_type": "code",
        "colab": {},
        "outputId": "11b289f6-11d9-4e85-ab08-a53ff709abeb"
      },
      "cell_type": "code",
      "source": [
        "# 列合計\n",
        "hier_data_frame.sum(level='color',axis=1)"
      ],
      "execution_count": 0,
      "outputs": [
        {
          "output_type": "execute_result",
          "data": {
            "text/html": [
              "<div>\n",
              "<style>\n",
              "    .dataframe thead tr:only-child th {\n",
              "        text-align: right;\n",
              "    }\n",
              "\n",
              "    .dataframe thead th {\n",
              "        text-align: left;\n",
              "    }\n",
              "\n",
              "    .dataframe tbody tr th {\n",
              "        vertical-align: top;\n",
              "    }\n",
              "</style>\n",
              "<table border=\"1\" class=\"dataframe\">\n",
              "  <thead>\n",
              "    <tr style=\"text-align: right;\">\n",
              "      <th></th>\n",
              "      <th>color</th>\n",
              "      <th>Blue</th>\n",
              "      <th>Red</th>\n",
              "    </tr>\n",
              "    <tr>\n",
              "      <th>key1</th>\n",
              "      <th>key2</th>\n",
              "      <th></th>\n",
              "      <th></th>\n",
              "    </tr>\n",
              "  </thead>\n",
              "  <tbody>\n",
              "    <tr>\n",
              "      <th rowspan=\"2\" valign=\"top\">a</th>\n",
              "      <th>1</th>\n",
              "      <td>0</td>\n",
              "      <td>3</td>\n",
              "    </tr>\n",
              "    <tr>\n",
              "      <th>2</th>\n",
              "      <td>3</td>\n",
              "      <td>9</td>\n",
              "    </tr>\n",
              "    <tr>\n",
              "      <th>b</th>\n",
              "      <th>2</th>\n",
              "      <td>6</td>\n",
              "      <td>15</td>\n",
              "    </tr>\n",
              "  </tbody>\n",
              "</table>\n",
              "</div>"
            ],
            "text/plain": [
              "color      Blue  Red\n",
              "key1 key2           \n",
              "a    1        0    3\n",
              "     2        3    9\n",
              "b    2        6   15"
            ]
          },
          "metadata": {
            "tags": []
          },
          "execution_count": 6
        }
      ]
    },
    {
      "metadata": {
        "id": "P768r4UZG-qj",
        "colab_type": "text"
      },
      "cell_type": "markdown",
      "source": [
        "なお、あるインデックスを削除したい場合は、dropを使うことでインデックスの要素を削除できます。以下は　key1のbを削除しています。"
      ]
    },
    {
      "metadata": {
        "id": "8qMXJfbxG-qk",
        "colab_type": "code",
        "colab": {},
        "outputId": "9eae1f26-dcaa-47a5-bfa2-5ba4b8971fe0"
      },
      "cell_type": "code",
      "source": [
        "hier_data_frame.drop([\"b\"])"
      ],
      "execution_count": 0,
      "outputs": [
        {
          "output_type": "execute_result",
          "data": {
            "text/html": [
              "<div>\n",
              "<style>\n",
              "    .dataframe thead tr:only-child th {\n",
              "        text-align: right;\n",
              "    }\n",
              "\n",
              "    .dataframe thead th {\n",
              "        text-align: left;\n",
              "    }\n",
              "\n",
              "    .dataframe tbody tr th {\n",
              "        vertical-align: top;\n",
              "    }\n",
              "</style>\n",
              "<table border=\"1\" class=\"dataframe\">\n",
              "  <thead>\n",
              "    <tr>\n",
              "      <th></th>\n",
              "      <th>city</th>\n",
              "      <th>Osaka</th>\n",
              "      <th>Tokyo</th>\n",
              "      <th>Osaka</th>\n",
              "    </tr>\n",
              "    <tr>\n",
              "      <th></th>\n",
              "      <th>color</th>\n",
              "      <th>Blue</th>\n",
              "      <th>Red</th>\n",
              "      <th>Red</th>\n",
              "    </tr>\n",
              "    <tr>\n",
              "      <th>key1</th>\n",
              "      <th>key2</th>\n",
              "      <th></th>\n",
              "      <th></th>\n",
              "      <th></th>\n",
              "    </tr>\n",
              "  </thead>\n",
              "  <tbody>\n",
              "    <tr>\n",
              "      <th rowspan=\"2\" valign=\"top\">a</th>\n",
              "      <th>1</th>\n",
              "      <td>0</td>\n",
              "      <td>1</td>\n",
              "      <td>2</td>\n",
              "    </tr>\n",
              "    <tr>\n",
              "      <th>2</th>\n",
              "      <td>3</td>\n",
              "      <td>4</td>\n",
              "      <td>5</td>\n",
              "    </tr>\n",
              "  </tbody>\n",
              "</table>\n",
              "</div>"
            ],
            "text/plain": [
              "city      Osaka Tokyo Osaka\n",
              "color      Blue   Red   Red\n",
              "key1 key2                  \n",
              "a    1        0     1     2\n",
              "     2        3     4     5"
            ]
          },
          "metadata": {
            "tags": []
          },
          "execution_count": 7
        }
      ]
    },
    {
      "metadata": {
        "id": "0JL7s7MZG-qn",
        "colab_type": "text"
      },
      "cell_type": "markdown",
      "source": [
        "以上で、階層型インデックスの説明を終わります。"
      ]
    },
    {
      "metadata": {
        "id": "Y5HhWugCG-qn",
        "colab_type": "text"
      },
      "cell_type": "markdown",
      "source": [
        "#### <練習問題 1>\n",
        "\n",
        "次のデータに対して、Kyotoの列だけ抜き出してみましょう。"
      ]
    },
    {
      "metadata": {
        "id": "ALLt1my3G-qo",
        "colab_type": "code",
        "colab": {},
        "outputId": "1e36e88c-075e-4922-f2de-9e0a4561f69a"
      },
      "cell_type": "code",
      "source": [
        "hier_data_frame1 = DataFrame(np.arange(12).reshape((3,4))\n",
        "                           ,index = [['c','d','d'],[1,2,1]]\n",
        "                           ,columns = [['Kyoto','Nagoya','Hokkaido','Kyoto']\n",
        "                                      ,['Yellow','Yellow','Red','Blue']]\n",
        "                           )\n",
        "\n",
        "hier_data_frame1.index.names =['key1','key2']\n",
        "hier_data_frame1.columns.names =['city','color']\n",
        "hier_data_frame1"
      ],
      "execution_count": 0,
      "outputs": [
        {
          "output_type": "execute_result",
          "data": {
            "text/html": [
              "<div>\n",
              "<style>\n",
              "    .dataframe thead tr:only-child th {\n",
              "        text-align: right;\n",
              "    }\n",
              "\n",
              "    .dataframe thead th {\n",
              "        text-align: left;\n",
              "    }\n",
              "\n",
              "    .dataframe tbody tr th {\n",
              "        vertical-align: top;\n",
              "    }\n",
              "</style>\n",
              "<table border=\"1\" class=\"dataframe\">\n",
              "  <thead>\n",
              "    <tr>\n",
              "      <th></th>\n",
              "      <th>city</th>\n",
              "      <th>Kyoto</th>\n",
              "      <th>Nagoya</th>\n",
              "      <th>Hokkaido</th>\n",
              "      <th>Kyoto</th>\n",
              "    </tr>\n",
              "    <tr>\n",
              "      <th></th>\n",
              "      <th>color</th>\n",
              "      <th>Yellow</th>\n",
              "      <th>Yellow</th>\n",
              "      <th>Red</th>\n",
              "      <th>Blue</th>\n",
              "    </tr>\n",
              "    <tr>\n",
              "      <th>key1</th>\n",
              "      <th>key2</th>\n",
              "      <th></th>\n",
              "      <th></th>\n",
              "      <th></th>\n",
              "      <th></th>\n",
              "    </tr>\n",
              "  </thead>\n",
              "  <tbody>\n",
              "    <tr>\n",
              "      <th>c</th>\n",
              "      <th>1</th>\n",
              "      <td>0</td>\n",
              "      <td>1</td>\n",
              "      <td>2</td>\n",
              "      <td>3</td>\n",
              "    </tr>\n",
              "    <tr>\n",
              "      <th rowspan=\"2\" valign=\"top\">d</th>\n",
              "      <th>2</th>\n",
              "      <td>4</td>\n",
              "      <td>5</td>\n",
              "      <td>6</td>\n",
              "      <td>7</td>\n",
              "    </tr>\n",
              "    <tr>\n",
              "      <th>1</th>\n",
              "      <td>8</td>\n",
              "      <td>9</td>\n",
              "      <td>10</td>\n",
              "      <td>11</td>\n",
              "    </tr>\n",
              "  </tbody>\n",
              "</table>\n",
              "</div>"
            ],
            "text/plain": [
              "city       Kyoto Nagoya Hokkaido Kyoto\n",
              "color     Yellow Yellow      Red  Blue\n",
              "key1 key2                             \n",
              "c    1         0      1        2     3\n",
              "d    2         4      5        6     7\n",
              "     1         8      9       10    11"
            ]
          },
          "metadata": {
            "tags": []
          },
          "execution_count": 8
        }
      ]
    },
    {
      "metadata": {
        "id": "zvHF_D7JG-qq",
        "colab_type": "text"
      },
      "cell_type": "markdown",
      "source": [
        "#### <練習問題 2>\n",
        "\n",
        "練習問題1のデータに対して、cityをまとめて列同士の平均値を出してください。"
      ]
    },
    {
      "metadata": {
        "id": "JLRu2aBPG-qr",
        "colab_type": "text"
      },
      "cell_type": "markdown",
      "source": [
        "#### <練習問題 3>\n",
        "\n",
        "練習問題1のデータに対して、key2ごとに行の合計値を算出してみましょう。\n"
      ]
    },
    {
      "metadata": {
        "id": "SJ03gbRqG-qr",
        "colab_type": "text"
      },
      "cell_type": "markdown",
      "source": [
        "### 6.1.2 データのマージ\n",
        "キーワード：内部結合、外部結合、横結合、縦結合"
      ]
    },
    {
      "metadata": {
        "id": "bAWnVRLEG-qs",
        "colab_type": "text"
      },
      "cell_type": "markdown",
      "source": [
        "データの結合については前の章で少し学びました。データを結合したいケースは多々あり、データをつなぐことで集計がしやすくなったり、新しい軸における値がわかったりするので、使えるようになりましょう。ただ、結合と言っても色々なパターンがあります。以下でそれらを紹介していきます。\n",
        "\n",
        "まずは、ここで学ぶマージの対象となるデータを準備します。後の章で学ぶデータベース（SQL）でも同じようなデータ操作（結合）を学びます。"
      ]
    },
    {
      "metadata": {
        "id": "CQx11rYmG-qs",
        "colab_type": "code",
        "colab": {},
        "outputId": "d8953685-1b4a-4591-fc52-c5f73d27e451"
      },
      "cell_type": "code",
      "source": [
        "# データ1の準備\n",
        "attri_data1 = {'ID':['100','101','102','103','104','106','108','110','111','113']\n",
        "        ,'city':['Tokyo','Osaka','Kyoto','Hokkaido','Tokyo','Tokyo','Osaka','Kyoto','Hokkaido','Tokyo']\n",
        "        ,'birth_year':[1990,1989,1992,1997,1982,1991,1988,1990,1995,1981]\n",
        "        ,'name':['Hiroshi','Akiko','Yuki','Satoru','Steeve','Mituru','Aoi','Tarou','Suguru','Mitsuo']}\n",
        "attri_data_frame1 = DataFrame(attri_data1)\n",
        "attri_data_frame_index1 = DataFrame(attri_data1,index=['e','b','a','d','c','f','g','h','j','i'])\n",
        "attri_data_frame_index1"
      ],
      "execution_count": 0,
      "outputs": [
        {
          "output_type": "execute_result",
          "data": {
            "text/html": [
              "<div>\n",
              "<style>\n",
              "    .dataframe thead tr:only-child th {\n",
              "        text-align: right;\n",
              "    }\n",
              "\n",
              "    .dataframe thead th {\n",
              "        text-align: left;\n",
              "    }\n",
              "\n",
              "    .dataframe tbody tr th {\n",
              "        vertical-align: top;\n",
              "    }\n",
              "</style>\n",
              "<table border=\"1\" class=\"dataframe\">\n",
              "  <thead>\n",
              "    <tr style=\"text-align: right;\">\n",
              "      <th></th>\n",
              "      <th>ID</th>\n",
              "      <th>birth_year</th>\n",
              "      <th>city</th>\n",
              "      <th>name</th>\n",
              "    </tr>\n",
              "  </thead>\n",
              "  <tbody>\n",
              "    <tr>\n",
              "      <th>e</th>\n",
              "      <td>100</td>\n",
              "      <td>1990</td>\n",
              "      <td>Tokyo</td>\n",
              "      <td>Hiroshi</td>\n",
              "    </tr>\n",
              "    <tr>\n",
              "      <th>b</th>\n",
              "      <td>101</td>\n",
              "      <td>1989</td>\n",
              "      <td>Osaka</td>\n",
              "      <td>Akiko</td>\n",
              "    </tr>\n",
              "    <tr>\n",
              "      <th>a</th>\n",
              "      <td>102</td>\n",
              "      <td>1992</td>\n",
              "      <td>Kyoto</td>\n",
              "      <td>Yuki</td>\n",
              "    </tr>\n",
              "    <tr>\n",
              "      <th>d</th>\n",
              "      <td>103</td>\n",
              "      <td>1997</td>\n",
              "      <td>Hokkaido</td>\n",
              "      <td>Satoru</td>\n",
              "    </tr>\n",
              "    <tr>\n",
              "      <th>c</th>\n",
              "      <td>104</td>\n",
              "      <td>1982</td>\n",
              "      <td>Tokyo</td>\n",
              "      <td>Steeve</td>\n",
              "    </tr>\n",
              "    <tr>\n",
              "      <th>f</th>\n",
              "      <td>106</td>\n",
              "      <td>1991</td>\n",
              "      <td>Tokyo</td>\n",
              "      <td>Mituru</td>\n",
              "    </tr>\n",
              "    <tr>\n",
              "      <th>g</th>\n",
              "      <td>108</td>\n",
              "      <td>1988</td>\n",
              "      <td>Osaka</td>\n",
              "      <td>Aoi</td>\n",
              "    </tr>\n",
              "    <tr>\n",
              "      <th>h</th>\n",
              "      <td>110</td>\n",
              "      <td>1990</td>\n",
              "      <td>Kyoto</td>\n",
              "      <td>Tarou</td>\n",
              "    </tr>\n",
              "    <tr>\n",
              "      <th>j</th>\n",
              "      <td>111</td>\n",
              "      <td>1995</td>\n",
              "      <td>Hokkaido</td>\n",
              "      <td>Suguru</td>\n",
              "    </tr>\n",
              "    <tr>\n",
              "      <th>i</th>\n",
              "      <td>113</td>\n",
              "      <td>1981</td>\n",
              "      <td>Tokyo</td>\n",
              "      <td>Mitsuo</td>\n",
              "    </tr>\n",
              "  </tbody>\n",
              "</table>\n",
              "</div>"
            ],
            "text/plain": [
              "    ID  birth_year      city     name\n",
              "e  100        1990     Tokyo  Hiroshi\n",
              "b  101        1989     Osaka    Akiko\n",
              "a  102        1992     Kyoto     Yuki\n",
              "d  103        1997  Hokkaido   Satoru\n",
              "c  104        1982     Tokyo   Steeve\n",
              "f  106        1991     Tokyo   Mituru\n",
              "g  108        1988     Osaka      Aoi\n",
              "h  110        1990     Kyoto    Tarou\n",
              "j  111        1995  Hokkaido   Suguru\n",
              "i  113        1981     Tokyo   Mitsuo"
            ]
          },
          "metadata": {
            "tags": []
          },
          "execution_count": 9
        }
      ]
    },
    {
      "metadata": {
        "id": "T7si66-pG-qw",
        "colab_type": "code",
        "colab": {},
        "outputId": "1fa4a815-1428-4957-c781-118eee17afca"
      },
      "cell_type": "code",
      "source": [
        "# データ2の準備\n",
        "attri_data2 = {'ID':['100','101','102','105','107']\n",
        "        ,'math':[50,43,33,76,98]\n",
        "        ,'English':[90,30,20,50,30]\n",
        "        ,'sex':['M','F','F','M','M']\n",
        "        ,'index_num':[0,1,2,3,4]}\n",
        "attri_data_frame2 = DataFrame(attri_data2)\n",
        "attri_data_frame2"
      ],
      "execution_count": 0,
      "outputs": [
        {
          "output_type": "execute_result",
          "data": {
            "text/html": [
              "<div>\n",
              "<style>\n",
              "    .dataframe thead tr:only-child th {\n",
              "        text-align: right;\n",
              "    }\n",
              "\n",
              "    .dataframe thead th {\n",
              "        text-align: left;\n",
              "    }\n",
              "\n",
              "    .dataframe tbody tr th {\n",
              "        vertical-align: top;\n",
              "    }\n",
              "</style>\n",
              "<table border=\"1\" class=\"dataframe\">\n",
              "  <thead>\n",
              "    <tr style=\"text-align: right;\">\n",
              "      <th></th>\n",
              "      <th>English</th>\n",
              "      <th>ID</th>\n",
              "      <th>index_num</th>\n",
              "      <th>math</th>\n",
              "      <th>sex</th>\n",
              "    </tr>\n",
              "  </thead>\n",
              "  <tbody>\n",
              "    <tr>\n",
              "      <th>0</th>\n",
              "      <td>90</td>\n",
              "      <td>100</td>\n",
              "      <td>0</td>\n",
              "      <td>50</td>\n",
              "      <td>M</td>\n",
              "    </tr>\n",
              "    <tr>\n",
              "      <th>1</th>\n",
              "      <td>30</td>\n",
              "      <td>101</td>\n",
              "      <td>1</td>\n",
              "      <td>43</td>\n",
              "      <td>F</td>\n",
              "    </tr>\n",
              "    <tr>\n",
              "      <th>2</th>\n",
              "      <td>20</td>\n",
              "      <td>102</td>\n",
              "      <td>2</td>\n",
              "      <td>33</td>\n",
              "      <td>F</td>\n",
              "    </tr>\n",
              "    <tr>\n",
              "      <th>3</th>\n",
              "      <td>50</td>\n",
              "      <td>105</td>\n",
              "      <td>3</td>\n",
              "      <td>76</td>\n",
              "      <td>M</td>\n",
              "    </tr>\n",
              "    <tr>\n",
              "      <th>4</th>\n",
              "      <td>30</td>\n",
              "      <td>107</td>\n",
              "      <td>4</td>\n",
              "      <td>98</td>\n",
              "      <td>M</td>\n",
              "    </tr>\n",
              "  </tbody>\n",
              "</table>\n",
              "</div>"
            ],
            "text/plain": [
              "   English   ID  index_num  math sex\n",
              "0       90  100          0    50   M\n",
              "1       30  101          1    43   F\n",
              "2       20  102          2    33   F\n",
              "3       50  105          3    76   M\n",
              "4       30  107          4    98   M"
            ]
          },
          "metadata": {
            "tags": []
          },
          "execution_count": 10
        }
      ]
    },
    {
      "metadata": {
        "id": "_IVPJcKWG-q0",
        "colab_type": "text"
      },
      "cell_type": "markdown",
      "source": [
        "次に、先ほどのデータ1と、このデータ2を結合するのですが、以下の4パターンが考えられます。左上図が内部結合といって両方にキーがある場合に結合します。右上図が全結合といい特にどちらかにキーがある場合に結合します。左下図が左外部結合といい左側にあるデータのキーがある時に結合され、右下図が右外部結合といい左結合の右バージョンになります。\n",
        "\n",
        "ここで使うのは主に内部結合と（左）外部結合なので、この2つは理解しておいてください。"
      ]
    },
    {
      "metadata": {
        "id": "F0cKi3fWG-q1",
        "colab_type": "text"
      },
      "cell_type": "markdown",
      "source": [
        "![comment](http://www.dofactory.com/Images/sql-joins.png)\n",
        "参照URL:http://www.dofactory.com/Images/sql-joins.png"
      ]
    },
    {
      "metadata": {
        "id": "00wImPPUG-q2",
        "colab_type": "text"
      },
      "cell_type": "markdown",
      "source": [
        "上記のデータ2つに対して、IDをキーとして結合すると、以下のようになります。onをキーとして設定します。"
      ]
    },
    {
      "metadata": {
        "id": "ePll5u1GG-q2",
        "colab_type": "code",
        "colab": {},
        "outputId": "c5daccae-868a-415f-e7b1-6fd5fab9f731"
      },
      "cell_type": "code",
      "source": [
        "# データのマージ（内部結合、inner　join が省略されてる、またキーは自動的に認識されるが、onで明示的に指定可能）\n",
        "# また複数キーも可能、リストで指定\n",
        "print(\"・結合テーブル\")\n",
        "pd.merge(attri_data_frame1,attri_data_frame2,on='ID')"
      ],
      "execution_count": 0,
      "outputs": [
        {
          "output_type": "stream",
          "text": [
            "・結合テーブル\n"
          ],
          "name": "stdout"
        },
        {
          "output_type": "execute_result",
          "data": {
            "text/html": [
              "<div>\n",
              "<style>\n",
              "    .dataframe thead tr:only-child th {\n",
              "        text-align: right;\n",
              "    }\n",
              "\n",
              "    .dataframe thead th {\n",
              "        text-align: left;\n",
              "    }\n",
              "\n",
              "    .dataframe tbody tr th {\n",
              "        vertical-align: top;\n",
              "    }\n",
              "</style>\n",
              "<table border=\"1\" class=\"dataframe\">\n",
              "  <thead>\n",
              "    <tr style=\"text-align: right;\">\n",
              "      <th></th>\n",
              "      <th>ID</th>\n",
              "      <th>birth_year</th>\n",
              "      <th>city</th>\n",
              "      <th>name</th>\n",
              "      <th>English</th>\n",
              "      <th>index_num</th>\n",
              "      <th>math</th>\n",
              "      <th>sex</th>\n",
              "    </tr>\n",
              "  </thead>\n",
              "  <tbody>\n",
              "    <tr>\n",
              "      <th>0</th>\n",
              "      <td>100</td>\n",
              "      <td>1990</td>\n",
              "      <td>Tokyo</td>\n",
              "      <td>Hiroshi</td>\n",
              "      <td>90</td>\n",
              "      <td>0</td>\n",
              "      <td>50</td>\n",
              "      <td>M</td>\n",
              "    </tr>\n",
              "    <tr>\n",
              "      <th>1</th>\n",
              "      <td>101</td>\n",
              "      <td>1989</td>\n",
              "      <td>Osaka</td>\n",
              "      <td>Akiko</td>\n",
              "      <td>30</td>\n",
              "      <td>1</td>\n",
              "      <td>43</td>\n",
              "      <td>F</td>\n",
              "    </tr>\n",
              "    <tr>\n",
              "      <th>2</th>\n",
              "      <td>102</td>\n",
              "      <td>1992</td>\n",
              "      <td>Kyoto</td>\n",
              "      <td>Yuki</td>\n",
              "      <td>20</td>\n",
              "      <td>2</td>\n",
              "      <td>33</td>\n",
              "      <td>F</td>\n",
              "    </tr>\n",
              "  </tbody>\n",
              "</table>\n",
              "</div>"
            ],
            "text/plain": [
              "    ID  birth_year   city     name  English  index_num  math sex\n",
              "0  100        1990  Tokyo  Hiroshi       90          0    50   M\n",
              "1  101        1989  Osaka    Akiko       30          1    43   F\n",
              "2  102        1992  Kyoto     Yuki       20          2    33   F"
            ]
          },
          "metadata": {
            "tags": []
          },
          "execution_count": 12
        }
      ]
    },
    {
      "metadata": {
        "id": "mbl9xqJMG-q5",
        "colab_type": "text"
      },
      "cell_type": "markdown",
      "source": [
        "両方ともキーがあるレコードだけ表示されました。"
      ]
    },
    {
      "metadata": {
        "id": "AsSBZoGkG-q5",
        "colab_type": "text"
      },
      "cell_type": "markdown",
      "source": [
        "次は、左側のテーブルに合わせて、データフレーム2のデータを結合しています。左側に対応するデータが右にない場合は、NaNになります。これが左外部結合です。"
      ]
    },
    {
      "metadata": {
        "id": "69NVYMLEG-q6",
        "colab_type": "code",
        "colab": {},
        "outputId": "81e0fa37-2f99-4f5e-95f2-a39ff46af44b"
      },
      "cell_type": "code",
      "source": [
        "# データのマージ（left）\n",
        "pd.merge(attri_data_frame1,attri_data_frame2,how='left')"
      ],
      "execution_count": 0,
      "outputs": [
        {
          "output_type": "execute_result",
          "data": {
            "text/html": [
              "<div>\n",
              "<style>\n",
              "    .dataframe thead tr:only-child th {\n",
              "        text-align: right;\n",
              "    }\n",
              "\n",
              "    .dataframe thead th {\n",
              "        text-align: left;\n",
              "    }\n",
              "\n",
              "    .dataframe tbody tr th {\n",
              "        vertical-align: top;\n",
              "    }\n",
              "</style>\n",
              "<table border=\"1\" class=\"dataframe\">\n",
              "  <thead>\n",
              "    <tr style=\"text-align: right;\">\n",
              "      <th></th>\n",
              "      <th>ID</th>\n",
              "      <th>birth_year</th>\n",
              "      <th>city</th>\n",
              "      <th>name</th>\n",
              "      <th>English</th>\n",
              "      <th>index_num</th>\n",
              "      <th>math</th>\n",
              "      <th>sex</th>\n",
              "    </tr>\n",
              "  </thead>\n",
              "  <tbody>\n",
              "    <tr>\n",
              "      <th>0</th>\n",
              "      <td>100</td>\n",
              "      <td>1990</td>\n",
              "      <td>Tokyo</td>\n",
              "      <td>Hiroshi</td>\n",
              "      <td>90.0</td>\n",
              "      <td>0.0</td>\n",
              "      <td>50.0</td>\n",
              "      <td>M</td>\n",
              "    </tr>\n",
              "    <tr>\n",
              "      <th>1</th>\n",
              "      <td>101</td>\n",
              "      <td>1989</td>\n",
              "      <td>Osaka</td>\n",
              "      <td>Akiko</td>\n",
              "      <td>30.0</td>\n",
              "      <td>1.0</td>\n",
              "      <td>43.0</td>\n",
              "      <td>F</td>\n",
              "    </tr>\n",
              "    <tr>\n",
              "      <th>2</th>\n",
              "      <td>102</td>\n",
              "      <td>1992</td>\n",
              "      <td>Kyoto</td>\n",
              "      <td>Yuki</td>\n",
              "      <td>20.0</td>\n",
              "      <td>2.0</td>\n",
              "      <td>33.0</td>\n",
              "      <td>F</td>\n",
              "    </tr>\n",
              "    <tr>\n",
              "      <th>3</th>\n",
              "      <td>103</td>\n",
              "      <td>1997</td>\n",
              "      <td>Hokkaido</td>\n",
              "      <td>Satoru</td>\n",
              "      <td>NaN</td>\n",
              "      <td>NaN</td>\n",
              "      <td>NaN</td>\n",
              "      <td>NaN</td>\n",
              "    </tr>\n",
              "    <tr>\n",
              "      <th>4</th>\n",
              "      <td>104</td>\n",
              "      <td>1982</td>\n",
              "      <td>Tokyo</td>\n",
              "      <td>Steeve</td>\n",
              "      <td>NaN</td>\n",
              "      <td>NaN</td>\n",
              "      <td>NaN</td>\n",
              "      <td>NaN</td>\n",
              "    </tr>\n",
              "    <tr>\n",
              "      <th>5</th>\n",
              "      <td>106</td>\n",
              "      <td>1991</td>\n",
              "      <td>Tokyo</td>\n",
              "      <td>Mituru</td>\n",
              "      <td>NaN</td>\n",
              "      <td>NaN</td>\n",
              "      <td>NaN</td>\n",
              "      <td>NaN</td>\n",
              "    </tr>\n",
              "    <tr>\n",
              "      <th>6</th>\n",
              "      <td>108</td>\n",
              "      <td>1988</td>\n",
              "      <td>Osaka</td>\n",
              "      <td>Aoi</td>\n",
              "      <td>NaN</td>\n",
              "      <td>NaN</td>\n",
              "      <td>NaN</td>\n",
              "      <td>NaN</td>\n",
              "    </tr>\n",
              "    <tr>\n",
              "      <th>7</th>\n",
              "      <td>110</td>\n",
              "      <td>1990</td>\n",
              "      <td>Kyoto</td>\n",
              "      <td>Tarou</td>\n",
              "      <td>NaN</td>\n",
              "      <td>NaN</td>\n",
              "      <td>NaN</td>\n",
              "      <td>NaN</td>\n",
              "    </tr>\n",
              "    <tr>\n",
              "      <th>8</th>\n",
              "      <td>111</td>\n",
              "      <td>1995</td>\n",
              "      <td>Hokkaido</td>\n",
              "      <td>Suguru</td>\n",
              "      <td>NaN</td>\n",
              "      <td>NaN</td>\n",
              "      <td>NaN</td>\n",
              "      <td>NaN</td>\n",
              "    </tr>\n",
              "    <tr>\n",
              "      <th>9</th>\n",
              "      <td>113</td>\n",
              "      <td>1981</td>\n",
              "      <td>Tokyo</td>\n",
              "      <td>Mitsuo</td>\n",
              "      <td>NaN</td>\n",
              "      <td>NaN</td>\n",
              "      <td>NaN</td>\n",
              "      <td>NaN</td>\n",
              "    </tr>\n",
              "  </tbody>\n",
              "</table>\n",
              "</div>"
            ],
            "text/plain": [
              "    ID  birth_year      city     name  English  index_num  math  sex\n",
              "0  100        1990     Tokyo  Hiroshi     90.0        0.0  50.0    M\n",
              "1  101        1989     Osaka    Akiko     30.0        1.0  43.0    F\n",
              "2  102        1992     Kyoto     Yuki     20.0        2.0  33.0    F\n",
              "3  103        1997  Hokkaido   Satoru      NaN        NaN   NaN  NaN\n",
              "4  104        1982     Tokyo   Steeve      NaN        NaN   NaN  NaN\n",
              "5  106        1991     Tokyo   Mituru      NaN        NaN   NaN  NaN\n",
              "6  108        1988     Osaka      Aoi      NaN        NaN   NaN  NaN\n",
              "7  110        1990     Kyoto    Tarou      NaN        NaN   NaN  NaN\n",
              "8  111        1995  Hokkaido   Suguru      NaN        NaN   NaN  NaN\n",
              "9  113        1981     Tokyo   Mitsuo      NaN        NaN   NaN  NaN"
            ]
          },
          "metadata": {
            "tags": []
          },
          "execution_count": 13
        }
      ]
    },
    {
      "metadata": {
        "id": "jSorMBKcG-q9",
        "colab_type": "text"
      },
      "cell_type": "markdown",
      "source": [
        "次は、どちらのデータにも存在するデータで結合しています。これが全結合です。値がない場合は、NaNになります。"
      ]
    },
    {
      "metadata": {
        "id": "Jp0V0TWKG-q9",
        "colab_type": "code",
        "colab": {},
        "outputId": "3637e658-9a8f-451b-ddac-7db5c341c746"
      },
      "cell_type": "code",
      "source": [
        "# データのマージ（outer）\n",
        "pd.merge(attri_data_frame1,attri_data_frame2,how='outer')"
      ],
      "execution_count": 0,
      "outputs": [
        {
          "output_type": "execute_result",
          "data": {
            "text/html": [
              "<div>\n",
              "<style>\n",
              "    .dataframe thead tr:only-child th {\n",
              "        text-align: right;\n",
              "    }\n",
              "\n",
              "    .dataframe thead th {\n",
              "        text-align: left;\n",
              "    }\n",
              "\n",
              "    .dataframe tbody tr th {\n",
              "        vertical-align: top;\n",
              "    }\n",
              "</style>\n",
              "<table border=\"1\" class=\"dataframe\">\n",
              "  <thead>\n",
              "    <tr style=\"text-align: right;\">\n",
              "      <th></th>\n",
              "      <th>ID</th>\n",
              "      <th>birth_year</th>\n",
              "      <th>city</th>\n",
              "      <th>name</th>\n",
              "      <th>English</th>\n",
              "      <th>index_num</th>\n",
              "      <th>math</th>\n",
              "      <th>sex</th>\n",
              "    </tr>\n",
              "  </thead>\n",
              "  <tbody>\n",
              "    <tr>\n",
              "      <th>0</th>\n",
              "      <td>100</td>\n",
              "      <td>1990.0</td>\n",
              "      <td>Tokyo</td>\n",
              "      <td>Hiroshi</td>\n",
              "      <td>90.0</td>\n",
              "      <td>0.0</td>\n",
              "      <td>50.0</td>\n",
              "      <td>M</td>\n",
              "    </tr>\n",
              "    <tr>\n",
              "      <th>1</th>\n",
              "      <td>101</td>\n",
              "      <td>1989.0</td>\n",
              "      <td>Osaka</td>\n",
              "      <td>Akiko</td>\n",
              "      <td>30.0</td>\n",
              "      <td>1.0</td>\n",
              "      <td>43.0</td>\n",
              "      <td>F</td>\n",
              "    </tr>\n",
              "    <tr>\n",
              "      <th>2</th>\n",
              "      <td>102</td>\n",
              "      <td>1992.0</td>\n",
              "      <td>Kyoto</td>\n",
              "      <td>Yuki</td>\n",
              "      <td>20.0</td>\n",
              "      <td>2.0</td>\n",
              "      <td>33.0</td>\n",
              "      <td>F</td>\n",
              "    </tr>\n",
              "    <tr>\n",
              "      <th>3</th>\n",
              "      <td>103</td>\n",
              "      <td>1997.0</td>\n",
              "      <td>Hokkaido</td>\n",
              "      <td>Satoru</td>\n",
              "      <td>NaN</td>\n",
              "      <td>NaN</td>\n",
              "      <td>NaN</td>\n",
              "      <td>NaN</td>\n",
              "    </tr>\n",
              "    <tr>\n",
              "      <th>4</th>\n",
              "      <td>104</td>\n",
              "      <td>1982.0</td>\n",
              "      <td>Tokyo</td>\n",
              "      <td>Steeve</td>\n",
              "      <td>NaN</td>\n",
              "      <td>NaN</td>\n",
              "      <td>NaN</td>\n",
              "      <td>NaN</td>\n",
              "    </tr>\n",
              "    <tr>\n",
              "      <th>5</th>\n",
              "      <td>106</td>\n",
              "      <td>1991.0</td>\n",
              "      <td>Tokyo</td>\n",
              "      <td>Mituru</td>\n",
              "      <td>NaN</td>\n",
              "      <td>NaN</td>\n",
              "      <td>NaN</td>\n",
              "      <td>NaN</td>\n",
              "    </tr>\n",
              "    <tr>\n",
              "      <th>6</th>\n",
              "      <td>108</td>\n",
              "      <td>1988.0</td>\n",
              "      <td>Osaka</td>\n",
              "      <td>Aoi</td>\n",
              "      <td>NaN</td>\n",
              "      <td>NaN</td>\n",
              "      <td>NaN</td>\n",
              "      <td>NaN</td>\n",
              "    </tr>\n",
              "    <tr>\n",
              "      <th>7</th>\n",
              "      <td>110</td>\n",
              "      <td>1990.0</td>\n",
              "      <td>Kyoto</td>\n",
              "      <td>Tarou</td>\n",
              "      <td>NaN</td>\n",
              "      <td>NaN</td>\n",
              "      <td>NaN</td>\n",
              "      <td>NaN</td>\n",
              "    </tr>\n",
              "    <tr>\n",
              "      <th>8</th>\n",
              "      <td>111</td>\n",
              "      <td>1995.0</td>\n",
              "      <td>Hokkaido</td>\n",
              "      <td>Suguru</td>\n",
              "      <td>NaN</td>\n",
              "      <td>NaN</td>\n",
              "      <td>NaN</td>\n",
              "      <td>NaN</td>\n",
              "    </tr>\n",
              "    <tr>\n",
              "      <th>9</th>\n",
              "      <td>113</td>\n",
              "      <td>1981.0</td>\n",
              "      <td>Tokyo</td>\n",
              "      <td>Mitsuo</td>\n",
              "      <td>NaN</td>\n",
              "      <td>NaN</td>\n",
              "      <td>NaN</td>\n",
              "      <td>NaN</td>\n",
              "    </tr>\n",
              "    <tr>\n",
              "      <th>10</th>\n",
              "      <td>105</td>\n",
              "      <td>NaN</td>\n",
              "      <td>NaN</td>\n",
              "      <td>NaN</td>\n",
              "      <td>50.0</td>\n",
              "      <td>3.0</td>\n",
              "      <td>76.0</td>\n",
              "      <td>M</td>\n",
              "    </tr>\n",
              "    <tr>\n",
              "      <th>11</th>\n",
              "      <td>107</td>\n",
              "      <td>NaN</td>\n",
              "      <td>NaN</td>\n",
              "      <td>NaN</td>\n",
              "      <td>30.0</td>\n",
              "      <td>4.0</td>\n",
              "      <td>98.0</td>\n",
              "      <td>M</td>\n",
              "    </tr>\n",
              "  </tbody>\n",
              "</table>\n",
              "</div>"
            ],
            "text/plain": [
              "     ID  birth_year      city     name  English  index_num  math  sex\n",
              "0   100      1990.0     Tokyo  Hiroshi     90.0        0.0  50.0    M\n",
              "1   101      1989.0     Osaka    Akiko     30.0        1.0  43.0    F\n",
              "2   102      1992.0     Kyoto     Yuki     20.0        2.0  33.0    F\n",
              "3   103      1997.0  Hokkaido   Satoru      NaN        NaN   NaN  NaN\n",
              "4   104      1982.0     Tokyo   Steeve      NaN        NaN   NaN  NaN\n",
              "5   106      1991.0     Tokyo   Mituru      NaN        NaN   NaN  NaN\n",
              "6   108      1988.0     Osaka      Aoi      NaN        NaN   NaN  NaN\n",
              "7   110      1990.0     Kyoto    Tarou      NaN        NaN   NaN  NaN\n",
              "8   111      1995.0  Hokkaido   Suguru      NaN        NaN   NaN  NaN\n",
              "9   113      1981.0     Tokyo   Mitsuo      NaN        NaN   NaN  NaN\n",
              "10  105         NaN       NaN      NaN     50.0        3.0  76.0    M\n",
              "11  107         NaN       NaN      NaN     30.0        4.0  98.0    M"
            ]
          },
          "metadata": {
            "tags": []
          },
          "execution_count": 14
        }
      ]
    },
    {
      "metadata": {
        "id": "zpKBZEO0G-rA",
        "colab_type": "text"
      },
      "cell_type": "markdown",
      "source": [
        "なお、キーをインデックスで指定して結合することも可能です。"
      ]
    },
    {
      "metadata": {
        "id": "rxxQghFkG-rB",
        "colab_type": "code",
        "colab": {},
        "outputId": "3bddd571-5000-4a72-9fef-bc1a9f5b047a"
      },
      "cell_type": "code",
      "source": [
        "# index によるマージ\n",
        "pd.merge(attri_data_frame1,attri_data_frame2,left_index=True,right_on='index_num')"
      ],
      "execution_count": 0,
      "outputs": [
        {
          "output_type": "execute_result",
          "data": {
            "text/html": [
              "<div>\n",
              "<style>\n",
              "    .dataframe thead tr:only-child th {\n",
              "        text-align: right;\n",
              "    }\n",
              "\n",
              "    .dataframe thead th {\n",
              "        text-align: left;\n",
              "    }\n",
              "\n",
              "    .dataframe tbody tr th {\n",
              "        vertical-align: top;\n",
              "    }\n",
              "</style>\n",
              "<table border=\"1\" class=\"dataframe\">\n",
              "  <thead>\n",
              "    <tr style=\"text-align: right;\">\n",
              "      <th></th>\n",
              "      <th>ID_x</th>\n",
              "      <th>birth_year</th>\n",
              "      <th>city</th>\n",
              "      <th>name</th>\n",
              "      <th>English</th>\n",
              "      <th>ID_y</th>\n",
              "      <th>index_num</th>\n",
              "      <th>math</th>\n",
              "      <th>sex</th>\n",
              "    </tr>\n",
              "  </thead>\n",
              "  <tbody>\n",
              "    <tr>\n",
              "      <th>0</th>\n",
              "      <td>100</td>\n",
              "      <td>1990</td>\n",
              "      <td>Tokyo</td>\n",
              "      <td>Hiroshi</td>\n",
              "      <td>90</td>\n",
              "      <td>100</td>\n",
              "      <td>0</td>\n",
              "      <td>50</td>\n",
              "      <td>M</td>\n",
              "    </tr>\n",
              "    <tr>\n",
              "      <th>1</th>\n",
              "      <td>101</td>\n",
              "      <td>1989</td>\n",
              "      <td>Osaka</td>\n",
              "      <td>Akiko</td>\n",
              "      <td>30</td>\n",
              "      <td>101</td>\n",
              "      <td>1</td>\n",
              "      <td>43</td>\n",
              "      <td>F</td>\n",
              "    </tr>\n",
              "    <tr>\n",
              "      <th>2</th>\n",
              "      <td>102</td>\n",
              "      <td>1992</td>\n",
              "      <td>Kyoto</td>\n",
              "      <td>Yuki</td>\n",
              "      <td>20</td>\n",
              "      <td>102</td>\n",
              "      <td>2</td>\n",
              "      <td>33</td>\n",
              "      <td>F</td>\n",
              "    </tr>\n",
              "    <tr>\n",
              "      <th>3</th>\n",
              "      <td>103</td>\n",
              "      <td>1997</td>\n",
              "      <td>Hokkaido</td>\n",
              "      <td>Satoru</td>\n",
              "      <td>50</td>\n",
              "      <td>105</td>\n",
              "      <td>3</td>\n",
              "      <td>76</td>\n",
              "      <td>M</td>\n",
              "    </tr>\n",
              "    <tr>\n",
              "      <th>4</th>\n",
              "      <td>104</td>\n",
              "      <td>1982</td>\n",
              "      <td>Tokyo</td>\n",
              "      <td>Steeve</td>\n",
              "      <td>30</td>\n",
              "      <td>107</td>\n",
              "      <td>4</td>\n",
              "      <td>98</td>\n",
              "      <td>M</td>\n",
              "    </tr>\n",
              "  </tbody>\n",
              "</table>\n",
              "</div>"
            ],
            "text/plain": [
              "  ID_x  birth_year      city     name  English ID_y  index_num  math sex\n",
              "0  100        1990     Tokyo  Hiroshi       90  100          0    50   M\n",
              "1  101        1989     Osaka    Akiko       30  101          1    43   F\n",
              "2  102        1992     Kyoto     Yuki       20  102          2    33   F\n",
              "3  103        1997  Hokkaido   Satoru       50  105          3    76   M\n",
              "4  104        1982     Tokyo   Steeve       30  107          4    98   M"
            ]
          },
          "metadata": {
            "tags": []
          },
          "execution_count": 15
        }
      ]
    },
    {
      "metadata": {
        "id": "MbC4umgTG-rE",
        "colab_type": "text"
      },
      "cell_type": "markdown",
      "source": [
        "次は、concatを使ってデータの縦結合をしています。これまでは、何らかのキーに紐付いてデータをマージしていましたが、次の処理ではそのまま縦に積み上げています。"
      ]
    },
    {
      "metadata": {
        "collapsed": true,
        "id": "1c4c_wAiG-rE",
        "colab_type": "code",
        "colab": {}
      },
      "cell_type": "code",
      "source": [
        "# データの準備\n",
        "attri_data3 = {'ID':['117','118','119','120','125']\n",
        "        ,'city':['Chiba','Kanagawa','Tokyo','Fukuoka','Okinawa']\n",
        "        ,'birth_year':[1990,1989,1992,1997,1982]\n",
        "        ,'name':['Suguru','Kouichi','Satochi','Yukie','Akari']}\n",
        "attri_data_frame3 = DataFrame(attri_data3)\n"
      ],
      "execution_count": 0,
      "outputs": []
    },
    {
      "metadata": {
        "id": "bFsPw7SYG-rG",
        "colab_type": "code",
        "colab": {},
        "outputId": "58f192df-3072-4e21-f5a2-9ca623022b82"
      },
      "cell_type": "code",
      "source": [
        "# concat 縦結合\n",
        "concat_data = pd.concat([attri_data_frame1,attri_data_frame3])\n",
        "# 注意：カラムがないとNaNになる\n",
        "concat_data"
      ],
      "execution_count": 0,
      "outputs": [
        {
          "output_type": "execute_result",
          "data": {
            "text/html": [
              "<div>\n",
              "<style>\n",
              "    .dataframe thead tr:only-child th {\n",
              "        text-align: right;\n",
              "    }\n",
              "\n",
              "    .dataframe thead th {\n",
              "        text-align: left;\n",
              "    }\n",
              "\n",
              "    .dataframe tbody tr th {\n",
              "        vertical-align: top;\n",
              "    }\n",
              "</style>\n",
              "<table border=\"1\" class=\"dataframe\">\n",
              "  <thead>\n",
              "    <tr style=\"text-align: right;\">\n",
              "      <th></th>\n",
              "      <th>ID</th>\n",
              "      <th>birth_year</th>\n",
              "      <th>city</th>\n",
              "      <th>name</th>\n",
              "    </tr>\n",
              "  </thead>\n",
              "  <tbody>\n",
              "    <tr>\n",
              "      <th>0</th>\n",
              "      <td>100</td>\n",
              "      <td>1990</td>\n",
              "      <td>Tokyo</td>\n",
              "      <td>Hiroshi</td>\n",
              "    </tr>\n",
              "    <tr>\n",
              "      <th>1</th>\n",
              "      <td>101</td>\n",
              "      <td>1989</td>\n",
              "      <td>Osaka</td>\n",
              "      <td>Akiko</td>\n",
              "    </tr>\n",
              "    <tr>\n",
              "      <th>2</th>\n",
              "      <td>102</td>\n",
              "      <td>1992</td>\n",
              "      <td>Kyoto</td>\n",
              "      <td>Yuki</td>\n",
              "    </tr>\n",
              "    <tr>\n",
              "      <th>3</th>\n",
              "      <td>103</td>\n",
              "      <td>1997</td>\n",
              "      <td>Hokkaido</td>\n",
              "      <td>Satoru</td>\n",
              "    </tr>\n",
              "    <tr>\n",
              "      <th>4</th>\n",
              "      <td>104</td>\n",
              "      <td>1982</td>\n",
              "      <td>Tokyo</td>\n",
              "      <td>Steeve</td>\n",
              "    </tr>\n",
              "    <tr>\n",
              "      <th>5</th>\n",
              "      <td>106</td>\n",
              "      <td>1991</td>\n",
              "      <td>Tokyo</td>\n",
              "      <td>Mituru</td>\n",
              "    </tr>\n",
              "    <tr>\n",
              "      <th>6</th>\n",
              "      <td>108</td>\n",
              "      <td>1988</td>\n",
              "      <td>Osaka</td>\n",
              "      <td>Aoi</td>\n",
              "    </tr>\n",
              "    <tr>\n",
              "      <th>7</th>\n",
              "      <td>110</td>\n",
              "      <td>1990</td>\n",
              "      <td>Kyoto</td>\n",
              "      <td>Tarou</td>\n",
              "    </tr>\n",
              "    <tr>\n",
              "      <th>8</th>\n",
              "      <td>111</td>\n",
              "      <td>1995</td>\n",
              "      <td>Hokkaido</td>\n",
              "      <td>Suguru</td>\n",
              "    </tr>\n",
              "    <tr>\n",
              "      <th>9</th>\n",
              "      <td>113</td>\n",
              "      <td>1981</td>\n",
              "      <td>Tokyo</td>\n",
              "      <td>Mitsuo</td>\n",
              "    </tr>\n",
              "    <tr>\n",
              "      <th>0</th>\n",
              "      <td>117</td>\n",
              "      <td>1990</td>\n",
              "      <td>Chiba</td>\n",
              "      <td>Suguru</td>\n",
              "    </tr>\n",
              "    <tr>\n",
              "      <th>1</th>\n",
              "      <td>118</td>\n",
              "      <td>1989</td>\n",
              "      <td>Kanagawa</td>\n",
              "      <td>Kouichi</td>\n",
              "    </tr>\n",
              "    <tr>\n",
              "      <th>2</th>\n",
              "      <td>119</td>\n",
              "      <td>1992</td>\n",
              "      <td>Tokyo</td>\n",
              "      <td>Satochi</td>\n",
              "    </tr>\n",
              "    <tr>\n",
              "      <th>3</th>\n",
              "      <td>120</td>\n",
              "      <td>1997</td>\n",
              "      <td>Fukuoka</td>\n",
              "      <td>Yukie</td>\n",
              "    </tr>\n",
              "    <tr>\n",
              "      <th>4</th>\n",
              "      <td>125</td>\n",
              "      <td>1982</td>\n",
              "      <td>Okinawa</td>\n",
              "      <td>Akari</td>\n",
              "    </tr>\n",
              "  </tbody>\n",
              "</table>\n",
              "</div>"
            ],
            "text/plain": [
              "    ID  birth_year      city     name\n",
              "0  100        1990     Tokyo  Hiroshi\n",
              "1  101        1989     Osaka    Akiko\n",
              "2  102        1992     Kyoto     Yuki\n",
              "3  103        1997  Hokkaido   Satoru\n",
              "4  104        1982     Tokyo   Steeve\n",
              "5  106        1991     Tokyo   Mituru\n",
              "6  108        1988     Osaka      Aoi\n",
              "7  110        1990     Kyoto    Tarou\n",
              "8  111        1995  Hokkaido   Suguru\n",
              "9  113        1981     Tokyo   Mitsuo\n",
              "0  117        1990     Chiba   Suguru\n",
              "1  118        1989  Kanagawa  Kouichi\n",
              "2  119        1992     Tokyo  Satochi\n",
              "3  120        1997   Fukuoka    Yukie\n",
              "4  125        1982   Okinawa    Akari"
            ]
          },
          "metadata": {
            "tags": []
          },
          "execution_count": 17
        }
      ]
    },
    {
      "metadata": {
        "id": "Pf_SXdHUG-rI",
        "colab_type": "text"
      },
      "cell_type": "markdown",
      "source": [
        "#### <練習問題 1>\n",
        "\n",
        "下記の2つのデータテーブルに対して、内部結合してみましょう。"
      ]
    },
    {
      "metadata": {
        "id": "9X0nghVWG-rI",
        "colab_type": "code",
        "colab": {},
        "outputId": "de4793c1-7425-48b2-cff0-b45d557817f2"
      },
      "cell_type": "code",
      "source": [
        "# データ4の準備\n",
        "attri_data4 = {'ID':['0','1','2','3','4','6','8','11','12','13']\n",
        "        ,'city':['Tokyo','Osaka','Kyoto','Hokkaido','Tokyo','Tokyo','Osaka','Kyoto','Hokkaido','Tokyo']\n",
        "        ,'birth_year':[1990,1989,1992,1997,1982,1991,1988,1990,1995,1981]\n",
        "        ,'name':['Hiroshi','Akiko','Yuki','Satoru','Steeve','Mituru','Aoi','Tarou','Suguru','Mitsuo']}\n",
        "attri_data_frame4 = DataFrame(attri_data4)\n",
        "attri_data_frame4"
      ],
      "execution_count": 0,
      "outputs": [
        {
          "output_type": "execute_result",
          "data": {
            "text/html": [
              "<div>\n",
              "<style>\n",
              "    .dataframe thead tr:only-child th {\n",
              "        text-align: right;\n",
              "    }\n",
              "\n",
              "    .dataframe thead th {\n",
              "        text-align: left;\n",
              "    }\n",
              "\n",
              "    .dataframe tbody tr th {\n",
              "        vertical-align: top;\n",
              "    }\n",
              "</style>\n",
              "<table border=\"1\" class=\"dataframe\">\n",
              "  <thead>\n",
              "    <tr style=\"text-align: right;\">\n",
              "      <th></th>\n",
              "      <th>ID</th>\n",
              "      <th>birth_year</th>\n",
              "      <th>city</th>\n",
              "      <th>name</th>\n",
              "    </tr>\n",
              "  </thead>\n",
              "  <tbody>\n",
              "    <tr>\n",
              "      <th>0</th>\n",
              "      <td>0</td>\n",
              "      <td>1990</td>\n",
              "      <td>Tokyo</td>\n",
              "      <td>Hiroshi</td>\n",
              "    </tr>\n",
              "    <tr>\n",
              "      <th>1</th>\n",
              "      <td>1</td>\n",
              "      <td>1989</td>\n",
              "      <td>Osaka</td>\n",
              "      <td>Akiko</td>\n",
              "    </tr>\n",
              "    <tr>\n",
              "      <th>2</th>\n",
              "      <td>2</td>\n",
              "      <td>1992</td>\n",
              "      <td>Kyoto</td>\n",
              "      <td>Yuki</td>\n",
              "    </tr>\n",
              "    <tr>\n",
              "      <th>3</th>\n",
              "      <td>3</td>\n",
              "      <td>1997</td>\n",
              "      <td>Hokkaido</td>\n",
              "      <td>Satoru</td>\n",
              "    </tr>\n",
              "    <tr>\n",
              "      <th>4</th>\n",
              "      <td>4</td>\n",
              "      <td>1982</td>\n",
              "      <td>Tokyo</td>\n",
              "      <td>Steeve</td>\n",
              "    </tr>\n",
              "    <tr>\n",
              "      <th>5</th>\n",
              "      <td>6</td>\n",
              "      <td>1991</td>\n",
              "      <td>Tokyo</td>\n",
              "      <td>Mituru</td>\n",
              "    </tr>\n",
              "    <tr>\n",
              "      <th>6</th>\n",
              "      <td>8</td>\n",
              "      <td>1988</td>\n",
              "      <td>Osaka</td>\n",
              "      <td>Aoi</td>\n",
              "    </tr>\n",
              "    <tr>\n",
              "      <th>7</th>\n",
              "      <td>11</td>\n",
              "      <td>1990</td>\n",
              "      <td>Kyoto</td>\n",
              "      <td>Tarou</td>\n",
              "    </tr>\n",
              "    <tr>\n",
              "      <th>8</th>\n",
              "      <td>12</td>\n",
              "      <td>1995</td>\n",
              "      <td>Hokkaido</td>\n",
              "      <td>Suguru</td>\n",
              "    </tr>\n",
              "    <tr>\n",
              "      <th>9</th>\n",
              "      <td>13</td>\n",
              "      <td>1981</td>\n",
              "      <td>Tokyo</td>\n",
              "      <td>Mitsuo</td>\n",
              "    </tr>\n",
              "  </tbody>\n",
              "</table>\n",
              "</div>"
            ],
            "text/plain": [
              "   ID  birth_year      city     name\n",
              "0   0        1990     Tokyo  Hiroshi\n",
              "1   1        1989     Osaka    Akiko\n",
              "2   2        1992     Kyoto     Yuki\n",
              "3   3        1997  Hokkaido   Satoru\n",
              "4   4        1982     Tokyo   Steeve\n",
              "5   6        1991     Tokyo   Mituru\n",
              "6   8        1988     Osaka      Aoi\n",
              "7  11        1990     Kyoto    Tarou\n",
              "8  12        1995  Hokkaido   Suguru\n",
              "9  13        1981     Tokyo   Mitsuo"
            ]
          },
          "metadata": {
            "tags": []
          },
          "execution_count": 18
        }
      ]
    },
    {
      "metadata": {
        "id": "t4Vx-lp_G-rL",
        "colab_type": "code",
        "colab": {},
        "outputId": "f41ba629-6ed0-4a49-b84f-8755733f4742"
      },
      "cell_type": "code",
      "source": [
        "# データ5の準備\n",
        "attri_data5 = {'ID':['0','1','3','6','8']\n",
        "        ,'math':[20,30,50,70,90]\n",
        "        ,'English':[30,50,50,70,20]\n",
        "        ,'sex':['M','F','F','M','M']\n",
        "        ,'index_num':[0,1,2,3,4]}\n",
        "attri_data_frame5 = DataFrame(attri_data5)\n",
        "attri_data_frame5"
      ],
      "execution_count": 0,
      "outputs": [
        {
          "output_type": "execute_result",
          "data": {
            "text/html": [
              "<div>\n",
              "<style>\n",
              "    .dataframe thead tr:only-child th {\n",
              "        text-align: right;\n",
              "    }\n",
              "\n",
              "    .dataframe thead th {\n",
              "        text-align: left;\n",
              "    }\n",
              "\n",
              "    .dataframe tbody tr th {\n",
              "        vertical-align: top;\n",
              "    }\n",
              "</style>\n",
              "<table border=\"1\" class=\"dataframe\">\n",
              "  <thead>\n",
              "    <tr style=\"text-align: right;\">\n",
              "      <th></th>\n",
              "      <th>English</th>\n",
              "      <th>ID</th>\n",
              "      <th>index_num</th>\n",
              "      <th>math</th>\n",
              "      <th>sex</th>\n",
              "    </tr>\n",
              "  </thead>\n",
              "  <tbody>\n",
              "    <tr>\n",
              "      <th>0</th>\n",
              "      <td>30</td>\n",
              "      <td>0</td>\n",
              "      <td>0</td>\n",
              "      <td>20</td>\n",
              "      <td>M</td>\n",
              "    </tr>\n",
              "    <tr>\n",
              "      <th>1</th>\n",
              "      <td>50</td>\n",
              "      <td>1</td>\n",
              "      <td>1</td>\n",
              "      <td>30</td>\n",
              "      <td>F</td>\n",
              "    </tr>\n",
              "    <tr>\n",
              "      <th>2</th>\n",
              "      <td>50</td>\n",
              "      <td>3</td>\n",
              "      <td>2</td>\n",
              "      <td>50</td>\n",
              "      <td>F</td>\n",
              "    </tr>\n",
              "    <tr>\n",
              "      <th>3</th>\n",
              "      <td>70</td>\n",
              "      <td>6</td>\n",
              "      <td>3</td>\n",
              "      <td>70</td>\n",
              "      <td>M</td>\n",
              "    </tr>\n",
              "    <tr>\n",
              "      <th>4</th>\n",
              "      <td>20</td>\n",
              "      <td>8</td>\n",
              "      <td>4</td>\n",
              "      <td>90</td>\n",
              "      <td>M</td>\n",
              "    </tr>\n",
              "  </tbody>\n",
              "</table>\n",
              "</div>"
            ],
            "text/plain": [
              "   English ID  index_num  math sex\n",
              "0       30  0          0    20   M\n",
              "1       50  1          1    30   F\n",
              "2       50  3          2    50   F\n",
              "3       70  6          3    70   M\n",
              "4       20  8          4    90   M"
            ]
          },
          "metadata": {
            "tags": []
          },
          "execution_count": 19
        }
      ]
    },
    {
      "metadata": {
        "id": "a9FUlQTYG-rN",
        "colab_type": "text"
      },
      "cell_type": "markdown",
      "source": [
        "#### <練習問題 2>\n",
        "\n",
        "attri_data_frame4をベースにattri_data_frame5のテーブルを外部結合してみましょう。"
      ]
    },
    {
      "metadata": {
        "id": "GF2Xo0R_G-rO",
        "colab_type": "text"
      },
      "cell_type": "markdown",
      "source": [
        "#### <練習問題 3>\n",
        "attri_data_frame4に対して、以下のデータを縦結合してみましょう。"
      ]
    },
    {
      "metadata": {
        "collapsed": true,
        "id": "-D3nZvpYG-rO",
        "colab_type": "code",
        "colab": {}
      },
      "cell_type": "code",
      "source": [
        "# データの準備\n",
        "attri_data6 = {'ID':['70','80','90','120','150']\n",
        "        ,'city':['Chiba','Kanagawa','Tokyo','Fukuoka','Okinawa']\n",
        "        ,'birth_year':[1980,1999,1995,1994,1994]\n",
        "        ,'name':['Suguru','Kouichi','Satochi','Yukie','Akari']}\n",
        "attri_data_frame6 = DataFrame(attri_data6)"
      ],
      "execution_count": 0,
      "outputs": []
    },
    {
      "metadata": {
        "id": "mF44BOSRG-rQ",
        "colab_type": "text"
      },
      "cell_type": "markdown",
      "source": [
        "### 6.1.3 データの操作と変換\n",
        "キーワード：データのピボット操作、重複データ、マッピング、ビン分割"
      ]
    },
    {
      "metadata": {
        "id": "jRwq7RnbG-rR",
        "colab_type": "text"
      },
      "cell_type": "markdown",
      "source": [
        "次は、データの操作と変換（ピボット操作、データの重複があった場合の処理、マッピング、ビン分割など）について扱っていきましょう。\n",
        "\n",
        "まずは、データのピボット操作について学びます。先ほどの階層テーブルhier_data_frameを使って、以下の処理でデータフレームの再構成ができます。stackで列にあったものが行にきます。"
      ]
    },
    {
      "metadata": {
        "id": "IbVALjTKG-rR",
        "colab_type": "code",
        "colab": {},
        "outputId": "6c1c1b2e-4734-4842-cbff-b8fd220264e1"
      },
      "cell_type": "code",
      "source": [
        "#　ピボット　列が行に \n",
        "hier_data_frame.stack()"
      ],
      "execution_count": 0,
      "outputs": [
        {
          "output_type": "execute_result",
          "data": {
            "text/html": [
              "<div>\n",
              "<style>\n",
              "    .dataframe thead tr:only-child th {\n",
              "        text-align: right;\n",
              "    }\n",
              "\n",
              "    .dataframe thead th {\n",
              "        text-align: left;\n",
              "    }\n",
              "\n",
              "    .dataframe tbody tr th {\n",
              "        vertical-align: top;\n",
              "    }\n",
              "</style>\n",
              "<table border=\"1\" class=\"dataframe\">\n",
              "  <thead>\n",
              "    <tr style=\"text-align: right;\">\n",
              "      <th></th>\n",
              "      <th></th>\n",
              "      <th>city</th>\n",
              "      <th>Osaka</th>\n",
              "      <th>Tokyo</th>\n",
              "    </tr>\n",
              "    <tr>\n",
              "      <th>key1</th>\n",
              "      <th>key2</th>\n",
              "      <th>color</th>\n",
              "      <th></th>\n",
              "      <th></th>\n",
              "    </tr>\n",
              "  </thead>\n",
              "  <tbody>\n",
              "    <tr>\n",
              "      <th rowspan=\"4\" valign=\"top\">a</th>\n",
              "      <th rowspan=\"2\" valign=\"top\">1</th>\n",
              "      <th>Blue</th>\n",
              "      <td>0</td>\n",
              "      <td>NaN</td>\n",
              "    </tr>\n",
              "    <tr>\n",
              "      <th>Red</th>\n",
              "      <td>2</td>\n",
              "      <td>1.0</td>\n",
              "    </tr>\n",
              "    <tr>\n",
              "      <th rowspan=\"2\" valign=\"top\">2</th>\n",
              "      <th>Blue</th>\n",
              "      <td>3</td>\n",
              "      <td>NaN</td>\n",
              "    </tr>\n",
              "    <tr>\n",
              "      <th>Red</th>\n",
              "      <td>5</td>\n",
              "      <td>4.0</td>\n",
              "    </tr>\n",
              "    <tr>\n",
              "      <th rowspan=\"2\" valign=\"top\">b</th>\n",
              "      <th rowspan=\"2\" valign=\"top\">2</th>\n",
              "      <th>Blue</th>\n",
              "      <td>6</td>\n",
              "      <td>NaN</td>\n",
              "    </tr>\n",
              "    <tr>\n",
              "      <th>Red</th>\n",
              "      <td>8</td>\n",
              "      <td>7.0</td>\n",
              "    </tr>\n",
              "  </tbody>\n",
              "</table>\n",
              "</div>"
            ],
            "text/plain": [
              "city             Osaka  Tokyo\n",
              "key1 key2 color              \n",
              "a    1    Blue       0    NaN\n",
              "          Red        2    1.0\n",
              "     2    Blue       3    NaN\n",
              "          Red        5    4.0\n",
              "b    2    Blue       6    NaN\n",
              "          Red        8    7.0"
            ]
          },
          "metadata": {
            "tags": []
          },
          "execution_count": 21
        }
      ]
    },
    {
      "metadata": {
        "id": "_8CGcVj2G-rT",
        "colab_type": "text"
      },
      "cell_type": "markdown",
      "source": [
        "一方、unstackを使うことで逆の操作が可能です。"
      ]
    },
    {
      "metadata": {
        "id": "y-Mo8QksG-rU",
        "colab_type": "code",
        "colab": {},
        "outputId": "b0db87e9-3906-47c8-f1ea-840ac7891524"
      },
      "cell_type": "code",
      "source": [
        "# 再配置\n",
        "hier_data_frame.stack().unstack()"
      ],
      "execution_count": 0,
      "outputs": [
        {
          "output_type": "execute_result",
          "data": {
            "text/html": [
              "<div>\n",
              "<style>\n",
              "    .dataframe thead tr:only-child th {\n",
              "        text-align: right;\n",
              "    }\n",
              "\n",
              "    .dataframe thead th {\n",
              "        text-align: left;\n",
              "    }\n",
              "\n",
              "    .dataframe tbody tr th {\n",
              "        vertical-align: top;\n",
              "    }\n",
              "</style>\n",
              "<table border=\"1\" class=\"dataframe\">\n",
              "  <thead>\n",
              "    <tr>\n",
              "      <th></th>\n",
              "      <th>city</th>\n",
              "      <th colspan=\"2\" halign=\"left\">Osaka</th>\n",
              "      <th colspan=\"2\" halign=\"left\">Tokyo</th>\n",
              "    </tr>\n",
              "    <tr>\n",
              "      <th></th>\n",
              "      <th>color</th>\n",
              "      <th>Blue</th>\n",
              "      <th>Red</th>\n",
              "      <th>Blue</th>\n",
              "      <th>Red</th>\n",
              "    </tr>\n",
              "    <tr>\n",
              "      <th>key1</th>\n",
              "      <th>key2</th>\n",
              "      <th></th>\n",
              "      <th></th>\n",
              "      <th></th>\n",
              "      <th></th>\n",
              "    </tr>\n",
              "  </thead>\n",
              "  <tbody>\n",
              "    <tr>\n",
              "      <th rowspan=\"2\" valign=\"top\">a</th>\n",
              "      <th>1</th>\n",
              "      <td>0</td>\n",
              "      <td>2</td>\n",
              "      <td>NaN</td>\n",
              "      <td>1.0</td>\n",
              "    </tr>\n",
              "    <tr>\n",
              "      <th>2</th>\n",
              "      <td>3</td>\n",
              "      <td>5</td>\n",
              "      <td>NaN</td>\n",
              "      <td>4.0</td>\n",
              "    </tr>\n",
              "    <tr>\n",
              "      <th>b</th>\n",
              "      <th>2</th>\n",
              "      <td>6</td>\n",
              "      <td>8</td>\n",
              "      <td>NaN</td>\n",
              "      <td>7.0</td>\n",
              "    </tr>\n",
              "  </tbody>\n",
              "</table>\n",
              "</div>"
            ],
            "text/plain": [
              "city      Osaka     Tokyo     \n",
              "color      Blue Red  Blue  Red\n",
              "key1 key2                     \n",
              "a    1        0   2   NaN  1.0\n",
              "     2        3   5   NaN  4.0\n",
              "b    2        6   8   NaN  7.0"
            ]
          },
          "metadata": {
            "tags": []
          },
          "execution_count": 22
        }
      ]
    },
    {
      "metadata": {
        "id": "m7X4_-FzG-rX",
        "colab_type": "text"
      },
      "cell_type": "markdown",
      "source": [
        "上記のデータ操作では、縦にあったものを横に持ってきたり、横にあったものを縦に持ってきたりしており、これらのテクニックは、データのモデリング前の処理として使うことも多く便利ですので、ぜひ理解して使えるようになってください。"
      ]
    },
    {
      "metadata": {
        "id": "SROwvOVcG-rX",
        "colab_type": "text"
      },
      "cell_type": "markdown",
      "source": [
        "次は、重複があるデータの処理です。データ分析をやっていると、データに重複があることもありますし、自分で実際に集計等していて重複が混じることもあり、そのチェックをするという意味で重要です。\n",
        "\n",
        "まず、重複するデータを準備しましょう。"
      ]
    },
    {
      "metadata": {
        "scrolled": true,
        "id": "nu7a6bK6G-rY",
        "colab_type": "code",
        "colab": {},
        "outputId": "629b5f29-a425-4303-cead-3687ea11cb7a"
      },
      "cell_type": "code",
      "source": [
        "#　重複データ\n",
        "dupli_data = DataFrame({'col1':[1,1,2,3,4,4,6,6]\n",
        "                       ,'col2':['a','b','b','b','c','c','b','b']})\n",
        "print(\"・元のデータ\")\n",
        "dupli_data"
      ],
      "execution_count": 0,
      "outputs": [
        {
          "output_type": "stream",
          "text": [
            "・元のデータ\n"
          ],
          "name": "stdout"
        },
        {
          "output_type": "execute_result",
          "data": {
            "text/html": [
              "<div>\n",
              "<style>\n",
              "    .dataframe thead tr:only-child th {\n",
              "        text-align: right;\n",
              "    }\n",
              "\n",
              "    .dataframe thead th {\n",
              "        text-align: left;\n",
              "    }\n",
              "\n",
              "    .dataframe tbody tr th {\n",
              "        vertical-align: top;\n",
              "    }\n",
              "</style>\n",
              "<table border=\"1\" class=\"dataframe\">\n",
              "  <thead>\n",
              "    <tr style=\"text-align: right;\">\n",
              "      <th></th>\n",
              "      <th>col1</th>\n",
              "      <th>col2</th>\n",
              "    </tr>\n",
              "  </thead>\n",
              "  <tbody>\n",
              "    <tr>\n",
              "      <th>0</th>\n",
              "      <td>1</td>\n",
              "      <td>a</td>\n",
              "    </tr>\n",
              "    <tr>\n",
              "      <th>1</th>\n",
              "      <td>1</td>\n",
              "      <td>b</td>\n",
              "    </tr>\n",
              "    <tr>\n",
              "      <th>2</th>\n",
              "      <td>2</td>\n",
              "      <td>b</td>\n",
              "    </tr>\n",
              "    <tr>\n",
              "      <th>3</th>\n",
              "      <td>3</td>\n",
              "      <td>b</td>\n",
              "    </tr>\n",
              "    <tr>\n",
              "      <th>4</th>\n",
              "      <td>4</td>\n",
              "      <td>c</td>\n",
              "    </tr>\n",
              "    <tr>\n",
              "      <th>5</th>\n",
              "      <td>4</td>\n",
              "      <td>c</td>\n",
              "    </tr>\n",
              "    <tr>\n",
              "      <th>6</th>\n",
              "      <td>6</td>\n",
              "      <td>b</td>\n",
              "    </tr>\n",
              "    <tr>\n",
              "      <th>7</th>\n",
              "      <td>6</td>\n",
              "      <td>b</td>\n",
              "    </tr>\n",
              "  </tbody>\n",
              "</table>\n",
              "</div>"
            ],
            "text/plain": [
              "   col1 col2\n",
              "0     1    a\n",
              "1     1    b\n",
              "2     2    b\n",
              "3     3    b\n",
              "4     4    c\n",
              "5     4    c\n",
              "6     6    b\n",
              "7     6    b"
            ]
          },
          "metadata": {
            "tags": []
          },
          "execution_count": 23
        }
      ]
    },
    {
      "metadata": {
        "id": "Y9RjP1WTG-rZ",
        "colab_type": "text"
      },
      "cell_type": "markdown",
      "source": [
        "重複の判定はdublicated()を使います。それぞれの行をみて、重複がある場合は、Trueと表示されます。"
      ]
    },
    {
      "metadata": {
        "id": "HVTlWDMAG-ra",
        "colab_type": "code",
        "colab": {},
        "outputId": "9e10a044-b73d-4ce7-d7de-4d957bdd6fbc"
      },
      "cell_type": "code",
      "source": [
        "#　重複判定\n",
        "print(\"・重複ありの行\")\n",
        "dupli_data.duplicated()"
      ],
      "execution_count": 0,
      "outputs": [
        {
          "output_type": "stream",
          "text": [
            "・重複ありの行\n"
          ],
          "name": "stdout"
        },
        {
          "output_type": "execute_result",
          "data": {
            "text/plain": [
              "0    False\n",
              "1    False\n",
              "2    False\n",
              "3    False\n",
              "4    False\n",
              "5     True\n",
              "6    False\n",
              "7     True\n",
              "dtype: bool"
            ]
          },
          "metadata": {
            "tags": []
          },
          "execution_count": 24
        }
      ]
    },
    {
      "metadata": {
        "id": "omkisOV9G-rc",
        "colab_type": "text"
      },
      "cell_type": "markdown",
      "source": [
        "drop_duplicates()で重複したデータを削除後のデータを表示します。"
      ]
    },
    {
      "metadata": {
        "id": "ak04cxhrG-rd",
        "colab_type": "code",
        "colab": {},
        "outputId": "ad856bca-b740-4a30-83f0-6d52b78b196c"
      },
      "cell_type": "code",
      "source": [
        "#　重複削除\n",
        "print(\"・重複削除後のデータ\")\n",
        "dupli_data.drop_duplicates()"
      ],
      "execution_count": 0,
      "outputs": [
        {
          "output_type": "stream",
          "text": [
            "・重複削除後のデータ\n"
          ],
          "name": "stdout"
        },
        {
          "output_type": "execute_result",
          "data": {
            "text/html": [
              "<div>\n",
              "<style>\n",
              "    .dataframe thead tr:only-child th {\n",
              "        text-align: right;\n",
              "    }\n",
              "\n",
              "    .dataframe thead th {\n",
              "        text-align: left;\n",
              "    }\n",
              "\n",
              "    .dataframe tbody tr th {\n",
              "        vertical-align: top;\n",
              "    }\n",
              "</style>\n",
              "<table border=\"1\" class=\"dataframe\">\n",
              "  <thead>\n",
              "    <tr style=\"text-align: right;\">\n",
              "      <th></th>\n",
              "      <th>col1</th>\n",
              "      <th>col2</th>\n",
              "    </tr>\n",
              "  </thead>\n",
              "  <tbody>\n",
              "    <tr>\n",
              "      <th>0</th>\n",
              "      <td>1</td>\n",
              "      <td>a</td>\n",
              "    </tr>\n",
              "    <tr>\n",
              "      <th>1</th>\n",
              "      <td>1</td>\n",
              "      <td>b</td>\n",
              "    </tr>\n",
              "    <tr>\n",
              "      <th>2</th>\n",
              "      <td>2</td>\n",
              "      <td>b</td>\n",
              "    </tr>\n",
              "    <tr>\n",
              "      <th>3</th>\n",
              "      <td>3</td>\n",
              "      <td>b</td>\n",
              "    </tr>\n",
              "    <tr>\n",
              "      <th>4</th>\n",
              "      <td>4</td>\n",
              "      <td>c</td>\n",
              "    </tr>\n",
              "    <tr>\n",
              "      <th>6</th>\n",
              "      <td>6</td>\n",
              "      <td>b</td>\n",
              "    </tr>\n",
              "  </tbody>\n",
              "</table>\n",
              "</div>"
            ],
            "text/plain": [
              "   col1 col2\n",
              "0     1    a\n",
              "1     1    b\n",
              "2     2    b\n",
              "3     3    b\n",
              "4     4    c\n",
              "6     6    b"
            ]
          },
          "metadata": {
            "tags": []
          },
          "execution_count": 25
        }
      ]
    },
    {
      "metadata": {
        "id": "Tv6C-VwfG-rf",
        "colab_type": "text"
      },
      "cell_type": "markdown",
      "source": [
        "次は、マッピング処理です。これは、Excelの関数のvlookupのような処理です。共通のキーとなるデータに対して、一方の（参照）テーブルからそのキーに対応するデータをもってきます。以下は、都道府県名と地域名を対応付けた参照データです。東京は関東、京都と大阪は関西、北海道は北海道と変換しましょう。"
      ]
    },
    {
      "metadata": {
        "id": "066nyMyuG-rf",
        "colab_type": "code",
        "colab": {},
        "outputId": "4c3185a6-7962-40ce-a4f7-2ce63c559d53"
      },
      "cell_type": "code",
      "source": [
        "# 参照データ\n",
        "city_map ={'Tokyo':'Kanto'\n",
        "          ,'Hokkaido':'Hokkaido'\n",
        "          ,'Osaka':'Kansai'\n",
        "          ,'Kyoto':'Kansai'}\n",
        "city_map"
      ],
      "execution_count": 0,
      "outputs": [
        {
          "output_type": "execute_result",
          "data": {
            "text/plain": [
              "{'Hokkaido': 'Hokkaido',\n",
              " 'Kyoto': 'Kansai',\n",
              " 'Osaka': 'Kansai',\n",
              " 'Tokyo': 'Kanto'}"
            ]
          },
          "metadata": {
            "tags": []
          },
          "execution_count": 26
        }
      ]
    },
    {
      "metadata": {
        "id": "-RMB6ioHG-rk",
        "colab_type": "text"
      },
      "cell_type": "markdown",
      "source": [
        "はじめに用意したattri_data_frame1のcityカラムをベースとして、上の参照データに対応する地域名データを持ってきて、新しいカラムを追加しています。"
      ]
    },
    {
      "metadata": {
        "id": "vGhtGkImG-rl",
        "colab_type": "code",
        "colab": {},
        "outputId": "bd7a9514-c9da-4c04-d69a-0557f5929a58"
      },
      "cell_type": "code",
      "source": [
        "#　参照データを結合\n",
        "# もし対応するデータがなかったら、NANになる。\n",
        "attri_data_frame1['region'] = attri_data_frame1['city'].map(city_map)\n",
        "attri_data_frame1"
      ],
      "execution_count": 0,
      "outputs": [
        {
          "output_type": "execute_result",
          "data": {
            "text/html": [
              "<div>\n",
              "<style>\n",
              "    .dataframe thead tr:only-child th {\n",
              "        text-align: right;\n",
              "    }\n",
              "\n",
              "    .dataframe thead th {\n",
              "        text-align: left;\n",
              "    }\n",
              "\n",
              "    .dataframe tbody tr th {\n",
              "        vertical-align: top;\n",
              "    }\n",
              "</style>\n",
              "<table border=\"1\" class=\"dataframe\">\n",
              "  <thead>\n",
              "    <tr style=\"text-align: right;\">\n",
              "      <th></th>\n",
              "      <th>ID</th>\n",
              "      <th>birth_year</th>\n",
              "      <th>city</th>\n",
              "      <th>name</th>\n",
              "      <th>region</th>\n",
              "    </tr>\n",
              "  </thead>\n",
              "  <tbody>\n",
              "    <tr>\n",
              "      <th>0</th>\n",
              "      <td>100</td>\n",
              "      <td>1990</td>\n",
              "      <td>Tokyo</td>\n",
              "      <td>Hiroshi</td>\n",
              "      <td>Kanto</td>\n",
              "    </tr>\n",
              "    <tr>\n",
              "      <th>1</th>\n",
              "      <td>101</td>\n",
              "      <td>1989</td>\n",
              "      <td>Osaka</td>\n",
              "      <td>Akiko</td>\n",
              "      <td>Kansai</td>\n",
              "    </tr>\n",
              "    <tr>\n",
              "      <th>2</th>\n",
              "      <td>102</td>\n",
              "      <td>1992</td>\n",
              "      <td>Kyoto</td>\n",
              "      <td>Yuki</td>\n",
              "      <td>Kansai</td>\n",
              "    </tr>\n",
              "    <tr>\n",
              "      <th>3</th>\n",
              "      <td>103</td>\n",
              "      <td>1997</td>\n",
              "      <td>Hokkaido</td>\n",
              "      <td>Satoru</td>\n",
              "      <td>Hokkaido</td>\n",
              "    </tr>\n",
              "    <tr>\n",
              "      <th>4</th>\n",
              "      <td>104</td>\n",
              "      <td>1982</td>\n",
              "      <td>Tokyo</td>\n",
              "      <td>Steeve</td>\n",
              "      <td>Kanto</td>\n",
              "    </tr>\n",
              "    <tr>\n",
              "      <th>5</th>\n",
              "      <td>106</td>\n",
              "      <td>1991</td>\n",
              "      <td>Tokyo</td>\n",
              "      <td>Mituru</td>\n",
              "      <td>Kanto</td>\n",
              "    </tr>\n",
              "    <tr>\n",
              "      <th>6</th>\n",
              "      <td>108</td>\n",
              "      <td>1988</td>\n",
              "      <td>Osaka</td>\n",
              "      <td>Aoi</td>\n",
              "      <td>Kansai</td>\n",
              "    </tr>\n",
              "    <tr>\n",
              "      <th>7</th>\n",
              "      <td>110</td>\n",
              "      <td>1990</td>\n",
              "      <td>Kyoto</td>\n",
              "      <td>Tarou</td>\n",
              "      <td>Kansai</td>\n",
              "    </tr>\n",
              "    <tr>\n",
              "      <th>8</th>\n",
              "      <td>111</td>\n",
              "      <td>1995</td>\n",
              "      <td>Hokkaido</td>\n",
              "      <td>Suguru</td>\n",
              "      <td>Hokkaido</td>\n",
              "    </tr>\n",
              "    <tr>\n",
              "      <th>9</th>\n",
              "      <td>113</td>\n",
              "      <td>1981</td>\n",
              "      <td>Tokyo</td>\n",
              "      <td>Mitsuo</td>\n",
              "      <td>Kanto</td>\n",
              "    </tr>\n",
              "  </tbody>\n",
              "</table>\n",
              "</div>"
            ],
            "text/plain": [
              "    ID  birth_year      city     name    region\n",
              "0  100        1990     Tokyo  Hiroshi     Kanto\n",
              "1  101        1989     Osaka    Akiko    Kansai\n",
              "2  102        1992     Kyoto     Yuki    Kansai\n",
              "3  103        1997  Hokkaido   Satoru  Hokkaido\n",
              "4  104        1982     Tokyo   Steeve     Kanto\n",
              "5  106        1991     Tokyo   Mituru     Kanto\n",
              "6  108        1988     Osaka      Aoi    Kansai\n",
              "7  110        1990     Kyoto    Tarou    Kansai\n",
              "8  111        1995  Hokkaido   Suguru  Hokkaido\n",
              "9  113        1981     Tokyo   Mitsuo     Kanto"
            ]
          },
          "metadata": {
            "tags": []
          },
          "execution_count": 27
        }
      ]
    },
    {
      "metadata": {
        "id": "FjeI_ceqG-rn",
        "colab_type": "text"
      },
      "cell_type": "markdown",
      "source": [
        "新しい変数regionをつけることで、この単位で集計が可能になります。"
      ]
    },
    {
      "metadata": {
        "id": "2qGwht_MG-rn",
        "colab_type": "text"
      },
      "cell_type": "markdown",
      "source": [
        "次は、Pythonの基礎で学んだ無名関数とmapを使って、カラムの中の一部のデータを取り出す処理をしています。具体的には、birth_yearの上3桁を取得します。関数適応やループなどを使って要素を1つ1つ取り出して処理するより断然早いので、まとめて処理したい場合は、このようなやり方を検討することをおすすめします。"
      ]
    },
    {
      "metadata": {
        "id": "1aGGkKvtG-rp",
        "colab_type": "code",
        "colab": {},
        "outputId": "82a6b72b-3293-470a-a83d-2530ed8da4d4"
      },
      "cell_type": "code",
      "source": [
        "#　birth_year の上3つの数字・文字を取り出す\n",
        "attri_data_frame1['up_two_num'] = attri_data_frame1['birth_year'].map(lambda x:str(x)[0:3])\n",
        "attri_data_frame1"
      ],
      "execution_count": 0,
      "outputs": [
        {
          "output_type": "execute_result",
          "data": {
            "text/html": [
              "<div>\n",
              "<style>\n",
              "    .dataframe thead tr:only-child th {\n",
              "        text-align: right;\n",
              "    }\n",
              "\n",
              "    .dataframe thead th {\n",
              "        text-align: left;\n",
              "    }\n",
              "\n",
              "    .dataframe tbody tr th {\n",
              "        vertical-align: top;\n",
              "    }\n",
              "</style>\n",
              "<table border=\"1\" class=\"dataframe\">\n",
              "  <thead>\n",
              "    <tr style=\"text-align: right;\">\n",
              "      <th></th>\n",
              "      <th>ID</th>\n",
              "      <th>birth_year</th>\n",
              "      <th>city</th>\n",
              "      <th>name</th>\n",
              "      <th>region</th>\n",
              "      <th>up_two_num</th>\n",
              "    </tr>\n",
              "  </thead>\n",
              "  <tbody>\n",
              "    <tr>\n",
              "      <th>0</th>\n",
              "      <td>100</td>\n",
              "      <td>1990</td>\n",
              "      <td>Tokyo</td>\n",
              "      <td>Hiroshi</td>\n",
              "      <td>Kanto</td>\n",
              "      <td>199</td>\n",
              "    </tr>\n",
              "    <tr>\n",
              "      <th>1</th>\n",
              "      <td>101</td>\n",
              "      <td>1989</td>\n",
              "      <td>Osaka</td>\n",
              "      <td>Akiko</td>\n",
              "      <td>Kansai</td>\n",
              "      <td>198</td>\n",
              "    </tr>\n",
              "    <tr>\n",
              "      <th>2</th>\n",
              "      <td>102</td>\n",
              "      <td>1992</td>\n",
              "      <td>Kyoto</td>\n",
              "      <td>Yuki</td>\n",
              "      <td>Kansai</td>\n",
              "      <td>199</td>\n",
              "    </tr>\n",
              "    <tr>\n",
              "      <th>3</th>\n",
              "      <td>103</td>\n",
              "      <td>1997</td>\n",
              "      <td>Hokkaido</td>\n",
              "      <td>Satoru</td>\n",
              "      <td>Hokkaido</td>\n",
              "      <td>199</td>\n",
              "    </tr>\n",
              "    <tr>\n",
              "      <th>4</th>\n",
              "      <td>104</td>\n",
              "      <td>1982</td>\n",
              "      <td>Tokyo</td>\n",
              "      <td>Steeve</td>\n",
              "      <td>Kanto</td>\n",
              "      <td>198</td>\n",
              "    </tr>\n",
              "    <tr>\n",
              "      <th>5</th>\n",
              "      <td>106</td>\n",
              "      <td>1991</td>\n",
              "      <td>Tokyo</td>\n",
              "      <td>Mituru</td>\n",
              "      <td>Kanto</td>\n",
              "      <td>199</td>\n",
              "    </tr>\n",
              "    <tr>\n",
              "      <th>6</th>\n",
              "      <td>108</td>\n",
              "      <td>1988</td>\n",
              "      <td>Osaka</td>\n",
              "      <td>Aoi</td>\n",
              "      <td>Kansai</td>\n",
              "      <td>198</td>\n",
              "    </tr>\n",
              "    <tr>\n",
              "      <th>7</th>\n",
              "      <td>110</td>\n",
              "      <td>1990</td>\n",
              "      <td>Kyoto</td>\n",
              "      <td>Tarou</td>\n",
              "      <td>Kansai</td>\n",
              "      <td>199</td>\n",
              "    </tr>\n",
              "    <tr>\n",
              "      <th>8</th>\n",
              "      <td>111</td>\n",
              "      <td>1995</td>\n",
              "      <td>Hokkaido</td>\n",
              "      <td>Suguru</td>\n",
              "      <td>Hokkaido</td>\n",
              "      <td>199</td>\n",
              "    </tr>\n",
              "    <tr>\n",
              "      <th>9</th>\n",
              "      <td>113</td>\n",
              "      <td>1981</td>\n",
              "      <td>Tokyo</td>\n",
              "      <td>Mitsuo</td>\n",
              "      <td>Kanto</td>\n",
              "      <td>198</td>\n",
              "    </tr>\n",
              "  </tbody>\n",
              "</table>\n",
              "</div>"
            ],
            "text/plain": [
              "    ID  birth_year      city     name    region up_two_num\n",
              "0  100        1990     Tokyo  Hiroshi     Kanto        199\n",
              "1  101        1989     Osaka    Akiko    Kansai        198\n",
              "2  102        1992     Kyoto     Yuki    Kansai        199\n",
              "3  103        1997  Hokkaido   Satoru  Hokkaido        199\n",
              "4  104        1982     Tokyo   Steeve     Kanto        198\n",
              "5  106        1991     Tokyo   Mituru     Kanto        199\n",
              "6  108        1988     Osaka      Aoi    Kansai        198\n",
              "7  110        1990     Kyoto    Tarou    Kansai        199\n",
              "8  111        1995  Hokkaido   Suguru  Hokkaido        199\n",
              "9  113        1981     Tokyo   Mitsuo     Kanto        198"
            ]
          },
          "metadata": {
            "tags": []
          },
          "execution_count": 28
        }
      ]
    },
    {
      "metadata": {
        "id": "6HIrO2NzG-rt",
        "colab_type": "text"
      },
      "cell_type": "markdown",
      "source": [
        "最後にビン分割です。これは、ある離散的な範囲にデータを分割して集計したい場合に、便利な機能です。具体的には、上のデータのbirth_yearに対して、5年区切りで集計をしたい場合や、ある特定の分割で計算をしたい場合に、以下のようにビン分割したリストを用意し、pandasのcut関数を使って、処理しています。"
      ]
    },
    {
      "metadata": {
        "scrolled": true,
        "id": "xMtCeSfPG-ru",
        "colab_type": "code",
        "colab": {},
        "outputId": "cc54f288-932d-45fb-d246-0d0f3c462816"
      },
      "cell_type": "code",
      "source": [
        "#　分割の粒度\n",
        "birth_year_bins = [1980,1985,1990,1995,2000]\n",
        "\n",
        "# ビン分割の実施\n",
        "birth_year_cut_data = pd.cut(attri_data_frame1.birth_year,birth_year_bins)\n",
        "birth_year_cut_data"
      ],
      "execution_count": 0,
      "outputs": [
        {
          "output_type": "execute_result",
          "data": {
            "text/plain": [
              "0    (1985, 1990]\n",
              "1    (1985, 1990]\n",
              "2    (1990, 1995]\n",
              "3    (1995, 2000]\n",
              "4    (1980, 1985]\n",
              "5    (1990, 1995]\n",
              "6    (1985, 1990]\n",
              "7    (1985, 1990]\n",
              "8    (1990, 1995]\n",
              "9    (1980, 1985]\n",
              "Name: birth_year, dtype: category\n",
              "Categories (4, interval[int64]): [(1980, 1985] < (1985, 1990] < (1990, 1995] < (1995, 2000]]"
            ]
          },
          "metadata": {
            "tags": []
          },
          "execution_count": 29
        }
      ]
    },
    {
      "metadata": {
        "id": "i67nrpAfG-rz",
        "colab_type": "text"
      },
      "cell_type": "markdown",
      "source": [
        "上記の結果を使いそれぞれの数を集計したい場合は、value_countsを使います。"
      ]
    },
    {
      "metadata": {
        "id": "lh0PyRu_G-r0",
        "colab_type": "code",
        "colab": {},
        "outputId": "99545884-47a4-46db-85d8-0e2480809809"
      },
      "cell_type": "code",
      "source": [
        "# 集計結果\n",
        "pd.value_counts(birth_year_cut_data)"
      ],
      "execution_count": 0,
      "outputs": [
        {
          "output_type": "execute_result",
          "data": {
            "text/plain": [
              "(1985, 1990]    4\n",
              "(1990, 1995]    3\n",
              "(1980, 1985]    2\n",
              "(1995, 2000]    1\n",
              "Name: birth_year, dtype: int64"
            ]
          },
          "metadata": {
            "tags": []
          },
          "execution_count": 30
        }
      ]
    },
    {
      "metadata": {
        "id": "7txvmquTG-r2",
        "colab_type": "text"
      },
      "cell_type": "markdown",
      "source": [
        "それぞれのビンに名前をつけることも可能です。"
      ]
    },
    {
      "metadata": {
        "id": "4i66u7phG-r2",
        "colab_type": "code",
        "colab": {},
        "outputId": "55e1ff0f-3ed5-43ba-8622-4bc23527fdcc"
      },
      "cell_type": "code",
      "source": [
        "# 名前付き\n",
        "group_names = [\"first1980\",\"second1980\",\"first1990\",\"second1990\"]\n",
        "birth_year_cut_data = pd.cut(attri_data_frame1.birth_year,birth_year_bins,labels = group_names)\n",
        "pd.value_counts(birth_year_cut_data)"
      ],
      "execution_count": 0,
      "outputs": [
        {
          "output_type": "execute_result",
          "data": {
            "text/plain": [
              "second1980    4\n",
              "first1990     3\n",
              "first1980     2\n",
              "second1990    1\n",
              "Name: birth_year, dtype: int64"
            ]
          },
          "metadata": {
            "tags": []
          },
          "execution_count": 31
        }
      ]
    },
    {
      "metadata": {
        "id": "F0w945vNG-r5",
        "colab_type": "text"
      },
      "cell_type": "markdown",
      "source": [
        "上記では、ビン分割のリストを用意しましたが、あらかじめ分割数を指定したい場合は、以下のように設定可能です。"
      ]
    },
    {
      "metadata": {
        "id": "pVnV3xNBG-r6",
        "colab_type": "code",
        "colab": {},
        "outputId": "7238be50-8c87-401a-c6e5-ebb79ed58f23"
      },
      "cell_type": "code",
      "source": [
        "# 数字で分割数指定可能。\n",
        "# ここでは2つに分割\n",
        "pd.cut(attri_data_frame1.birth_year,2)"
      ],
      "execution_count": 0,
      "outputs": [
        {
          "output_type": "execute_result",
          "data": {
            "text/plain": [
              "0      (1989.0, 1997.0]\n",
              "1    (1980.984, 1989.0]\n",
              "2      (1989.0, 1997.0]\n",
              "3      (1989.0, 1997.0]\n",
              "4    (1980.984, 1989.0]\n",
              "5      (1989.0, 1997.0]\n",
              "6    (1980.984, 1989.0]\n",
              "7      (1989.0, 1997.0]\n",
              "8      (1989.0, 1997.0]\n",
              "9    (1980.984, 1989.0]\n",
              "Name: birth_year, dtype: category\n",
              "Categories (2, interval[float64]): [(1980.984, 1989.0] < (1989.0, 1997.0]]"
            ]
          },
          "metadata": {
            "tags": []
          },
          "execution_count": 32
        }
      ]
    },
    {
      "metadata": {
        "id": "DuiWUFaFG-r8",
        "colab_type": "text"
      },
      "cell_type": "markdown",
      "source": [
        "分位点での分割も可能で、qcutを使います。これを使うことで、ほぼ同じサイズのビンを作成することができます。"
      ]
    },
    {
      "metadata": {
        "id": "VlPFuPNPG-r9",
        "colab_type": "code",
        "colab": {},
        "outputId": "28aff4b8-b4dc-417b-a7f2-2b2c16209a6e"
      },
      "cell_type": "code",
      "source": [
        "pd.value_counts(pd.qcut(attri_data_frame1.birth_year,2))"
      ],
      "execution_count": 0,
      "outputs": [
        {
          "output_type": "execute_result",
          "data": {
            "text/plain": [
              "(1980.999, 1990.0]    6\n",
              "(1990.0, 1997.0]      4\n",
              "Name: birth_year, dtype: int64"
            ]
          },
          "metadata": {
            "tags": []
          },
          "execution_count": 33
        }
      ]
    },
    {
      "metadata": {
        "id": "iE55V8mcG-sC",
        "colab_type": "text"
      },
      "cell_type": "markdown",
      "source": [
        "このビン分割は、具体的には、顧客の購買金額合計を分けて分析をしたい場合など、マーケティング分析にも使えます。詳しいことは、総合問題演習で扱っていくことにしましょう。"
      ]
    },
    {
      "metadata": {
        "id": "wrbENl0cG-sC",
        "colab_type": "text"
      },
      "cell_type": "markdown",
      "source": [
        "#### <練習問題 1>\n",
        "\n",
        "以前の章で使用した「student-mat.csv」のデータを使います。ageを2倍にしたカラムを追加してみましょう。"
      ]
    },
    {
      "metadata": {
        "collapsed": true,
        "id": "4Fg5pRjzG-sC",
        "colab_type": "code",
        "colab": {}
      },
      "cell_type": "code",
      "source": [
        "# chapter1で用意したデータがあるpathに移動して、以下を実行してください。例） cd pathの名前\n",
        "student_data_math = pd.read_csv(\"student-mat.csv\",sep=\";\")"
      ],
      "execution_count": 0,
      "outputs": []
    },
    {
      "metadata": {
        "id": "HuE9A8eTG-sE",
        "colab_type": "text"
      },
      "cell_type": "markdown",
      "source": [
        "#### <練習問題 2>\n",
        "\n",
        "上記と同じデータで、「absences」のカラムについて、以下の3つのビンに分けてそれぞれの人数を数えてみましょう。なお、cutのオプション設定で、デフォルトは右側が閉区間になっていますが、今回は0が入るためのright=Falseを追加してください。"
      ]
    },
    {
      "metadata": {
        "collapsed": true,
        "id": "ou8MOZ87G-sF",
        "colab_type": "code",
        "colab": {}
      },
      "cell_type": "code",
      "source": [
        "#　分割の粒度\n",
        "absences_bins = [0,1,5,100]"
      ],
      "execution_count": 0,
      "outputs": []
    },
    {
      "metadata": {
        "id": "Bdos7WxzG-sH",
        "colab_type": "text"
      },
      "cell_type": "markdown",
      "source": [
        "#### <練習問題 3>\n",
        "\n",
        "上記と同じデータで、「absences」のカラムについて、qcutを用いて3つのビンに分けてみましょう。"
      ]
    },
    {
      "metadata": {
        "id": "TtURmIWoG-sH",
        "colab_type": "text"
      },
      "cell_type": "markdown",
      "source": [
        "### 6.1.4 データの集約とグループ演算\n",
        "キーワード：group by"
      ]
    },
    {
      "metadata": {
        "id": "RfbDo-jbG-sI",
        "colab_type": "text"
      },
      "cell_type": "markdown",
      "source": [
        "ここでは、あるカラムを軸にして、集計する処理を学びます。以前の章で少し扱いましたが、group byを使うことで、ある変数を軸として、その単位で集計処理をします。以下は、cityをベースにそれぞれの数量を計算しています、"
      ]
    },
    {
      "metadata": {
        "id": "j-ZqIUubG-sI",
        "colab_type": "code",
        "colab": {},
        "outputId": "92757b47-b931-4b84-a98e-8c5ce870a640"
      },
      "cell_type": "code",
      "source": [
        "# サイズ情報\n",
        "attri_data_frame1.groupby(\"city\").size()"
      ],
      "execution_count": 0,
      "outputs": [
        {
          "output_type": "execute_result",
          "data": {
            "text/plain": [
              "city\n",
              "Hokkaido    2\n",
              "Kyoto       2\n",
              "Osaka       2\n",
              "Tokyo       4\n",
              "dtype: int64"
            ]
          },
          "metadata": {
            "tags": []
          },
          "execution_count": 36
        }
      ]
    },
    {
      "metadata": {
        "id": "ZiJNYHULG-sL",
        "colab_type": "text"
      },
      "cell_type": "markdown",
      "source": [
        "次は、cityを軸に、birth_yearの平均値を算出しています。"
      ]
    },
    {
      "metadata": {
        "id": "WW48vcElG-sL",
        "colab_type": "code",
        "colab": {},
        "outputId": "e6a0ee58-c5ce-4c1e-851e-55b93da7e076"
      },
      "cell_type": "code",
      "source": [
        "# Cityを軸に、birth_yearの平均値を求める\n",
        "attri_data_frame1.groupby(\"city\")[\"birth_year\"].mean()"
      ],
      "execution_count": 0,
      "outputs": [
        {
          "output_type": "execute_result",
          "data": {
            "text/plain": [
              "city\n",
              "Hokkaido    1996.0\n",
              "Kyoto       1991.0\n",
              "Osaka       1988.5\n",
              "Tokyo       1986.0\n",
              "Name: birth_year, dtype: float64"
            ]
          },
          "metadata": {
            "tags": []
          },
          "execution_count": 37
        }
      ]
    },
    {
      "metadata": {
        "id": "FRu_e7TfG-sO",
        "colab_type": "text"
      },
      "cell_type": "markdown",
      "source": [
        "軸は複数でも設定可能で、次は、region, Cityを2軸に、birth_yearの平均値を求めています。"
      ]
    },
    {
      "metadata": {
        "id": "ODBR9zVtG-sP",
        "colab_type": "code",
        "colab": {},
        "outputId": "7f37c53a-2741-4b8e-d625-3b3f3d085855"
      },
      "cell_type": "code",
      "source": [
        "attri_data_frame1.groupby([\"region\",\"city\"])[\"birth_year\"].mean()"
      ],
      "execution_count": 0,
      "outputs": [
        {
          "output_type": "execute_result",
          "data": {
            "text/plain": [
              "region    city    \n",
              "Hokkaido  Hokkaido    1996.0\n",
              "Kansai    Kyoto       1991.0\n",
              "          Osaka       1988.5\n",
              "Kanto     Tokyo       1986.0\n",
              "Name: birth_year, dtype: float64"
            ]
          },
          "metadata": {
            "tags": []
          },
          "execution_count": 38
        }
      ]
    },
    {
      "metadata": {
        "id": "7s1pxvGQG-sR",
        "colab_type": "text"
      },
      "cell_type": "markdown",
      "source": [
        "as_index=Falseにすることで、インデックスを設定しません。そのままテーブルとして扱いたいときに便利です。"
      ]
    },
    {
      "metadata": {
        "id": "yXB0pA02G-sR",
        "colab_type": "code",
        "colab": {},
        "outputId": "e6a73723-db84-4e77-c0b2-a0398131f178"
      },
      "cell_type": "code",
      "source": [
        "attri_data_frame1.groupby([\"region\",\"city\"],as_index=False)[\"birth_year\"].mean()"
      ],
      "execution_count": 0,
      "outputs": [
        {
          "output_type": "execute_result",
          "data": {
            "text/html": [
              "<div>\n",
              "<style>\n",
              "    .dataframe thead tr:only-child th {\n",
              "        text-align: right;\n",
              "    }\n",
              "\n",
              "    .dataframe thead th {\n",
              "        text-align: left;\n",
              "    }\n",
              "\n",
              "    .dataframe tbody tr th {\n",
              "        vertical-align: top;\n",
              "    }\n",
              "</style>\n",
              "<table border=\"1\" class=\"dataframe\">\n",
              "  <thead>\n",
              "    <tr style=\"text-align: right;\">\n",
              "      <th></th>\n",
              "      <th>region</th>\n",
              "      <th>city</th>\n",
              "      <th>birth_year</th>\n",
              "    </tr>\n",
              "  </thead>\n",
              "  <tbody>\n",
              "    <tr>\n",
              "      <th>0</th>\n",
              "      <td>Hokkaido</td>\n",
              "      <td>Hokkaido</td>\n",
              "      <td>1996.0</td>\n",
              "    </tr>\n",
              "    <tr>\n",
              "      <th>1</th>\n",
              "      <td>Kansai</td>\n",
              "      <td>Kyoto</td>\n",
              "      <td>1991.0</td>\n",
              "    </tr>\n",
              "    <tr>\n",
              "      <th>2</th>\n",
              "      <td>Kansai</td>\n",
              "      <td>Osaka</td>\n",
              "      <td>1988.5</td>\n",
              "    </tr>\n",
              "    <tr>\n",
              "      <th>3</th>\n",
              "      <td>Kanto</td>\n",
              "      <td>Tokyo</td>\n",
              "      <td>1986.0</td>\n",
              "    </tr>\n",
              "  </tbody>\n",
              "</table>\n",
              "</div>"
            ],
            "text/plain": [
              "     region      city  birth_year\n",
              "0  Hokkaido  Hokkaido      1996.0\n",
              "1    Kansai     Kyoto      1991.0\n",
              "2    Kansai     Osaka      1988.5\n",
              "3     Kanto     Tokyo      1986.0"
            ]
          },
          "metadata": {
            "tags": []
          },
          "execution_count": 39
        }
      ]
    },
    {
      "metadata": {
        "id": "fUcONoDkG-sU",
        "colab_type": "text"
      },
      "cell_type": "markdown",
      "source": [
        "最後に複数の異なる値を算出したい場合に、aggを使うと便利です。aggの引数には、関数名のリストを設定しています。以下は、カウント、平均、最大、最小を計算しています。"
      ]
    },
    {
      "metadata": {
        "id": "bS0ANoH0G-sU",
        "colab_type": "code",
        "colab": {},
        "outputId": "09570cac-acb6-4216-d621-871120e7d728"
      },
      "cell_type": "code",
      "source": [
        "# 列に複数の関数を適応\n",
        "functions = ['count','mean','max','min']\n",
        "grouped_student_math_data1 = student_data_math.groupby(['sex','address'])\n",
        "grouped_student_math_data1['age','G1'].agg(functions)"
      ],
      "execution_count": 0,
      "outputs": [
        {
          "output_type": "execute_result",
          "data": {
            "text/html": [
              "<div>\n",
              "<table border=\"1\" class=\"dataframe\">\n",
              "  <thead>\n",
              "    <tr>\n",
              "      <th></th>\n",
              "      <th></th>\n",
              "      <th colspan=\"4\" halign=\"left\">age</th>\n",
              "      <th colspan=\"4\" halign=\"left\">G1</th>\n",
              "    </tr>\n",
              "    <tr>\n",
              "      <th></th>\n",
              "      <th></th>\n",
              "      <th>count</th>\n",
              "      <th>mean</th>\n",
              "      <th>max</th>\n",
              "      <th>min</th>\n",
              "      <th>count</th>\n",
              "      <th>mean</th>\n",
              "      <th>max</th>\n",
              "      <th>min</th>\n",
              "    </tr>\n",
              "    <tr>\n",
              "      <th>sex</th>\n",
              "      <th>address</th>\n",
              "      <th></th>\n",
              "      <th></th>\n",
              "      <th></th>\n",
              "      <th></th>\n",
              "      <th></th>\n",
              "      <th></th>\n",
              "      <th></th>\n",
              "      <th></th>\n",
              "    </tr>\n",
              "  </thead>\n",
              "  <tbody>\n",
              "    <tr>\n",
              "      <th rowspan=\"2\" valign=\"top\">F</th>\n",
              "      <th>R</th>\n",
              "      <td>44</td>\n",
              "      <td>16.977273</td>\n",
              "      <td>19</td>\n",
              "      <td>15</td>\n",
              "      <td>44</td>\n",
              "      <td>10.295455</td>\n",
              "      <td>19</td>\n",
              "      <td>6</td>\n",
              "    </tr>\n",
              "    <tr>\n",
              "      <th>U</th>\n",
              "      <td>164</td>\n",
              "      <td>16.664634</td>\n",
              "      <td>20</td>\n",
              "      <td>15</td>\n",
              "      <td>164</td>\n",
              "      <td>10.707317</td>\n",
              "      <td>18</td>\n",
              "      <td>4</td>\n",
              "    </tr>\n",
              "    <tr>\n",
              "      <th rowspan=\"2\" valign=\"top\">M</th>\n",
              "      <th>R</th>\n",
              "      <td>44</td>\n",
              "      <td>17.113636</td>\n",
              "      <td>21</td>\n",
              "      <td>15</td>\n",
              "      <td>44</td>\n",
              "      <td>10.659091</td>\n",
              "      <td>18</td>\n",
              "      <td>3</td>\n",
              "    </tr>\n",
              "    <tr>\n",
              "      <th>U</th>\n",
              "      <td>143</td>\n",
              "      <td>16.517483</td>\n",
              "      <td>22</td>\n",
              "      <td>15</td>\n",
              "      <td>143</td>\n",
              "      <td>11.405594</td>\n",
              "      <td>19</td>\n",
              "      <td>5</td>\n",
              "    </tr>\n",
              "  </tbody>\n",
              "</table>\n",
              "</div>"
            ],
            "text/plain": [
              "              age                       G1                   \n",
              "            count       mean max min count       mean max min\n",
              "sex address                                                  \n",
              "F   R          44  16.977273  19  15    44  10.295455  19   6\n",
              "    U         164  16.664634  20  15   164  10.707317  18   4\n",
              "M   R          44  17.113636  21  15    44  10.659091  18   3\n",
              "    U         143  16.517483  22  15   143  11.405594  19   5"
            ]
          },
          "metadata": {
            "tags": []
          },
          "execution_count": 139
        }
      ]
    },
    {
      "metadata": {
        "id": "EEizUYpJG-sW",
        "colab_type": "text"
      },
      "cell_type": "markdown",
      "source": [
        "以上で、Pandasの章は終了です。説明を読んでいるだけではなかなかイメージを掴みにくい箇所もあったかもしれません。しかし、実際に「こんな感じでデータ加工や変換したいのになあ」と思ったときに、ここを参考にしてプログラミングをしてみてください。データ加工処理のニーズが出てきて、実際に使うことで一層理解が進む箇所かもしれません。また、ここで紹介したテクニックはほんの一部です。この他にも色々なデータ処理・加工方法があるので、以下の参考文献等を読んで、手を動かして実行してみてください。"
      ]
    },
    {
      "metadata": {
        "id": "9OPmJ87qG-sW",
        "colab_type": "text"
      },
      "cell_type": "markdown",
      "source": [
        ">**[やってみよう]**\n",
        "\n",
        ">ここで扱った例題の軸以外にも、対象データに対していろいろな軸で集計をしてみましょう。"
      ]
    },
    {
      "metadata": {
        "id": "ftdxboNSG-sX",
        "colab_type": "text"
      },
      "cell_type": "markdown",
      "source": [
        ">[参考文献]\n",
        "\n",
        ">『Pythonによるデータ分析入門 ―NumPy、pandasを使ったデータ処理』（Wes McKinney (著), 小林 儀匡 (翻訳), 鈴木 宏尚 (翻訳), 瀬戸山 雅人  (翻訳)、オライリージャパン）"
      ]
    },
    {
      "metadata": {
        "id": "nq41pNAJG-sX",
        "colab_type": "text"
      },
      "cell_type": "markdown",
      "source": [
        "データ分析は、データの前処理が8割だとよく言われます。世の中には実に様々な形式のデータが存在し、それらを整えるだけでも大変な作業です。テクニックも重要ですが、それらに対してどのように対処していくのか戦略を立てることも重要です。以下の文献等も参考になりますので、ぜひ目を通してみてください。"
      ]
    },
    {
      "metadata": {
        "id": "DHcuMwrXG-sX",
        "colab_type": "text"
      },
      "cell_type": "markdown",
      "source": [
        ">[参考文献]\n",
        "\n",
        ">『バッドデータハンドブック』（磯蘭水等訳、オイラリージャパン）"
      ]
    },
    {
      "metadata": {
        "id": "0fwcIjsFG-sY",
        "colab_type": "text"
      },
      "cell_type": "markdown",
      "source": [
        "#### <練習問題 1>\n",
        "\n",
        "先ほど使用した「student-mat.csv」を使って「student-mat.csv」を使って、pandasの集計処理してみましょう。まずは、schoolを軸にして、G1の平均点をそれぞれ求めてみましょう。"
      ]
    },
    {
      "metadata": {
        "id": "Zre7wcz_G-sY",
        "colab_type": "text"
      },
      "cell_type": "markdown",
      "source": [
        "#### <練習問題 2>\n",
        "\n",
        "次は、schoolと性別を軸にして、G1,G2,G3の平均点をそれぞれ求めてみましょう。"
      ]
    },
    {
      "metadata": {
        "id": "BKHtI2s-G-sa",
        "colab_type": "text"
      },
      "cell_type": "markdown",
      "source": [
        "#### <練習問題 3>\n",
        "\n",
        "次は、schoolと性別を軸にして、G1,G2,G3の最大値、最小値をまとめて算出してみましょう。"
      ]
    },
    {
      "metadata": {
        "id": "u-Fl70VzG-sa",
        "colab_type": "text"
      },
      "cell_type": "markdown",
      "source": [
        "***"
      ]
    },
    {
      "metadata": {
        "id": "d20k9cBlG-sd",
        "colab_type": "text"
      },
      "cell_type": "markdown",
      "source": [
        "## 6.2 欠損データと異常値の取り扱いの基礎\n",
        "ゴール：欠損データと異常値に対する基本的な対処方法を知る"
      ]
    },
    {
      "metadata": {
        "id": "FvvnokxkG-sd",
        "colab_type": "text"
      },
      "cell_type": "markdown",
      "source": [
        "### 6.2.1 欠損データの扱い方\n",
        "キーワード：リストワイズ削除、ペアワイズ削除、単一代入（平均値代入法）、最尤法、回帰代入法、スプライン補間"
      ]
    },
    {
      "metadata": {
        "id": "WiYGuDxtG-se",
        "colab_type": "text"
      },
      "cell_type": "markdown",
      "source": [
        "データを扱っていると必ずといっていいほど、欠損しているデータや異常値データの存在があります。それぞれ深い分野ですが、ここでは基礎の基礎レベルで欠損データや異常データについての判定や扱い方について学ぶことにします。もっと深く学びたい方は、ぜひ参考文献を読んでください。"
      ]
    },
    {
      "metadata": {
        "id": "C0R3Rw30G-se",
        "colab_type": "text"
      },
      "cell_type": "markdown",
      "source": [
        ">[参考文献]\n",
        "\n",
        ">『欠損データの統計科学』（高井啓二等、岩波書店）\n",
        "\n",
        ">『データ分析のプロセス』の第3章（福島真太郎、共立出版）"
      ]
    },
    {
      "metadata": {
        "id": "2_wEcbWRG-sf",
        "colab_type": "text"
      },
      "cell_type": "markdown",
      "source": [
        "まずは、欠損データの取り扱いについてです。データの欠損は、入力忘れ、無回答、システム上の問題など様々な要因があります。「ない」データについては、無視をするのがいいのか、除外をするのがいいのか、最もらしい値を入れるのがいいのか、それが問題です。アプローチによっては、大きなバイアスのある結果を与え、誤った意思決定につながり、大きな損失につながる可能性もあります。慎重に扱っていきましょう。"
      ]
    },
    {
      "metadata": {
        "id": "urQ0uF4YG-sg",
        "colab_type": "text"
      },
      "cell_type": "markdown",
      "source": [
        "以下では、欠損データに対して、削除や、0や直前の数字、平均値等で穴埋めをしています。ここでは、これらの単純な方法のみ紹介しますが、他の方法には最尤推定法で推定したり、回帰代入やScipyで実施したスプライン補間などがあります。注意が必要なのは、これらの方法がバイアスを生む可能性があることです。深く学びたい方はぜひ上で紹介した参考文献などを読んで、欠損データを埋める方法への理解を深めてください。"
      ]
    },
    {
      "metadata": {
        "scrolled": true,
        "id": "uQp47N9BG-sg",
        "colab_type": "code",
        "colab": {}
      },
      "cell_type": "code",
      "source": [
        "# データの準備\n",
        "import numpy as np\n",
        "from numpy import nan as NA\n",
        "import pandas as pd\n",
        "\n",
        "\n",
        "sample_data_frame = pd.DataFrame(np.random.rand(10,4))\n",
        "\n",
        "# NAにする\n",
        "sample_data_frame.ix[1,0] = NA\n",
        "sample_data_frame.ix[2:3,2] = NA\n",
        "sample_data_frame.ix[5:,3] = NA"
      ],
      "execution_count": 0,
      "outputs": []
    },
    {
      "metadata": {
        "id": "j8HC3R5JG-si",
        "colab_type": "text"
      },
      "cell_type": "markdown",
      "source": [
        "用意したデータは以下になります。"
      ]
    },
    {
      "metadata": {
        "id": "a1zmRe17G-si",
        "colab_type": "code",
        "colab": {},
        "outputId": "24e931ba-e824-4cd8-8cf5-e4f37483ad03"
      },
      "cell_type": "code",
      "source": [
        "sample_data_frame"
      ],
      "execution_count": 0,
      "outputs": [
        {
          "output_type": "execute_result",
          "data": {
            "text/html": [
              "<div>\n",
              "<table border=\"1\" class=\"dataframe\">\n",
              "  <thead>\n",
              "    <tr style=\"text-align: right;\">\n",
              "      <th></th>\n",
              "      <th>0</th>\n",
              "      <th>1</th>\n",
              "      <th>2</th>\n",
              "      <th>3</th>\n",
              "    </tr>\n",
              "  </thead>\n",
              "  <tbody>\n",
              "    <tr>\n",
              "      <th>0</th>\n",
              "      <td>0.782601</td>\n",
              "      <td>0.510081</td>\n",
              "      <td>0.066241</td>\n",
              "      <td>0.051084</td>\n",
              "    </tr>\n",
              "    <tr>\n",
              "      <th>1</th>\n",
              "      <td>NaN</td>\n",
              "      <td>0.588928</td>\n",
              "      <td>0.481636</td>\n",
              "      <td>0.989737</td>\n",
              "    </tr>\n",
              "    <tr>\n",
              "      <th>2</th>\n",
              "      <td>0.770749</td>\n",
              "      <td>0.537386</td>\n",
              "      <td>NaN</td>\n",
              "      <td>0.415799</td>\n",
              "    </tr>\n",
              "    <tr>\n",
              "      <th>3</th>\n",
              "      <td>0.189696</td>\n",
              "      <td>0.288617</td>\n",
              "      <td>NaN</td>\n",
              "      <td>0.759283</td>\n",
              "    </tr>\n",
              "    <tr>\n",
              "      <th>4</th>\n",
              "      <td>0.661668</td>\n",
              "      <td>0.991183</td>\n",
              "      <td>0.223083</td>\n",
              "      <td>0.562561</td>\n",
              "    </tr>\n",
              "    <tr>\n",
              "      <th>5</th>\n",
              "      <td>0.497713</td>\n",
              "      <td>0.955180</td>\n",
              "      <td>0.301120</td>\n",
              "      <td>NaN</td>\n",
              "    </tr>\n",
              "    <tr>\n",
              "      <th>6</th>\n",
              "      <td>0.210177</td>\n",
              "      <td>0.643425</td>\n",
              "      <td>0.420065</td>\n",
              "      <td>NaN</td>\n",
              "    </tr>\n",
              "    <tr>\n",
              "      <th>7</th>\n",
              "      <td>0.089945</td>\n",
              "      <td>0.567024</td>\n",
              "      <td>0.692832</td>\n",
              "      <td>NaN</td>\n",
              "    </tr>\n",
              "    <tr>\n",
              "      <th>8</th>\n",
              "      <td>0.799016</td>\n",
              "      <td>0.940762</td>\n",
              "      <td>0.661627</td>\n",
              "      <td>NaN</td>\n",
              "    </tr>\n",
              "    <tr>\n",
              "      <th>9</th>\n",
              "      <td>0.616832</td>\n",
              "      <td>0.158643</td>\n",
              "      <td>0.091754</td>\n",
              "      <td>NaN</td>\n",
              "    </tr>\n",
              "  </tbody>\n",
              "</table>\n",
              "</div>"
            ],
            "text/plain": [
              "          0         1         2         3\n",
              "0  0.782601  0.510081  0.066241  0.051084\n",
              "1       NaN  0.588928  0.481636  0.989737\n",
              "2  0.770749  0.537386       NaN  0.415799\n",
              "3  0.189696  0.288617       NaN  0.759283\n",
              "4  0.661668  0.991183  0.223083  0.562561\n",
              "5  0.497713  0.955180  0.301120       NaN\n",
              "6  0.210177  0.643425  0.420065       NaN\n",
              "7  0.089945  0.567024  0.692832       NaN\n",
              "8  0.799016  0.940762  0.661627       NaN\n",
              "9  0.616832  0.158643  0.091754       NaN"
            ]
          },
          "metadata": {
            "tags": []
          },
          "execution_count": 3
        }
      ]
    },
    {
      "metadata": {
        "id": "aueCjXniG-sk",
        "colab_type": "text"
      },
      "cell_type": "markdown",
      "source": [
        "NaNがある行はすべて取り除くのは、dropnaを使います。これを**リストワイズ削除**といいます。以下は、先ほどのデータにおいて、全てのカラムにデータがある行だけ表示しています。NaNがある行は表示されません。"
      ]
    },
    {
      "metadata": {
        "scrolled": true,
        "id": "RdRoTREmG-sl",
        "colab_type": "code",
        "colab": {},
        "outputId": "2190398d-a86a-4b0d-d026-772330a6c796"
      },
      "cell_type": "code",
      "source": [
        "sample_data_frame.dropna()"
      ],
      "execution_count": 0,
      "outputs": [
        {
          "output_type": "execute_result",
          "data": {
            "text/html": [
              "<div>\n",
              "<style>\n",
              "    .dataframe thead tr:only-child th {\n",
              "        text-align: right;\n",
              "    }\n",
              "\n",
              "    .dataframe thead th {\n",
              "        text-align: left;\n",
              "    }\n",
              "\n",
              "    .dataframe tbody tr th {\n",
              "        vertical-align: top;\n",
              "    }\n",
              "</style>\n",
              "<table border=\"1\" class=\"dataframe\">\n",
              "  <thead>\n",
              "    <tr style=\"text-align: right;\">\n",
              "      <th></th>\n",
              "      <th>0</th>\n",
              "      <th>1</th>\n",
              "      <th>2</th>\n",
              "      <th>3</th>\n",
              "    </tr>\n",
              "  </thead>\n",
              "  <tbody>\n",
              "    <tr>\n",
              "      <th>0</th>\n",
              "      <td>0.465470</td>\n",
              "      <td>0.742543</td>\n",
              "      <td>0.618442</td>\n",
              "      <td>0.009381</td>\n",
              "    </tr>\n",
              "    <tr>\n",
              "      <th>4</th>\n",
              "      <td>0.227128</td>\n",
              "      <td>0.238948</td>\n",
              "      <td>0.983770</td>\n",
              "      <td>0.940053</td>\n",
              "    </tr>\n",
              "  </tbody>\n",
              "</table>\n",
              "</div>"
            ],
            "text/plain": [
              "          0         1         2         3\n",
              "0  0.465470  0.742543  0.618442  0.009381\n",
              "4  0.227128  0.238948  0.983770  0.940053"
            ]
          },
          "metadata": {
            "tags": []
          },
          "execution_count": 43
        }
      ]
    },
    {
      "metadata": {
        "id": "FenQLambG-sm",
        "colab_type": "text"
      },
      "cell_type": "markdown",
      "source": [
        "一方、リストワイズ削除では元々10行あったデータが極端に少なくなって2行になり、データが全く使えないという状況を考えましょう。このとき、欠損している列のデータを無視して、利用可能なデータのみ（例：列の0番目と1番目のみ存在）を使う方法があります。これを**ペアワイズ削除**といいます。"
      ]
    },
    {
      "metadata": {
        "id": "BpgeF4XmG-sn",
        "colab_type": "code",
        "colab": {},
        "outputId": "c3aa24c3-19ce-4594-842a-6af1eb1d5ed3"
      },
      "cell_type": "code",
      "source": [
        "sample_data_frame[[0,1]].dropna()"
      ],
      "execution_count": 0,
      "outputs": [
        {
          "output_type": "execute_result",
          "data": {
            "text/html": [
              "<div>\n",
              "<style>\n",
              "    .dataframe thead tr:only-child th {\n",
              "        text-align: right;\n",
              "    }\n",
              "\n",
              "    .dataframe thead th {\n",
              "        text-align: left;\n",
              "    }\n",
              "\n",
              "    .dataframe tbody tr th {\n",
              "        vertical-align: top;\n",
              "    }\n",
              "</style>\n",
              "<table border=\"1\" class=\"dataframe\">\n",
              "  <thead>\n",
              "    <tr style=\"text-align: right;\">\n",
              "      <th></th>\n",
              "      <th>0</th>\n",
              "      <th>1</th>\n",
              "    </tr>\n",
              "  </thead>\n",
              "  <tbody>\n",
              "    <tr>\n",
              "      <th>0</th>\n",
              "      <td>0.465470</td>\n",
              "      <td>0.742543</td>\n",
              "    </tr>\n",
              "    <tr>\n",
              "      <th>2</th>\n",
              "      <td>0.596530</td>\n",
              "      <td>0.862047</td>\n",
              "    </tr>\n",
              "    <tr>\n",
              "      <th>3</th>\n",
              "      <td>0.450267</td>\n",
              "      <td>0.721333</td>\n",
              "    </tr>\n",
              "    <tr>\n",
              "      <th>4</th>\n",
              "      <td>0.227128</td>\n",
              "      <td>0.238948</td>\n",
              "    </tr>\n",
              "    <tr>\n",
              "      <th>5</th>\n",
              "      <td>0.255822</td>\n",
              "      <td>0.719017</td>\n",
              "    </tr>\n",
              "    <tr>\n",
              "      <th>6</th>\n",
              "      <td>0.177791</td>\n",
              "      <td>0.659463</td>\n",
              "    </tr>\n",
              "    <tr>\n",
              "      <th>7</th>\n",
              "      <td>0.327858</td>\n",
              "      <td>0.780492</td>\n",
              "    </tr>\n",
              "    <tr>\n",
              "      <th>8</th>\n",
              "      <td>0.648819</td>\n",
              "      <td>0.520847</td>\n",
              "    </tr>\n",
              "    <tr>\n",
              "      <th>9</th>\n",
              "      <td>0.181585</td>\n",
              "      <td>0.427165</td>\n",
              "    </tr>\n",
              "  </tbody>\n",
              "</table>\n",
              "</div>"
            ],
            "text/plain": [
              "          0         1\n",
              "0  0.465470  0.742543\n",
              "2  0.596530  0.862047\n",
              "3  0.450267  0.721333\n",
              "4  0.227128  0.238948\n",
              "5  0.255822  0.719017\n",
              "6  0.177791  0.659463\n",
              "7  0.327858  0.780492\n",
              "8  0.648819  0.520847\n",
              "9  0.181585  0.427165"
            ]
          },
          "metadata": {
            "tags": []
          },
          "execution_count": 46
        }
      ]
    },
    {
      "metadata": {
        "id": "bMuKPvr0G-sp",
        "colab_type": "text"
      },
      "cell_type": "markdown",
      "source": [
        "他の処理についても紹介します。次の処理はfillna(値)で、NaNになっている箇所をある値で埋めます。以下は、先ほどのデータでNaNになっているところを0で置き換えています。"
      ]
    },
    {
      "metadata": {
        "scrolled": true,
        "id": "YWo_54q-G-sp",
        "colab_type": "code",
        "colab": {},
        "outputId": "96b7bc1e-74a0-4846-c809-d63be0496944"
      },
      "cell_type": "code",
      "source": [
        "sample_data_frame.fillna(0)"
      ],
      "execution_count": 0,
      "outputs": [
        {
          "output_type": "execute_result",
          "data": {
            "text/html": [
              "<div>\n",
              "<style>\n",
              "    .dataframe thead tr:only-child th {\n",
              "        text-align: right;\n",
              "    }\n",
              "\n",
              "    .dataframe thead th {\n",
              "        text-align: left;\n",
              "    }\n",
              "\n",
              "    .dataframe tbody tr th {\n",
              "        vertical-align: top;\n",
              "    }\n",
              "</style>\n",
              "<table border=\"1\" class=\"dataframe\">\n",
              "  <thead>\n",
              "    <tr style=\"text-align: right;\">\n",
              "      <th></th>\n",
              "      <th>0</th>\n",
              "      <th>1</th>\n",
              "      <th>2</th>\n",
              "      <th>3</th>\n",
              "    </tr>\n",
              "  </thead>\n",
              "  <tbody>\n",
              "    <tr>\n",
              "      <th>0</th>\n",
              "      <td>0.465470</td>\n",
              "      <td>0.742543</td>\n",
              "      <td>0.618442</td>\n",
              "      <td>0.009381</td>\n",
              "    </tr>\n",
              "    <tr>\n",
              "      <th>1</th>\n",
              "      <td>0.000000</td>\n",
              "      <td>0.524610</td>\n",
              "      <td>0.369549</td>\n",
              "      <td>0.243735</td>\n",
              "    </tr>\n",
              "    <tr>\n",
              "      <th>2</th>\n",
              "      <td>0.596530</td>\n",
              "      <td>0.862047</td>\n",
              "      <td>0.000000</td>\n",
              "      <td>0.624683</td>\n",
              "    </tr>\n",
              "    <tr>\n",
              "      <th>3</th>\n",
              "      <td>0.450267</td>\n",
              "      <td>0.721333</td>\n",
              "      <td>0.000000</td>\n",
              "      <td>0.920845</td>\n",
              "    </tr>\n",
              "    <tr>\n",
              "      <th>4</th>\n",
              "      <td>0.227128</td>\n",
              "      <td>0.238948</td>\n",
              "      <td>0.983770</td>\n",
              "      <td>0.940053</td>\n",
              "    </tr>\n",
              "    <tr>\n",
              "      <th>5</th>\n",
              "      <td>0.255822</td>\n",
              "      <td>0.719017</td>\n",
              "      <td>0.661478</td>\n",
              "      <td>0.000000</td>\n",
              "    </tr>\n",
              "    <tr>\n",
              "      <th>6</th>\n",
              "      <td>0.177791</td>\n",
              "      <td>0.659463</td>\n",
              "      <td>0.254689</td>\n",
              "      <td>0.000000</td>\n",
              "    </tr>\n",
              "    <tr>\n",
              "      <th>7</th>\n",
              "      <td>0.327858</td>\n",
              "      <td>0.780492</td>\n",
              "      <td>0.409246</td>\n",
              "      <td>0.000000</td>\n",
              "    </tr>\n",
              "    <tr>\n",
              "      <th>8</th>\n",
              "      <td>0.648819</td>\n",
              "      <td>0.520847</td>\n",
              "      <td>0.730173</td>\n",
              "      <td>0.000000</td>\n",
              "    </tr>\n",
              "    <tr>\n",
              "      <th>9</th>\n",
              "      <td>0.181585</td>\n",
              "      <td>0.427165</td>\n",
              "      <td>0.659314</td>\n",
              "      <td>0.000000</td>\n",
              "    </tr>\n",
              "  </tbody>\n",
              "</table>\n",
              "</div>"
            ],
            "text/plain": [
              "          0         1         2         3\n",
              "0  0.465470  0.742543  0.618442  0.009381\n",
              "1  0.000000  0.524610  0.369549  0.243735\n",
              "2  0.596530  0.862047  0.000000  0.624683\n",
              "3  0.450267  0.721333  0.000000  0.920845\n",
              "4  0.227128  0.238948  0.983770  0.940053\n",
              "5  0.255822  0.719017  0.661478  0.000000\n",
              "6  0.177791  0.659463  0.254689  0.000000\n",
              "7  0.327858  0.780492  0.409246  0.000000\n",
              "8  0.648819  0.520847  0.730173  0.000000\n",
              "9  0.181585  0.427165  0.659314  0.000000"
            ]
          },
          "metadata": {
            "tags": []
          },
          "execution_count": 47
        }
      ]
    },
    {
      "metadata": {
        "id": "gtm0aQsSG-sq",
        "colab_type": "text"
      },
      "cell_type": "markdown",
      "source": [
        "methodを指定することで、前の値で埋めてくれます。"
      ]
    },
    {
      "metadata": {
        "id": "nySfd3msG-sr",
        "colab_type": "code",
        "colab": {},
        "outputId": "6fba1989-69db-4ad8-a9bc-398a9375ab50"
      },
      "cell_type": "code",
      "source": [
        "sample_data_frame.fillna(method=\"ffill\")"
      ],
      "execution_count": 0,
      "outputs": [
        {
          "output_type": "execute_result",
          "data": {
            "text/html": [
              "<div>\n",
              "<style>\n",
              "    .dataframe thead tr:only-child th {\n",
              "        text-align: right;\n",
              "    }\n",
              "\n",
              "    .dataframe thead th {\n",
              "        text-align: left;\n",
              "    }\n",
              "\n",
              "    .dataframe tbody tr th {\n",
              "        vertical-align: top;\n",
              "    }\n",
              "</style>\n",
              "<table border=\"1\" class=\"dataframe\">\n",
              "  <thead>\n",
              "    <tr style=\"text-align: right;\">\n",
              "      <th></th>\n",
              "      <th>0</th>\n",
              "      <th>1</th>\n",
              "      <th>2</th>\n",
              "      <th>3</th>\n",
              "    </tr>\n",
              "  </thead>\n",
              "  <tbody>\n",
              "    <tr>\n",
              "      <th>0</th>\n",
              "      <td>0.465470</td>\n",
              "      <td>0.742543</td>\n",
              "      <td>0.618442</td>\n",
              "      <td>0.009381</td>\n",
              "    </tr>\n",
              "    <tr>\n",
              "      <th>1</th>\n",
              "      <td>0.465470</td>\n",
              "      <td>0.524610</td>\n",
              "      <td>0.369549</td>\n",
              "      <td>0.243735</td>\n",
              "    </tr>\n",
              "    <tr>\n",
              "      <th>2</th>\n",
              "      <td>0.596530</td>\n",
              "      <td>0.862047</td>\n",
              "      <td>0.369549</td>\n",
              "      <td>0.624683</td>\n",
              "    </tr>\n",
              "    <tr>\n",
              "      <th>3</th>\n",
              "      <td>0.450267</td>\n",
              "      <td>0.721333</td>\n",
              "      <td>0.369549</td>\n",
              "      <td>0.920845</td>\n",
              "    </tr>\n",
              "    <tr>\n",
              "      <th>4</th>\n",
              "      <td>0.227128</td>\n",
              "      <td>0.238948</td>\n",
              "      <td>0.983770</td>\n",
              "      <td>0.940053</td>\n",
              "    </tr>\n",
              "    <tr>\n",
              "      <th>5</th>\n",
              "      <td>0.255822</td>\n",
              "      <td>0.719017</td>\n",
              "      <td>0.661478</td>\n",
              "      <td>0.940053</td>\n",
              "    </tr>\n",
              "    <tr>\n",
              "      <th>6</th>\n",
              "      <td>0.177791</td>\n",
              "      <td>0.659463</td>\n",
              "      <td>0.254689</td>\n",
              "      <td>0.940053</td>\n",
              "    </tr>\n",
              "    <tr>\n",
              "      <th>7</th>\n",
              "      <td>0.327858</td>\n",
              "      <td>0.780492</td>\n",
              "      <td>0.409246</td>\n",
              "      <td>0.940053</td>\n",
              "    </tr>\n",
              "    <tr>\n",
              "      <th>8</th>\n",
              "      <td>0.648819</td>\n",
              "      <td>0.520847</td>\n",
              "      <td>0.730173</td>\n",
              "      <td>0.940053</td>\n",
              "    </tr>\n",
              "    <tr>\n",
              "      <th>9</th>\n",
              "      <td>0.181585</td>\n",
              "      <td>0.427165</td>\n",
              "      <td>0.659314</td>\n",
              "      <td>0.940053</td>\n",
              "    </tr>\n",
              "  </tbody>\n",
              "</table>\n",
              "</div>"
            ],
            "text/plain": [
              "          0         1         2         3\n",
              "0  0.465470  0.742543  0.618442  0.009381\n",
              "1  0.465470  0.524610  0.369549  0.243735\n",
              "2  0.596530  0.862047  0.369549  0.624683\n",
              "3  0.450267  0.721333  0.369549  0.920845\n",
              "4  0.227128  0.238948  0.983770  0.940053\n",
              "5  0.255822  0.719017  0.661478  0.940053\n",
              "6  0.177791  0.659463  0.254689  0.940053\n",
              "7  0.327858  0.780492  0.409246  0.940053\n",
              "8  0.648819  0.520847  0.730173  0.940053\n",
              "9  0.181585  0.427165  0.659314  0.940053"
            ]
          },
          "metadata": {
            "tags": []
          },
          "execution_count": 48
        }
      ]
    },
    {
      "metadata": {
        "id": "4zLGowQmG-ss",
        "colab_type": "text"
      },
      "cell_type": "markdown",
      "source": [
        "他、平均値でも穴埋めすることができます。これを**平均値代入法**といいます。"
      ]
    },
    {
      "metadata": {
        "id": "UZWSfnMuG-ss",
        "colab_type": "code",
        "colab": {},
        "outputId": "570c5408-91c2-46c9-d217-fb76465b4a29"
      },
      "cell_type": "code",
      "source": [
        "# 各カラムの平均値(確認用)\n",
        "sample_data_frame.mean()"
      ],
      "execution_count": 0,
      "outputs": [
        {
          "output_type": "execute_result",
          "data": {
            "text/plain": [
              "0    0.370141\n",
              "1    0.619646\n",
              "2    0.585833\n",
              "3    0.547739\n",
              "dtype: float64"
            ]
          },
          "metadata": {
            "tags": []
          },
          "execution_count": 49
        }
      ]
    },
    {
      "metadata": {
        "id": "8zD8OHJvG-su",
        "colab_type": "code",
        "colab": {},
        "outputId": "f4e29214-9055-41d6-a47a-8c659e25c65d"
      },
      "cell_type": "code",
      "source": [
        "sample_data_frame.fillna(sample_data_frame.mean())"
      ],
      "execution_count": 0,
      "outputs": [
        {
          "output_type": "execute_result",
          "data": {
            "text/html": [
              "<div>\n",
              "<style>\n",
              "    .dataframe thead tr:only-child th {\n",
              "        text-align: right;\n",
              "    }\n",
              "\n",
              "    .dataframe thead th {\n",
              "        text-align: left;\n",
              "    }\n",
              "\n",
              "    .dataframe tbody tr th {\n",
              "        vertical-align: top;\n",
              "    }\n",
              "</style>\n",
              "<table border=\"1\" class=\"dataframe\">\n",
              "  <thead>\n",
              "    <tr style=\"text-align: right;\">\n",
              "      <th></th>\n",
              "      <th>0</th>\n",
              "      <th>1</th>\n",
              "      <th>2</th>\n",
              "      <th>3</th>\n",
              "    </tr>\n",
              "  </thead>\n",
              "  <tbody>\n",
              "    <tr>\n",
              "      <th>0</th>\n",
              "      <td>0.465470</td>\n",
              "      <td>0.742543</td>\n",
              "      <td>0.618442</td>\n",
              "      <td>0.009381</td>\n",
              "    </tr>\n",
              "    <tr>\n",
              "      <th>1</th>\n",
              "      <td>0.370141</td>\n",
              "      <td>0.524610</td>\n",
              "      <td>0.369549</td>\n",
              "      <td>0.243735</td>\n",
              "    </tr>\n",
              "    <tr>\n",
              "      <th>2</th>\n",
              "      <td>0.596530</td>\n",
              "      <td>0.862047</td>\n",
              "      <td>0.585833</td>\n",
              "      <td>0.624683</td>\n",
              "    </tr>\n",
              "    <tr>\n",
              "      <th>3</th>\n",
              "      <td>0.450267</td>\n",
              "      <td>0.721333</td>\n",
              "      <td>0.585833</td>\n",
              "      <td>0.920845</td>\n",
              "    </tr>\n",
              "    <tr>\n",
              "      <th>4</th>\n",
              "      <td>0.227128</td>\n",
              "      <td>0.238948</td>\n",
              "      <td>0.983770</td>\n",
              "      <td>0.940053</td>\n",
              "    </tr>\n",
              "    <tr>\n",
              "      <th>5</th>\n",
              "      <td>0.255822</td>\n",
              "      <td>0.719017</td>\n",
              "      <td>0.661478</td>\n",
              "      <td>0.547739</td>\n",
              "    </tr>\n",
              "    <tr>\n",
              "      <th>6</th>\n",
              "      <td>0.177791</td>\n",
              "      <td>0.659463</td>\n",
              "      <td>0.254689</td>\n",
              "      <td>0.547739</td>\n",
              "    </tr>\n",
              "    <tr>\n",
              "      <th>7</th>\n",
              "      <td>0.327858</td>\n",
              "      <td>0.780492</td>\n",
              "      <td>0.409246</td>\n",
              "      <td>0.547739</td>\n",
              "    </tr>\n",
              "    <tr>\n",
              "      <th>8</th>\n",
              "      <td>0.648819</td>\n",
              "      <td>0.520847</td>\n",
              "      <td>0.730173</td>\n",
              "      <td>0.547739</td>\n",
              "    </tr>\n",
              "    <tr>\n",
              "      <th>9</th>\n",
              "      <td>0.181585</td>\n",
              "      <td>0.427165</td>\n",
              "      <td>0.659314</td>\n",
              "      <td>0.547739</td>\n",
              "    </tr>\n",
              "  </tbody>\n",
              "</table>\n",
              "</div>"
            ],
            "text/plain": [
              "          0         1         2         3\n",
              "0  0.465470  0.742543  0.618442  0.009381\n",
              "1  0.370141  0.524610  0.369549  0.243735\n",
              "2  0.596530  0.862047  0.585833  0.624683\n",
              "3  0.450267  0.721333  0.585833  0.920845\n",
              "4  0.227128  0.238948  0.983770  0.940053\n",
              "5  0.255822  0.719017  0.661478  0.547739\n",
              "6  0.177791  0.659463  0.254689  0.547739\n",
              "7  0.327858  0.780492  0.409246  0.547739\n",
              "8  0.648819  0.520847  0.730173  0.547739\n",
              "9  0.181585  0.427165  0.659314  0.547739"
            ]
          },
          "metadata": {
            "tags": []
          },
          "execution_count": 50
        }
      ]
    },
    {
      "metadata": {
        "id": "i7ApHFSdG-sx",
        "colab_type": "text"
      },
      "cell_type": "markdown",
      "source": [
        "他にも色々とオプションがあるので、?sample_data_frame.fillna等で調べてみてください。\n",
        "\n",
        "欠損データについて、今回はサンプルデータにおいて、一定の値を機械的に置換しました。ただし、これらの方法はいつも使えるというわけではありません。データの状況、背景等を考え、適切に対処することが重要です。"
      ]
    },
    {
      "metadata": {
        "id": "iIMDevqOG-sx",
        "colab_type": "text"
      },
      "cell_type": "markdown",
      "source": [
        "#### <練習問題 1>\n",
        "\n",
        "以下のデータに対して、1列でもNaNがある場合は削除し、その結果を表示してください。"
      ]
    },
    {
      "metadata": {
        "id": "xrYs7EgFG-sx",
        "colab_type": "code",
        "colab": {},
        "outputId": "a7844f93-070f-4ee0-9bbf-02b1dbf5c665"
      },
      "cell_type": "code",
      "source": [
        "# データの準備\n",
        "import numpy as np\n",
        "from numpy import nan as NA\n",
        "import pandas as pd\n",
        "\n",
        "\n",
        "sample_data_frame2 = pd.DataFrame(np.random.rand(15,6))\n",
        "\n",
        "# NAにする\n",
        "sample_data_frame2.ix[2,0] = NA\n",
        "sample_data_frame2.ix[5:8,2] = NA\n",
        "sample_data_frame2.ix[7:9,3] = NA\n",
        "sample_data_frame2.ix[10,5] = NA\n",
        "\n",
        "\n",
        "sample_data_frame2"
      ],
      "execution_count": 0,
      "outputs": [
        {
          "output_type": "stream",
          "text": [
            "/Users/higuchiitto/.pyenv/versions/anaconda3-2.5.0/lib/python3.5/site-packages/ipykernel_launcher.py:10: DeprecationWarning: \n",
            ".ix is deprecated. Please use\n",
            ".loc for label based indexing or\n",
            ".iloc for positional indexing\n",
            "\n",
            "See the documentation here:\n",
            "http://pandas.pydata.org/pandas-docs/stable/indexing.html#deprecate_ix\n",
            "  # Remove the CWD from sys.path while we load stuff.\n"
          ],
          "name": "stderr"
        },
        {
          "output_type": "execute_result",
          "data": {
            "text/html": [
              "<div>\n",
              "<style>\n",
              "    .dataframe thead tr:only-child th {\n",
              "        text-align: right;\n",
              "    }\n",
              "\n",
              "    .dataframe thead th {\n",
              "        text-align: left;\n",
              "    }\n",
              "\n",
              "    .dataframe tbody tr th {\n",
              "        vertical-align: top;\n",
              "    }\n",
              "</style>\n",
              "<table border=\"1\" class=\"dataframe\">\n",
              "  <thead>\n",
              "    <tr style=\"text-align: right;\">\n",
              "      <th></th>\n",
              "      <th>0</th>\n",
              "      <th>1</th>\n",
              "      <th>2</th>\n",
              "      <th>3</th>\n",
              "      <th>4</th>\n",
              "      <th>5</th>\n",
              "    </tr>\n",
              "  </thead>\n",
              "  <tbody>\n",
              "    <tr>\n",
              "      <th>0</th>\n",
              "      <td>0.355722</td>\n",
              "      <td>0.473385</td>\n",
              "      <td>0.290236</td>\n",
              "      <td>0.489532</td>\n",
              "      <td>0.591536</td>\n",
              "      <td>0.087702</td>\n",
              "    </tr>\n",
              "    <tr>\n",
              "      <th>1</th>\n",
              "      <td>0.371207</td>\n",
              "      <td>0.715934</td>\n",
              "      <td>0.285595</td>\n",
              "      <td>0.023505</td>\n",
              "      <td>0.028515</td>\n",
              "      <td>0.299243</td>\n",
              "    </tr>\n",
              "    <tr>\n",
              "      <th>2</th>\n",
              "      <td>NaN</td>\n",
              "      <td>0.592995</td>\n",
              "      <td>0.901844</td>\n",
              "      <td>0.189380</td>\n",
              "      <td>0.888377</td>\n",
              "      <td>0.966973</td>\n",
              "    </tr>\n",
              "    <tr>\n",
              "      <th>3</th>\n",
              "      <td>0.419518</td>\n",
              "      <td>0.075851</td>\n",
              "      <td>0.440993</td>\n",
              "      <td>0.496051</td>\n",
              "      <td>0.294157</td>\n",
              "      <td>0.837886</td>\n",
              "    </tr>\n",
              "    <tr>\n",
              "      <th>4</th>\n",
              "      <td>0.853207</td>\n",
              "      <td>0.652506</td>\n",
              "      <td>0.993277</td>\n",
              "      <td>0.125946</td>\n",
              "      <td>0.254773</td>\n",
              "      <td>0.257159</td>\n",
              "    </tr>\n",
              "    <tr>\n",
              "      <th>5</th>\n",
              "      <td>0.922825</td>\n",
              "      <td>0.592044</td>\n",
              "      <td>NaN</td>\n",
              "      <td>0.356279</td>\n",
              "      <td>0.456573</td>\n",
              "      <td>0.628271</td>\n",
              "    </tr>\n",
              "    <tr>\n",
              "      <th>6</th>\n",
              "      <td>0.331692</td>\n",
              "      <td>0.959519</td>\n",
              "      <td>NaN</td>\n",
              "      <td>0.472897</td>\n",
              "      <td>0.753148</td>\n",
              "      <td>0.902748</td>\n",
              "    </tr>\n",
              "    <tr>\n",
              "      <th>7</th>\n",
              "      <td>0.201707</td>\n",
              "      <td>0.622600</td>\n",
              "      <td>NaN</td>\n",
              "      <td>NaN</td>\n",
              "      <td>0.835892</td>\n",
              "      <td>0.678096</td>\n",
              "    </tr>\n",
              "    <tr>\n",
              "      <th>8</th>\n",
              "      <td>0.123516</td>\n",
              "      <td>0.890916</td>\n",
              "      <td>NaN</td>\n",
              "      <td>NaN</td>\n",
              "      <td>0.142478</td>\n",
              "      <td>0.712876</td>\n",
              "    </tr>\n",
              "    <tr>\n",
              "      <th>9</th>\n",
              "      <td>0.220476</td>\n",
              "      <td>0.858546</td>\n",
              "      <td>0.504977</td>\n",
              "      <td>NaN</td>\n",
              "      <td>0.039185</td>\n",
              "      <td>0.809908</td>\n",
              "    </tr>\n",
              "    <tr>\n",
              "      <th>10</th>\n",
              "      <td>0.855966</td>\n",
              "      <td>0.780588</td>\n",
              "      <td>0.679988</td>\n",
              "      <td>0.400005</td>\n",
              "      <td>0.923356</td>\n",
              "      <td>NaN</td>\n",
              "    </tr>\n",
              "    <tr>\n",
              "      <th>11</th>\n",
              "      <td>0.513422</td>\n",
              "      <td>0.877973</td>\n",
              "      <td>0.502202</td>\n",
              "      <td>0.701991</td>\n",
              "      <td>0.631325</td>\n",
              "      <td>0.243345</td>\n",
              "    </tr>\n",
              "    <tr>\n",
              "      <th>12</th>\n",
              "      <td>0.861229</td>\n",
              "      <td>0.602816</td>\n",
              "      <td>0.464414</td>\n",
              "      <td>0.468389</td>\n",
              "      <td>0.847486</td>\n",
              "      <td>0.382041</td>\n",
              "    </tr>\n",
              "    <tr>\n",
              "      <th>13</th>\n",
              "      <td>0.376576</td>\n",
              "      <td>0.509217</td>\n",
              "      <td>0.775804</td>\n",
              "      <td>0.911924</td>\n",
              "      <td>0.975662</td>\n",
              "      <td>0.287167</td>\n",
              "    </tr>\n",
              "    <tr>\n",
              "      <th>14</th>\n",
              "      <td>0.272601</td>\n",
              "      <td>0.254279</td>\n",
              "      <td>0.652482</td>\n",
              "      <td>0.501052</td>\n",
              "      <td>0.057702</td>\n",
              "      <td>0.888174</td>\n",
              "    </tr>\n",
              "  </tbody>\n",
              "</table>\n",
              "</div>"
            ],
            "text/plain": [
              "           0         1         2         3         4         5\n",
              "0   0.355722  0.473385  0.290236  0.489532  0.591536  0.087702\n",
              "1   0.371207  0.715934  0.285595  0.023505  0.028515  0.299243\n",
              "2        NaN  0.592995  0.901844  0.189380  0.888377  0.966973\n",
              "3   0.419518  0.075851  0.440993  0.496051  0.294157  0.837886\n",
              "4   0.853207  0.652506  0.993277  0.125946  0.254773  0.257159\n",
              "5   0.922825  0.592044       NaN  0.356279  0.456573  0.628271\n",
              "6   0.331692  0.959519       NaN  0.472897  0.753148  0.902748\n",
              "7   0.201707  0.622600       NaN       NaN  0.835892  0.678096\n",
              "8   0.123516  0.890916       NaN       NaN  0.142478  0.712876\n",
              "9   0.220476  0.858546  0.504977       NaN  0.039185  0.809908\n",
              "10  0.855966  0.780588  0.679988  0.400005  0.923356       NaN\n",
              "11  0.513422  0.877973  0.502202  0.701991  0.631325  0.243345\n",
              "12  0.861229  0.602816  0.464414  0.468389  0.847486  0.382041\n",
              "13  0.376576  0.509217  0.775804  0.911924  0.975662  0.287167\n",
              "14  0.272601  0.254279  0.652482  0.501052  0.057702  0.888174"
            ]
          },
          "metadata": {
            "tags": []
          },
          "execution_count": 51
        }
      ]
    },
    {
      "metadata": {
        "id": "8mUwfjJHG-s0",
        "colab_type": "text"
      },
      "cell_type": "markdown",
      "source": [
        "#### <練習問題 2>\n",
        "\n",
        "上記で準備したデータに対して、NaNを0で埋めてください。"
      ]
    },
    {
      "metadata": {
        "id": "hRZypjg2G-s0",
        "colab_type": "text"
      },
      "cell_type": "markdown",
      "source": [
        "#### <練習問題 3>\n",
        "\n",
        "上記で準備したデータに対して、NaNをそれぞれの列の平均値で埋めてください。"
      ]
    },
    {
      "metadata": {
        "id": "VNkdTD9bG-s1",
        "colab_type": "text"
      },
      "cell_type": "markdown",
      "source": [
        "### 6.2.2 異常データの扱い方\n",
        "キーワード：異常値、箱ひげ図、パーセンタイル、VaR(Value At Risk)"
      ]
    },
    {
      "metadata": {
        "id": "r9USAmqxG-s2",
        "colab_type": "text"
      },
      "cell_type": "markdown",
      "source": [
        "異常値（外れ値）データの扱いは、そのままにして何もしないのか、異常値を除去するか、もっともらしい値に入れかえて使うかが問題になります。そもそも異常値とは一体何でしょうか。実は、統一的な見解というものはなく、そのデータを扱うアナリストや意思決定者が判断することもあります。ビジネスの現場では、不正アクセスのパターン（セキュリティ分野）や機械の故障、金融リスク管理（VaR）など、様々な分野で使われており、それぞれ色々な方法でアプローチされています。"
      ]
    },
    {
      "metadata": {
        "id": "ox5UcHytG-s2",
        "colab_type": "text"
      },
      "cell_type": "markdown",
      "source": [
        "異常値検出のアプローチには、単純には箱ひげ図などを書いて、あるパーセンタイル以上のデータを異常値としてみなす方法、正規分布を利用する方法、データの空間的な近さに基づく方法などがあります。他には以降の章で学ぶ機械学習（教師なし学習も含む）を用いた方法があります。\n",
        "\n",
        "ここでは特に練習問題はありませんが、興味のある方はぜひ以下の参考文献などで学んでください。"
      ]
    },
    {
      "metadata": {
        "id": "XniLsEeeG-s3",
        "colab_type": "text"
      },
      "cell_type": "markdown",
      "source": [
        ">[参考文献]\n",
        "\n",
        ">『入門 機械学習による異常検知―Rによる実践ガイド』（井手剛、コロナ社）\n",
        "\n",
        ">『異常検知と変化検知』（井手剛等、講談社）\n",
        "\n",
        "\n",
        ">[参考URL]\n",
        "\n",
        ">http://qiita.com/GushiSnow/items/f032806cfa8cec046318\n",
        "\n",
        ">http://qiita.com/shopetan/items/ceb7744facc21c3881d2\n",
        "\n",
        ">http://www.slideshare.net/shoheihido/fit2012"
      ]
    },
    {
      "metadata": {
        "id": "bgLB_z6xG-s3",
        "colab_type": "text"
      },
      "cell_type": "markdown",
      "source": [
        "また、異常値の分野に関連して、極端な値を研究する極値統計学という分野もあります。データの中で大きな値をとる極値データの挙動について、様々な研究がなされており、稀ではありますがそれが起きれば非常に大きな影響を及ぼす現象（自然現象、災害など）を研究します。気象学だけではなく、ファイナンスや情報通信の分野でも応用されているようですので、興味のある方は以下の参考文献等見ながら、調べてみてください。"
      ]
    },
    {
      "metadata": {
        "id": "r62mkHoqG-s4",
        "colab_type": "text"
      },
      "cell_type": "markdown",
      "source": [
        ">[参考文献]\n",
        "\n",
        ">『極値統計学 (ISMシリーズ:進化する統計数理)』（高橋 倫也 (著),志村 隆彰 (著)、近代科学社）"
      ]
    },
    {
      "metadata": {
        "id": "DBsvF1kTG-s4",
        "colab_type": "text"
      },
      "cell_type": "markdown",
      "source": [
        "***"
      ]
    },
    {
      "metadata": {
        "id": "GEUVUzEdG-s4",
        "colab_type": "text"
      },
      "cell_type": "markdown",
      "source": [
        "## 6.3 総合問題"
      ]
    },
    {
      "metadata": {
        "id": "NoiOSsiuG-s5",
        "colab_type": "text"
      },
      "cell_type": "markdown",
      "source": [
        "### 6.3.1 総合問題1\n",
        "以前使用した「student-mat.csv」を使って、以下の問いに答えてください。\n",
        "\n",
        "(1) 上記のデータに対して、年齢×性別でG1の平均点を算出し、縦軸が年齢、横軸が性別となるような表（テーブル）を作成しましょう。\n",
        "\n",
        "(2) (1)で表示した結果テーブルについて、NAになっている行(レコード)を全て削除した結果を表示しましょう。"
      ]
    }
  ]
}