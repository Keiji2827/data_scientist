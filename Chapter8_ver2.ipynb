{
  "nbformat": 4,
  "nbformat_minor": 0,
  "metadata": {
    "anaconda-cloud": {},
    "kernelspec": {
      "display_name": "mysql",
      "language": "mysql",
      "name": "mysql_kernel"
    },
    "language_info": {
      "file_extension": ".sql",
      "mimetype": "text/plain",
      "name": "mysql"
    },
    "colab": {
      "name": "Chapter8_ver2.ipynb",
      "provenance": [],
      "include_colab_link": true
    }
  },
  "cells": [
    {
      "cell_type": "markdown",
      "metadata": {
        "id": "view-in-github",
        "colab_type": "text"
      },
      "source": [
        "<a href=\"https://colab.research.google.com/github/Keiji2827/data_scientist/blob/master/Chapter8_ver2.ipynb\" target=\"_parent\"><img src=\"https://colab.research.google.com/assets/colab-badge.svg\" alt=\"Open In Colab\"/></a>"
      ]
    },
    {
      "cell_type": "markdown",
      "metadata": {
        "id": "5YTbdNBnx2go",
        "colab_type": "text"
      },
      "source": [
        "# 8 データベースとSQLの基礎"
      ]
    },
    {
      "cell_type": "markdown",
      "metadata": {
        "id": "Mu_VCANbx2gr",
        "colab_type": "text"
      },
      "source": [
        "- **[8.1 この章の概要](#8.1-この章の概要)**\n",
        "    - [8.1.1 データベースとは](#8.1.1-データベースとは)\n",
        "    - [8.1.2 RDBMS](#8.1.2-RDBMS)\n",
        "<br><br>\n",
        "- **[8.2 SQLの基礎](#8.2-SQLの基礎)** \n",
        "    - [8.2.1 データベースとテーブルの作成](#8.2.1-データベースとテーブルの作成)\n",
        "    - [8.2.2 データの検索と更新、削除、テーブルカラムの変更](#8.2.2-データの検索と更新、削除、テーブルカラムの変更)\n",
        "    - [8.2.3 データの集計、演算、並び替え](#8.2.3-データの集計、演算、並び替え)\n",
        "    - [8.2.4 グループごとの集計](#8.2.4-グループごとの集計)\n",
        "    - [8.2.5 複数テーブルの利用](#8.2.5-複数テーブルの利用)\n",
        "    - [8.2.6 case文とサブクエリ](#8.2.6-case文とサブクエリ)\n",
        "<br><br> \n",
        "- **[8.3 ビュー](#8.3-ビュー)** \n",
        "    - [8.3.1 ビュー](#8.3.1-ビュー)\n",
        "<br><br>\n",
        "- **[8.4 総合問題](#8.4-総合問題)**\n",
        "    - [8.4.1 総合問題1](#8.4.1-総合問題1)\n",
        "    - [8.4.2 総合問題2](#8.4.2-総合問題2)"
      ]
    },
    {
      "cell_type": "markdown",
      "metadata": {
        "id": "non9Pjuix2gs",
        "colab_type": "text"
      },
      "source": [
        "## 8.1 この章の概要\n",
        "ゴール：データベースの役割を知る"
      ]
    },
    {
      "cell_type": "markdown",
      "metadata": {
        "id": "x8wnfLr6x2gs",
        "colab_type": "text"
      },
      "source": [
        "### 8.1.1 データベースとは\n",
        "キーワード：データベース、RDBMS"
      ]
    },
    {
      "cell_type": "markdown",
      "metadata": {
        "id": "64D17BDlx2gt",
        "colab_type": "text"
      },
      "source": [
        "ここからはデータベースについて学んでいきます。データベースとは、簡単にいいますと、コンピューターを利用して膨大なデータをまとめて、後から色々なニーズに対して活用できるように、管理されたデータの集まりのことです。データベースには、たくさんのテーブルがあり、そのテーブルの中にデータがあります。以下が、データベースとテーブルのイメージ図です。なお、テーブルの行をレコードといい、列をカラムといいます。"
      ]
    },
    {
      "cell_type": "markdown",
      "metadata": {
        "id": "S8wMvEJSx2gu",
        "colab_type": "text"
      },
      "source": [
        "![comment](http://www.webolve.com/image/basic/aboutdb/fig_02.jpg)"
      ]
    },
    {
      "cell_type": "markdown",
      "metadata": {
        "id": "-Xu9gjnSx2gu",
        "colab_type": "text"
      },
      "source": [
        "参照URL：http://www.webolve.com/image/basic/aboutdb/fig_02.jpg"
      ]
    },
    {
      "cell_type": "markdown",
      "metadata": {
        "id": "SecYNwXXx2gv",
        "colab_type": "text"
      },
      "source": [
        "具体的なデータとしては、ある店舗の毎日の売り上げをデータベースで管理していることもありますし、顧客の個人情報、社員の給料情報、金融の取引データ、ウェブサイトのアクセスログデータ等もデータベースで管理されたりしています。購買データでいうと、売れた商品の日時、その商品を識別するコード、購買者、その商品の値段、数量などがデータとしてテーブルに入ってきます。これらのデータは日々追加されますし、何かの集計（1ヶ月の売り上げの計算など）をするときはデータベースからデータが抽出され、必要なければ削除されます。\n",
        "\n",
        "それでは、そもそも何故データベースが必要なのでしょうか。小さなデータで、一貫性等を求められていなければ、Excelで十分かもしれません。しかし、データは日々大きくなっていきますし、昨今は特にIoTなどが注目されており、リアルタイムに膨大な量のデータが生まれています。ビッグデータと言われる現代、データソースのテーブルに1億レコード以上あるということもしばしばあり、これをExcelで集計することは困難でしょう。データベースとそれを呼び出すためのSQLという言語を使うことで、大きなデータに対しても効率的に作業ができるのです。（ただし、昨今はビッグデータを扱う際にHadoopやSparkなどの分散処理をするソフトウェアなどが使われるようになっており、この講座でも後半の章で少し触れます。）\n",
        "\n",
        "さらに管理するという視点でも、Excelでは限界があります。Excelは基本的に誰でも編集ができますし、後からデータに問題があった場合に対処するのが困難です。列も自由に異なるデータを入力できますし、それを統一的に扱うのは難しいです。データベースを使うことで、容易に管理できます。なお、同時にデータを変更することを避けるために、データにロックをかけて、他の人が編集できないようにすることを**「排他制御」**といい、以下のようなイメージ図になります。"
      ]
    },
    {
      "cell_type": "markdown",
      "metadata": {
        "id": "pxhVHuoqx2gv",
        "colab_type": "text"
      },
      "source": [
        "\n",
        "![](http://image.itmedia.co.jp/ait/articles/1105/30/r501-01.gif)"
      ]
    },
    {
      "cell_type": "markdown",
      "metadata": {
        "id": "O4KzcZs6x2gw",
        "colab_type": "text"
      },
      "source": [
        "参照URL：http://image.itmedia.co.jp/ait/articles/1105/30/r501-01.gif"
      ]
    },
    {
      "cell_type": "markdown",
      "metadata": {
        "id": "scdM7Zmpx2gx",
        "colab_type": "text"
      },
      "source": [
        "### 8.1.2 RDBMS\n",
        "キーワード：RDMBS、MySQL、テーブル"
      ]
    },
    {
      "cell_type": "markdown",
      "metadata": {
        "id": "wMTtbtc7x2gx",
        "colab_type": "text"
      },
      "source": [
        "この章で学ぶデータベースのシステムは、RDBMSと言われるリレーショナルデータベースを管理するシステムです。代表的な製品に、Oracle, Microsoft SQL Server, PostgreSQL, MySQLなどがあります。ここでは、MariaDBというデータベースを使用します。以下は、データベースのイメージです。"
      ]
    },
    {
      "cell_type": "markdown",
      "metadata": {
        "id": "450vH0TSx2gy",
        "colab_type": "text"
      },
      "source": [
        "![comment](https://www.mysql.com/common/images/products/MySQL_Workbench_Visual_Design_Windows.gif)"
      ]
    },
    {
      "cell_type": "markdown",
      "metadata": {
        "id": "1xu0ZOJsx2gy",
        "colab_type": "text"
      },
      "source": [
        "参照URL：https://www.mysql.com/common/images/products/MySQL_Workbench_Visual_Design_Windows.gif"
      ]
    },
    {
      "cell_type": "markdown",
      "metadata": {
        "id": "aR2xLy0Hx2gz",
        "colab_type": "text"
      },
      "source": [
        "データベースにはテーブルがあり、データはそのテーブルから抽出します。テーブルは幾つかのカラム（列）から構成され、それぞれ型の異なるデータが入っています。数値型であったり、文字であったり、日時であったりします。Excelでは、同じ列に数字や文字など、色々な型のデータを混在して入れることができますが、データベースのテーブルには同じ型を指定してデータを入れる必要があります。データがそのような状態なので、後で集計がとても簡単にできます。それらの扱い方についても、後で学びます。"
      ]
    },
    {
      "cell_type": "markdown",
      "metadata": {
        "id": "azPrFh6ix2g0",
        "colab_type": "text"
      },
      "source": [
        "ここでデータベースに関する簡単な紹介は終わります。他にも色々な概念がありますが、まずはデータをハンドリングできるように、実装中心に学んでいきましょう。SQLもまた手を動かしながら学ぶことで、早く使えるようになります。"
      ]
    },
    {
      "cell_type": "markdown",
      "metadata": {
        "id": "s23rAG3Mx2g0",
        "colab_type": "text"
      },
      "source": [
        "なお、以下の参考文献が初心者にはわかりやすいので、全くSQLの経験がない方は前半のみ一読をおすすめします。一部、PHPとその連携もありますが、この講座を理解するためには必要ありません。適宜、興味があれば学習してください。"
      ]
    },
    {
      "cell_type": "markdown",
      "metadata": {
        "id": "1z8J6yY1x2g1",
        "colab_type": "text"
      },
      "source": [
        ">[参考文献]\n",
        "\n",
        ">『基礎からのMySQL 改訂版 (基礎からシリーズ) 』（西沢 夢路 (著)、 SBクリエイティブ）"
      ]
    },
    {
      "cell_type": "markdown",
      "metadata": {
        "id": "bDRxqd5px2g1",
        "colab_type": "text"
      },
      "source": [
        "## 8.2 SQLの基礎\n",
        "ゴール：SQLの基礎的な操作方法を身につける"
      ]
    },
    {
      "cell_type": "markdown",
      "metadata": {
        "id": "ITK1nGJRx2g2",
        "colab_type": "text"
      },
      "source": [
        "### 8.2.1 データベースとテーブルの作成\n",
        "キーワード：データベース作成、テーブル、show databases,use,show tables, create, select,"
      ]
    },
    {
      "cell_type": "markdown",
      "metadata": {
        "id": "eHdXk8wHx2g2",
        "colab_type": "text"
      },
      "source": [
        "早速、今あるデータベースにどんなものがあるのか見ていきましょう。以下のshow databases;でデータベースを表示することができます。（なお、本章と次の章はSQLでの実行を中心としますので、ここで練習されるのはSQLのみにしてください。Pythonは基本的に実行できません。もし実行したい場合は、Pythonの章で練習しましょう。ただし、カーネルを変更することでPythonは実行可能です。）"
      ]
    },
    {
      "cell_type": "markdown",
      "metadata": {
        "id": "5vyRI_W2x2g3",
        "colab_type": "text"
      },
      "source": [
        "** 注意：現在、JupyterLabからそのまま開いたiPython notebookでは使うことはできないため、本章と次章に関してはトップ画面にあるHelp->Launch Classic Notebook をクリックして、旧版のnotebookで実行してください。**"
      ]
    },
    {
      "cell_type": "markdown",
      "metadata": {
        "id": "eXRel0jox2g4",
        "colab_type": "text"
      },
      "source": [
        "** 注意：以下、練習問題も含め、可能な限り上から実行するようにしてください。あとの問題で使います。**"
      ]
    },
    {
      "cell_type": "code",
      "metadata": {
        "scrolled": false,
        "id": "PPODrkZYx2g4",
        "colab_type": "code",
        "colab": {},
        "outputId": "c07fb5ea-cf43-4ac1-bc76-6c4084bda63b"
      },
      "source": [
        "show databases;"
      ],
      "execution_count": 0,
      "outputs": [
        {
          "output_type": "display_data",
          "data": {
            "text/html": [
              "<table border=\"1\" class=\"dataframe\">\n",
              "  <thead>\n",
              "    <tr style=\"text-align: right;\">\n",
              "      <th></th>\n",
              "      <th>Database</th>\n",
              "    </tr>\n",
              "  </thead>\n",
              "  <tbody>\n",
              "    <tr>\n",
              "      <th>0</th>\n",
              "      <td>information_schema</td>\n",
              "    </tr>\n",
              "    <tr>\n",
              "      <th>1</th>\n",
              "      <td>mysql</td>\n",
              "    </tr>\n",
              "    <tr>\n",
              "      <th>2</th>\n",
              "      <td>performance_schema</td>\n",
              "    </tr>\n",
              "  </tbody>\n",
              "</table>"
            ]
          },
          "metadata": {
            "tags": []
          }
        }
      ]
    },
    {
      "cell_type": "markdown",
      "metadata": {
        "id": "kTClUsMox2g_",
        "colab_type": "text"
      },
      "source": [
        "ここに、新しいデータベースを追加してみましょう。create databaseを使い、その後に、データベース名を決めて実行します。ここでは、TEST1という名前にしています。"
      ]
    },
    {
      "cell_type": "code",
      "metadata": {
        "id": "Se0sMvAEx2hA",
        "colab_type": "code",
        "colab": {},
        "outputId": "0f589ee4-ce87-4400-a383-0cd5f9f02a86"
      },
      "source": [
        "create database TEST1;"
      ],
      "execution_count": 0,
      "outputs": [
        {
          "output_type": "display_data",
          "data": {
            "text/html": [
              "<div>Query OK, 1 rows affected.</div>"
            ]
          },
          "metadata": {
            "tags": []
          }
        }
      ]
    },
    {
      "cell_type": "markdown",
      "metadata": {
        "id": "XBarxW0lx2hC",
        "colab_type": "text"
      },
      "source": [
        "作ったデータベースがあるか確認してみましょう。先ほど追加したTEST1というデータベースが追加されていることがわかります。"
      ]
    },
    {
      "cell_type": "code",
      "metadata": {
        "id": "9oWM4XX-x2hC",
        "colab_type": "code",
        "colab": {},
        "outputId": "7e6c3d1b-7435-4bf7-8673-7b84e8aff778"
      },
      "source": [
        "show databases;"
      ],
      "execution_count": 0,
      "outputs": [
        {
          "output_type": "display_data",
          "data": {
            "text/html": [
              "<table border=\"1\" class=\"dataframe\">\n",
              "  <thead>\n",
              "    <tr style=\"text-align: right;\">\n",
              "      <th></th>\n",
              "      <th>Database</th>\n",
              "    </tr>\n",
              "  </thead>\n",
              "  <tbody>\n",
              "    <tr>\n",
              "      <th>0</th>\n",
              "      <td>TEST1</td>\n",
              "    </tr>\n",
              "    <tr>\n",
              "      <th>1</th>\n",
              "      <td>information_schema</td>\n",
              "    </tr>\n",
              "    <tr>\n",
              "      <th>2</th>\n",
              "      <td>mysql</td>\n",
              "    </tr>\n",
              "    <tr>\n",
              "      <th>3</th>\n",
              "      <td>performance_schema</td>\n",
              "    </tr>\n",
              "  </tbody>\n",
              "</table>"
            ]
          },
          "metadata": {
            "tags": []
          }
        }
      ]
    },
    {
      "cell_type": "markdown",
      "metadata": {
        "id": "7zQugvc-x2hE",
        "colab_type": "text"
      },
      "source": [
        "useを実行することで、これから使うデータベースを選択します。show tablesで今選択しているデータベースのテーブル一覧を表示させることができます。ここに使うテーブルを作成していきますが、まだ空です。"
      ]
    },
    {
      "cell_type": "code",
      "metadata": {
        "scrolled": true,
        "id": "-9iHPUpax2hF",
        "colab_type": "code",
        "colab": {},
        "outputId": "0c0d2fbf-5499-424d-acde-de368f020926"
      },
      "source": [
        "use TEST1;\n",
        "show tables;"
      ],
      "execution_count": 0,
      "outputs": [
        {
          "output_type": "display_data",
          "data": {
            "text/html": [
              "<div>Query OK, 0 rows affected.</div><table border=\"1\" class=\"dataframe\">\n",
              "  <thead>\n",
              "    <tr style=\"text-align: right;\">\n",
              "      <th></th>\n",
              "      <th>Tables_in_TEST1</th>\n",
              "    </tr>\n",
              "  </thead>\n",
              "  <tbody>\n",
              "  </tbody>\n",
              "</table>"
            ]
          },
          "metadata": {
            "tags": []
          }
        }
      ]
    },
    {
      "cell_type": "markdown",
      "metadata": {
        "id": "yT-Ve3mOx2hH",
        "colab_type": "text"
      },
      "source": [
        "ここにデータベースを作成していきます。テーブルにデータが入り、データのカラム名とその型を指定します。実際にテーブルを作ってみましょう。以下のようにcreate tableを実行しますが、要注意です。最初にテーブル名、データの型と名前等を付けています。ここではmeiboテーブルに整数型のid、文字型のnameを設定しています。さらに、primary keyというのは、このカラムが一意のキーとなっていることを宣言しています。つまり、同じデータは入らないということです。"
      ]
    },
    {
      "cell_type": "code",
      "metadata": {
        "id": "jG7pEPkhx2hH",
        "colab_type": "code",
        "colab": {},
        "outputId": "19a8f85f-2024-41f5-eb7f-826598f4bd85"
      },
      "source": [
        "create table meibo\n",
        "  (id int primary key, name varchar(20))\n",
        "  engine = MyISAM\n",
        "  default charset = utf8;"
      ],
      "execution_count": 0,
      "outputs": [
        {
          "output_type": "display_data",
          "data": {
            "text/html": [
              "<div>Query OK, 0 rows affected.</div>"
            ]
          },
          "metadata": {
            "tags": []
          }
        }
      ]
    },
    {
      "cell_type": "markdown",
      "metadata": {
        "id": "gz2NaHTex2hJ",
        "colab_type": "text"
      },
      "source": [
        "もう一度、テーブルがあるかどうか確認しましょう。"
      ]
    },
    {
      "cell_type": "code",
      "metadata": {
        "id": "fPRNsvvux2hL",
        "colab_type": "code",
        "colab": {},
        "outputId": "bc2ff315-8bdb-4751-8a88-f302644011a9"
      },
      "source": [
        "show tables;"
      ],
      "execution_count": 0,
      "outputs": [
        {
          "output_type": "display_data",
          "data": {
            "text/html": [
              "<table border=\"1\" class=\"dataframe\">\n",
              "  <thead>\n",
              "    <tr style=\"text-align: right;\">\n",
              "      <th></th>\n",
              "      <th>Tables_in_TEST1</th>\n",
              "    </tr>\n",
              "  </thead>\n",
              "  <tbody>\n",
              "    <tr>\n",
              "      <th>0</th>\n",
              "      <td>meibo</td>\n",
              "    </tr>\n",
              "  </tbody>\n",
              "</table>"
            ]
          },
          "metadata": {
            "tags": []
          }
        }
      ]
    },
    {
      "cell_type": "markdown",
      "metadata": {
        "id": "mY1ryFdjx2hN",
        "colab_type": "text"
      },
      "source": [
        "さて、ここでテーブルからデータを引っ張る時に、以下のようにselect * from テーブル名という書き方をします。アスタリスクは、すべての列名を持ってくるという意味です。ただ、以下のselect文を実行しても、空のテーブルだけなので、中身は何もなく、空のレコードが表示されます。"
      ]
    },
    {
      "cell_type": "code",
      "metadata": {
        "id": "w2bivyM9x2hO",
        "colab_type": "code",
        "colab": {},
        "outputId": "4c4b0d32-2994-497c-9c37-526cd05d6528"
      },
      "source": [
        "select * from meibo;"
      ],
      "execution_count": 0,
      "outputs": [
        {
          "output_type": "display_data",
          "data": {
            "text/html": [
              "<table border=\"1\" class=\"dataframe\">\n",
              "  <thead>\n",
              "    <tr style=\"text-align: right;\">\n",
              "      <th></th>\n",
              "      <th>id</th>\n",
              "      <th>name</th>\n",
              "    </tr>\n",
              "  </thead>\n",
              "  <tbody>\n",
              "  </tbody>\n",
              "</table>"
            ]
          },
          "metadata": {
            "tags": []
          }
        }
      ]
    },
    {
      "cell_type": "markdown",
      "metadata": {
        "id": "8q5z5UDux2hR",
        "colab_type": "text"
      },
      "source": [
        "用意したテーブルに、データを挿入してみましょう。データの挿入はinsert into を使います。その後に、「テーブル名（カラム名）values 挿入したいデータ」で実行します。以下のように記述して、データを3レコード挿入しています。"
      ]
    },
    {
      "cell_type": "code",
      "metadata": {
        "scrolled": false,
        "id": "t99VgwRqx2hR",
        "colab_type": "code",
        "colab": {},
        "outputId": "380e0535-2e68-4bb4-f6bd-2bdbea8d6f83"
      },
      "source": [
        "insert into meibo (id, name) values (1, \"Yamada\");\n",
        "insert into meibo (id, name) values (2, \"Tanaka\");\n",
        "insert into meibo (id, name) values (3, \"Sato\");"
      ],
      "execution_count": 0,
      "outputs": [
        {
          "output_type": "display_data",
          "data": {
            "text/html": [
              "<div>Query OK, 1 rows affected.</div><div>Query OK, 1 rows affected.</div><div>Query OK, 1 rows affected.</div>"
            ]
          },
          "metadata": {
            "tags": []
          }
        }
      ]
    },
    {
      "cell_type": "markdown",
      "metadata": {
        "id": "XA8LPcn6x2hT",
        "colab_type": "text"
      },
      "source": [
        "もう一度、テーブルを確認してみましょう。"
      ]
    },
    {
      "cell_type": "code",
      "metadata": {
        "id": "8kd8WiHnx2hU",
        "colab_type": "code",
        "colab": {},
        "outputId": "fadff5e9-0dd5-43a4-8bd5-3fac9abc107d"
      },
      "source": [
        "select * from meibo;"
      ],
      "execution_count": 0,
      "outputs": [
        {
          "output_type": "display_data",
          "data": {
            "text/html": [
              "<table border=\"1\" class=\"dataframe\">\n",
              "  <thead>\n",
              "    <tr style=\"text-align: right;\">\n",
              "      <th></th>\n",
              "      <th>id</th>\n",
              "      <th>name</th>\n",
              "    </tr>\n",
              "  </thead>\n",
              "  <tbody>\n",
              "    <tr>\n",
              "      <th>0</th>\n",
              "      <td>1</td>\n",
              "      <td>Yamada</td>\n",
              "    </tr>\n",
              "    <tr>\n",
              "      <th>1</th>\n",
              "      <td>2</td>\n",
              "      <td>Tanaka</td>\n",
              "    </tr>\n",
              "    <tr>\n",
              "      <th>2</th>\n",
              "      <td>3</td>\n",
              "      <td>Sato</td>\n",
              "    </tr>\n",
              "  </tbody>\n",
              "</table>"
            ]
          },
          "metadata": {
            "tags": []
          }
        }
      ]
    },
    {
      "cell_type": "markdown",
      "metadata": {
        "id": "e4Sz79e9x2hW",
        "colab_type": "text"
      },
      "source": [
        "なお、同じキーとなるidのデータを入れるとエラーが出て、以下のようになります。"
      ]
    },
    {
      "cell_type": "code",
      "metadata": {
        "id": "_iLLT-REx2hX",
        "colab_type": "code",
        "colab": {},
        "outputId": "e22c17d0-6010-45b9-9cb1-41edba196476"
      },
      "source": [
        "insert into meibo (id, name) values (1, \"Yamada\");"
      ],
      "execution_count": 0,
      "outputs": [
        {
          "output_type": "stream",
          "text": [
            "Traceback (most recent call last):\n",
            "  File \"/opt/conda/lib/python3.6/site-packages/mysql_kernel.py\", line 50, in do_execute\n",
            "    html = self.execute_sql(code)\n",
            "  File \"/opt/conda/lib/python3.6/site-packages/mysql_kernel.py\", line 71, in execute_sql\n",
            "    for sub_cursor in self.cursor.execute(sql, multi=True):\n",
            "  File \"/opt/conda/lib/python3.6/site-packages/mysql/connector/cursor.py\", line 494, in _execute_iter\n",
            "    result = next(query_iter)\n",
            "  File \"/opt/conda/lib/python3.6/site-packages/mysql/connector/connection.py\", line 526, in cmd_query_iter\n",
            "    yield self._handle_result(self._send_cmd(ServerCmd.QUERY, statements))\n",
            "  File \"/opt/conda/lib/python3.6/site-packages/mysql/connector/connection.py\", line 396, in _handle_result\n",
            "    raise errors.get_exception(packet)\n",
            "mysql.connector.errors.IntegrityError: 1062 (23000): Duplicate entry '1' for key 'PRIMARY'\n"
          ],
          "name": "stdout"
        }
      ]
    },
    {
      "cell_type": "markdown",
      "metadata": {
        "id": "QNVSRAyax2hZ",
        "colab_type": "text"
      },
      "source": [
        ">**[ポイント]**\n",
        "\n",
        ">show databases：データベースの一覧表示\n",
        "\n",
        ">use [データベース名]：データベースの選択\n",
        "\n",
        ">create databases [データベース名]：データベースの作成\n",
        "\n",
        ">create table [テーブル名] [カラム名 型]：テーブルの作成\n",
        "\n",
        ">create table [テーブル名] [カラム名 型] primary key：プライマリーキーの設定\n",
        "\n",
        ">select * from テーブル名：テーブル名のカラムすべてのデータを問い合わせ\n",
        "\n",
        ">instert into [テーブル名] [カラム名 型] [値]：データの挿入"
      ]
    },
    {
      "cell_type": "markdown",
      "metadata": {
        "id": "4zaLDs1Gx2hc",
        "colab_type": "text"
      },
      "source": [
        "#### <練習問題 1>\n",
        "\n",
        "セルを追加（左上にある＋を押下）して、今あるデータベースを表示させましょう。そして、新しいデータベース（TEST2など）を作って、そのデータベースを使うように選択しましょう。"
      ]
    },
    {
      "cell_type": "markdown",
      "metadata": {
        "id": "Ecz7vBRtx2hd",
        "colab_type": "text"
      },
      "source": [
        "#### <練習問題 2>\n",
        "\n",
        "練習問題１で作成、選択したデータベースに新しいテーブル「meibo2」を作成してください。作成後はテーブルが完成しているか、確認しましょう。"
      ]
    },
    {
      "cell_type": "markdown",
      "metadata": {
        "id": "2wJ0Jir7x2hf",
        "colab_type": "text"
      },
      "source": [
        "#### <練習問題 3>\n",
        "\n",
        "新しく作ったテーブルにデータを追加してみましょう。追加後は、確かにデータが入っているか確認してください。"
      ]
    },
    {
      "cell_type": "markdown",
      "metadata": {
        "id": "VX3zUb9Hx2hg",
        "colab_type": "text"
      },
      "source": [
        "### 8.2.2 データの検索と更新、削除、テーブルカラムの変更\n",
        "キーワード：where, in, like, update, delete, alter"
      ]
    },
    {
      "cell_type": "markdown",
      "metadata": {
        "id": "Kz45FtCxx2hh",
        "colab_type": "text"
      },
      "source": [
        "次は、データの抽出をするときに、条件を絞って実行してみましょう。条件はwhere文を使います。以下では、id=2の人のデータを抽出しています。<br>注：上記の練習問題を解いた後は、参照しているデータベースが異なるので、データベースTEST1を再選択しましょう。"
      ]
    },
    {
      "cell_type": "code",
      "metadata": {
        "id": "BVfsoEl7x2hj",
        "colab_type": "code",
        "colab": {},
        "outputId": "f0ff8c7a-e4c7-4eda-b405-0a48bde32578"
      },
      "source": [
        "/*データベースの選択*/\n",
        "use TEST1;"
      ],
      "execution_count": 0,
      "outputs": [
        {
          "output_type": "display_data",
          "data": {
            "text/html": [
              "<div>Query OK, 0 rows affected.</div>"
            ]
          },
          "metadata": {
            "tags": []
          }
        }
      ]
    },
    {
      "cell_type": "code",
      "metadata": {
        "id": "UG2g5CE4x2hm",
        "colab_type": "code",
        "colab": {},
        "outputId": "9f15bbee-65b7-49cb-8729-206d120f3112"
      },
      "source": [
        "select * from meibo where id=2;"
      ],
      "execution_count": 0,
      "outputs": [
        {
          "output_type": "display_data",
          "data": {
            "text/html": [
              "<table border=\"1\" class=\"dataframe\">\n",
              "  <thead>\n",
              "    <tr style=\"text-align: right;\">\n",
              "      <th></th>\n",
              "      <th>id</th>\n",
              "      <th>name</th>\n",
              "    </tr>\n",
              "  </thead>\n",
              "  <tbody>\n",
              "    <tr>\n",
              "      <th>0</th>\n",
              "      <td>2</td>\n",
              "      <td>Tanaka</td>\n",
              "    </tr>\n",
              "  </tbody>\n",
              "</table>"
            ]
          },
          "metadata": {
            "tags": []
          }
        }
      ]
    },
    {
      "cell_type": "markdown",
      "metadata": {
        "id": "gcus4jPAx2ho",
        "colab_type": "text"
      },
      "source": [
        "次は、テーブルにidが1か2かどちらかあるときです。inを使っています。（他、データの範囲を絞り込むためbetweenなどもありますので、調べてみてください。）"
      ]
    },
    {
      "cell_type": "code",
      "metadata": {
        "id": "FHI1f8Jex2hp",
        "colab_type": "code",
        "colab": {},
        "outputId": "dadc469b-355c-4d6d-dbbe-b77208baccb1"
      },
      "source": [
        "select * from meibo where id in (1,2);"
      ],
      "execution_count": 0,
      "outputs": [
        {
          "output_type": "display_data",
          "data": {
            "text/html": [
              "<table border=\"1\" class=\"dataframe\">\n",
              "  <thead>\n",
              "    <tr style=\"text-align: right;\">\n",
              "      <th></th>\n",
              "      <th>id</th>\n",
              "      <th>name</th>\n",
              "    </tr>\n",
              "  </thead>\n",
              "  <tbody>\n",
              "    <tr>\n",
              "      <th>0</th>\n",
              "      <td>1</td>\n",
              "      <td>Yamada</td>\n",
              "    </tr>\n",
              "    <tr>\n",
              "      <th>1</th>\n",
              "      <td>2</td>\n",
              "      <td>Tanaka</td>\n",
              "    </tr>\n",
              "  </tbody>\n",
              "</table>"
            ]
          },
          "metadata": {
            "tags": []
          }
        }
      ]
    },
    {
      "cell_type": "markdown",
      "metadata": {
        "id": "f_cqp02vx2hq",
        "colab_type": "text"
      },
      "source": [
        "以下のような記述で、曖昧検索もできます。likeを使って、以下の処理では、Sからはじまって後は任意の文字列ということで、「S%」としています。他にも、「%S」や「%S%」で検索が可能です。"
      ]
    },
    {
      "cell_type": "code",
      "metadata": {
        "id": "VcA-x6I-x2hr",
        "colab_type": "code",
        "colab": {},
        "outputId": "af375399-6f3a-4f78-ec87-b7fecdb1e3c7"
      },
      "source": [
        "select * from meibo where name like 'S%';"
      ],
      "execution_count": 0,
      "outputs": [
        {
          "output_type": "display_data",
          "data": {
            "text/html": [
              "<table border=\"1\" class=\"dataframe\">\n",
              "  <thead>\n",
              "    <tr style=\"text-align: right;\">\n",
              "      <th></th>\n",
              "      <th>id</th>\n",
              "      <th>name</th>\n",
              "    </tr>\n",
              "  </thead>\n",
              "  <tbody>\n",
              "    <tr>\n",
              "      <th>0</th>\n",
              "      <td>3</td>\n",
              "      <td>Sato</td>\n",
              "    </tr>\n",
              "  </tbody>\n",
              "</table>"
            ]
          },
          "metadata": {
            "tags": []
          }
        }
      ]
    },
    {
      "cell_type": "markdown",
      "metadata": {
        "id": "ipNJTLzix2hu",
        "colab_type": "text"
      },
      "source": [
        ">**[やってみよう]**\n",
        "\n",
        ">上の条件式を色々と変更してデータを検索してみましょう。例えば、idが1以外の人や、nameがaで終わる人はどのように検索しますか？"
      ]
    },
    {
      "cell_type": "markdown",
      "metadata": {
        "id": "pl46e-oSx2hu",
        "colab_type": "text"
      },
      "source": [
        "今までは存在してるデータを抽出してきましたが、次は、データを変更してみます。updateを使って、id=3の人を更新してみます。記述方法は以下のようになります。"
      ]
    },
    {
      "cell_type": "code",
      "metadata": {
        "id": "3vvrimqfx2hv",
        "colab_type": "code",
        "colab": {},
        "outputId": "13210d87-efb6-4d5e-e48d-91e4c368ae59"
      },
      "source": [
        "update meibo\n",
        " set name = \"Suzuki\"\n",
        " where id=3;"
      ],
      "execution_count": 0,
      "outputs": [
        {
          "output_type": "display_data",
          "data": {
            "text/html": [
              "<div>Query OK, 1 rows affected.</div>"
            ]
          },
          "metadata": {
            "tags": []
          }
        }
      ]
    },
    {
      "cell_type": "markdown",
      "metadata": {
        "id": "-0l9R2bux2hw",
        "colab_type": "text"
      },
      "source": [
        "更新されているか確かめてみましょう。"
      ]
    },
    {
      "cell_type": "code",
      "metadata": {
        "id": "gc9DXe4_x2hx",
        "colab_type": "code",
        "colab": {},
        "outputId": "e3f930ed-bc00-455f-e191-ca25f8431493"
      },
      "source": [
        "select * from meibo;"
      ],
      "execution_count": 0,
      "outputs": [
        {
          "output_type": "display_data",
          "data": {
            "text/html": [
              "<table border=\"1\" class=\"dataframe\">\n",
              "  <thead>\n",
              "    <tr style=\"text-align: right;\">\n",
              "      <th></th>\n",
              "      <th>id</th>\n",
              "      <th>name</th>\n",
              "    </tr>\n",
              "  </thead>\n",
              "  <tbody>\n",
              "    <tr>\n",
              "      <th>0</th>\n",
              "      <td>1</td>\n",
              "      <td>Yamada</td>\n",
              "    </tr>\n",
              "    <tr>\n",
              "      <th>1</th>\n",
              "      <td>2</td>\n",
              "      <td>Tanaka</td>\n",
              "    </tr>\n",
              "    <tr>\n",
              "      <th>2</th>\n",
              "      <td>3</td>\n",
              "      <td>Suzuki</td>\n",
              "    </tr>\n",
              "  </tbody>\n",
              "</table>"
            ]
          },
          "metadata": {
            "tags": []
          }
        }
      ]
    },
    {
      "cell_type": "markdown",
      "metadata": {
        "id": "U512OFtwx2hy",
        "colab_type": "text"
      },
      "source": [
        "データを削除する場合も扱いましょう。データを用意(id=4)して、確認します。"
      ]
    },
    {
      "cell_type": "code",
      "metadata": {
        "id": "GehpVbRzx2hz",
        "colab_type": "code",
        "colab": {},
        "outputId": "73492872-c358-46d3-b699-f33f0b36d193"
      },
      "source": [
        "insert into meibo (id, name) values (4, \"Dummy\");\n",
        "select * from meibo;"
      ],
      "execution_count": 0,
      "outputs": [
        {
          "output_type": "display_data",
          "data": {
            "text/html": [
              "<div>Query OK, 1 rows affected.</div><table border=\"1\" class=\"dataframe\">\n",
              "  <thead>\n",
              "    <tr style=\"text-align: right;\">\n",
              "      <th></th>\n",
              "      <th>id</th>\n",
              "      <th>name</th>\n",
              "    </tr>\n",
              "  </thead>\n",
              "  <tbody>\n",
              "    <tr>\n",
              "      <th>0</th>\n",
              "      <td>1</td>\n",
              "      <td>Yamada</td>\n",
              "    </tr>\n",
              "    <tr>\n",
              "      <th>1</th>\n",
              "      <td>2</td>\n",
              "      <td>Tanaka</td>\n",
              "    </tr>\n",
              "    <tr>\n",
              "      <th>2</th>\n",
              "      <td>3</td>\n",
              "      <td>Suzuki</td>\n",
              "    </tr>\n",
              "    <tr>\n",
              "      <th>3</th>\n",
              "      <td>4</td>\n",
              "      <td>Dummy</td>\n",
              "    </tr>\n",
              "  </tbody>\n",
              "</table>"
            ]
          },
          "metadata": {
            "tags": []
          }
        }
      ]
    },
    {
      "cell_type": "markdown",
      "metadata": {
        "id": "2gXISfSKx2h1",
        "colab_type": "text"
      },
      "source": [
        "データの削除はdeleteを使います。ここでは、先ほど用意しましたid＝4の人を削除します。"
      ]
    },
    {
      "cell_type": "code",
      "metadata": {
        "id": "hmCs1jjsx2h2",
        "colab_type": "code",
        "colab": {},
        "outputId": "aaa4b886-7b12-4af5-d284-5701658bd85b"
      },
      "source": [
        "delete from meibo\n",
        "where id = 4;"
      ],
      "execution_count": 0,
      "outputs": [
        {
          "output_type": "display_data",
          "data": {
            "text/html": [
              "<div>Query OK, 1 rows affected.</div>"
            ]
          },
          "metadata": {
            "tags": []
          }
        }
      ]
    },
    {
      "cell_type": "markdown",
      "metadata": {
        "id": "TyCuJ2zPx2h5",
        "colab_type": "text"
      },
      "source": [
        "念のため、消えているかどうか確認しましょう。"
      ]
    },
    {
      "cell_type": "code",
      "metadata": {
        "id": "YN_1IGMrx2h5",
        "colab_type": "code",
        "colab": {},
        "outputId": "c5a71eb2-a26a-4702-9ab6-454be61a7278"
      },
      "source": [
        "select * from meibo;"
      ],
      "execution_count": 0,
      "outputs": [
        {
          "output_type": "display_data",
          "data": {
            "text/html": [
              "<table border=\"1\" class=\"dataframe\">\n",
              "  <thead>\n",
              "    <tr style=\"text-align: right;\">\n",
              "      <th></th>\n",
              "      <th>id</th>\n",
              "      <th>name</th>\n",
              "    </tr>\n",
              "  </thead>\n",
              "  <tbody>\n",
              "    <tr>\n",
              "      <th>0</th>\n",
              "      <td>1</td>\n",
              "      <td>Yamada</td>\n",
              "    </tr>\n",
              "    <tr>\n",
              "      <th>1</th>\n",
              "      <td>2</td>\n",
              "      <td>Tanaka</td>\n",
              "    </tr>\n",
              "    <tr>\n",
              "      <th>2</th>\n",
              "      <td>3</td>\n",
              "      <td>Suzuki</td>\n",
              "    </tr>\n",
              "  </tbody>\n",
              "</table>"
            ]
          },
          "metadata": {
            "tags": []
          }
        }
      ]
    },
    {
      "cell_type": "markdown",
      "metadata": {
        "id": "71N5Tl_Bx2h9",
        "colab_type": "text"
      },
      "source": [
        "次は、新しいカラムを追加しましょう。その人のクラスと年齢を追加します。「alter table テーブル名 add 新しいカラム名 型」です。"
      ]
    },
    {
      "cell_type": "code",
      "metadata": {
        "id": "gyxk5-Apx2h-",
        "colab_type": "code",
        "colab": {},
        "outputId": "e0afbf09-c8f1-4602-c7ad-8e9202113009"
      },
      "source": [
        "alter table meibo add class int;\n",
        "alter table meibo add age int;"
      ],
      "execution_count": 0,
      "outputs": [
        {
          "output_type": "display_data",
          "data": {
            "text/html": [
              "<div>Query OK, 3 rows affected.</div><div>Query OK, 3 rows affected.</div>"
            ]
          },
          "metadata": {
            "tags": []
          }
        }
      ]
    },
    {
      "cell_type": "markdown",
      "metadata": {
        "id": "DGz4h43Qx2h_",
        "colab_type": "text"
      },
      "source": [
        "新しくカラムを追加したテーブルをチェックしてみましょう。classとageには、まだ何もデータは入っていないので、NULLになります。  \n",
        "教材の仕様でNoneと表示されていますが、実体はNULLです。"
      ]
    },
    {
      "cell_type": "code",
      "metadata": {
        "id": "ilhPgp--x2iA",
        "colab_type": "code",
        "colab": {},
        "outputId": "974d1bb2-b37e-4c56-f919-95d57c84c671"
      },
      "source": [
        "select * from meibo;"
      ],
      "execution_count": 0,
      "outputs": [
        {
          "output_type": "display_data",
          "data": {
            "text/html": [
              "<table border=\"1\" class=\"dataframe\">\n",
              "  <thead>\n",
              "    <tr style=\"text-align: right;\">\n",
              "      <th></th>\n",
              "      <th>id</th>\n",
              "      <th>name</th>\n",
              "      <th>class</th>\n",
              "      <th>age</th>\n",
              "    </tr>\n",
              "  </thead>\n",
              "  <tbody>\n",
              "    <tr>\n",
              "      <th>0</th>\n",
              "      <td>1</td>\n",
              "      <td>Yamada</td>\n",
              "      <td>None</td>\n",
              "      <td>None</td>\n",
              "    </tr>\n",
              "    <tr>\n",
              "      <th>1</th>\n",
              "      <td>2</td>\n",
              "      <td>Tanaka</td>\n",
              "      <td>None</td>\n",
              "      <td>None</td>\n",
              "    </tr>\n",
              "    <tr>\n",
              "      <th>2</th>\n",
              "      <td>3</td>\n",
              "      <td>Suzuki</td>\n",
              "      <td>None</td>\n",
              "      <td>None</td>\n",
              "    </tr>\n",
              "  </tbody>\n",
              "</table>"
            ]
          },
          "metadata": {
            "tags": []
          }
        }
      ]
    },
    {
      "cell_type": "markdown",
      "metadata": {
        "id": "gMFpKvrYx2iC",
        "colab_type": "text"
      },
      "source": [
        "updateを使ってデータを更新します。"
      ]
    },
    {
      "cell_type": "code",
      "metadata": {
        "id": "Ufhw7C05x2iC",
        "colab_type": "code",
        "colab": {},
        "outputId": "8ca1cc06-98b2-42c3-eb57-731ed49731d6"
      },
      "source": [
        "update meibo\n",
        " set class=1,age=13\n",
        " where id=3;"
      ],
      "execution_count": 0,
      "outputs": [
        {
          "output_type": "display_data",
          "data": {
            "text/html": [
              "<div>Query OK, 1 rows affected.</div>"
            ]
          },
          "metadata": {
            "tags": []
          }
        }
      ]
    },
    {
      "cell_type": "markdown",
      "metadata": {
        "id": "mObpuevCx2iF",
        "colab_type": "text"
      },
      "source": [
        "id=3の人のにクラスと年齢のデータが入りました。"
      ]
    },
    {
      "cell_type": "code",
      "metadata": {
        "id": "hl02rSxlx2iF",
        "colab_type": "code",
        "colab": {},
        "outputId": "9371b33b-893a-4c4b-cf6d-52f104491d45"
      },
      "source": [
        "select * from meibo;"
      ],
      "execution_count": 0,
      "outputs": [
        {
          "output_type": "display_data",
          "data": {
            "text/html": [
              "<table border=\"1\" class=\"dataframe\">\n",
              "  <thead>\n",
              "    <tr style=\"text-align: right;\">\n",
              "      <th></th>\n",
              "      <th>id</th>\n",
              "      <th>name</th>\n",
              "      <th>class</th>\n",
              "      <th>age</th>\n",
              "    </tr>\n",
              "  </thead>\n",
              "  <tbody>\n",
              "    <tr>\n",
              "      <th>0</th>\n",
              "      <td>1</td>\n",
              "      <td>Yamada</td>\n",
              "      <td>None</td>\n",
              "      <td>None</td>\n",
              "    </tr>\n",
              "    <tr>\n",
              "      <th>1</th>\n",
              "      <td>2</td>\n",
              "      <td>Tanaka</td>\n",
              "      <td>None</td>\n",
              "      <td>None</td>\n",
              "    </tr>\n",
              "    <tr>\n",
              "      <th>2</th>\n",
              "      <td>3</td>\n",
              "      <td>Suzuki</td>\n",
              "      <td>1</td>\n",
              "      <td>13</td>\n",
              "    </tr>\n",
              "  </tbody>\n",
              "</table>"
            ]
          },
          "metadata": {
            "tags": []
          }
        }
      ]
    },
    {
      "cell_type": "markdown",
      "metadata": {
        "id": "-d0vVqWAx2iH",
        "colab_type": "text"
      },
      "source": [
        "続けて、他の人のデータも更新しましょう。"
      ]
    },
    {
      "cell_type": "code",
      "metadata": {
        "id": "SC0z7iEIx2iH",
        "colab_type": "code",
        "colab": {},
        "outputId": "a4763f31-f1e9-4bf6-bd9e-b6c1b72d29e7"
      },
      "source": [
        "update meibo\n",
        " set class=1,age=14\n",
        " where id=1;\n",
        " \n",
        "update meibo\n",
        " set class=2,age=13\n",
        " where id=2;"
      ],
      "execution_count": 0,
      "outputs": [
        {
          "output_type": "display_data",
          "data": {
            "text/html": [
              "<div>Query OK, 1 rows affected.</div><div>Query OK, 1 rows affected.</div>"
            ]
          },
          "metadata": {
            "tags": []
          }
        }
      ]
    },
    {
      "cell_type": "code",
      "metadata": {
        "id": "jVhyW6Ptx2iJ",
        "colab_type": "code",
        "colab": {},
        "outputId": "e8eb36a0-7899-446a-8a5b-c813c7bc396d"
      },
      "source": [
        "select * from meibo;"
      ],
      "execution_count": 0,
      "outputs": [
        {
          "output_type": "display_data",
          "data": {
            "text/html": [
              "<table border=\"1\" class=\"dataframe\">\n",
              "  <thead>\n",
              "    <tr style=\"text-align: right;\">\n",
              "      <th></th>\n",
              "      <th>id</th>\n",
              "      <th>name</th>\n",
              "      <th>class</th>\n",
              "      <th>age</th>\n",
              "    </tr>\n",
              "  </thead>\n",
              "  <tbody>\n",
              "    <tr>\n",
              "      <th>0</th>\n",
              "      <td>1</td>\n",
              "      <td>Yamada</td>\n",
              "      <td>1</td>\n",
              "      <td>14</td>\n",
              "    </tr>\n",
              "    <tr>\n",
              "      <th>1</th>\n",
              "      <td>2</td>\n",
              "      <td>Tanaka</td>\n",
              "      <td>2</td>\n",
              "      <td>13</td>\n",
              "    </tr>\n",
              "    <tr>\n",
              "      <th>2</th>\n",
              "      <td>3</td>\n",
              "      <td>Suzuki</td>\n",
              "      <td>1</td>\n",
              "      <td>13</td>\n",
              "    </tr>\n",
              "  </tbody>\n",
              "</table>"
            ]
          },
          "metadata": {
            "tags": []
          }
        }
      ]
    },
    {
      "cell_type": "markdown",
      "metadata": {
        "id": "tlJm2m6Lx2iK",
        "colab_type": "text"
      },
      "source": [
        "新しい人たちのデータを追加しましょう。先ほどはinsertを1つ1つ実行していきました。ここでは、以下のコマンドで一度に更新します。"
      ]
    },
    {
      "cell_type": "code",
      "metadata": {
        "id": "wSR5yuqhx2iK",
        "colab_type": "code",
        "colab": {},
        "outputId": "fbd84ad1-e87a-40ec-f71b-247f3798c0f2"
      },
      "source": [
        "insert into meibo (id,name,class,age) \n",
        " values (4,\"Kato\",2,15),(5,\"Ito\",3,12),(6,\"Takeuchi\",2,16),(7,\"Kimura\",3,11),(8,\"Sato\",1,14);"
      ],
      "execution_count": 0,
      "outputs": [
        {
          "output_type": "display_data",
          "data": {
            "text/html": [
              "<div>Query OK, 5 rows affected.</div>"
            ]
          },
          "metadata": {
            "tags": []
          }
        }
      ]
    },
    {
      "cell_type": "markdown",
      "metadata": {
        "id": "gtxNSRLax2iN",
        "colab_type": "text"
      },
      "source": [
        "データの確認をします。"
      ]
    },
    {
      "cell_type": "code",
      "metadata": {
        "id": "MJoP6VwCx2iN",
        "colab_type": "code",
        "colab": {},
        "outputId": "76b04344-cd07-4b93-c2b7-5e6777163fe9"
      },
      "source": [
        "select * from meibo;"
      ],
      "execution_count": 0,
      "outputs": [
        {
          "output_type": "display_data",
          "data": {
            "text/html": [
              "<table border=\"1\" class=\"dataframe\">\n",
              "  <thead>\n",
              "    <tr style=\"text-align: right;\">\n",
              "      <th></th>\n",
              "      <th>id</th>\n",
              "      <th>name</th>\n",
              "      <th>class</th>\n",
              "      <th>age</th>\n",
              "    </tr>\n",
              "  </thead>\n",
              "  <tbody>\n",
              "    <tr>\n",
              "      <th>0</th>\n",
              "      <td>1</td>\n",
              "      <td>Yamada</td>\n",
              "      <td>1</td>\n",
              "      <td>14</td>\n",
              "    </tr>\n",
              "    <tr>\n",
              "      <th>1</th>\n",
              "      <td>2</td>\n",
              "      <td>Tanaka</td>\n",
              "      <td>2</td>\n",
              "      <td>13</td>\n",
              "    </tr>\n",
              "    <tr>\n",
              "      <th>2</th>\n",
              "      <td>3</td>\n",
              "      <td>Suzuki</td>\n",
              "      <td>1</td>\n",
              "      <td>13</td>\n",
              "    </tr>\n",
              "    <tr>\n",
              "      <th>3</th>\n",
              "      <td>4</td>\n",
              "      <td>Kato</td>\n",
              "      <td>2</td>\n",
              "      <td>15</td>\n",
              "    </tr>\n",
              "    <tr>\n",
              "      <th>4</th>\n",
              "      <td>5</td>\n",
              "      <td>Ito</td>\n",
              "      <td>3</td>\n",
              "      <td>12</td>\n",
              "    </tr>\n",
              "    <tr>\n",
              "      <th>5</th>\n",
              "      <td>6</td>\n",
              "      <td>Takeuchi</td>\n",
              "      <td>2</td>\n",
              "      <td>16</td>\n",
              "    </tr>\n",
              "    <tr>\n",
              "      <th>6</th>\n",
              "      <td>7</td>\n",
              "      <td>Kimura</td>\n",
              "      <td>3</td>\n",
              "      <td>11</td>\n",
              "    </tr>\n",
              "    <tr>\n",
              "      <th>7</th>\n",
              "      <td>8</td>\n",
              "      <td>Sato</td>\n",
              "      <td>1</td>\n",
              "      <td>14</td>\n",
              "    </tr>\n",
              "  </tbody>\n",
              "</table>"
            ]
          },
          "metadata": {
            "tags": []
          }
        }
      ]
    },
    {
      "cell_type": "markdown",
      "metadata": {
        "id": "FvwdmG9Bx2iS",
        "colab_type": "text"
      },
      "source": [
        ">**[ポイント]**\n",
        "\n",
        ">select * from [テーブル名] where 条件：条件でデータを絞り込み\n",
        "\n",
        ">in：条件マッチ\n",
        "\n",
        ">like：曖昧検索\n",
        "\n",
        ">delete from [テーブル名]：データの削除（注：条件を絞りこむ場合はwhere文を追加する）\n",
        "\n",
        ">alter table [テーブル名] add [カラム名 型]:テーブルのカラム名追加\n",
        "\n",
        ">update [テーブル名] set ：データのアップデート"
      ]
    },
    {
      "cell_type": "markdown",
      "metadata": {
        "id": "8oMQYu0Vx2iS",
        "colab_type": "text"
      },
      "source": [
        "#### <練習問題 1>\n",
        "\n",
        "TEST1のデータベースを選択して、上記のテーブルmeiboにて、id=4の人レコードを抽出してください。"
      ]
    },
    {
      "cell_type": "markdown",
      "metadata": {
        "id": "zmOK_u73x2iT",
        "colab_type": "text"
      },
      "source": [
        "#### <練習問題 2>\n",
        "\n",
        "上のmeiboテーブルでid=8の人のclassを7にアップデートしてください。select文でアップデートを確認できたら、id=8の人のclassを1に戻してください。"
      ]
    },
    {
      "cell_type": "markdown",
      "metadata": {
        "id": "Q48vzTy8x2iT",
        "colab_type": "text"
      },
      "source": [
        "#### <練習問題 3>　(※必須問題：以降の問題で使います。)\n",
        "\n",
        "上記と同じテーブルmeiboに新しい列heightという身長を追加してください。さらに、id=1から4までの人は150、id=5から6までの人は155、id=7から8までの人は160でアップデートしてください。"
      ]
    },
    {
      "cell_type": "markdown",
      "metadata": {
        "id": "GYeN9ERSx2iU",
        "colab_type": "text"
      },
      "source": [
        "### 8.2.3 データの集計、演算、並び替え\n",
        "キーワード：count,distinct,order,avg,sum,limit"
      ]
    },
    {
      "cell_type": "markdown",
      "metadata": {
        "id": "DT5HcvJqx2iU",
        "colab_type": "text"
      },
      "source": [
        "次は、SQLを使った集計になります。データを見るときにまず気になるのが、何レコードあるかということです。以下で、データが何行あるかカウントするために、countを使っています。"
      ]
    },
    {
      "cell_type": "code",
      "metadata": {
        "id": "h1e_pVzCx2iU",
        "colab_type": "code",
        "colab": {},
        "outputId": "65055865-1fdd-4f06-971f-72704ca418ff"
      },
      "source": [
        "use TEST1"
      ],
      "execution_count": 0,
      "outputs": [
        {
          "output_type": "display_data",
          "data": {
            "text/html": [
              "<div>Query OK, 0 rows affected.</div>"
            ]
          },
          "metadata": {
            "tags": []
          }
        }
      ]
    },
    {
      "cell_type": "code",
      "metadata": {
        "scrolled": true,
        "id": "Rq4UO4ONx2iW",
        "colab_type": "code",
        "colab": {},
        "outputId": "9a8ed9ab-d5ab-4be9-920d-bf9aa0cc07a1"
      },
      "source": [
        "select count(*) from meibo;"
      ],
      "execution_count": 0,
      "outputs": [
        {
          "output_type": "display_data",
          "data": {
            "text/html": [
              "<table border=\"1\" class=\"dataframe\">\n",
              "  <thead>\n",
              "    <tr style=\"text-align: right;\">\n",
              "      <th></th>\n",
              "      <th>count(*)</th>\n",
              "    </tr>\n",
              "  </thead>\n",
              "  <tbody>\n",
              "    <tr>\n",
              "      <th>0</th>\n",
              "      <td>8</td>\n",
              "    </tr>\n",
              "  </tbody>\n",
              "</table>"
            ]
          },
          "metadata": {
            "tags": []
          }
        }
      ]
    },
    {
      "cell_type": "markdown",
      "metadata": {
        "id": "vGTzWEnnx2iX",
        "colab_type": "text"
      },
      "source": [
        "なお、asで名前をつけることができます。エイリアスといいます。cntというカラム名をつけてみましょう。"
      ]
    },
    {
      "cell_type": "code",
      "metadata": {
        "id": "qjqPxauTx2iY",
        "colab_type": "code",
        "colab": {},
        "outputId": "2041e282-73bd-4289-9272-4f1ee9eb8466"
      },
      "source": [
        "select count(*) as cnt from meibo;"
      ],
      "execution_count": 0,
      "outputs": [
        {
          "output_type": "display_data",
          "data": {
            "text/html": [
              "<table border=\"1\" class=\"dataframe\">\n",
              "  <thead>\n",
              "    <tr style=\"text-align: right;\">\n",
              "      <th></th>\n",
              "      <th>cnt</th>\n",
              "    </tr>\n",
              "  </thead>\n",
              "  <tbody>\n",
              "    <tr>\n",
              "      <th>0</th>\n",
              "      <td>8</td>\n",
              "    </tr>\n",
              "  </tbody>\n",
              "</table>"
            ]
          },
          "metadata": {
            "tags": []
          }
        }
      ]
    },
    {
      "cell_type": "markdown",
      "metadata": {
        "id": "Rjcb4WTix2iZ",
        "colab_type": "text"
      },
      "source": [
        "次は、このcountを使って、異なる種類のデータを数えてみます。具体的には、先ほどレコード数は8レコードありましたが、異なるクラスは何クラスあるでしょうか。countとdistinct を併用することで、重複を除いた件数をカウントできます。"
      ]
    },
    {
      "cell_type": "code",
      "metadata": {
        "scrolled": true,
        "id": "dNQ5nxH4x2iZ",
        "colab_type": "code",
        "colab": {},
        "outputId": "c879f7cf-3ccc-46be-d891-c0545cede7f7"
      },
      "source": [
        "select count(distinct class) as classCnt from meibo;"
      ],
      "execution_count": 0,
      "outputs": [
        {
          "output_type": "display_data",
          "data": {
            "text/html": [
              "<table border=\"1\" class=\"dataframe\">\n",
              "  <thead>\n",
              "    <tr style=\"text-align: right;\">\n",
              "      <th></th>\n",
              "      <th>classCnt</th>\n",
              "    </tr>\n",
              "  </thead>\n",
              "  <tbody>\n",
              "    <tr>\n",
              "      <th>0</th>\n",
              "      <td>3</td>\n",
              "    </tr>\n",
              "  </tbody>\n",
              "</table>"
            ]
          },
          "metadata": {
            "tags": []
          }
        }
      ]
    },
    {
      "cell_type": "markdown",
      "metadata": {
        "id": "3qg8sqhVx2ib",
        "colab_type": "text"
      },
      "source": [
        "次は、平均を計算します。以下は、平均年齢を計算しています。avgを使います。"
      ]
    },
    {
      "cell_type": "code",
      "metadata": {
        "id": "lMCUgW54x2ib",
        "colab_type": "code",
        "colab": {},
        "outputId": "b7917d5e-900d-4f28-a4b3-9096367311ed"
      },
      "source": [
        "select avg(age) as avgAge from meibo;"
      ],
      "execution_count": 0,
      "outputs": [
        {
          "output_type": "display_data",
          "data": {
            "text/html": [
              "<table border=\"1\" class=\"dataframe\">\n",
              "  <thead>\n",
              "    <tr style=\"text-align: right;\">\n",
              "      <th></th>\n",
              "      <th>avgAge</th>\n",
              "    </tr>\n",
              "  </thead>\n",
              "  <tbody>\n",
              "    <tr>\n",
              "      <th>0</th>\n",
              "      <td>13.5000</td>\n",
              "    </tr>\n",
              "  </tbody>\n",
              "</table>"
            ]
          },
          "metadata": {
            "tags": []
          }
        }
      ]
    },
    {
      "cell_type": "markdown",
      "metadata": {
        "id": "wR-Dbonpx2ih",
        "colab_type": "text"
      },
      "source": [
        "なお、sum関数を使うと合計されますが、年齢の合計の用途はあまりなさそうです。ここでは、先ほどのcountと組み合わせて、平均年齢を算出しましょう。上記の結果と同じになっていることがわかります。このように、selectの中で演算が可能です。"
      ]
    },
    {
      "cell_type": "code",
      "metadata": {
        "id": "eCu9ouVAx2ii",
        "colab_type": "code",
        "colab": {},
        "outputId": "83007642-e269-4672-a2b8-cd81b2c35309"
      },
      "source": [
        "select sum(age) / count(*) as avgAge from meibo;"
      ],
      "execution_count": 0,
      "outputs": [
        {
          "output_type": "display_data",
          "data": {
            "text/html": [
              "<table border=\"1\" class=\"dataframe\">\n",
              "  <thead>\n",
              "    <tr style=\"text-align: right;\">\n",
              "      <th></th>\n",
              "      <th>avgAge</th>\n",
              "    </tr>\n",
              "  </thead>\n",
              "  <tbody>\n",
              "    <tr>\n",
              "      <th>0</th>\n",
              "      <td>13.5000</td>\n",
              "    </tr>\n",
              "  </tbody>\n",
              "</table>"
            ]
          },
          "metadata": {
            "tags": []
          }
        }
      ]
    },
    {
      "cell_type": "markdown",
      "metadata": {
        "id": "60RXdTH9x2ik",
        "colab_type": "text"
      },
      "source": [
        "年齢最大値と最小値は以下のように記述します。最年少が11歳、最年長が16歳とわかります。"
      ]
    },
    {
      "cell_type": "code",
      "metadata": {
        "id": "a0isYAhCx2ik",
        "colab_type": "code",
        "colab": {},
        "outputId": "3574d9fe-1d9f-457e-cd52-5bc58e871ddc"
      },
      "source": [
        "select min(age) as minAge, max(age) as maxAge from meibo;"
      ],
      "execution_count": 0,
      "outputs": [
        {
          "output_type": "display_data",
          "data": {
            "text/html": [
              "<table border=\"1\" class=\"dataframe\">\n",
              "  <thead>\n",
              "    <tr style=\"text-align: right;\">\n",
              "      <th></th>\n",
              "      <th>minAge</th>\n",
              "      <th>maxAge</th>\n",
              "    </tr>\n",
              "  </thead>\n",
              "  <tbody>\n",
              "    <tr>\n",
              "      <th>0</th>\n",
              "      <td>11</td>\n",
              "      <td>16</td>\n",
              "    </tr>\n",
              "  </tbody>\n",
              "</table>"
            ]
          },
          "metadata": {
            "tags": []
          }
        }
      ]
    },
    {
      "cell_type": "markdown",
      "metadata": {
        "id": "TXYR9LwFx2il",
        "colab_type": "text"
      },
      "source": [
        "次は、idを軸として降順に並べてみましょう。並び替えはorder by カラム名を使います。descをつけることで、降順（大きいものから小さいものの順番）になります。"
      ]
    },
    {
      "cell_type": "code",
      "metadata": {
        "scrolled": true,
        "id": "jvkobi3Ax2im",
        "colab_type": "code",
        "colab": {},
        "outputId": "12f5cc2f-dd0b-4e30-a16d-ac8f11939474"
      },
      "source": [
        "select * from meibo order by id desc;"
      ],
      "execution_count": 0,
      "outputs": [
        {
          "output_type": "display_data",
          "data": {
            "text/html": [
              "<table border=\"1\" class=\"dataframe\">\n",
              "  <thead>\n",
              "    <tr style=\"text-align: right;\">\n",
              "      <th></th>\n",
              "      <th>id</th>\n",
              "      <th>name</th>\n",
              "      <th>class</th>\n",
              "      <th>age</th>\n",
              "      <th>height</th>\n",
              "    </tr>\n",
              "  </thead>\n",
              "  <tbody>\n",
              "    <tr>\n",
              "      <th>0</th>\n",
              "      <td>8</td>\n",
              "      <td>Sato</td>\n",
              "      <td>1</td>\n",
              "      <td>14</td>\n",
              "      <td>160</td>\n",
              "    </tr>\n",
              "    <tr>\n",
              "      <th>1</th>\n",
              "      <td>7</td>\n",
              "      <td>Kimura</td>\n",
              "      <td>3</td>\n",
              "      <td>11</td>\n",
              "      <td>160</td>\n",
              "    </tr>\n",
              "    <tr>\n",
              "      <th>2</th>\n",
              "      <td>6</td>\n",
              "      <td>Takeuchi</td>\n",
              "      <td>2</td>\n",
              "      <td>16</td>\n",
              "      <td>155</td>\n",
              "    </tr>\n",
              "    <tr>\n",
              "      <th>3</th>\n",
              "      <td>5</td>\n",
              "      <td>Ito</td>\n",
              "      <td>3</td>\n",
              "      <td>12</td>\n",
              "      <td>155</td>\n",
              "    </tr>\n",
              "    <tr>\n",
              "      <th>4</th>\n",
              "      <td>4</td>\n",
              "      <td>Kato</td>\n",
              "      <td>2</td>\n",
              "      <td>15</td>\n",
              "      <td>150</td>\n",
              "    </tr>\n",
              "    <tr>\n",
              "      <th>5</th>\n",
              "      <td>3</td>\n",
              "      <td>Suzuki</td>\n",
              "      <td>1</td>\n",
              "      <td>13</td>\n",
              "      <td>150</td>\n",
              "    </tr>\n",
              "    <tr>\n",
              "      <th>6</th>\n",
              "      <td>2</td>\n",
              "      <td>Tanaka</td>\n",
              "      <td>2</td>\n",
              "      <td>13</td>\n",
              "      <td>150</td>\n",
              "    </tr>\n",
              "    <tr>\n",
              "      <th>7</th>\n",
              "      <td>1</td>\n",
              "      <td>Yamada</td>\n",
              "      <td>1</td>\n",
              "      <td>14</td>\n",
              "      <td>150</td>\n",
              "    </tr>\n",
              "  </tbody>\n",
              "</table>"
            ]
          },
          "metadata": {
            "tags": []
          }
        }
      ]
    },
    {
      "cell_type": "markdown",
      "metadata": {
        "id": "2M0uD_YHx2in",
        "colab_type": "text"
      },
      "source": [
        "今度は、ageを軸として昇順（小さいものから大きいものの順番）に並べてみましょう。デフォルトは昇順です。"
      ]
    },
    {
      "cell_type": "code",
      "metadata": {
        "id": "NKPvUww5x2io",
        "colab_type": "code",
        "colab": {},
        "outputId": "4323c9bb-8c4c-4f91-e022-d290a2582eaf"
      },
      "source": [
        "select * from meibo order by age;"
      ],
      "execution_count": 0,
      "outputs": [
        {
          "output_type": "display_data",
          "data": {
            "text/html": [
              "<table border=\"1\" class=\"dataframe\">\n",
              "  <thead>\n",
              "    <tr style=\"text-align: right;\">\n",
              "      <th></th>\n",
              "      <th>id</th>\n",
              "      <th>name</th>\n",
              "      <th>class</th>\n",
              "      <th>age</th>\n",
              "      <th>height</th>\n",
              "    </tr>\n",
              "  </thead>\n",
              "  <tbody>\n",
              "    <tr>\n",
              "      <th>0</th>\n",
              "      <td>7</td>\n",
              "      <td>Kimura</td>\n",
              "      <td>3</td>\n",
              "      <td>11</td>\n",
              "      <td>160</td>\n",
              "    </tr>\n",
              "    <tr>\n",
              "      <th>1</th>\n",
              "      <td>5</td>\n",
              "      <td>Ito</td>\n",
              "      <td>3</td>\n",
              "      <td>12</td>\n",
              "      <td>155</td>\n",
              "    </tr>\n",
              "    <tr>\n",
              "      <th>2</th>\n",
              "      <td>2</td>\n",
              "      <td>Tanaka</td>\n",
              "      <td>2</td>\n",
              "      <td>13</td>\n",
              "      <td>150</td>\n",
              "    </tr>\n",
              "    <tr>\n",
              "      <th>3</th>\n",
              "      <td>3</td>\n",
              "      <td>Suzuki</td>\n",
              "      <td>1</td>\n",
              "      <td>13</td>\n",
              "      <td>150</td>\n",
              "    </tr>\n",
              "    <tr>\n",
              "      <th>4</th>\n",
              "      <td>1</td>\n",
              "      <td>Yamada</td>\n",
              "      <td>1</td>\n",
              "      <td>14</td>\n",
              "      <td>150</td>\n",
              "    </tr>\n",
              "    <tr>\n",
              "      <th>5</th>\n",
              "      <td>8</td>\n",
              "      <td>Sato</td>\n",
              "      <td>1</td>\n",
              "      <td>14</td>\n",
              "      <td>160</td>\n",
              "    </tr>\n",
              "    <tr>\n",
              "      <th>6</th>\n",
              "      <td>4</td>\n",
              "      <td>Kato</td>\n",
              "      <td>2</td>\n",
              "      <td>15</td>\n",
              "      <td>150</td>\n",
              "    </tr>\n",
              "    <tr>\n",
              "      <th>7</th>\n",
              "      <td>6</td>\n",
              "      <td>Takeuchi</td>\n",
              "      <td>2</td>\n",
              "      <td>16</td>\n",
              "      <td>155</td>\n",
              "    </tr>\n",
              "  </tbody>\n",
              "</table>"
            ]
          },
          "metadata": {
            "tags": []
          }
        }
      ]
    },
    {
      "cell_type": "markdown",
      "metadata": {
        "id": "s29pgj0Nx2ip",
        "colab_type": "text"
      },
      "source": [
        "class,ageの2つの軸で昇順に並べてみましょう。なお、優先順位は先に記述したカラムになります。この場合は、classです。"
      ]
    },
    {
      "cell_type": "code",
      "metadata": {
        "id": "DLlrD-OAx2ip",
        "colab_type": "code",
        "colab": {},
        "outputId": "bc018673-4da4-49fe-92bb-7ce300bfc3fe"
      },
      "source": [
        "select * from meibo order by class,age;"
      ],
      "execution_count": 0,
      "outputs": [
        {
          "output_type": "display_data",
          "data": {
            "text/html": [
              "<table border=\"1\" class=\"dataframe\">\n",
              "  <thead>\n",
              "    <tr style=\"text-align: right;\">\n",
              "      <th></th>\n",
              "      <th>id</th>\n",
              "      <th>name</th>\n",
              "      <th>class</th>\n",
              "      <th>age</th>\n",
              "      <th>height</th>\n",
              "    </tr>\n",
              "  </thead>\n",
              "  <tbody>\n",
              "    <tr>\n",
              "      <th>0</th>\n",
              "      <td>3</td>\n",
              "      <td>Suzuki</td>\n",
              "      <td>1</td>\n",
              "      <td>13</td>\n",
              "      <td>150</td>\n",
              "    </tr>\n",
              "    <tr>\n",
              "      <th>1</th>\n",
              "      <td>1</td>\n",
              "      <td>Yamada</td>\n",
              "      <td>1</td>\n",
              "      <td>14</td>\n",
              "      <td>150</td>\n",
              "    </tr>\n",
              "    <tr>\n",
              "      <th>2</th>\n",
              "      <td>8</td>\n",
              "      <td>Sato</td>\n",
              "      <td>1</td>\n",
              "      <td>14</td>\n",
              "      <td>160</td>\n",
              "    </tr>\n",
              "    <tr>\n",
              "      <th>3</th>\n",
              "      <td>2</td>\n",
              "      <td>Tanaka</td>\n",
              "      <td>2</td>\n",
              "      <td>13</td>\n",
              "      <td>150</td>\n",
              "    </tr>\n",
              "    <tr>\n",
              "      <th>4</th>\n",
              "      <td>4</td>\n",
              "      <td>Kato</td>\n",
              "      <td>2</td>\n",
              "      <td>15</td>\n",
              "      <td>150</td>\n",
              "    </tr>\n",
              "    <tr>\n",
              "      <th>5</th>\n",
              "      <td>6</td>\n",
              "      <td>Takeuchi</td>\n",
              "      <td>2</td>\n",
              "      <td>16</td>\n",
              "      <td>155</td>\n",
              "    </tr>\n",
              "    <tr>\n",
              "      <th>6</th>\n",
              "      <td>7</td>\n",
              "      <td>Kimura</td>\n",
              "      <td>3</td>\n",
              "      <td>11</td>\n",
              "      <td>160</td>\n",
              "    </tr>\n",
              "    <tr>\n",
              "      <th>7</th>\n",
              "      <td>5</td>\n",
              "      <td>Ito</td>\n",
              "      <td>3</td>\n",
              "      <td>12</td>\n",
              "      <td>155</td>\n",
              "    </tr>\n",
              "  </tbody>\n",
              "</table>"
            ]
          },
          "metadata": {
            "tags": []
          }
        }
      ]
    },
    {
      "cell_type": "markdown",
      "metadata": {
        "id": "u_j310Kux2iq",
        "colab_type": "text"
      },
      "source": [
        "limitを使うと行数の制限ができます。数多くのデータがありそうなときは、limitを使ってデータを確認しましょう。"
      ]
    },
    {
      "cell_type": "code",
      "metadata": {
        "id": "kW_dpFOIx2ir",
        "colab_type": "code",
        "colab": {},
        "outputId": "679191c4-66d5-46b3-d5d6-08d7fda82f50"
      },
      "source": [
        "select * from meibo limit 3;"
      ],
      "execution_count": 0,
      "outputs": [
        {
          "output_type": "display_data",
          "data": {
            "text/html": [
              "<table border=\"1\" class=\"dataframe\">\n",
              "  <thead>\n",
              "    <tr style=\"text-align: right;\">\n",
              "      <th></th>\n",
              "      <th>id</th>\n",
              "      <th>name</th>\n",
              "      <th>class</th>\n",
              "      <th>age</th>\n",
              "      <th>height</th>\n",
              "    </tr>\n",
              "  </thead>\n",
              "  <tbody>\n",
              "    <tr>\n",
              "      <th>0</th>\n",
              "      <td>1</td>\n",
              "      <td>Yamada</td>\n",
              "      <td>1</td>\n",
              "      <td>14</td>\n",
              "      <td>150</td>\n",
              "    </tr>\n",
              "    <tr>\n",
              "      <th>1</th>\n",
              "      <td>2</td>\n",
              "      <td>Tanaka</td>\n",
              "      <td>2</td>\n",
              "      <td>13</td>\n",
              "      <td>150</td>\n",
              "    </tr>\n",
              "    <tr>\n",
              "      <th>2</th>\n",
              "      <td>3</td>\n",
              "      <td>Suzuki</td>\n",
              "      <td>1</td>\n",
              "      <td>13</td>\n",
              "      <td>150</td>\n",
              "    </tr>\n",
              "  </tbody>\n",
              "</table>"
            ]
          },
          "metadata": {
            "tags": []
          }
        }
      ]
    },
    {
      "cell_type": "markdown",
      "metadata": {
        "id": "IEmKQbuFx2is",
        "colab_type": "text"
      },
      "source": [
        "次は、複数条件での絞り込みです。同時条件で絞り込む場合はandを使います。"
      ]
    },
    {
      "cell_type": "code",
      "metadata": {
        "id": "xfVNzGy3x2is",
        "colab_type": "code",
        "colab": {},
        "outputId": "d642f532-78e0-4a8d-cdac-eb3243a8bc17"
      },
      "source": [
        "select * from meibo where class=2 and age>=15;"
      ],
      "execution_count": 0,
      "outputs": [
        {
          "output_type": "display_data",
          "data": {
            "text/html": [
              "<table border=\"1\" class=\"dataframe\">\n",
              "  <thead>\n",
              "    <tr style=\"text-align: right;\">\n",
              "      <th></th>\n",
              "      <th>id</th>\n",
              "      <th>name</th>\n",
              "      <th>class</th>\n",
              "      <th>age</th>\n",
              "      <th>height</th>\n",
              "    </tr>\n",
              "  </thead>\n",
              "  <tbody>\n",
              "    <tr>\n",
              "      <th>0</th>\n",
              "      <td>4</td>\n",
              "      <td>Kato</td>\n",
              "      <td>2</td>\n",
              "      <td>15</td>\n",
              "      <td>150</td>\n",
              "    </tr>\n",
              "    <tr>\n",
              "      <th>1</th>\n",
              "      <td>6</td>\n",
              "      <td>Takeuchi</td>\n",
              "      <td>2</td>\n",
              "      <td>16</td>\n",
              "      <td>155</td>\n",
              "    </tr>\n",
              "  </tbody>\n",
              "</table>"
            ]
          },
          "metadata": {
            "tags": []
          }
        }
      ]
    },
    {
      "cell_type": "markdown",
      "metadata": {
        "id": "DY83VrK8x2iu",
        "colab_type": "text"
      },
      "source": [
        "次は、or です。どちらか片方の条件を満たすものを絞り込む場合に使います。"
      ]
    },
    {
      "cell_type": "code",
      "metadata": {
        "id": "zY87yocGx2iu",
        "colab_type": "code",
        "colab": {},
        "outputId": "5be273ce-6eb0-4708-88b5-8768f7a343db"
      },
      "source": [
        "select * from meibo where class=1 or age>=15;"
      ],
      "execution_count": 0,
      "outputs": [
        {
          "output_type": "display_data",
          "data": {
            "text/html": [
              "<table border=\"1\" class=\"dataframe\">\n",
              "  <thead>\n",
              "    <tr style=\"text-align: right;\">\n",
              "      <th></th>\n",
              "      <th>id</th>\n",
              "      <th>name</th>\n",
              "      <th>class</th>\n",
              "      <th>age</th>\n",
              "      <th>height</th>\n",
              "    </tr>\n",
              "  </thead>\n",
              "  <tbody>\n",
              "    <tr>\n",
              "      <th>0</th>\n",
              "      <td>1</td>\n",
              "      <td>Yamada</td>\n",
              "      <td>1</td>\n",
              "      <td>14</td>\n",
              "      <td>150</td>\n",
              "    </tr>\n",
              "    <tr>\n",
              "      <th>1</th>\n",
              "      <td>3</td>\n",
              "      <td>Suzuki</td>\n",
              "      <td>1</td>\n",
              "      <td>13</td>\n",
              "      <td>150</td>\n",
              "    </tr>\n",
              "    <tr>\n",
              "      <th>2</th>\n",
              "      <td>4</td>\n",
              "      <td>Kato</td>\n",
              "      <td>2</td>\n",
              "      <td>15</td>\n",
              "      <td>150</td>\n",
              "    </tr>\n",
              "    <tr>\n",
              "      <th>3</th>\n",
              "      <td>6</td>\n",
              "      <td>Takeuchi</td>\n",
              "      <td>2</td>\n",
              "      <td>16</td>\n",
              "      <td>155</td>\n",
              "    </tr>\n",
              "    <tr>\n",
              "      <th>4</th>\n",
              "      <td>8</td>\n",
              "      <td>Sato</td>\n",
              "      <td>1</td>\n",
              "      <td>14</td>\n",
              "      <td>160</td>\n",
              "    </tr>\n",
              "  </tbody>\n",
              "</table>"
            ]
          },
          "metadata": {
            "tags": []
          }
        }
      ]
    },
    {
      "cell_type": "markdown",
      "metadata": {
        "id": "1IUch8cTx2i0",
        "colab_type": "text"
      },
      "source": [
        ">**[ポイント]**\n",
        "\n",
        ">count：レコードのカウント\n",
        "\n",
        ">as：エイリアス（名前をつける）\n",
        "\n",
        ">distinct ：重複なく区別する\n",
        "\n",
        ">avg ：平均値\n",
        "\n",
        ">max ：最大値\n",
        "\n",
        ">min ：最小値\n",
        "\n",
        ">order by カラム名：昇順に並び替え（降順はカラム名の後にdesc）"
      ]
    },
    {
      "cell_type": "markdown",
      "metadata": {
        "id": "D6OkadLqx2i1",
        "colab_type": "text"
      },
      "source": [
        "#### <練習問題 1>\n",
        "上記と同じmeiboテーブルで、異なる年齢は何種類でしょうか。"
      ]
    },
    {
      "cell_type": "markdown",
      "metadata": {
        "id": "KwiKj71mx2i3",
        "colab_type": "text"
      },
      "source": [
        "#### <練習問題 2>\n",
        "身長が一番小さい人、大きい人の身長をそれぞれ求めてください。"
      ]
    },
    {
      "cell_type": "markdown",
      "metadata": {
        "id": "_gI9wi8Px2i3",
        "colab_type": "text"
      },
      "source": [
        "#### <練習問題 3>\n",
        "身長が155以上で、classが3のレコードを抽出してください。\n",
        "\n"
      ]
    },
    {
      "cell_type": "markdown",
      "metadata": {
        "id": "TQ-cZp4Sx2i4",
        "colab_type": "text"
      },
      "source": [
        "### 8.2.4 グループごとの集計\n",
        "キーワード：group by, having"
      ]
    },
    {
      "cell_type": "markdown",
      "metadata": {
        "id": "KctWX4AJx2i4",
        "colab_type": "text"
      },
      "source": [
        "次は、SQLを使ってグループごとに集計してみましょう。似ているのはExcelのピボットテーブルの機能です。ここではクラスを軸にしてみます。次のコマンドは各クラスの人数を数えています。"
      ]
    },
    {
      "cell_type": "code",
      "metadata": {
        "id": "TnFxw3iUx2i4",
        "colab_type": "code",
        "colab": {},
        "outputId": "625bce32-2c8f-44a4-8be4-3e563267544c"
      },
      "source": [
        "select class, count(*) as num from meibo group by class;"
      ],
      "execution_count": 0,
      "outputs": [
        {
          "output_type": "display_data",
          "data": {
            "text/html": [
              "<table border=\"1\" class=\"dataframe\">\n",
              "  <thead>\n",
              "    <tr style=\"text-align: right;\">\n",
              "      <th></th>\n",
              "      <th>class</th>\n",
              "      <th>num</th>\n",
              "    </tr>\n",
              "  </thead>\n",
              "  <tbody>\n",
              "    <tr>\n",
              "      <th>0</th>\n",
              "      <td>1</td>\n",
              "      <td>3</td>\n",
              "    </tr>\n",
              "    <tr>\n",
              "      <th>1</th>\n",
              "      <td>2</td>\n",
              "      <td>3</td>\n",
              "    </tr>\n",
              "    <tr>\n",
              "      <th>2</th>\n",
              "      <td>3</td>\n",
              "      <td>2</td>\n",
              "    </tr>\n",
              "  </tbody>\n",
              "</table>"
            ]
          },
          "metadata": {
            "tags": []
          }
        }
      ]
    },
    {
      "cell_type": "markdown",
      "metadata": {
        "id": "ZW46pHMlx2i6",
        "colab_type": "text"
      },
      "source": [
        "平均を各グループごとに算出することも可能です。最小値、最大値も同様に算出できます。"
      ]
    },
    {
      "cell_type": "code",
      "metadata": {
        "scrolled": true,
        "id": "gpKuxNzpx2i6",
        "colab_type": "code",
        "colab": {},
        "outputId": "a00d0102-6492-427e-a974-9589d6db2783"
      },
      "source": [
        "select class, count(*) as num, avg(age) as avgAge from meibo group by class;"
      ],
      "execution_count": 0,
      "outputs": [
        {
          "output_type": "display_data",
          "data": {
            "text/html": [
              "<table border=\"1\" class=\"dataframe\">\n",
              "  <thead>\n",
              "    <tr style=\"text-align: right;\">\n",
              "      <th></th>\n",
              "      <th>class</th>\n",
              "      <th>num</th>\n",
              "      <th>avgAge</th>\n",
              "    </tr>\n",
              "  </thead>\n",
              "  <tbody>\n",
              "    <tr>\n",
              "      <th>0</th>\n",
              "      <td>1</td>\n",
              "      <td>3</td>\n",
              "      <td>13.6667</td>\n",
              "    </tr>\n",
              "    <tr>\n",
              "      <th>1</th>\n",
              "      <td>2</td>\n",
              "      <td>3</td>\n",
              "      <td>14.6667</td>\n",
              "    </tr>\n",
              "    <tr>\n",
              "      <th>2</th>\n",
              "      <td>3</td>\n",
              "      <td>2</td>\n",
              "      <td>11.5000</td>\n",
              "    </tr>\n",
              "  </tbody>\n",
              "</table>"
            ]
          },
          "metadata": {
            "tags": []
          }
        }
      ]
    },
    {
      "cell_type": "markdown",
      "metadata": {
        "id": "zS_SkLJ4x2i7",
        "colab_type": "text"
      },
      "source": [
        "さらに条件付きで表示してみましょう。having を使っています。"
      ]
    },
    {
      "cell_type": "code",
      "metadata": {
        "id": "l4tT3D0Ax2i9",
        "colab_type": "code",
        "colab": {},
        "outputId": "876dd829-5b37-4001-a020-e9266e7e68c4"
      },
      "source": [
        "select class, avg(age) as avgAge from meibo group by class having avgAge>13;"
      ],
      "execution_count": 0,
      "outputs": [
        {
          "output_type": "display_data",
          "data": {
            "text/html": [
              "<table border=\"1\" class=\"dataframe\">\n",
              "  <thead>\n",
              "    <tr style=\"text-align: right;\">\n",
              "      <th></th>\n",
              "      <th>class</th>\n",
              "      <th>avgAge</th>\n",
              "    </tr>\n",
              "  </thead>\n",
              "  <tbody>\n",
              "    <tr>\n",
              "      <th>0</th>\n",
              "      <td>1</td>\n",
              "      <td>13.6667</td>\n",
              "    </tr>\n",
              "    <tr>\n",
              "      <th>1</th>\n",
              "      <td>2</td>\n",
              "      <td>14.6667</td>\n",
              "    </tr>\n",
              "  </tbody>\n",
              "</table>"
            ]
          },
          "metadata": {
            "tags": []
          }
        }
      ]
    },
    {
      "cell_type": "markdown",
      "metadata": {
        "id": "s8H3cb_0x2jB",
        "colab_type": "text"
      },
      "source": [
        "whereと組み合わせることもできます。"
      ]
    },
    {
      "cell_type": "code",
      "metadata": {
        "id": "axq25SUCx2jB",
        "colab_type": "code",
        "colab": {},
        "outputId": "73c27012-b536-4d7b-bb6b-f1ddc2dc72ca"
      },
      "source": [
        "select class, avg(age) as avgAge from meibo where age > 13 group by class;"
      ],
      "execution_count": 0,
      "outputs": [
        {
          "output_type": "display_data",
          "data": {
            "text/html": [
              "<table border=\"1\" class=\"dataframe\">\n",
              "  <thead>\n",
              "    <tr style=\"text-align: right;\">\n",
              "      <th></th>\n",
              "      <th>class</th>\n",
              "      <th>avgAge</th>\n",
              "    </tr>\n",
              "  </thead>\n",
              "  <tbody>\n",
              "    <tr>\n",
              "      <th>0</th>\n",
              "      <td>1</td>\n",
              "      <td>14.0000</td>\n",
              "    </tr>\n",
              "    <tr>\n",
              "      <th>1</th>\n",
              "      <td>2</td>\n",
              "      <td>15.5000</td>\n",
              "    </tr>\n",
              "  </tbody>\n",
              "</table>"
            ]
          },
          "metadata": {
            "tags": []
          }
        }
      ]
    },
    {
      "cell_type": "markdown",
      "metadata": {
        "id": "Bk3cmAawx2jF",
        "colab_type": "text"
      },
      "source": [
        "whereとhavingはどちらも条件を絞っているのですが、whereはselectで抽出された中から条件を絞っていますが、havingはgroup byでグループ化した結果から条件を絞っています。"
      ]
    },
    {
      "cell_type": "markdown",
      "metadata": {
        "id": "m1EM2818x2jF",
        "colab_type": "text"
      },
      "source": [
        "次は、2つの軸を使った集計です。クラス×年齢でレコード数をカウントしています。"
      ]
    },
    {
      "cell_type": "code",
      "metadata": {
        "id": "1PCiKvGVx2jG",
        "colab_type": "code",
        "colab": {},
        "outputId": "96abf7f5-4ca1-49fa-d47a-e37a8eb6400d"
      },
      "source": [
        "select class, age, count(*) as num from meibo group by class,age;"
      ],
      "execution_count": 0,
      "outputs": [
        {
          "output_type": "display_data",
          "data": {
            "text/html": [
              "<table border=\"1\" class=\"dataframe\">\n",
              "  <thead>\n",
              "    <tr style=\"text-align: right;\">\n",
              "      <th></th>\n",
              "      <th>class</th>\n",
              "      <th>age</th>\n",
              "      <th>num</th>\n",
              "    </tr>\n",
              "  </thead>\n",
              "  <tbody>\n",
              "    <tr>\n",
              "      <th>0</th>\n",
              "      <td>1</td>\n",
              "      <td>13</td>\n",
              "      <td>1</td>\n",
              "    </tr>\n",
              "    <tr>\n",
              "      <th>1</th>\n",
              "      <td>1</td>\n",
              "      <td>14</td>\n",
              "      <td>2</td>\n",
              "    </tr>\n",
              "    <tr>\n",
              "      <th>2</th>\n",
              "      <td>2</td>\n",
              "      <td>13</td>\n",
              "      <td>1</td>\n",
              "    </tr>\n",
              "    <tr>\n",
              "      <th>3</th>\n",
              "      <td>2</td>\n",
              "      <td>15</td>\n",
              "      <td>1</td>\n",
              "    </tr>\n",
              "    <tr>\n",
              "      <th>4</th>\n",
              "      <td>2</td>\n",
              "      <td>16</td>\n",
              "      <td>1</td>\n",
              "    </tr>\n",
              "    <tr>\n",
              "      <th>5</th>\n",
              "      <td>3</td>\n",
              "      <td>11</td>\n",
              "      <td>1</td>\n",
              "    </tr>\n",
              "    <tr>\n",
              "      <th>6</th>\n",
              "      <td>3</td>\n",
              "      <td>12</td>\n",
              "      <td>1</td>\n",
              "    </tr>\n",
              "  </tbody>\n",
              "</table>"
            ]
          },
          "metadata": {
            "tags": []
          }
        }
      ]
    },
    {
      "cell_type": "markdown",
      "metadata": {
        "id": "V4mSr-vyx2jI",
        "colab_type": "text"
      },
      "source": [
        "番号（順）で指定して集計することも可能です。なお、group by は以下のように、呼び出している列の番号で指定することもできます。ただし、わからなくなる可能性がありますので、簡易集計以外のときにはカラム名を指定することをおすすめします。"
      ]
    },
    {
      "cell_type": "code",
      "metadata": {
        "id": "1kASM4Stx2jI",
        "colab_type": "code",
        "colab": {},
        "outputId": "63ec8e09-bf84-4577-def0-f9294065aa74"
      },
      "source": [
        "select class, age, count(*) as num from meibo group by 1,2;"
      ],
      "execution_count": 0,
      "outputs": [
        {
          "output_type": "display_data",
          "data": {
            "text/html": [
              "<table border=\"1\" class=\"dataframe\">\n",
              "  <thead>\n",
              "    <tr style=\"text-align: right;\">\n",
              "      <th></th>\n",
              "      <th>class</th>\n",
              "      <th>age</th>\n",
              "      <th>num</th>\n",
              "    </tr>\n",
              "  </thead>\n",
              "  <tbody>\n",
              "    <tr>\n",
              "      <th>0</th>\n",
              "      <td>1</td>\n",
              "      <td>13</td>\n",
              "      <td>1</td>\n",
              "    </tr>\n",
              "    <tr>\n",
              "      <th>1</th>\n",
              "      <td>1</td>\n",
              "      <td>14</td>\n",
              "      <td>2</td>\n",
              "    </tr>\n",
              "    <tr>\n",
              "      <th>2</th>\n",
              "      <td>2</td>\n",
              "      <td>13</td>\n",
              "      <td>1</td>\n",
              "    </tr>\n",
              "    <tr>\n",
              "      <th>3</th>\n",
              "      <td>2</td>\n",
              "      <td>15</td>\n",
              "      <td>1</td>\n",
              "    </tr>\n",
              "    <tr>\n",
              "      <th>4</th>\n",
              "      <td>2</td>\n",
              "      <td>16</td>\n",
              "      <td>1</td>\n",
              "    </tr>\n",
              "    <tr>\n",
              "      <th>5</th>\n",
              "      <td>3</td>\n",
              "      <td>11</td>\n",
              "      <td>1</td>\n",
              "    </tr>\n",
              "    <tr>\n",
              "      <th>6</th>\n",
              "      <td>3</td>\n",
              "      <td>12</td>\n",
              "      <td>1</td>\n",
              "    </tr>\n",
              "  </tbody>\n",
              "</table>"
            ]
          },
          "metadata": {
            "tags": []
          }
        }
      ]
    },
    {
      "cell_type": "markdown",
      "metadata": {
        "id": "sNtOhLgIx2jK",
        "colab_type": "text"
      },
      "source": [
        ">**[ポイント]**\n",
        "\n",
        ">group by：軸を設定\n",
        "\n",
        ">having：条件設定"
      ]
    },
    {
      "cell_type": "markdown",
      "metadata": {
        "id": "Iwh_PsbKx2jK",
        "colab_type": "text"
      },
      "source": [
        "#### <練習問題 1>\n",
        "\n",
        "meiboテーブルにてクラスごとの平均身長を求めてみましょう。"
      ]
    },
    {
      "cell_type": "markdown",
      "metadata": {
        "id": "rUUMBoS-x2jK",
        "colab_type": "text"
      },
      "source": [
        "#### <練習問題 2>\n",
        "\n",
        "上に加えて、クラスごとの人数、一番小さい人と、一番大きな人の身長もそれぞれのクラスで算出しましょう。"
      ]
    },
    {
      "cell_type": "markdown",
      "metadata": {
        "id": "mcmx6F3rx2jL",
        "colab_type": "text"
      },
      "source": [
        "#### <練習問題 3>\n",
        "\n",
        "年齢が13歳より上の人に絞って、上記と同じ項目を求めてください。"
      ]
    },
    {
      "cell_type": "markdown",
      "metadata": {
        "id": "f4KBSI9Bx2jL",
        "colab_type": "text"
      },
      "source": [
        "### 8.2.5 複数テーブルの利用\n",
        "キーワード：union,union all, inner join, outer join,内部結合、外部結合、自己結合"
      ]
    },
    {
      "cell_type": "markdown",
      "metadata": {
        "id": "srmab8dCx2jL",
        "colab_type": "text"
      },
      "source": [
        "次は複数のテーブルを使って、データを操作してみましょう。準備のため、テーブルを作成します。テーブルの作成は以前に学んだ方法でも作成できますが、再び作成するのは面倒なので、すでに作成したテーブルを「コピー」しましょう。以下のように create で新規に作成するテーブル名を指定した後、\"like コピー元のテーブル名\" とつづけることでテーブル構造を丸ごとコピーできます。"
      ]
    },
    {
      "cell_type": "code",
      "metadata": {
        "id": "L6_8mkhNx2jM",
        "colab_type": "code",
        "colab": {},
        "outputId": "dce86864-1663-4bc0-fc8b-57fde575d787"
      },
      "source": [
        "/*前のテーブルは使わないので、一旦削除します*/\n",
        "drop table if exists meibo2;"
      ],
      "execution_count": 0,
      "outputs": [
        {
          "output_type": "display_data",
          "data": {
            "text/html": [
              "<div>Query OK, 0 rows affected.</div>"
            ]
          },
          "metadata": {
            "tags": []
          }
        }
      ]
    },
    {
      "cell_type": "code",
      "metadata": {
        "scrolled": true,
        "id": "bqqdOerEx2jN",
        "colab_type": "code",
        "colab": {},
        "outputId": "69e642ea-f3bd-4d96-b6fd-f13aa20dfb37"
      },
      "source": [
        "create table meibo2 like meibo;"
      ],
      "execution_count": 0,
      "outputs": [
        {
          "output_type": "display_data",
          "data": {
            "text/html": [
              "<div>Query OK, 0 rows affected.</div>"
            ]
          },
          "metadata": {
            "tags": []
          }
        }
      ]
    },
    {
      "cell_type": "markdown",
      "metadata": {
        "id": "JZvuUOfXx2jO",
        "colab_type": "text"
      },
      "source": [
        "確認してみましょう。テーブルの構造をチェックするときは、descを使います。"
      ]
    },
    {
      "cell_type": "code",
      "metadata": {
        "id": "fVqSM_GLx2jO",
        "colab_type": "code",
        "colab": {},
        "outputId": "a495cc78-2309-42a1-ae02-0a349d7b2989"
      },
      "source": [
        "/*テーブル*/\n",
        "desc meibo2;\n",
        "\n",
        "/*データの確認*/\n",
        "select * from  meibo2;"
      ],
      "execution_count": 0,
      "outputs": [
        {
          "output_type": "display_data",
          "data": {
            "text/html": [
              "<table border=\"1\" class=\"dataframe\">\n",
              "  <thead>\n",
              "    <tr style=\"text-align: right;\">\n",
              "      <th></th>\n",
              "      <th>Field</th>\n",
              "      <th>Type</th>\n",
              "      <th>Null</th>\n",
              "      <th>Key</th>\n",
              "      <th>Default</th>\n",
              "      <th>Extra</th>\n",
              "    </tr>\n",
              "  </thead>\n",
              "  <tbody>\n",
              "    <tr>\n",
              "      <th>0</th>\n",
              "      <td>id</td>\n",
              "      <td>int(11)</td>\n",
              "      <td>NO</td>\n",
              "      <td>PRI</td>\n",
              "      <td>None</td>\n",
              "      <td></td>\n",
              "    </tr>\n",
              "    <tr>\n",
              "      <th>1</th>\n",
              "      <td>name</td>\n",
              "      <td>varchar(20)</td>\n",
              "      <td>YES</td>\n",
              "      <td></td>\n",
              "      <td>None</td>\n",
              "      <td></td>\n",
              "    </tr>\n",
              "    <tr>\n",
              "      <th>2</th>\n",
              "      <td>class</td>\n",
              "      <td>int(11)</td>\n",
              "      <td>YES</td>\n",
              "      <td></td>\n",
              "      <td>None</td>\n",
              "      <td></td>\n",
              "    </tr>\n",
              "    <tr>\n",
              "      <th>3</th>\n",
              "      <td>age</td>\n",
              "      <td>int(11)</td>\n",
              "      <td>YES</td>\n",
              "      <td></td>\n",
              "      <td>None</td>\n",
              "      <td></td>\n",
              "    </tr>\n",
              "    <tr>\n",
              "      <th>4</th>\n",
              "      <td>height</td>\n",
              "      <td>int(11)</td>\n",
              "      <td>YES</td>\n",
              "      <td></td>\n",
              "      <td>None</td>\n",
              "      <td></td>\n",
              "    </tr>\n",
              "  </tbody>\n",
              "</table><table border=\"1\" class=\"dataframe\">\n",
              "  <thead>\n",
              "    <tr style=\"text-align: right;\">\n",
              "      <th></th>\n",
              "      <th>id</th>\n",
              "      <th>name</th>\n",
              "      <th>class</th>\n",
              "      <th>age</th>\n",
              "      <th>height</th>\n",
              "    </tr>\n",
              "  </thead>\n",
              "  <tbody>\n",
              "  </tbody>\n",
              "</table>"
            ]
          },
          "metadata": {
            "tags": []
          }
        }
      ]
    },
    {
      "cell_type": "markdown",
      "metadata": {
        "id": "ARlcTI0Qx2jQ",
        "colab_type": "text"
      },
      "source": [
        "データを追加します。なお、１行目はわざとmeiboにある同じデータ（Yamada）を入れています。結果を確認してみてください。"
      ]
    },
    {
      "cell_type": "code",
      "metadata": {
        "id": "DujUFeKux2jR",
        "colab_type": "code",
        "colab": {},
        "outputId": "c821a8ed-e76d-4dbe-ee40-998789de5423"
      },
      "source": [
        "insert into meibo2 (id,name,class,age,height) \n",
        " values (1,\"Yamada\",1,14,150),\n",
        "        (9,\"Nagata\",4,11,160),\n",
        "        (10,\"Sugino\",2,13,150),\n",
        "        (11,\"Takayama\",1,14,155),\n",
        "        (12,\"John\",3,16,165);"
      ],
      "execution_count": 0,
      "outputs": [
        {
          "output_type": "display_data",
          "data": {
            "text/html": [
              "<div>Query OK, 5 rows affected.</div>"
            ]
          },
          "metadata": {
            "tags": []
          }
        }
      ]
    },
    {
      "cell_type": "code",
      "metadata": {
        "id": "8gH5r2IDx2jU",
        "colab_type": "code",
        "colab": {},
        "outputId": "f9e4f326-36bf-41a4-c30c-f965ef77ee10"
      },
      "source": [
        "select * from  meibo2;"
      ],
      "execution_count": 0,
      "outputs": [
        {
          "output_type": "display_data",
          "data": {
            "text/html": [
              "<table border=\"1\" class=\"dataframe\">\n",
              "  <thead>\n",
              "    <tr style=\"text-align: right;\">\n",
              "      <th></th>\n",
              "      <th>id</th>\n",
              "      <th>name</th>\n",
              "      <th>class</th>\n",
              "      <th>age</th>\n",
              "      <th>height</th>\n",
              "    </tr>\n",
              "  </thead>\n",
              "  <tbody>\n",
              "    <tr>\n",
              "      <th>0</th>\n",
              "      <td>1</td>\n",
              "      <td>Yamada</td>\n",
              "      <td>1</td>\n",
              "      <td>14</td>\n",
              "      <td>150</td>\n",
              "    </tr>\n",
              "    <tr>\n",
              "      <th>1</th>\n",
              "      <td>9</td>\n",
              "      <td>Nagata</td>\n",
              "      <td>4</td>\n",
              "      <td>11</td>\n",
              "      <td>160</td>\n",
              "    </tr>\n",
              "    <tr>\n",
              "      <th>2</th>\n",
              "      <td>10</td>\n",
              "      <td>Sugino</td>\n",
              "      <td>2</td>\n",
              "      <td>13</td>\n",
              "      <td>150</td>\n",
              "    </tr>\n",
              "    <tr>\n",
              "      <th>3</th>\n",
              "      <td>11</td>\n",
              "      <td>Takayama</td>\n",
              "      <td>1</td>\n",
              "      <td>14</td>\n",
              "      <td>155</td>\n",
              "    </tr>\n",
              "    <tr>\n",
              "      <th>4</th>\n",
              "      <td>12</td>\n",
              "      <td>John</td>\n",
              "      <td>3</td>\n",
              "      <td>16</td>\n",
              "      <td>165</td>\n",
              "    </tr>\n",
              "  </tbody>\n",
              "</table>"
            ]
          },
          "metadata": {
            "tags": []
          }
        }
      ]
    },
    {
      "cell_type": "markdown",
      "metadata": {
        "id": "5_hjQ6tex2jV",
        "colab_type": "text"
      },
      "source": [
        "データを結合してみましょう。unionを使います。なお、unionは重複レコードは省きますが、union allは重複も許容します。id=1の人がunion allの場合2レコードあるのがわかります。"
      ]
    },
    {
      "cell_type": "code",
      "metadata": {
        "id": "wOQcALwCx2jW",
        "colab_type": "code",
        "colab": {},
        "outputId": "174f9f22-8c9a-4683-81cd-8ab546129cce"
      },
      "source": [
        "select * from  meibo\n",
        "union\n",
        "select * from  meibo2;"
      ],
      "execution_count": 0,
      "outputs": [
        {
          "output_type": "display_data",
          "data": {
            "text/html": [
              "<table border=\"1\" class=\"dataframe\">\n",
              "  <thead>\n",
              "    <tr style=\"text-align: right;\">\n",
              "      <th></th>\n",
              "      <th>id</th>\n",
              "      <th>name</th>\n",
              "      <th>class</th>\n",
              "      <th>age</th>\n",
              "      <th>height</th>\n",
              "    </tr>\n",
              "  </thead>\n",
              "  <tbody>\n",
              "    <tr>\n",
              "      <th>0</th>\n",
              "      <td>1</td>\n",
              "      <td>Yamada</td>\n",
              "      <td>1</td>\n",
              "      <td>14</td>\n",
              "      <td>150</td>\n",
              "    </tr>\n",
              "    <tr>\n",
              "      <th>1</th>\n",
              "      <td>2</td>\n",
              "      <td>Tanaka</td>\n",
              "      <td>2</td>\n",
              "      <td>13</td>\n",
              "      <td>150</td>\n",
              "    </tr>\n",
              "    <tr>\n",
              "      <th>2</th>\n",
              "      <td>3</td>\n",
              "      <td>Suzuki</td>\n",
              "      <td>1</td>\n",
              "      <td>13</td>\n",
              "      <td>150</td>\n",
              "    </tr>\n",
              "    <tr>\n",
              "      <th>3</th>\n",
              "      <td>4</td>\n",
              "      <td>Kato</td>\n",
              "      <td>2</td>\n",
              "      <td>15</td>\n",
              "      <td>150</td>\n",
              "    </tr>\n",
              "    <tr>\n",
              "      <th>4</th>\n",
              "      <td>5</td>\n",
              "      <td>Ito</td>\n",
              "      <td>3</td>\n",
              "      <td>12</td>\n",
              "      <td>155</td>\n",
              "    </tr>\n",
              "    <tr>\n",
              "      <th>5</th>\n",
              "      <td>6</td>\n",
              "      <td>Takeuchi</td>\n",
              "      <td>2</td>\n",
              "      <td>16</td>\n",
              "      <td>155</td>\n",
              "    </tr>\n",
              "    <tr>\n",
              "      <th>6</th>\n",
              "      <td>7</td>\n",
              "      <td>Kimura</td>\n",
              "      <td>3</td>\n",
              "      <td>11</td>\n",
              "      <td>160</td>\n",
              "    </tr>\n",
              "    <tr>\n",
              "      <th>7</th>\n",
              "      <td>8</td>\n",
              "      <td>Sato</td>\n",
              "      <td>1</td>\n",
              "      <td>14</td>\n",
              "      <td>160</td>\n",
              "    </tr>\n",
              "    <tr>\n",
              "      <th>8</th>\n",
              "      <td>9</td>\n",
              "      <td>Nagata</td>\n",
              "      <td>4</td>\n",
              "      <td>11</td>\n",
              "      <td>160</td>\n",
              "    </tr>\n",
              "    <tr>\n",
              "      <th>9</th>\n",
              "      <td>10</td>\n",
              "      <td>Sugino</td>\n",
              "      <td>2</td>\n",
              "      <td>13</td>\n",
              "      <td>150</td>\n",
              "    </tr>\n",
              "    <tr>\n",
              "      <th>10</th>\n",
              "      <td>11</td>\n",
              "      <td>Takayama</td>\n",
              "      <td>1</td>\n",
              "      <td>14</td>\n",
              "      <td>155</td>\n",
              "    </tr>\n",
              "    <tr>\n",
              "      <th>11</th>\n",
              "      <td>12</td>\n",
              "      <td>John</td>\n",
              "      <td>3</td>\n",
              "      <td>16</td>\n",
              "      <td>165</td>\n",
              "    </tr>\n",
              "  </tbody>\n",
              "</table>"
            ]
          },
          "metadata": {
            "tags": []
          }
        }
      ]
    },
    {
      "cell_type": "code",
      "metadata": {
        "id": "6BE1ghe8x2jY",
        "colab_type": "code",
        "colab": {},
        "outputId": "f91bbb2a-d0dd-4bd2-b680-9de43c7244a4"
      },
      "source": [
        "select * from  meibo\n",
        "union all\n",
        "select * from  meibo2;"
      ],
      "execution_count": 0,
      "outputs": [
        {
          "output_type": "display_data",
          "data": {
            "text/html": [
              "<table border=\"1\" class=\"dataframe\">\n",
              "  <thead>\n",
              "    <tr style=\"text-align: right;\">\n",
              "      <th></th>\n",
              "      <th>id</th>\n",
              "      <th>name</th>\n",
              "      <th>class</th>\n",
              "      <th>age</th>\n",
              "      <th>height</th>\n",
              "    </tr>\n",
              "  </thead>\n",
              "  <tbody>\n",
              "    <tr>\n",
              "      <th>0</th>\n",
              "      <td>1</td>\n",
              "      <td>Yamada</td>\n",
              "      <td>1</td>\n",
              "      <td>14</td>\n",
              "      <td>150</td>\n",
              "    </tr>\n",
              "    <tr>\n",
              "      <th>1</th>\n",
              "      <td>2</td>\n",
              "      <td>Tanaka</td>\n",
              "      <td>2</td>\n",
              "      <td>13</td>\n",
              "      <td>150</td>\n",
              "    </tr>\n",
              "    <tr>\n",
              "      <th>2</th>\n",
              "      <td>3</td>\n",
              "      <td>Suzuki</td>\n",
              "      <td>1</td>\n",
              "      <td>13</td>\n",
              "      <td>150</td>\n",
              "    </tr>\n",
              "    <tr>\n",
              "      <th>3</th>\n",
              "      <td>4</td>\n",
              "      <td>Kato</td>\n",
              "      <td>2</td>\n",
              "      <td>15</td>\n",
              "      <td>150</td>\n",
              "    </tr>\n",
              "    <tr>\n",
              "      <th>4</th>\n",
              "      <td>5</td>\n",
              "      <td>Ito</td>\n",
              "      <td>3</td>\n",
              "      <td>12</td>\n",
              "      <td>155</td>\n",
              "    </tr>\n",
              "    <tr>\n",
              "      <th>5</th>\n",
              "      <td>6</td>\n",
              "      <td>Takeuchi</td>\n",
              "      <td>2</td>\n",
              "      <td>16</td>\n",
              "      <td>155</td>\n",
              "    </tr>\n",
              "    <tr>\n",
              "      <th>6</th>\n",
              "      <td>7</td>\n",
              "      <td>Kimura</td>\n",
              "      <td>3</td>\n",
              "      <td>11</td>\n",
              "      <td>160</td>\n",
              "    </tr>\n",
              "    <tr>\n",
              "      <th>7</th>\n",
              "      <td>8</td>\n",
              "      <td>Sato</td>\n",
              "      <td>1</td>\n",
              "      <td>14</td>\n",
              "      <td>160</td>\n",
              "    </tr>\n",
              "    <tr>\n",
              "      <th>8</th>\n",
              "      <td>1</td>\n",
              "      <td>Yamada</td>\n",
              "      <td>1</td>\n",
              "      <td>14</td>\n",
              "      <td>150</td>\n",
              "    </tr>\n",
              "    <tr>\n",
              "      <th>9</th>\n",
              "      <td>9</td>\n",
              "      <td>Nagata</td>\n",
              "      <td>4</td>\n",
              "      <td>11</td>\n",
              "      <td>160</td>\n",
              "    </tr>\n",
              "    <tr>\n",
              "      <th>10</th>\n",
              "      <td>10</td>\n",
              "      <td>Sugino</td>\n",
              "      <td>2</td>\n",
              "      <td>13</td>\n",
              "      <td>150</td>\n",
              "    </tr>\n",
              "    <tr>\n",
              "      <th>11</th>\n",
              "      <td>11</td>\n",
              "      <td>Takayama</td>\n",
              "      <td>1</td>\n",
              "      <td>14</td>\n",
              "      <td>155</td>\n",
              "    </tr>\n",
              "    <tr>\n",
              "      <th>12</th>\n",
              "      <td>12</td>\n",
              "      <td>John</td>\n",
              "      <td>3</td>\n",
              "      <td>16</td>\n",
              "      <td>165</td>\n",
              "    </tr>\n",
              "  </tbody>\n",
              "</table>"
            ]
          },
          "metadata": {
            "tags": []
          }
        }
      ]
    },
    {
      "cell_type": "markdown",
      "metadata": {
        "id": "RzfuyOb8x2jZ",
        "colab_type": "text"
      },
      "source": [
        "テストのスコアテーブルを作成して、このmeiboテーブルと結合してみましょう。"
      ]
    },
    {
      "cell_type": "code",
      "metadata": {
        "id": "FpfCSOqlx2ja",
        "colab_type": "code",
        "colab": {},
        "outputId": "41e7561c-24dd-489d-8e94-d7f52ca34592"
      },
      "source": [
        "create table score\n",
        "  (id int primary key, math int, english int,science int)\n",
        "  engine = MyISAM\n",
        "  default charset = utf8;"
      ],
      "execution_count": 0,
      "outputs": [
        {
          "output_type": "display_data",
          "data": {
            "text/html": [
              "<div>Query OK, 0 rows affected.</div>"
            ]
          },
          "metadata": {
            "tags": []
          }
        }
      ]
    },
    {
      "cell_type": "code",
      "metadata": {
        "id": "QIjw-uzKx2jb",
        "colab_type": "code",
        "colab": {},
        "outputId": "8ddea564-05f8-4e2b-c210-397bf831b2a1"
      },
      "source": [
        "desc score;"
      ],
      "execution_count": 0,
      "outputs": [
        {
          "output_type": "display_data",
          "data": {
            "text/html": [
              "<table border=\"1\" class=\"dataframe\">\n",
              "  <thead>\n",
              "    <tr style=\"text-align: right;\">\n",
              "      <th></th>\n",
              "      <th>Field</th>\n",
              "      <th>Type</th>\n",
              "      <th>Null</th>\n",
              "      <th>Key</th>\n",
              "      <th>Default</th>\n",
              "      <th>Extra</th>\n",
              "    </tr>\n",
              "  </thead>\n",
              "  <tbody>\n",
              "    <tr>\n",
              "      <th>0</th>\n",
              "      <td>id</td>\n",
              "      <td>int(11)</td>\n",
              "      <td>NO</td>\n",
              "      <td>PRI</td>\n",
              "      <td>None</td>\n",
              "      <td></td>\n",
              "    </tr>\n",
              "    <tr>\n",
              "      <th>1</th>\n",
              "      <td>math</td>\n",
              "      <td>int(11)</td>\n",
              "      <td>YES</td>\n",
              "      <td></td>\n",
              "      <td>None</td>\n",
              "      <td></td>\n",
              "    </tr>\n",
              "    <tr>\n",
              "      <th>2</th>\n",
              "      <td>english</td>\n",
              "      <td>int(11)</td>\n",
              "      <td>YES</td>\n",
              "      <td></td>\n",
              "      <td>None</td>\n",
              "      <td></td>\n",
              "    </tr>\n",
              "    <tr>\n",
              "      <th>3</th>\n",
              "      <td>science</td>\n",
              "      <td>int(11)</td>\n",
              "      <td>YES</td>\n",
              "      <td></td>\n",
              "      <td>None</td>\n",
              "      <td></td>\n",
              "    </tr>\n",
              "  </tbody>\n",
              "</table>"
            ]
          },
          "metadata": {
            "tags": []
          }
        }
      ]
    },
    {
      "cell_type": "markdown",
      "metadata": {
        "id": "NZYBnFQ7x2jc",
        "colab_type": "text"
      },
      "source": [
        "scoreテーブルにサンプルデータを挿入します。"
      ]
    },
    {
      "cell_type": "code",
      "metadata": {
        "id": "oZNXp4Gmx2jc",
        "colab_type": "code",
        "colab": {},
        "outputId": "6754eb74-979c-4cb3-9151-25b5ab14838d"
      },
      "source": [
        "insert into score (id,math,english,science) \n",
        " values (1,10,10,40),(2,NULL,60,100),(3,30,40,60),\n",
        "        (5,25,31,10),(6,50,30,10),(8,90,100,90),\n",
        "        (9,67,71,50),(11,100,40,88),(15,76,21,13);"
      ],
      "execution_count": 0,
      "outputs": [
        {
          "output_type": "display_data",
          "data": {
            "text/html": [
              "<div>Query OK, 9 rows affected.</div>"
            ]
          },
          "metadata": {
            "tags": []
          }
        }
      ]
    },
    {
      "cell_type": "markdown",
      "metadata": {
        "id": "cq7wejfZx2je",
        "colab_type": "text"
      },
      "source": [
        "念のためデータが入っているかどうか確認します。"
      ]
    },
    {
      "cell_type": "code",
      "metadata": {
        "scrolled": true,
        "id": "3-U6ePq_x2je",
        "colab_type": "code",
        "colab": {},
        "outputId": "0154a8b7-d1a0-43d7-b813-d2b907581564"
      },
      "source": [
        "select * from score;"
      ],
      "execution_count": 0,
      "outputs": [
        {
          "output_type": "display_data",
          "data": {
            "text/html": [
              "<table border=\"1\" class=\"dataframe\">\n",
              "  <thead>\n",
              "    <tr style=\"text-align: right;\">\n",
              "      <th></th>\n",
              "      <th>id</th>\n",
              "      <th>math</th>\n",
              "      <th>english</th>\n",
              "      <th>science</th>\n",
              "    </tr>\n",
              "  </thead>\n",
              "  <tbody>\n",
              "    <tr>\n",
              "      <th>0</th>\n",
              "      <td>1</td>\n",
              "      <td>10</td>\n",
              "      <td>10</td>\n",
              "      <td>40</td>\n",
              "    </tr>\n",
              "    <tr>\n",
              "      <th>1</th>\n",
              "      <td>2</td>\n",
              "      <td>None</td>\n",
              "      <td>60</td>\n",
              "      <td>100</td>\n",
              "    </tr>\n",
              "    <tr>\n",
              "      <th>2</th>\n",
              "      <td>3</td>\n",
              "      <td>30</td>\n",
              "      <td>40</td>\n",
              "      <td>60</td>\n",
              "    </tr>\n",
              "    <tr>\n",
              "      <th>3</th>\n",
              "      <td>5</td>\n",
              "      <td>25</td>\n",
              "      <td>31</td>\n",
              "      <td>10</td>\n",
              "    </tr>\n",
              "    <tr>\n",
              "      <th>4</th>\n",
              "      <td>6</td>\n",
              "      <td>50</td>\n",
              "      <td>30</td>\n",
              "      <td>10</td>\n",
              "    </tr>\n",
              "    <tr>\n",
              "      <th>5</th>\n",
              "      <td>8</td>\n",
              "      <td>90</td>\n",
              "      <td>100</td>\n",
              "      <td>90</td>\n",
              "    </tr>\n",
              "    <tr>\n",
              "      <th>6</th>\n",
              "      <td>9</td>\n",
              "      <td>67</td>\n",
              "      <td>71</td>\n",
              "      <td>50</td>\n",
              "    </tr>\n",
              "    <tr>\n",
              "      <th>7</th>\n",
              "      <td>11</td>\n",
              "      <td>100</td>\n",
              "      <td>40</td>\n",
              "      <td>88</td>\n",
              "    </tr>\n",
              "    <tr>\n",
              "      <th>8</th>\n",
              "      <td>15</td>\n",
              "      <td>76</td>\n",
              "      <td>21</td>\n",
              "      <td>13</td>\n",
              "    </tr>\n",
              "  </tbody>\n",
              "</table>"
            ]
          },
          "metadata": {
            "tags": []
          }
        }
      ]
    },
    {
      "cell_type": "markdown",
      "metadata": {
        "id": "Bpi7zhvcx2jg",
        "colab_type": "text"
      },
      "source": [
        "以下でidをキーに内部結合しています。テーブル名の後に別名を簡単に付けて（meibo はa、scoreはb）います。"
      ]
    },
    {
      "cell_type": "code",
      "metadata": {
        "id": "ZniKBiFpx2jg",
        "colab_type": "code",
        "colab": {},
        "outputId": "81a12869-845a-43f4-d64c-ed31d1fceefa"
      },
      "source": [
        "select * from meibo a join score b on a.id=b.id;"
      ],
      "execution_count": 0,
      "outputs": [
        {
          "output_type": "display_data",
          "data": {
            "text/html": [
              "<table border=\"1\" class=\"dataframe\">\n",
              "  <thead>\n",
              "    <tr style=\"text-align: right;\">\n",
              "      <th></th>\n",
              "      <th>id</th>\n",
              "      <th>name</th>\n",
              "      <th>class</th>\n",
              "      <th>age</th>\n",
              "      <th>height</th>\n",
              "      <th>id</th>\n",
              "      <th>math</th>\n",
              "      <th>english</th>\n",
              "      <th>science</th>\n",
              "    </tr>\n",
              "  </thead>\n",
              "  <tbody>\n",
              "    <tr>\n",
              "      <th>0</th>\n",
              "      <td>1</td>\n",
              "      <td>Yamada</td>\n",
              "      <td>1</td>\n",
              "      <td>14</td>\n",
              "      <td>150</td>\n",
              "      <td>1</td>\n",
              "      <td>10</td>\n",
              "      <td>10</td>\n",
              "      <td>40</td>\n",
              "    </tr>\n",
              "    <tr>\n",
              "      <th>1</th>\n",
              "      <td>2</td>\n",
              "      <td>Tanaka</td>\n",
              "      <td>2</td>\n",
              "      <td>13</td>\n",
              "      <td>150</td>\n",
              "      <td>2</td>\n",
              "      <td>None</td>\n",
              "      <td>60</td>\n",
              "      <td>100</td>\n",
              "    </tr>\n",
              "    <tr>\n",
              "      <th>2</th>\n",
              "      <td>3</td>\n",
              "      <td>Suzuki</td>\n",
              "      <td>1</td>\n",
              "      <td>13</td>\n",
              "      <td>150</td>\n",
              "      <td>3</td>\n",
              "      <td>30</td>\n",
              "      <td>40</td>\n",
              "      <td>60</td>\n",
              "    </tr>\n",
              "    <tr>\n",
              "      <th>3</th>\n",
              "      <td>5</td>\n",
              "      <td>Ito</td>\n",
              "      <td>3</td>\n",
              "      <td>12</td>\n",
              "      <td>155</td>\n",
              "      <td>5</td>\n",
              "      <td>25</td>\n",
              "      <td>31</td>\n",
              "      <td>10</td>\n",
              "    </tr>\n",
              "    <tr>\n",
              "      <th>4</th>\n",
              "      <td>6</td>\n",
              "      <td>Takeuchi</td>\n",
              "      <td>2</td>\n",
              "      <td>16</td>\n",
              "      <td>155</td>\n",
              "      <td>6</td>\n",
              "      <td>50</td>\n",
              "      <td>30</td>\n",
              "      <td>10</td>\n",
              "    </tr>\n",
              "    <tr>\n",
              "      <th>5</th>\n",
              "      <td>8</td>\n",
              "      <td>Sato</td>\n",
              "      <td>1</td>\n",
              "      <td>14</td>\n",
              "      <td>160</td>\n",
              "      <td>8</td>\n",
              "      <td>90</td>\n",
              "      <td>100</td>\n",
              "      <td>90</td>\n",
              "    </tr>\n",
              "  </tbody>\n",
              "</table>"
            ]
          },
          "metadata": {
            "tags": []
          }
        }
      ]
    },
    {
      "cell_type": "markdown",
      "metadata": {
        "id": "GUFMWci4x2jh",
        "colab_type": "text"
      },
      "source": [
        "idをキーに外部結合(左)しています。左にあるテーブルがベースになります。右にデータがいない場合は、None(NULL)になります。"
      ]
    },
    {
      "cell_type": "code",
      "metadata": {
        "id": "LKIOQzDrx2ji",
        "colab_type": "code",
        "colab": {},
        "outputId": "74ab29ab-7c5e-48ad-a50c-68b06d806626"
      },
      "source": [
        "select * from meibo a left join score b on a.id=b.id;"
      ],
      "execution_count": 0,
      "outputs": [
        {
          "output_type": "display_data",
          "data": {
            "text/html": [
              "<table border=\"1\" class=\"dataframe\">\n",
              "  <thead>\n",
              "    <tr style=\"text-align: right;\">\n",
              "      <th></th>\n",
              "      <th>id</th>\n",
              "      <th>name</th>\n",
              "      <th>class</th>\n",
              "      <th>age</th>\n",
              "      <th>height</th>\n",
              "      <th>id</th>\n",
              "      <th>math</th>\n",
              "      <th>english</th>\n",
              "      <th>science</th>\n",
              "    </tr>\n",
              "  </thead>\n",
              "  <tbody>\n",
              "    <tr>\n",
              "      <th>0</th>\n",
              "      <td>1</td>\n",
              "      <td>Yamada</td>\n",
              "      <td>1</td>\n",
              "      <td>14</td>\n",
              "      <td>150</td>\n",
              "      <td>1</td>\n",
              "      <td>10</td>\n",
              "      <td>10</td>\n",
              "      <td>40</td>\n",
              "    </tr>\n",
              "    <tr>\n",
              "      <th>1</th>\n",
              "      <td>2</td>\n",
              "      <td>Tanaka</td>\n",
              "      <td>2</td>\n",
              "      <td>13</td>\n",
              "      <td>150</td>\n",
              "      <td>2</td>\n",
              "      <td>None</td>\n",
              "      <td>60</td>\n",
              "      <td>100</td>\n",
              "    </tr>\n",
              "    <tr>\n",
              "      <th>2</th>\n",
              "      <td>3</td>\n",
              "      <td>Suzuki</td>\n",
              "      <td>1</td>\n",
              "      <td>13</td>\n",
              "      <td>150</td>\n",
              "      <td>3</td>\n",
              "      <td>30</td>\n",
              "      <td>40</td>\n",
              "      <td>60</td>\n",
              "    </tr>\n",
              "    <tr>\n",
              "      <th>3</th>\n",
              "      <td>4</td>\n",
              "      <td>Kato</td>\n",
              "      <td>2</td>\n",
              "      <td>15</td>\n",
              "      <td>150</td>\n",
              "      <td>None</td>\n",
              "      <td>None</td>\n",
              "      <td>None</td>\n",
              "      <td>None</td>\n",
              "    </tr>\n",
              "    <tr>\n",
              "      <th>4</th>\n",
              "      <td>5</td>\n",
              "      <td>Ito</td>\n",
              "      <td>3</td>\n",
              "      <td>12</td>\n",
              "      <td>155</td>\n",
              "      <td>5</td>\n",
              "      <td>25</td>\n",
              "      <td>31</td>\n",
              "      <td>10</td>\n",
              "    </tr>\n",
              "    <tr>\n",
              "      <th>5</th>\n",
              "      <td>6</td>\n",
              "      <td>Takeuchi</td>\n",
              "      <td>2</td>\n",
              "      <td>16</td>\n",
              "      <td>155</td>\n",
              "      <td>6</td>\n",
              "      <td>50</td>\n",
              "      <td>30</td>\n",
              "      <td>10</td>\n",
              "    </tr>\n",
              "    <tr>\n",
              "      <th>6</th>\n",
              "      <td>7</td>\n",
              "      <td>Kimura</td>\n",
              "      <td>3</td>\n",
              "      <td>11</td>\n",
              "      <td>160</td>\n",
              "      <td>None</td>\n",
              "      <td>None</td>\n",
              "      <td>None</td>\n",
              "      <td>None</td>\n",
              "    </tr>\n",
              "    <tr>\n",
              "      <th>7</th>\n",
              "      <td>8</td>\n",
              "      <td>Sato</td>\n",
              "      <td>1</td>\n",
              "      <td>14</td>\n",
              "      <td>160</td>\n",
              "      <td>8</td>\n",
              "      <td>90</td>\n",
              "      <td>100</td>\n",
              "      <td>90</td>\n",
              "    </tr>\n",
              "  </tbody>\n",
              "</table>"
            ]
          },
          "metadata": {
            "tags": []
          }
        }
      ]
    },
    {
      "cell_type": "markdown",
      "metadata": {
        "id": "Da0W4MdEx2jl",
        "colab_type": "text"
      },
      "source": [
        "以下は、参考ですが、自分自身のテーブルと結合をする自己結合も可能です。どんな活用方法があるかは次の章で解説します。"
      ]
    },
    {
      "cell_type": "code",
      "metadata": {
        "id": "yRyQgXKSx2jl",
        "colab_type": "code",
        "colab": {},
        "outputId": "77b452f4-fc38-4ae0-c11a-f5635e6278a8"
      },
      "source": [
        "select * from meibo a join meibo b on a.id=b.id;"
      ],
      "execution_count": 0,
      "outputs": [
        {
          "output_type": "display_data",
          "data": {
            "text/html": [
              "<table border=\"1\" class=\"dataframe\">\n",
              "  <thead>\n",
              "    <tr style=\"text-align: right;\">\n",
              "      <th></th>\n",
              "      <th>id</th>\n",
              "      <th>name</th>\n",
              "      <th>class</th>\n",
              "      <th>age</th>\n",
              "      <th>height</th>\n",
              "      <th>id</th>\n",
              "      <th>name</th>\n",
              "      <th>class</th>\n",
              "      <th>age</th>\n",
              "      <th>height</th>\n",
              "    </tr>\n",
              "  </thead>\n",
              "  <tbody>\n",
              "    <tr>\n",
              "      <th>0</th>\n",
              "      <td>1</td>\n",
              "      <td>Yamada</td>\n",
              "      <td>1</td>\n",
              "      <td>14</td>\n",
              "      <td>150</td>\n",
              "      <td>1</td>\n",
              "      <td>Yamada</td>\n",
              "      <td>1</td>\n",
              "      <td>14</td>\n",
              "      <td>150</td>\n",
              "    </tr>\n",
              "    <tr>\n",
              "      <th>1</th>\n",
              "      <td>2</td>\n",
              "      <td>Tanaka</td>\n",
              "      <td>2</td>\n",
              "      <td>13</td>\n",
              "      <td>150</td>\n",
              "      <td>2</td>\n",
              "      <td>Tanaka</td>\n",
              "      <td>2</td>\n",
              "      <td>13</td>\n",
              "      <td>150</td>\n",
              "    </tr>\n",
              "    <tr>\n",
              "      <th>2</th>\n",
              "      <td>3</td>\n",
              "      <td>Suzuki</td>\n",
              "      <td>1</td>\n",
              "      <td>13</td>\n",
              "      <td>150</td>\n",
              "      <td>3</td>\n",
              "      <td>Suzuki</td>\n",
              "      <td>1</td>\n",
              "      <td>13</td>\n",
              "      <td>150</td>\n",
              "    </tr>\n",
              "    <tr>\n",
              "      <th>3</th>\n",
              "      <td>4</td>\n",
              "      <td>Kato</td>\n",
              "      <td>2</td>\n",
              "      <td>15</td>\n",
              "      <td>150</td>\n",
              "      <td>4</td>\n",
              "      <td>Kato</td>\n",
              "      <td>2</td>\n",
              "      <td>15</td>\n",
              "      <td>150</td>\n",
              "    </tr>\n",
              "    <tr>\n",
              "      <th>4</th>\n",
              "      <td>5</td>\n",
              "      <td>Ito</td>\n",
              "      <td>3</td>\n",
              "      <td>12</td>\n",
              "      <td>155</td>\n",
              "      <td>5</td>\n",
              "      <td>Ito</td>\n",
              "      <td>3</td>\n",
              "      <td>12</td>\n",
              "      <td>155</td>\n",
              "    </tr>\n",
              "    <tr>\n",
              "      <th>5</th>\n",
              "      <td>6</td>\n",
              "      <td>Takeuchi</td>\n",
              "      <td>2</td>\n",
              "      <td>16</td>\n",
              "      <td>155</td>\n",
              "      <td>6</td>\n",
              "      <td>Takeuchi</td>\n",
              "      <td>2</td>\n",
              "      <td>16</td>\n",
              "      <td>155</td>\n",
              "    </tr>\n",
              "    <tr>\n",
              "      <th>6</th>\n",
              "      <td>7</td>\n",
              "      <td>Kimura</td>\n",
              "      <td>3</td>\n",
              "      <td>11</td>\n",
              "      <td>160</td>\n",
              "      <td>7</td>\n",
              "      <td>Kimura</td>\n",
              "      <td>3</td>\n",
              "      <td>11</td>\n",
              "      <td>160</td>\n",
              "    </tr>\n",
              "    <tr>\n",
              "      <th>7</th>\n",
              "      <td>8</td>\n",
              "      <td>Sato</td>\n",
              "      <td>1</td>\n",
              "      <td>14</td>\n",
              "      <td>160</td>\n",
              "      <td>8</td>\n",
              "      <td>Sato</td>\n",
              "      <td>1</td>\n",
              "      <td>14</td>\n",
              "      <td>160</td>\n",
              "    </tr>\n",
              "  </tbody>\n",
              "</table>"
            ]
          },
          "metadata": {
            "tags": []
          }
        }
      ]
    },
    {
      "cell_type": "markdown",
      "metadata": {
        "id": "QFZPW82Dx2jn",
        "colab_type": "text"
      },
      "source": [
        ">**[ポイント]**\n",
        "\n",
        ">union：重複を除いた結合\n",
        "\n",
        ">union all：重複ありの結合\n",
        "\n",
        ">inner join：内部結合\n",
        "\n",
        ">left outer join：外部結合"
      ]
    },
    {
      "cell_type": "markdown",
      "metadata": {
        "id": "3S-Ka_b-x2jn",
        "colab_type": "text"
      },
      "source": [
        "#### <練習問題 1>\n",
        "\n",
        "新しくcardtbというテーブルを作成してください。ただし、カラムはid,point,money (すべてint)にしてください。さらに、以下のデータを挿入してください。<br>(id,point,money) = (1,100,1000),(2,NULL,60),(3,50,500),(4,30,600),(5,10,10),(6,NULL,40),(7,100,1000),(8,2000,100)"
      ]
    },
    {
      "cell_type": "markdown",
      "metadata": {
        "id": "72mV2rW_x2jn",
        "colab_type": "text"
      },
      "source": [
        "#### <練習問題 2>\n",
        "\n",
        "meiboテーブルにidをキーとして、上記のテーブルを内部結合させてください。"
      ]
    },
    {
      "cell_type": "markdown",
      "metadata": {
        "id": "AJFClhoGx2jo",
        "colab_type": "text"
      },
      "source": [
        "#### <練習問題 3>\n",
        "meiboテーブルにidをキーとして、上記のテーブルを外部結合させてください。"
      ]
    },
    {
      "cell_type": "markdown",
      "metadata": {
        "id": "E2UUKFJ5x2jo",
        "colab_type": "text"
      },
      "source": [
        "### 8.2.6 case文とサブクエリ\n",
        "キーワード：case文、サブクエリ"
      ]
    },
    {
      "cell_type": "markdown",
      "metadata": {
        "id": "LoGfsNE8x2jp",
        "colab_type": "text"
      },
      "source": [
        "データを処理していると、条件分岐をし、それぞれを集計したいという場合があります。SQLでは条件分岐処理もできます。以下では、クラス番号が「1,2,3」ならば、それぞれ「A,B,C」というクラス名(className)が付与されるようにしています。"
      ]
    },
    {
      "cell_type": "code",
      "metadata": {
        "id": "1lv8LMIkx2jq",
        "colab_type": "code",
        "colab": {},
        "outputId": "23cfa23b-6973-4ecd-eae4-ea26776878ee"
      },
      "source": [
        "select \n",
        "     id, name\n",
        "    ,case \n",
        "        when class = 1 then \"A\"\n",
        "        when class = 2 then \"B\"\n",
        "        when class = 3 then \"C\"\n",
        "        else \"others\" \n",
        "    end as className\n",
        "from \n",
        "    meibo;"
      ],
      "execution_count": 0,
      "outputs": [
        {
          "output_type": "display_data",
          "data": {
            "text/html": [
              "<table border=\"1\" class=\"dataframe\">\n",
              "  <thead>\n",
              "    <tr style=\"text-align: right;\">\n",
              "      <th></th>\n",
              "      <th>id</th>\n",
              "      <th>name</th>\n",
              "      <th>className</th>\n",
              "    </tr>\n",
              "  </thead>\n",
              "  <tbody>\n",
              "    <tr>\n",
              "      <th>0</th>\n",
              "      <td>1</td>\n",
              "      <td>Yamada</td>\n",
              "      <td>A</td>\n",
              "    </tr>\n",
              "    <tr>\n",
              "      <th>1</th>\n",
              "      <td>2</td>\n",
              "      <td>Tanaka</td>\n",
              "      <td>B</td>\n",
              "    </tr>\n",
              "    <tr>\n",
              "      <th>2</th>\n",
              "      <td>3</td>\n",
              "      <td>Suzuki</td>\n",
              "      <td>A</td>\n",
              "    </tr>\n",
              "    <tr>\n",
              "      <th>3</th>\n",
              "      <td>4</td>\n",
              "      <td>Kato</td>\n",
              "      <td>B</td>\n",
              "    </tr>\n",
              "    <tr>\n",
              "      <th>4</th>\n",
              "      <td>5</td>\n",
              "      <td>Ito</td>\n",
              "      <td>C</td>\n",
              "    </tr>\n",
              "    <tr>\n",
              "      <th>5</th>\n",
              "      <td>6</td>\n",
              "      <td>Takeuchi</td>\n",
              "      <td>B</td>\n",
              "    </tr>\n",
              "    <tr>\n",
              "      <th>6</th>\n",
              "      <td>7</td>\n",
              "      <td>Kimura</td>\n",
              "      <td>C</td>\n",
              "    </tr>\n",
              "    <tr>\n",
              "      <th>7</th>\n",
              "      <td>8</td>\n",
              "      <td>Sato</td>\n",
              "      <td>A</td>\n",
              "    </tr>\n",
              "  </tbody>\n",
              "</table>"
            ]
          },
          "metadata": {
            "tags": []
          }
        }
      ]
    },
    {
      "cell_type": "markdown",
      "metadata": {
        "id": "EYRXvLrXx2jr",
        "colab_type": "text"
      },
      "source": [
        "次は「サブクエリ」といいます。サブクエリを使用すると、元となるテーブルから必要な情報を取り出し、さらにそれをテーブルとして取り扱うことができます。この例ではmeiboテーブルの内容をサブクエリを用いてテーブルbとして扱っています。"
      ]
    },
    {
      "cell_type": "code",
      "metadata": {
        "id": "9s9O4EFDx2jr",
        "colab_type": "code",
        "colab": {},
        "outputId": "19f85712-b59b-4e19-daa5-c1bdf04107fc"
      },
      "source": [
        "select b.name,b.age from \n",
        " (select a.age,a.name from meibo a where a.class = 1) b;"
      ],
      "execution_count": 0,
      "outputs": [
        {
          "output_type": "display_data",
          "data": {
            "text/html": [
              "<table border=\"1\" class=\"dataframe\">\n",
              "  <thead>\n",
              "    <tr style=\"text-align: right;\">\n",
              "      <th></th>\n",
              "      <th>name</th>\n",
              "      <th>age</th>\n",
              "    </tr>\n",
              "  </thead>\n",
              "  <tbody>\n",
              "    <tr>\n",
              "      <th>0</th>\n",
              "      <td>Yamada</td>\n",
              "      <td>14</td>\n",
              "    </tr>\n",
              "    <tr>\n",
              "      <th>1</th>\n",
              "      <td>Suzuki</td>\n",
              "      <td>13</td>\n",
              "    </tr>\n",
              "    <tr>\n",
              "      <th>2</th>\n",
              "      <td>Sato</td>\n",
              "      <td>14</td>\n",
              "    </tr>\n",
              "  </tbody>\n",
              "</table>"
            ]
          },
          "metadata": {
            "tags": []
          }
        }
      ]
    },
    {
      "cell_type": "markdown",
      "metadata": {
        "id": "UP20X3Oyx2jt",
        "colab_type": "text"
      },
      "source": [
        "なお、上記はカラム名を指定していますが、全てのカラムをもってきたい場合は、エイリアス名の後にドットアスタリスク（.*）をつけます。"
      ]
    },
    {
      "cell_type": "code",
      "metadata": {
        "id": "d1gUuePDx2jt",
        "colab_type": "code",
        "colab": {},
        "outputId": "21815bef-71f5-4a5e-d270-1d403ca8632c"
      },
      "source": [
        "select b.* from \n",
        " (select a.* from meibo a where a.class = 1) b;"
      ],
      "execution_count": 0,
      "outputs": [
        {
          "output_type": "display_data",
          "data": {
            "text/html": [
              "<table border=\"1\" class=\"dataframe\">\n",
              "  <thead>\n",
              "    <tr style=\"text-align: right;\">\n",
              "      <th></th>\n",
              "      <th>id</th>\n",
              "      <th>name</th>\n",
              "      <th>class</th>\n",
              "      <th>age</th>\n",
              "      <th>height</th>\n",
              "    </tr>\n",
              "  </thead>\n",
              "  <tbody>\n",
              "    <tr>\n",
              "      <th>0</th>\n",
              "      <td>1</td>\n",
              "      <td>Yamada</td>\n",
              "      <td>1</td>\n",
              "      <td>14</td>\n",
              "      <td>150</td>\n",
              "    </tr>\n",
              "    <tr>\n",
              "      <th>1</th>\n",
              "      <td>3</td>\n",
              "      <td>Suzuki</td>\n",
              "      <td>1</td>\n",
              "      <td>13</td>\n",
              "      <td>150</td>\n",
              "    </tr>\n",
              "    <tr>\n",
              "      <th>2</th>\n",
              "      <td>8</td>\n",
              "      <td>Sato</td>\n",
              "      <td>1</td>\n",
              "      <td>14</td>\n",
              "      <td>160</td>\n",
              "    </tr>\n",
              "  </tbody>\n",
              "</table>"
            ]
          },
          "metadata": {
            "tags": []
          }
        }
      ]
    },
    {
      "cell_type": "markdown",
      "metadata": {
        "id": "KGKME122x2jv",
        "colab_type": "text"
      },
      "source": [
        "以上で、SQLの基礎的な操作は完了です。練習問題の後は、ビューについて学びます。"
      ]
    },
    {
      "cell_type": "markdown",
      "metadata": {
        "id": "XKQRzY23x2jv",
        "colab_type": "text"
      },
      "source": [
        ">**[ポイント]**\n",
        "\n",
        ">case when 条件 then A else B end as カラム名設定：条件分岐"
      ]
    },
    {
      "cell_type": "markdown",
      "metadata": {
        "id": "K0rGHOOHx2jw",
        "colab_type": "text"
      },
      "source": [
        "#### <練習問題 1>\n",
        "\n",
        "meiboテーブルで、heightが155未満の場合は\"below_155\"、155ぴったりならば\"equal_155\"、155より大きいならば\"over_155\"と名付けて、テーブルを表示させてください。"
      ]
    },
    {
      "cell_type": "markdown",
      "metadata": {
        "id": "pbsSrB-gx2jx",
        "colab_type": "text"
      },
      "source": [
        "#### <練習問題 2>\n",
        "上記のテーブルとサブクエリの考え方を利用して、それぞれのheightLevelの人数を求めてください。"
      ]
    },
    {
      "cell_type": "markdown",
      "metadata": {
        "id": "39HXq8KHx2jx",
        "colab_type": "text"
      },
      "source": [
        "#### <練習問題 3>\n",
        "上記のテーブルとサブクエリの考え方を利用して、それぞれのheightLevelの平均年齢を求めてください。"
      ]
    },
    {
      "cell_type": "markdown",
      "metadata": {
        "id": "U2DaeVRSx2jx",
        "colab_type": "text"
      },
      "source": [
        "## 8.3 ビュー\n",
        "ゴール：ビューの概念を理解し、作成や操作ができる"
      ]
    },
    {
      "cell_type": "markdown",
      "metadata": {
        "id": "cDJSWl4_x2jy",
        "colab_type": "text"
      },
      "source": [
        "### 8.3.1 ビュー\n",
        "キーワード：ビュー"
      ]
    },
    {
      "cell_type": "markdown",
      "metadata": {
        "id": "qumFmCj9x2jy",
        "colab_type": "text"
      },
      "source": [
        "次は、ビューについて学びます。これまでは、直接テーブルからデータを問い合わせて、必要な情報を取得していましたが、毎回条件を設定して各テーブルからデータを抽出するのは、少し面倒です。とはいえ、必要な情報を各テーブルから取得したテーブルを作成したとしても、元データの更新のたびにそのテーブルも更新する必要があるので、やはり面倒です。このようなとき、ビューを活用することで、常に最新のデータを簡単に抽出することができるようになります。ビューは、あらかじめ検索する方法を記録させておく仮想のテーブルです。\n",
        "\n",
        "ビューの作成方法はテーブルとほぼ同じで、create viewを使います。まずは、簡単な例からみていきましょう。meiboテーブルから、idとnameだけを持ってくるビューを作成しています。"
      ]
    },
    {
      "cell_type": "code",
      "metadata": {
        "id": "xDhLAnJEx2jy",
        "colab_type": "code",
        "colab": {},
        "outputId": "c5dd0945-941f-4048-a9ca-e425db0b8df4"
      },
      "source": [
        "create view v1\n",
        "    as\n",
        "select id,name\n",
        "    from meibo;"
      ],
      "execution_count": 0,
      "outputs": [
        {
          "output_type": "display_data",
          "data": {
            "text/html": [
              "<div>Query OK, 0 rows affected.</div>"
            ]
          },
          "metadata": {
            "tags": []
          }
        }
      ]
    },
    {
      "cell_type": "markdown",
      "metadata": {
        "id": "1IMx4Tx1x2j1",
        "colab_type": "text"
      },
      "source": [
        "新しいビューができているか見てみましょう。やり方は以前学んだ方法と同じです。"
      ]
    },
    {
      "cell_type": "code",
      "metadata": {
        "id": "9QohDUKvx2j1",
        "colab_type": "code",
        "colab": {},
        "outputId": "828a602c-f991-4a44-bc3f-a4884c2007a6"
      },
      "source": [
        "select * from v1;"
      ],
      "execution_count": 0,
      "outputs": [
        {
          "output_type": "display_data",
          "data": {
            "text/html": [
              "<table border=\"1\" class=\"dataframe\">\n",
              "  <thead>\n",
              "    <tr style=\"text-align: right;\">\n",
              "      <th></th>\n",
              "      <th>id</th>\n",
              "      <th>name</th>\n",
              "    </tr>\n",
              "  </thead>\n",
              "  <tbody>\n",
              "    <tr>\n",
              "      <th>0</th>\n",
              "      <td>1</td>\n",
              "      <td>Yamada</td>\n",
              "    </tr>\n",
              "    <tr>\n",
              "      <th>1</th>\n",
              "      <td>2</td>\n",
              "      <td>Tanaka</td>\n",
              "    </tr>\n",
              "    <tr>\n",
              "      <th>2</th>\n",
              "      <td>3</td>\n",
              "      <td>Suzuki</td>\n",
              "    </tr>\n",
              "    <tr>\n",
              "      <th>3</th>\n",
              "      <td>4</td>\n",
              "      <td>Kato</td>\n",
              "    </tr>\n",
              "    <tr>\n",
              "      <th>4</th>\n",
              "      <td>5</td>\n",
              "      <td>Ito</td>\n",
              "    </tr>\n",
              "    <tr>\n",
              "      <th>5</th>\n",
              "      <td>6</td>\n",
              "      <td>Takeuchi</td>\n",
              "    </tr>\n",
              "    <tr>\n",
              "      <th>6</th>\n",
              "      <td>7</td>\n",
              "      <td>Kimura</td>\n",
              "    </tr>\n",
              "    <tr>\n",
              "      <th>7</th>\n",
              "      <td>8</td>\n",
              "      <td>Sato</td>\n",
              "    </tr>\n",
              "  </tbody>\n",
              "</table>"
            ]
          },
          "metadata": {
            "tags": []
          }
        }
      ]
    },
    {
      "cell_type": "markdown",
      "metadata": {
        "id": "_PhPPup4x2j2",
        "colab_type": "text"
      },
      "source": [
        "これだけだとあまりビューの便利さわからないので、次の例を見てみましょう。前に作成した少し複雑なテーブルもビューを作成しておけば、いつでも呼び出すことができます。"
      ]
    },
    {
      "cell_type": "code",
      "metadata": {
        "id": "PZyMKiRXx2j2",
        "colab_type": "code",
        "colab": {},
        "outputId": "d42c9f70-6083-4c8e-e158-7afed7fab8cc"
      },
      "source": [
        "create view v2\n",
        "    as\n",
        "select \n",
        "     id\n",
        "    ,name\n",
        "    ,case \n",
        "        when class = 1 then \"A\"\n",
        "        when class = 2 then \"B\"\n",
        "        when class = 3 then \"C\"\n",
        "        else \"others\" \n",
        "    end as className\n",
        "from \n",
        "    meibo;"
      ],
      "execution_count": 0,
      "outputs": [
        {
          "output_type": "display_data",
          "data": {
            "text/html": [
              "<div>Query OK, 0 rows affected.</div>"
            ]
          },
          "metadata": {
            "tags": []
          }
        }
      ]
    },
    {
      "cell_type": "markdown",
      "metadata": {
        "id": "m0P-EBs7x2j3",
        "colab_type": "text"
      },
      "source": [
        "以下のビューを設定しておけば、欲しい検索結果を以下のようなSQL文だけで呼び出すことができます。"
      ]
    },
    {
      "cell_type": "code",
      "metadata": {
        "id": "1716k5Xcx2j3",
        "colab_type": "code",
        "colab": {},
        "outputId": "c14c2b1b-a794-4bc2-95ca-223a4ba2f55b"
      },
      "source": [
        "select * from v2;"
      ],
      "execution_count": 0,
      "outputs": [
        {
          "output_type": "display_data",
          "data": {
            "text/html": [
              "<table border=\"1\" class=\"dataframe\">\n",
              "  <thead>\n",
              "    <tr style=\"text-align: right;\">\n",
              "      <th></th>\n",
              "      <th>id</th>\n",
              "      <th>name</th>\n",
              "      <th>className</th>\n",
              "    </tr>\n",
              "  </thead>\n",
              "  <tbody>\n",
              "    <tr>\n",
              "      <th>0</th>\n",
              "      <td>1</td>\n",
              "      <td>Yamada</td>\n",
              "      <td>A</td>\n",
              "    </tr>\n",
              "    <tr>\n",
              "      <th>1</th>\n",
              "      <td>2</td>\n",
              "      <td>Tanaka</td>\n",
              "      <td>B</td>\n",
              "    </tr>\n",
              "    <tr>\n",
              "      <th>2</th>\n",
              "      <td>3</td>\n",
              "      <td>Suzuki</td>\n",
              "      <td>A</td>\n",
              "    </tr>\n",
              "    <tr>\n",
              "      <th>3</th>\n",
              "      <td>4</td>\n",
              "      <td>Kato</td>\n",
              "      <td>B</td>\n",
              "    </tr>\n",
              "    <tr>\n",
              "      <th>4</th>\n",
              "      <td>5</td>\n",
              "      <td>Ito</td>\n",
              "      <td>C</td>\n",
              "    </tr>\n",
              "    <tr>\n",
              "      <th>5</th>\n",
              "      <td>6</td>\n",
              "      <td>Takeuchi</td>\n",
              "      <td>B</td>\n",
              "    </tr>\n",
              "    <tr>\n",
              "      <th>6</th>\n",
              "      <td>7</td>\n",
              "      <td>Kimura</td>\n",
              "      <td>C</td>\n",
              "    </tr>\n",
              "    <tr>\n",
              "      <th>7</th>\n",
              "      <td>8</td>\n",
              "      <td>Sato</td>\n",
              "      <td>A</td>\n",
              "    </tr>\n",
              "  </tbody>\n",
              "</table>"
            ]
          },
          "metadata": {
            "tags": []
          }
        }
      ]
    },
    {
      "cell_type": "markdown",
      "metadata": {
        "id": "KVBV8XFRx2j4",
        "colab_type": "text"
      },
      "source": [
        "ビューを更新することもできます。試しに以下のデータを挿入してみましょう。"
      ]
    },
    {
      "cell_type": "code",
      "metadata": {
        "id": "fuuZ-Vrhx2j4",
        "colab_type": "code",
        "colab": {},
        "outputId": "0677e88f-1a69-4e01-b285-3b2b1f789254"
      },
      "source": [
        "insert into v1 (id, name) values (100, \"dummy_Yamada\");\n",
        "insert into v1 (id, name) values (200, \"dummy_Tanaka\");\n",
        "insert into v1 (id, name) values (300, \"dummy_Sato\");"
      ],
      "execution_count": 0,
      "outputs": [
        {
          "output_type": "display_data",
          "data": {
            "text/html": [
              "<div>Query OK, 1 rows affected.</div><div>Query OK, 1 rows affected.</div><div>Query OK, 1 rows affected.</div>"
            ]
          },
          "metadata": {
            "tags": []
          }
        }
      ]
    },
    {
      "cell_type": "code",
      "metadata": {
        "id": "OAQiLUsBx2j5",
        "colab_type": "code",
        "colab": {},
        "outputId": "007768a0-fda2-47a1-a286-211c7afa877c"
      },
      "source": [
        "select * from v1;"
      ],
      "execution_count": 0,
      "outputs": [
        {
          "output_type": "display_data",
          "data": {
            "text/html": [
              "<table border=\"1\" class=\"dataframe\">\n",
              "  <thead>\n",
              "    <tr style=\"text-align: right;\">\n",
              "      <th></th>\n",
              "      <th>id</th>\n",
              "      <th>name</th>\n",
              "    </tr>\n",
              "  </thead>\n",
              "  <tbody>\n",
              "    <tr>\n",
              "      <th>0</th>\n",
              "      <td>1</td>\n",
              "      <td>Yamada</td>\n",
              "    </tr>\n",
              "    <tr>\n",
              "      <th>1</th>\n",
              "      <td>2</td>\n",
              "      <td>Tanaka</td>\n",
              "    </tr>\n",
              "    <tr>\n",
              "      <th>2</th>\n",
              "      <td>3</td>\n",
              "      <td>Suzuki</td>\n",
              "    </tr>\n",
              "    <tr>\n",
              "      <th>3</th>\n",
              "      <td>4</td>\n",
              "      <td>Kato</td>\n",
              "    </tr>\n",
              "    <tr>\n",
              "      <th>4</th>\n",
              "      <td>5</td>\n",
              "      <td>Ito</td>\n",
              "    </tr>\n",
              "    <tr>\n",
              "      <th>5</th>\n",
              "      <td>6</td>\n",
              "      <td>Takeuchi</td>\n",
              "    </tr>\n",
              "    <tr>\n",
              "      <th>6</th>\n",
              "      <td>7</td>\n",
              "      <td>Kimura</td>\n",
              "    </tr>\n",
              "    <tr>\n",
              "      <th>7</th>\n",
              "      <td>8</td>\n",
              "      <td>Sato</td>\n",
              "    </tr>\n",
              "    <tr>\n",
              "      <th>8</th>\n",
              "      <td>100</td>\n",
              "      <td>dummy_Yamada</td>\n",
              "    </tr>\n",
              "    <tr>\n",
              "      <th>9</th>\n",
              "      <td>200</td>\n",
              "      <td>dummy_Tanaka</td>\n",
              "    </tr>\n",
              "    <tr>\n",
              "      <th>10</th>\n",
              "      <td>300</td>\n",
              "      <td>dummy_Sato</td>\n",
              "    </tr>\n",
              "  </tbody>\n",
              "</table>"
            ]
          },
          "metadata": {
            "tags": []
          }
        }
      ]
    },
    {
      "cell_type": "markdown",
      "metadata": {
        "id": "0mGFfin-x2j6",
        "colab_type": "text"
      },
      "source": [
        "ただし、ビューを更新すると、元の参照テーブルも変更されるので、注意してください。"
      ]
    },
    {
      "cell_type": "code",
      "metadata": {
        "id": "XPsJi04Cx2j6",
        "colab_type": "code",
        "colab": {},
        "outputId": "239891b3-2dc3-475d-a6e5-cdb00df3396e"
      },
      "source": [
        "select * from meibo;"
      ],
      "execution_count": 0,
      "outputs": [
        {
          "output_type": "display_data",
          "data": {
            "text/html": [
              "<table border=\"1\" class=\"dataframe\">\n",
              "  <thead>\n",
              "    <tr style=\"text-align: right;\">\n",
              "      <th></th>\n",
              "      <th>id</th>\n",
              "      <th>name</th>\n",
              "      <th>class</th>\n",
              "      <th>age</th>\n",
              "      <th>height</th>\n",
              "    </tr>\n",
              "  </thead>\n",
              "  <tbody>\n",
              "    <tr>\n",
              "      <th>0</th>\n",
              "      <td>1</td>\n",
              "      <td>Yamada</td>\n",
              "      <td>1</td>\n",
              "      <td>14</td>\n",
              "      <td>150</td>\n",
              "    </tr>\n",
              "    <tr>\n",
              "      <th>1</th>\n",
              "      <td>2</td>\n",
              "      <td>Tanaka</td>\n",
              "      <td>2</td>\n",
              "      <td>13</td>\n",
              "      <td>150</td>\n",
              "    </tr>\n",
              "    <tr>\n",
              "      <th>2</th>\n",
              "      <td>3</td>\n",
              "      <td>Suzuki</td>\n",
              "      <td>1</td>\n",
              "      <td>13</td>\n",
              "      <td>150</td>\n",
              "    </tr>\n",
              "    <tr>\n",
              "      <th>3</th>\n",
              "      <td>4</td>\n",
              "      <td>Kato</td>\n",
              "      <td>2</td>\n",
              "      <td>15</td>\n",
              "      <td>150</td>\n",
              "    </tr>\n",
              "    <tr>\n",
              "      <th>4</th>\n",
              "      <td>5</td>\n",
              "      <td>Ito</td>\n",
              "      <td>3</td>\n",
              "      <td>12</td>\n",
              "      <td>155</td>\n",
              "    </tr>\n",
              "    <tr>\n",
              "      <th>5</th>\n",
              "      <td>6</td>\n",
              "      <td>Takeuchi</td>\n",
              "      <td>2</td>\n",
              "      <td>16</td>\n",
              "      <td>155</td>\n",
              "    </tr>\n",
              "    <tr>\n",
              "      <th>6</th>\n",
              "      <td>7</td>\n",
              "      <td>Kimura</td>\n",
              "      <td>3</td>\n",
              "      <td>11</td>\n",
              "      <td>160</td>\n",
              "    </tr>\n",
              "    <tr>\n",
              "      <th>7</th>\n",
              "      <td>8</td>\n",
              "      <td>Sato</td>\n",
              "      <td>1</td>\n",
              "      <td>14</td>\n",
              "      <td>160</td>\n",
              "    </tr>\n",
              "    <tr>\n",
              "      <th>8</th>\n",
              "      <td>100</td>\n",
              "      <td>dummy_Yamada</td>\n",
              "      <td>None</td>\n",
              "      <td>None</td>\n",
              "      <td>None</td>\n",
              "    </tr>\n",
              "    <tr>\n",
              "      <th>9</th>\n",
              "      <td>200</td>\n",
              "      <td>dummy_Tanaka</td>\n",
              "      <td>None</td>\n",
              "      <td>None</td>\n",
              "      <td>None</td>\n",
              "    </tr>\n",
              "    <tr>\n",
              "      <th>10</th>\n",
              "      <td>300</td>\n",
              "      <td>dummy_Sato</td>\n",
              "      <td>None</td>\n",
              "      <td>None</td>\n",
              "      <td>None</td>\n",
              "    </tr>\n",
              "  </tbody>\n",
              "</table>"
            ]
          },
          "metadata": {
            "tags": []
          }
        }
      ]
    },
    {
      "cell_type": "markdown",
      "metadata": {
        "id": "xj7fLurLx2j7",
        "colab_type": "text"
      },
      "source": [
        "ビューを更新するときは、元のテーブルへの影響範囲を十分に考え、注意しましょう。ただし、ビューが更新できないこともありますので、練習問題で見てみることにします。"
      ]
    },
    {
      "cell_type": "markdown",
      "metadata": {
        "id": "tMSUA4vkx2j8",
        "colab_type": "text"
      },
      "source": [
        "以下のコマンドで、ビューであることわかります。"
      ]
    },
    {
      "cell_type": "code",
      "metadata": {
        "id": "bsqPjsHDx2j8",
        "colab_type": "code",
        "colab": {},
        "outputId": "7b083540-193c-42d2-a745-7d2cafb95c68"
      },
      "source": [
        "show table status;"
      ],
      "execution_count": 0,
      "outputs": [
        {
          "output_type": "display_data",
          "data": {
            "text/html": [
              "<table border=\"1\" class=\"dataframe\">\n",
              "  <thead>\n",
              "    <tr style=\"text-align: right;\">\n",
              "      <th></th>\n",
              "      <th>Name</th>\n",
              "      <th>Engine</th>\n",
              "      <th>Version</th>\n",
              "      <th>Row_format</th>\n",
              "      <th>Rows</th>\n",
              "      <th>Avg_row_length</th>\n",
              "      <th>Data_length</th>\n",
              "      <th>Max_data_length</th>\n",
              "      <th>Index_length</th>\n",
              "      <th>Data_free</th>\n",
              "      <th>Auto_increment</th>\n",
              "      <th>Create_time</th>\n",
              "      <th>Update_time</th>\n",
              "      <th>Check_time</th>\n",
              "      <th>Collation</th>\n",
              "      <th>Checksum</th>\n",
              "      <th>Create_options</th>\n",
              "      <th>Comment</th>\n",
              "    </tr>\n",
              "  </thead>\n",
              "  <tbody>\n",
              "    <tr>\n",
              "      <th>0</th>\n",
              "      <td>cardtb</td>\n",
              "      <td>MyISAM</td>\n",
              "      <td>10</td>\n",
              "      <td>Fixed</td>\n",
              "      <td>6</td>\n",
              "      <td>13</td>\n",
              "      <td>78</td>\n",
              "      <td>3659174697238527</td>\n",
              "      <td>2048</td>\n",
              "      <td>0</td>\n",
              "      <td>None</td>\n",
              "      <td>2017-12-20 10:33:53</td>\n",
              "      <td>2017-12-20 10:37:18</td>\n",
              "      <td>None</td>\n",
              "      <td>utf8_general_ci</td>\n",
              "      <td>None</td>\n",
              "      <td></td>\n",
              "      <td></td>\n",
              "    </tr>\n",
              "    <tr>\n",
              "      <th>1</th>\n",
              "      <td>meibo</td>\n",
              "      <td>MyISAM</td>\n",
              "      <td>10</td>\n",
              "      <td>Dynamic</td>\n",
              "      <td>11</td>\n",
              "      <td>38</td>\n",
              "      <td>424</td>\n",
              "      <td>281474976710655</td>\n",
              "      <td>2048</td>\n",
              "      <td>0</td>\n",
              "      <td>None</td>\n",
              "      <td>2017-12-20 10:28:35</td>\n",
              "      <td>2017-12-20 10:39:56</td>\n",
              "      <td>None</td>\n",
              "      <td>utf8_general_ci</td>\n",
              "      <td>None</td>\n",
              "      <td></td>\n",
              "      <td></td>\n",
              "    </tr>\n",
              "    <tr>\n",
              "      <th>2</th>\n",
              "      <td>meibo2</td>\n",
              "      <td>MyISAM</td>\n",
              "      <td>10</td>\n",
              "      <td>Dynamic</td>\n",
              "      <td>5</td>\n",
              "      <td>28</td>\n",
              "      <td>144</td>\n",
              "      <td>281474976710655</td>\n",
              "      <td>2048</td>\n",
              "      <td>0</td>\n",
              "      <td>None</td>\n",
              "      <td>2017-12-20 10:32:37</td>\n",
              "      <td>2017-12-20 10:36:03</td>\n",
              "      <td>None</td>\n",
              "      <td>utf8_general_ci</td>\n",
              "      <td>None</td>\n",
              "      <td></td>\n",
              "      <td></td>\n",
              "    </tr>\n",
              "    <tr>\n",
              "      <th>3</th>\n",
              "      <td>score</td>\n",
              "      <td>MyISAM</td>\n",
              "      <td>10</td>\n",
              "      <td>Fixed</td>\n",
              "      <td>9</td>\n",
              "      <td>17</td>\n",
              "      <td>153</td>\n",
              "      <td>4785074604081151</td>\n",
              "      <td>2048</td>\n",
              "      <td>0</td>\n",
              "      <td>None</td>\n",
              "      <td>2017-12-20 10:33:05</td>\n",
              "      <td>2017-12-20 10:36:28</td>\n",
              "      <td>None</td>\n",
              "      <td>utf8_general_ci</td>\n",
              "      <td>None</td>\n",
              "      <td></td>\n",
              "      <td></td>\n",
              "    </tr>\n",
              "    <tr>\n",
              "      <th>4</th>\n",
              "      <td>v1</td>\n",
              "      <td>None</td>\n",
              "      <td>None</td>\n",
              "      <td>None</td>\n",
              "      <td>None</td>\n",
              "      <td>None</td>\n",
              "      <td>None</td>\n",
              "      <td>None</td>\n",
              "      <td>None</td>\n",
              "      <td>None</td>\n",
              "      <td>None</td>\n",
              "      <td>None</td>\n",
              "      <td>None</td>\n",
              "      <td>None</td>\n",
              "      <td>None</td>\n",
              "      <td>None</td>\n",
              "      <td>None</td>\n",
              "      <td>VIEW</td>\n",
              "    </tr>\n",
              "    <tr>\n",
              "      <th>5</th>\n",
              "      <td>v2</td>\n",
              "      <td>None</td>\n",
              "      <td>None</td>\n",
              "      <td>None</td>\n",
              "      <td>None</td>\n",
              "      <td>None</td>\n",
              "      <td>None</td>\n",
              "      <td>None</td>\n",
              "      <td>None</td>\n",
              "      <td>None</td>\n",
              "      <td>None</td>\n",
              "      <td>None</td>\n",
              "      <td>None</td>\n",
              "      <td>None</td>\n",
              "      <td>None</td>\n",
              "      <td>None</td>\n",
              "      <td>None</td>\n",
              "      <td>VIEW</td>\n",
              "    </tr>\n",
              "  </tbody>\n",
              "</table>"
            ]
          },
          "metadata": {
            "tags": []
          }
        }
      ]
    },
    {
      "cell_type": "markdown",
      "metadata": {
        "id": "-77wAOpix2j-",
        "colab_type": "text"
      },
      "source": [
        "#### <練習問題 1>\n",
        "テーブルmeibo2からidとnameを取り出して、ビューのv3を作成してみましょう。"
      ]
    },
    {
      "cell_type": "markdown",
      "metadata": {
        "id": "nKUL7ZPTx2j-",
        "colab_type": "text"
      },
      "source": [
        "#### <練習問題 2>\n",
        "meiboテーブルとscoreテーブルを内部結合して、idとnameを取り出すビューv4を作成してみましょう。"
      ]
    },
    {
      "cell_type": "markdown",
      "metadata": {
        "id": "_6jAtJ20x2j_",
        "colab_type": "text"
      },
      "source": [
        "#### <練習問題 3>\n",
        "上記で作成したテーブルに新しいデータを追加してみましょう。どうなりますか？"
      ]
    },
    {
      "cell_type": "markdown",
      "metadata": {
        "id": "hjF625tsx2kA",
        "colab_type": "text"
      },
      "source": [
        "***"
      ]
    },
    {
      "cell_type": "markdown",
      "metadata": {
        "id": "vpFVeTSix2kA",
        "colab_type": "text"
      },
      "source": [
        "## 8.4 総合問題"
      ]
    },
    {
      "cell_type": "markdown",
      "metadata": {
        "id": "8TmUt1jIx2kC",
        "colab_type": "text"
      },
      "source": [
        "### 8.4.1 総合問題1\n",
        "\n",
        "以下のデータベースを使って、後の問いに答えてください。(以下のURLにある注意事項等も参照ください。)\n",
        "\n",
        "https://dev.mysql.com/doc/world-setup/en/\n",
        "\n",
        "データベースをインストールする方法は以下のコマンドを実行してください(**ただし、terminal上で実行する必要があります。**terminalはJupyterのトップ画面から、右上にある「New」をクリックすると表示されます。手順としては、mkdirでフォルダ（chapter8など）を作成した後に、以下のコマンドを実行し、エラーがないことを確認したら、ここへ戻ってデータベースがあることを確認し、問題に取り組んでください。なお、このページの上にある「Kernel」をクリックし、Change kernelでPythonに変更して実行しても大丈夫です。ただし、sqlを実行する場合は、Kernelをsqlに戻してください。)。  "
      ]
    },
    {
      "cell_type": "markdown",
      "metadata": {
        "id": "nGE3wZefx2kC",
        "colab_type": "text"
      },
      "source": [
        "-------------------\n",
        "wget http://downloads.mysql.com/docs/world.sql.gz  \n",
        "gzip -d world.sql.gz  \n",
        "mysql -h\"zdb\" -P\"3306\" -u root -p\"gci\" < world.sql    \n",
        "\n",
        "-------------------\n",
        "\n",
        "(1) データベースworldを選択して、どのようなテーブルがあるか、またそれぞれどのようなカラムがあるか表示してください。  \n",
        "(2) それぞれのテーブルについて、それぞれ5行ずつ表示させてください。どんなデータがあるか軽く確認してください。  \n",
        "(3) cityテーブルについて、レコード数をカウントしてください。また、重複するデータがあるかどうか、チェックしてください。  "
      ]
    },
    {
      "cell_type": "markdown",
      "metadata": {
        "id": "PU3pvuRux2kD",
        "colab_type": "text"
      },
      "source": [
        "### 8.4.2 総合問題2\n",
        "上記と同じデータベースを使って、以下の問いに答えてください。\n",
        "\n",
        "(1) countrylanguageテーブルについて、それぞれのCountryCodeを軸に、言語の数（テーブルにあるものだけ、重複なく）を計算してください。また、その結果をcityテーブルに紐付けて（joinして）、cityのカラム全てとその言語の数を表示してください。ただし、結果は5行のみ表示させるだけでよいです。  \n",
        "(2)  countrylanguageテーブルについて、それぞれのCountryCodeを軸に、Percentageを合計してください。ただし、その合計値が99.9を超えるものだけ表示させるようにしてください。  \n",
        "(3)  cityテーブルについて、DistrictのイニシャルがAではじまるもの、Bではじまるもの、Cではじまるもの、その他(others)の4パターンに分けて、それぞれのレコード数をカウントしてください。"
      ]
    }
  ]
}