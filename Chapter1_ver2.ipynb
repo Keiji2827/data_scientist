{
  "nbformat": 4,
  "nbformat_minor": 0,
  "metadata": {
    "colab": {
      "name": "Chapter1_ver2.ipynb",
      "version": "0.3.2",
      "provenance": [],
      "toc_visible": true,
      "include_colab_link": true
    },
    "kernelspec": {
      "display_name": "Python [default]",
      "language": "python",
      "name": "python3"
    }
  },
  "cells": [
    {
      "cell_type": "markdown",
      "metadata": {
        "id": "view-in-github",
        "colab_type": "text"
      },
      "source": [
        "<a href=\"https://colab.research.google.com/github/Keiji2827/data_scientist/blob/master/Chapter1_ver2.ipynb\" target=\"_parent\"><img src=\"https://colab.research.google.com/assets/colab-badge.svg\" alt=\"Open In Colab\"/></a>"
      ]
    },
    {
      "metadata": {
        "nbpresent": {
          "id": "af88da20-0f51-483e-bd72-afc896a9da05"
        },
        "id": "txPV6L8B8SD8",
        "colab_type": "text"
      },
      "cell_type": "markdown",
      "source": [
        "# 1 データサイエンティスト講座概要とPythonの基礎"
      ]
    },
    {
      "metadata": {
        "id": "GYKubWqS8SD-",
        "colab_type": "text"
      },
      "cell_type": "markdown",
      "source": [
        "- **[1.1 この講座の概要](#1.1-この講座の概要)**\n",
        "    - [1.1.1 講座の説明](#1.1.1-講座の説明)\n",
        "    - [1.1.2 データサイエンティストについて](#1.1.2-データサイエンティストについて)\n",
        "    - [1.1.3 データ分析の流れ](#1.1.3-データ分析の流れ)\n",
        "    - [1.1.4 （必読！）この講座の注意事項](#1.1.4-（必読！）この講座の注意事項)\n",
        "<br><br>\n",
        "- **[1.2 Pythonの基礎](#1.2-Pythonの基礎)** \n",
        "    - [1.2.1 Jupyterの使い方とPythonの基礎](#1.2.1-Jupyterの使い方とPythonの基礎)\n",
        "    - [1.2.2 クラスとインスタンス](#1.2.2-クラスとインスタンス)\n",
        "<br><br>\n",
        "- **[1.3 総合問題](#1.3-総合問題)** \n",
        "    - [1.3.1 素数判定](#1.3.1-素数判定)"
      ]
    },
    {
      "metadata": {
        "collapsed": true,
        "id": "Gcnwd7F-8SD-",
        "colab_type": "text"
      },
      "cell_type": "markdown",
      "source": [
        "\n",
        "***"
      ]
    },
    {
      "metadata": {
        "nbpresent": {
          "id": "dad3a857-8628-4c15-a8ad-312792cb88ac"
        },
        "id": "5K_hYK7M8SEA",
        "colab_type": "text"
      },
      "cell_type": "markdown",
      "source": [
        "## 1.1 この講座の概要\n",
        "ゴール：この講座の目的を理解する、データ分析の流れを抑える"
      ]
    },
    {
      "metadata": {
        "nbpresent": {
          "id": "cc42c471-e943-450e-a441-3dc962f1c40d"
        },
        "id": "eTy-U7OY8SEB",
        "colab_type": "text"
      },
      "cell_type": "markdown",
      "source": [
        "### 1.1.1 講座の説明\n",
        "キーワード：データ分析、Python、SQL、線形代数、微分積分学、確率、統計、機械学習"
      ]
    },
    {
      "metadata": {
        "id": "rBUI4-rB8SEB",
        "colab_type": "text"
      },
      "cell_type": "markdown",
      "source": [
        "この講座では、Jupyter Notebookを使用するため、まずは自分のパソコンにインストールする必要があります。https://pythondatascience.plavox.info/pythonの開発環境/jupyter-notebookを使ってみよう を参考にインストールしてください。\n",
        "\n",
        "この講座を学ぶ前に前提としている知識は、大学で習う微分・積分と線形代数の基礎で、プログラミング経験がある方達(可能ならPython)を想定しています。この講座とは別に、確率と統計の基礎を体系的に学習することをお勧めします。ここは、厳密な数式に基づいた講座（集合・位相や測度論に基づいた確率統計）ではなく、データ分析の現場に必要なスキルを身につけるという視点で、解説をしています。もちろん、難しい箇所もあるかもしれませんが、一度に全てを理解しなくても先には進むことはできます。後から振り返ってわかるということもありますし、分からない箇所があったり、気になっている箇所がありましたら、以下の参考文献なども都度参照してください。"
      ]
    },
    {
      "metadata": {
        "id": "97qA6lfA8SED",
        "colab_type": "text"
      },
      "cell_type": "markdown",
      "source": [
        ">[参照URL]\n",
        "\n",
        ">https://www.python.org\n",
        "\n",
        ">http://www.sejuku.net/blog/3413\n",
        "\n",
        ">http://diveintopython3-ja.rdy.jp/\n",
        "\n",
        ">[参考文献]\n",
        "\n",
        ">『チュートリアルPython』(Bill Lubanovic, オライリージャパン)\n",
        "\n",
        ">『統計学入門』(東京大学出版)\n",
        "\n",
        ">『統計学』(東京大学出版)"
      ]
    },
    {
      "metadata": {
        "id": "xadMdyiw8SEE",
        "colab_type": "text"
      },
      "cell_type": "markdown",
      "source": [
        "この講座では一部、線形代数や微分積分学の基礎知識を前提に話を進めますので、不安がある方は以下の文献等見て復習しましょう。後の章でも、固有値等でてきますので、さらっと読んでおきましょう。もちろん全てやる必要はなく、ここの教材をやっていく上で、必要そうな箇所をピックアップしたり、教材で出現する専門用語をネットで調べながら学習を進めてください。さらっと読んでみて、自分にあっている本を1−2冊購入すればよいでしょう。なお、線形代数や微分積分学に限った話ではありませんが、大学の数学は抽象度があがり、苦手意識を持つ人が多いようです。問題演習をこなすことによってイメージがつきやすくなりますので、以下のような文献で例題や演習を中心にやってみてください。"
      ]
    },
    {
      "metadata": {
        "id": "j-kt0Idr8SEE",
        "colab_type": "text"
      },
      "cell_type": "markdown",
      "source": [
        ">[参考文献]\n",
        "\n",
        ">『線形代数学（新装版）』(川久保　勝夫  (著), 日本評論社)\n",
        "\n",
        ">『入門線形代数 』(三宅 敏恒 (著) , 培風館 )\n",
        "\n",
        ">『明解演習 線形代数 (明解演習シリーズ) 』(小寺 平治(著), 共立出版)\n",
        "\n",
        ">『明解演習 微分積分 (明解演習シリーズ)  』(小寺 平治(著), 共立出版)\n",
        "\n",
        ">『キーポイント多変数の微分積分 (理工系数学のキーポイント (7)) 』(小形 正男 (著), 岩波書店 )\n",
        "\n",
        ">『やさしく学べる微分方程式 』(石村 園子 (著), 共立出版)"
      ]
    },
    {
      "metadata": {
        "id": "2J2dkUz78SEF",
        "colab_type": "text"
      },
      "cell_type": "markdown",
      "source": [
        "なお、以下は解析学（微分積分学）のみですが、大学1−2年の数学に不安のある方、数学的な厳密性を求めたい方にオススメします。"
      ]
    },
    {
      "metadata": {
        "id": "9nkRUdts8SEG",
        "colab_type": "text"
      },
      "cell_type": "markdown",
      "source": [
        ">[参考文献]\n",
        "\n",
        ">『技術者のための基礎解析学 機械学習に必要な数学を本気で学ぶ』(中井 悦司 (著), 翔泳社)"
      ]
    },
    {
      "metadata": {
        "id": "zNvUCNsh8SEH",
        "colab_type": "text"
      },
      "cell_type": "markdown",
      "source": [
        "この講座のコンテンツは次のようになります。第1章がこのJupyterNoteBookの使い方とPythonの基礎、2章がNumpy・Scipy・Pandas・Matplotlibの基礎で、データハンドリングに使うライブラリと基本的なテクニックをここで学びます。これらのライブラリのさらなる活用方法については、後の章で学びます。3章が実際のデータを使った記述統計学と回帰分析で、2章で学んだNumpyやPandas等を使っていきます。4章が確率統計の基礎になり、少し理論的なお話になり数式も出てきますが、徐々に慣れていきましょう。\n",
        "\n",
        "5章が科学計算に使われるNumpyやScipy、6章でデータ加工処理に必要となるPandasを使ったテクニック、7章がデータの可視化(Matplotlib)について学びます。この章までにPythonのデータ分析前の処理や加工の基礎を身につけていただき、総合問題でそれらの手法を活用します。具体的には金融の時系列データやマーケティングデータをハンドリングをして、データ分析の実務現場でも使われている基礎的な手法を紹介します。\n",
        "\n",
        "8章からはデータベースの話になり、データベースとSQLの基礎スキルを身につけます。9章でSQLの応用的な処理、10章ではMongoDBのNoSQLについて学びます。データはDBにあるケースもありますし、テキスト形式等で保存されているケースもありますので、ここで学ぶデータ加工処理を学べば、後の工程が楽になります。また、DBはPythonとも連携が可能で、その接続方法などについても紹介します。\n",
        "\n",
        "11章からは、機械学習の単元になります。はじめは教師あり学習、次の12章で教師なし学習、そして13章がその機械学習で学んだモデリングの検証やチューニング方法になります。モデルは作ったら終わりではなく、検証をしっかりとする必要があり、オーバーフィッティング等についても述べます。\n",
        "\n",
        "最後は今後の学習として、14章でデータサイエンスの中級者になるために必要なスキル、例えばPythonの高速化や深層学習入門、Spark(Pyspark)を紹介します。この教材はデータサイエンスの入り口ですので、大事なのはこれからの学習をさらに広げて、深めていくことです。そのために、これらのコンテンツを作成しました。まとめとして、15章は総合問題となります。\n",
        "\n",
        "この講座をすべて完了すれば、データ分析に必要な最低限のスキルと、今注目されている深層学習などを学ぶための前知識も身につけることができます。余談ですが、ここでデータ分析のスキルをしっかりと身につければ、自分の市場価値を上げることができますし、就職や転職するときに選択肢が大きく広がります。"
      ]
    },
    {
      "metadata": {
        "nbpresent": {
          "id": "93b648ee-643e-46b2-a289-f6b562875bc4"
        },
        "id": "N1YrgrUa8SEH",
        "colab_type": "text"
      },
      "cell_type": "markdown",
      "source": [
        "### 1.1.2 データサイエンティストについて\n",
        "キーワード：データサイエンティスト、統計学、プログラミング"
      ]
    },
    {
      "metadata": {
        "id": "4dtlbw6o8SEI",
        "colab_type": "text"
      },
      "cell_type": "markdown",
      "source": [
        "ここでは、主にデータ分析について学んでいくのですが、まずデータ分析の専門家である「データサイエンティスト」について考えてみましょう。いろいろな書物やネット上で定義されており、一概にはまだ定まっていない状態ですが、ここではデータサイエンティストとは**ビジネスの課題に対して、統計や機械学習（数学）とプログラミング(IT)スキルを使って、解決する人**と定義したいと思います。"
      ]
    },
    {
      "metadata": {
        "id": "uFUGVcXs8SEJ",
        "colab_type": "text"
      },
      "cell_type": "markdown",
      "source": [
        "![comment](http://www.zsassociates.com/solutions/services/technology/technology-services/~/media/791C9080D8914382BC08E27380C24FC6.ashx)"
      ]
    },
    {
      "metadata": {
        "id": "crwntDnv8SEK",
        "colab_type": "text"
      },
      "cell_type": "markdown",
      "source": [
        "参照URL：http://www.zsassociates.com/solutions/services/technology/technology-services/big-data-and-data-scientist-services.aspx"
      ]
    },
    {
      "metadata": {
        "id": "c1ZjeGMN8SEK",
        "colab_type": "text"
      },
      "cell_type": "markdown",
      "source": [
        "このデータサイエンティスト、数学や統計ができる人しかなれないと思われがちですが、それだけではなく、それを実装する力（エンジニアリング力）も必要ですし、そもそもそれらを使ってビジネス課題を解決していく（コンサルティング力みたいなもの）力が求められています。この1つのどれが欠けてもデータサイエンティストではありません。ただ、これらのスキルについてすべてエキスパートだという人はいませんし、以下でも述べますが、それぞれの強みを持っている人たちでグループを作り、データサイエンスチームを結成することもあります。詳しいことは、以下の参考文献や色々とデータ分析関連の本が出ていますので、ぜひ読んでみてください。"
      ]
    },
    {
      "metadata": {
        "id": "ioLfZyq08SEN",
        "colab_type": "text"
      },
      "cell_type": "markdown",
      "source": [
        ">[参考文献]\n",
        "\n",
        ">『最強のデータ分析組織 なぜ大阪ガスは成功したのか』(河本 薫 (著)、日経BP社)\n",
        "\n",
        ">『機械脳の時代―――データサイエンスは戦略・組織・仕事をどう変えるのか?』(加藤 エルテス 聡志 (著)、ダイヤモンド社)\n",
        "\n",
        ">『アクセンチュアのプロフェッショナルが教えるデータ・アナリティクス実践講座』(アクセンチュアアナリティクス (著), 工藤卓哉  (監修), 保科学世 (監修), 翔泳社)\n",
        "\n",
        ">『会社を変える分析の力 (講談社現代新書) 』(河本 薫 (著)、講談社)"
      ]
    },
    {
      "metadata": {
        "nbpresent": {
          "id": "8972370e-3b2e-4fe5-b7d5-e6f410f4df68"
        },
        "id": "9DXdBZAn8SEO",
        "colab_type": "text"
      },
      "cell_type": "markdown",
      "source": [
        "### 1.1.3 データ分析の流れ\n",
        "キーワード：データ分析の流れ、PDCA"
      ]
    },
    {
      "metadata": {
        "id": "CsoWpVh58SEP",
        "colab_type": "text"
      },
      "cell_type": "markdown",
      "source": [
        "次に、実際のデータ分析の流れを簡単に説明します。データ分析のプロジェクトでは、そのビジネス理解、データ理解、データ加工、処理、モデリング、検証、運用の流れを創ることが大事になってきます。特に、実際のビジネス現場で重要になるのは、ビジネス理解です。ここを外すと意味がなくなってしまいます。目的ありきで、分析ありきではありません。ここがモデリングだけにしか興味がない人たちには面白くないかもしれませんが、さらに大変なのが、クライアントや関係者がはっきりと目的を持っている場合は少ないということです（！）。話し合い等をしながら、こちら側から課題を見つけ、提案していくことが求められます。ここは、他の人たち（コンサルタント、営業等）と協力する必要がありますし、またクライアントや関係者ともコミュニケーションをとっていく必要があり、とても大事です。また、どこかの段階が終わったら完了ではなく、サイクルを回し続けるいわゆるPDCAサイクルの流れまで持っていく必要があります。\n",
        "\n",
        "ただ、そういった側面があるという現実をお伝えした上で、それをどうアプローチしていくのか、どうやって具体化（実装）するのか学んでいくのがこの講座です。"
      ]
    },
    {
      "metadata": {
        "id": "ieA7szc48SEQ",
        "colab_type": "text"
      },
      "cell_type": "markdown",
      "source": [
        "![comment](https://upload.wikimedia.org/wikipedia/commons/thumb/b/ba/Data_visualization_process_v1.png/525px-Data_visualization_process_v1.png)"
      ]
    },
    {
      "metadata": {
        "id": "Nn5m2Yof8SEQ",
        "colab_type": "text"
      },
      "cell_type": "markdown",
      "source": [
        "参照URL：http://www.kdnuggets.com/2016/03/data-science-process.html"
      ]
    },
    {
      "metadata": {
        "id": "AUfvJOIH8SER",
        "colab_type": "text"
      },
      "cell_type": "markdown",
      "source": [
        ">**[ポイント]**\n",
        "\n",
        ">データ分析の現場で大事になるのは、ビジネス理解やその目的を明確化し、PDCAサイクルの流れ（データ分析のプロセス）を創ることです。"
      ]
    },
    {
      "metadata": {
        "id": "fdDYPLTq8SES",
        "colab_type": "text"
      },
      "cell_type": "markdown",
      "source": [
        "データ分析のプロジェクトの流れ等については、以下のような参考文献があります。"
      ]
    },
    {
      "metadata": {
        "id": "l6Ny9kc78SET",
        "colab_type": "text"
      },
      "cell_type": "markdown",
      "source": [
        ">[参考文献]\n",
        "\n",
        ">『真実を見抜く分析力 ビジネスエリートは知っているデータ活用の基礎知識』(トーマス・H・ダベンポート (著), キム・ジノ(Jin-ho Kim) (著), 河本 薫 (監修), & 1 その他、日経BP社)\n",
        "\n",
        ">『データ分析プロジェクトの手引: データの前処理から予測モデルの運用までを俯瞰する20章』(D. ネトルトン (著), David Nettleton (原著), 市川 太祐 (翻訳), 島田 直希 (翻訳)、共立出版 )"
      ]
    },
    {
      "metadata": {
        "id": "D7Xgt52x8SEV",
        "colab_type": "text"
      },
      "cell_type": "markdown",
      "source": [
        "さらに、上記のようなデータ分析のフローや結果をシステム化したり、実務で運用していくためには様々なことを考慮する必要があります。以下の本がオススメです。"
      ]
    },
    {
      "metadata": {
        "id": "PALI6hUM8SEV",
        "colab_type": "text"
      },
      "cell_type": "markdown",
      "source": [
        ">[参考文献]\n",
        "\n",
        ">『仕事ではじめる機械学習』(有賀 康顕  (著),中山 心太 (著),西林 孝 (著)、オライリージャパン)"
      ]
    },
    {
      "metadata": {
        "id": "zX3L9u9w8SEW",
        "colab_type": "text"
      },
      "cell_type": "markdown",
      "source": [
        "### 1.1.4 （必読！）この講座の注意事項\n",
        "キーワード：自分の手を動かして学ぼう"
      ]
    },
    {
      "metadata": {
        "id": "i1sdGCRE8SEX",
        "colab_type": "text"
      },
      "cell_type": "markdown",
      "source": [
        "ビジネスの理解ができても、それを形にする（実装する）ことができなければ、データサイエンティストではありません。ここでは、様々なデータに対処して、実装できることを目指します。そこで、学習する上でとても大切になってくるのが、**「自分で考えて手を動かしながら学ぶこと」**です。\n",
        "\n",
        "この講座の中で、実際に変数を変えてみたり、コードを実行して、結果をみてください。基本、上から順に実行するだけで良いのですが、ただコードを眺めているだけでは、分析やコーディングのスキルは身につきません。コードをすぐに実行できる環境があるという点が、この講義の大きな特徴です。実際に試行錯誤することでしか、コーディングスキルは身につきません。講座のところどころに、「〜をしてみてください」だとか「考えてください」という文言（**[やってみよう]**）があるので、次に進む前に、ちゃんと立ち止まって考えて、コーディングしてみてください。\n",
        "\n",
        "さらに、練習問題等に関わらず、ご自身の中で「ここの数字を変えたり、処理を変えたらどうなんだろう」など、仮説やアイデアが浮かんだら是非色々と試してみてください。時間はかかるかもしれません。詰まる時もあるかもしれませんし、エラー文などが返ってくるかもしれませんが、エラー文も見ながら、まずは自分で調べながらやることも大事です。また、コードが複数行あって、講座の説明文だけでは分からない処理があるかもしれません。その時は、1行1行実行して、どういう結果が返ってくるのか、見ていきましょう。そこから1つ1つ学ぶことができるのです。（もちろん、簡単だと思われる場合は、適宜スキップしてください。）"
      ]
    },
    {
      "metadata": {
        "id": "k5hgsfDc8SEY",
        "colab_type": "text"
      },
      "cell_type": "markdown",
      "source": [
        "この教材を進めていく中で、わからないキーワードやライブラリ、コードなどが出てくることもあると思います。その場合は、上の参考文献等を見るだけではなく、検索エンジン（グーグルなど）を積極的に使って調べていきましょう。はじめは調べたいものがすぐに見つからず、時間がかかるかもしれませんが、慣れてくれば調べるコツも分かってきます。この**調べる力もとても重要**です。\n",
        "\n",
        "また、この教材に書いてあることを全て丸暗記しようなどとは思わないでください。あくまでこの教材は、PythonやSQL等を使っていろんな処理ができるというのを学んでもらうためのものであって、全て覚えてもらうことを想定していません。学んだばかりの処理は、すぐに使いこなせないかもしれませんが、必要なものは使う頻度も多くなって、そのうち手が覚えて、自然に使えるようになります。実際に、現場で働いている多くのエンジニアは、わからないことがある場合は、ネットで探したり、掲示板で聞いたりして、仕事をしています。ですので、特に初学者の方は、この教材ではいろいろな方法があるというのをまず知って、必要な時に振り返って、使えればよいでしょう。"
      ]
    },
    {
      "metadata": {
        "id": "zMrS4J6s8SEZ",
        "colab_type": "text"
      },
      "cell_type": "markdown",
      "source": [
        "色々と御託を並べてきましたが、自分で考えてコーディングしたものが動いて、結果が返ってくるというのはとても楽しいです。もちろん、単純作業もありますが、それを自動化したり、うまく処理できるスクリプトができた時も快感です。クリエティブな要素も多いです。ぜひその感触もここで掴んでください。"
      ]
    },
    {
      "metadata": {
        "id": "AcMpnCIU8SEZ",
        "colab_type": "text"
      },
      "cell_type": "markdown",
      "source": [
        ">**[ポイント]**\n",
        "\n",
        ">実際にPythonのコードを書いて実行し、結果をみながら、試行錯誤しよう。そして、楽しんでプログラミングしよう。"
      ]
    },
    {
      "metadata": {
        "id": "ytiz1_BC8SEa",
        "colab_type": "text"
      },
      "cell_type": "markdown",
      "source": [
        "なお、Pythonを使った自動化については、以下のような本が出版されていますので、参考にしてください。URLは上記の英語版（原本）ですが、無料です。PDF版もあるようです。フリーの教材や講義は英語が多いので、ついでに英語の勉強もしましょう。"
      ]
    },
    {
      "metadata": {
        "id": "wFz7FyYe8SEc",
        "colab_type": "text"
      },
      "cell_type": "markdown",
      "source": [
        ">[参考文献]\n",
        "\n",
        ">『退屈なことはPythonにやらせよう ―ノンプログラマーにもできる自動化処理プログラミング』(Al Sweigart (著), 相川 愛三 (翻訳)、オライリージャパン)\n",
        "\n",
        ">[参照URL]\n",
        "\n",
        ">https://automatetheboringstuff.com"
      ]
    },
    {
      "metadata": {
        "collapsed": true,
        "id": "d7whHn4d8SEd",
        "colab_type": "text"
      },
      "cell_type": "markdown",
      "source": [
        "***"
      ]
    },
    {
      "metadata": {
        "nbpresent": {
          "id": "b0fc1861-b979-45c5-abd0-3b05200de3b6"
        },
        "id": "a2CuXcnk8SEe",
        "colab_type": "text"
      },
      "cell_type": "markdown",
      "source": [
        "## 1.2 Pythonの基礎\n",
        "ゴール：Jupyterを使ってPythonの基礎的な実装ができる"
      ]
    },
    {
      "metadata": {
        "id": "ZxAJNEnV8SEe",
        "colab_type": "text"
      },
      "cell_type": "markdown",
      "source": [
        "### 1.2.1 Jupyterの使い方とPythonの基礎\n",
        "キーワード：演算、文字列、変数、リスト、内包表記、制御、関数、オブジェクト指向"
      ]
    },
    {
      "metadata": {
        "id": "0LCzYajG8SEf",
        "colab_type": "text"
      },
      "cell_type": "markdown",
      "source": [
        "ここからいよいよ実装です。本講座ではPythonを使用します。そもそもなぜPythonを使うのでしょうか。それは、他のプログラミング言語と比べてコーディングがしやすく、色々なこと（データの加工、取得、モデリング等）が一貫して簡単にできるからです。また、データ解析や機械学習系のライブラリが揃っているため、多くのデータサイエンティストに利用されています。Python以外でプログラムをやってきた人はもちろん、プログラム経験がない人たちでもすぐに扱うことができます。なお、コードは基本的に上から順に実行してください。"
      ]
    },
    {
      "metadata": {
        "id": "JitbLQJO8SEg",
        "colab_type": "text"
      },
      "cell_type": "markdown",
      "source": [
        "早速、Pythonのコードを見て、実行していきましょう。（なお、PythonやJupyter環境に慣れている人は、ここはスキップして、次のNumpy等に進んでください。）"
      ]
    },
    {
      "metadata": {
        "id": "S0BmxW9s8SEg",
        "colab_type": "text"
      },
      "cell_type": "markdown",
      "source": [
        "プログラミング言語入門でおなじみの「Hello, world!」の出力もこれだけのコードで足ります。"
      ]
    },
    {
      "metadata": {
        "id": "6WlXfWwe8SEi",
        "colab_type": "code",
        "outputId": "9bdb5ffa-a7e5-4189-90bd-3523798c261f",
        "colab": {
          "base_uri": "https://localhost:8080/",
          "height": 34
        }
      },
      "cell_type": "code",
      "source": [
        "print(\"Hello, world!\")"
      ],
      "execution_count": 0,
      "outputs": [
        {
          "output_type": "stream",
          "text": [
            "Hello, world!\n"
          ],
          "name": "stdout"
        }
      ]
    },
    {
      "metadata": {
        "id": "QGNBmm1C8SEo",
        "colab_type": "text"
      },
      "cell_type": "markdown",
      "source": [
        "以下のセルは、いくつかの演算例です。上記もprintを使って出力していますが、printなしでも出力できて、電卓みたいに使えます。セルを選択し、Shift + return で実行すると、結果が表示され、次のセルに移動します。上の再生ボタンみたいなもの（▶︎|）を押しても、実行できます。なお、#はコメントアウトで、無視されます。後々のために、適宜、コメントを残すことも大事です。"
      ]
    },
    {
      "metadata": {
        "id": "Jtvztkeu8SEo",
        "colab_type": "code",
        "outputId": "c45533b5-ce6a-4b36-aa5e-435b7151a056",
        "colab": {
          "base_uri": "https://localhost:8080/",
          "height": 85
        }
      },
      "cell_type": "code",
      "source": [
        "# 演算とその出力例\n",
        "print(1 + 1)\n",
        "print(2 * 5)\n",
        "print(10 ** 3) # 10の3乗, 〜乗は**を使う\n",
        "1+1"
      ],
      "execution_count": 0,
      "outputs": [
        {
          "output_type": "stream",
          "text": [
            "2\n",
            "10\n",
            "1000\n"
          ],
          "name": "stdout"
        },
        {
          "output_type": "execute_result",
          "data": {
            "text/plain": [
              "2"
            ]
          },
          "metadata": {
            "tags": []
          },
          "execution_count": 3
        }
      ]
    },
    {
      "metadata": {
        "id": "krKAU7u08SEr",
        "colab_type": "text"
      },
      "cell_type": "markdown",
      "source": [
        "**なお、以下は基本的なJupyterの使い方の解説です。（トップ画面のHelp -> Launch Classic Notebookで旧バージョンのNotebookで作業が可能です。）**\n",
        "\n",
        "画面の左上にある＋を押して、セルを追加し、数字を入力して、いくつか計算を実行してみましょう。また、セルを切り取りたい場合はハサミマークを、セルを上下に持って行きたい時は↑↓ボタンを押せばよいです。なお、コードを書く時はデフォルトで「Code」になっていますが、文章等を記述したい時は、「Markdown」を選択してください。メモを残したい場合などに便利です。さらに、色々なアウトプットが出せるので、もし詳しく知りたい方は以下の参照などを見ながら実行することをお勧めします。なお、下図はPython 2の表記になっていますが、現在のPythonの最新バージョンはPython 3となります。Python 2 と3ではコードの書き方が変わっており、本講座はPython 3に基づいています。Python 2のサポートは2020年までとなっているため、今後はPython 3を使用していくことをお勧めします。"
      ]
    },
    {
      "metadata": {
        "id": "wvG-rCoM8SEs",
        "colab_type": "text"
      },
      "cell_type": "markdown",
      "source": [
        "![dd](https://qiita-image-store.s3.amazonaws.com/0/67592/6634bd1a-4e49-7fcf-4a6f-700009ea0594.png)"
      ]
    },
    {
      "metadata": {
        "id": "shCVgYFQ8SEu",
        "colab_type": "text"
      },
      "cell_type": "markdown",
      "source": [
        ">[参考URL]\n",
        "\n",
        ">http://pythondatascience.plavox.info/pythonの開発環境/jupyter-notebookを使ってみよう/\n",
        "\n",
        ">http://jupyter-notebook.readthedocs.io/en/latest/examples/Notebook/Working%20With%20Markdown%20Cells.html"
      ]
    },
    {
      "metadata": {
        "id": "-i5JIo3P8SEw",
        "colab_type": "text"
      },
      "cell_type": "markdown",
      "source": [
        "もっと作業の効率を高めたい場合は、ショートカットキーを使いこなせるようになりましょう。編集モードでない状態（「esc」を押します。）で「h」を押すと以下のような画面が出てくるので、例えば、新しいセルを下に追加したい場合は、「b」を押します。他にも、コピー(「c」)、貼り付け(「v」)などもありますので、ぜひ使いこなしてください。ショートカットキーに慣れていない人は、はじめちょっと大変かもしれませんが、慣れると圧倒的に作業時間が短くなります。"
      ]
    },
    {
      "metadata": {
        "id": "DrvKn1CU8SEw",
        "colab_type": "text"
      },
      "cell_type": "markdown",
      "source": [
        "![comment](http://www.perfectlyrandom.org/assets/jupyter-keyboard-shortcuts.png)"
      ]
    },
    {
      "metadata": {
        "id": "xx4I70P18SEx",
        "colab_type": "text"
      },
      "cell_type": "markdown",
      "source": [
        ">**[ポイント]**\n",
        "\n",
        ">作業（コーディング）を効率よく進めるためには、ショートカットキーを使いなそう。"
      ]
    },
    {
      "metadata": {
        "id": "ZJYLL8vq8SEy",
        "colab_type": "text"
      },
      "cell_type": "markdown",
      "source": [
        "なお、ショートカットキーを使う場面はJupyterだけではありません。ほとんどの方がWindowsかMacを使っていると思いますので、それぞれのショートカットキーも使えると作業効率が高まります（エクセルなどもそうです）。全く使っていなかった方は是非使えるようになりましょう。スポーツ（野球やバスケットなど）でいうところの基礎練習（素振り、ドリブルなど）だと思って、手を慣らしてください。"
      ]
    },
    {
      "metadata": {
        "id": "pkDVn_JR8SEy",
        "colab_type": "text"
      },
      "cell_type": "markdown",
      "source": [
        ">[参考URL]\n",
        "\n",
        ">https://ja.wikipedia.org/wiki/ショートカットキー一覧"
      ]
    },
    {
      "metadata": {
        "id": "LLrUc6ev8SEz",
        "colab_type": "text"
      },
      "cell_type": "markdown",
      "source": [
        "次の例は、変数に文字を割り当て、printでその変数に入っている値を表示させています。なお、普通のプログラミング言語（CやJavaなど）では、変数を扱うときに整数なのか文字なのか「型」を設定する必要があります（int x など）が、Pythonは変数の型を指定しなくてよいです。（これを静的型付け言語といいます。C言語などの言語は静的型付け言語といいます。）"
      ]
    },
    {
      "metadata": {
        "id": "JjoTzC5e8SE0",
        "colab_type": "code",
        "outputId": "0bdb270c-e266-42f9-c33f-ae774a11bc05",
        "colab": {}
      },
      "cell_type": "code",
      "source": [
        "# 文字列\n",
        "sample_str = \"test\"\n",
        "print(sample_str)"
      ],
      "execution_count": 0,
      "outputs": [
        {
          "output_type": "stream",
          "text": [
            "test\n"
          ],
          "name": "stdout"
        }
      ]
    },
    {
      "metadata": {
        "id": "ahF3DIF98SE4",
        "colab_type": "code",
        "outputId": "756a0cfa-67ac-4a12-de50-1aba616ed84c",
        "colab": {}
      },
      "cell_type": "code",
      "source": [
        "# 文字の抜き出しも可能。なお、0から始まる。\n",
        "sample_str[0]"
      ],
      "execution_count": 0,
      "outputs": [
        {
          "output_type": "execute_result",
          "data": {
            "text/plain": [
              "'t'"
            ]
          },
          "metadata": {
            "tags": []
          },
          "execution_count": 4
        }
      ]
    },
    {
      "metadata": {
        "id": "0bRhMCXc8SE9",
        "colab_type": "code",
        "outputId": "5d32ccd7-5139-470b-e825-d19f76ffcb86",
        "colab": {}
      },
      "cell_type": "code",
      "source": [
        "# 2番目の文字は1を指定\n",
        "sample_str[1]"
      ],
      "execution_count": 0,
      "outputs": [
        {
          "output_type": "execute_result",
          "data": {
            "text/plain": [
              "'e'"
            ]
          },
          "metadata": {
            "tags": []
          },
          "execution_count": 5
        }
      ]
    },
    {
      "metadata": {
        "id": "bFBR2M6l8SFA",
        "colab_type": "text"
      },
      "cell_type": "markdown",
      "source": [
        "以下は、インデックス5の文字を指定していますが、最後はインデックス3のtであるため、6番目の文字は存在しないため、エラーが出ています。"
      ]
    },
    {
      "metadata": {
        "id": "5i94R4dF8SFB",
        "colab_type": "code",
        "outputId": "8191e8b7-8291-4268-bd5d-25a952572f40",
        "colab": {}
      },
      "cell_type": "code",
      "source": [
        "# 実行してもエラーが出るので注意\n",
        "sample_str[5]"
      ],
      "execution_count": 0,
      "outputs": [
        {
          "output_type": "error",
          "ename": "IndexError",
          "evalue": "string index out of range",
          "traceback": [
            "\u001b[0;31m---------------------------------------------------------------------------\u001b[0m",
            "\u001b[0;31mIndexError\u001b[0m                                Traceback (most recent call last)",
            "\u001b[0;32m<ipython-input-6-a99414d7448b>\u001b[0m in \u001b[0;36m<module>\u001b[0;34m()\u001b[0m\n\u001b[1;32m      1\u001b[0m \u001b[1;31m# 実行してもエラーが出るので注意\u001b[0m\u001b[1;33m\u001b[0m\u001b[1;33m\u001b[0m\u001b[0m\n\u001b[0;32m----> 2\u001b[0;31m \u001b[0msample_str\u001b[0m\u001b[1;33m[\u001b[0m\u001b[1;36m5\u001b[0m\u001b[1;33m]\u001b[0m\u001b[1;33m\u001b[0m\u001b[0m\n\u001b[0m",
            "\u001b[0;31mIndexError\u001b[0m: string index out of range"
          ]
        }
      ]
    },
    {
      "metadata": {
        "id": "fG5lk28_8SFF",
        "colab_type": "text"
      },
      "cell_type": "markdown",
      "source": [
        "今後、実装して計算を実行したあとにエラーに遭遇することは多々あります。そのときに、解決の手がかりとなるのがこの表示されるエラーメッセージです。上のエラーでは、最後に「IndexError: string index out of range」と記載されています。インデックスエラーと出ています。文字インデックスが範囲外だといっているので、5というのはおかしいなというのがわかります。\n",
        "\n",
        "当たり前のことですが、エラーが起きた場合は、まずはエラーメッセージを見ましょう。「----> 」がエラーが発生している場所を指しています。ただし、エラーメッセージがわからないこともあると思いますので、その時はそのままエラーメッセージをグーグルなどで検索してみましょう。他の人も同じようなエラーに遭遇している可能性は意外と高いので、早く解決策が見つかるかもしれません。"
      ]
    },
    {
      "metadata": {
        "id": "TiQdQYjU8SFG",
        "colab_type": "text"
      },
      "cell_type": "markdown",
      "source": [
        ">**[ポイント]**\n",
        "\n",
        ">エラーが出た時は、慌てずにエラーメッセージをしっかり確認しましょう。わからなければ、そのままエラーメッセージを検索エンジンで探しましょう。"
      ]
    },
    {
      "metadata": {
        "id": "j58HEQsi8SFH",
        "colab_type": "text"
      },
      "cell_type": "markdown",
      "source": [
        "さて、先ほどは変数に文字を割り当てましたが、もちろん数字を割り当てることもでき、その変数を使って、演算も可能です。なお、=は等しいという意味ではなく、右の値を左の値に割り当てするという意味です。"
      ]
    },
    {
      "metadata": {
        "id": "JTGhfxD28SFI",
        "colab_type": "code",
        "outputId": "cb63e6a8-2333-465e-8227-388afd707437",
        "colab": {}
      },
      "cell_type": "code",
      "source": [
        "#　変数にデータを割り当て\n",
        "sample_data_int = 1\n",
        "print(sample_data_int)\n",
        "\n",
        "# 上の数字に10を足す\n",
        "sample_data_int = sample_data_int + 10\n",
        "print(sample_data_int)"
      ],
      "execution_count": 0,
      "outputs": [
        {
          "output_type": "stream",
          "text": [
            "1\n",
            "11\n"
          ],
          "name": "stdout"
        }
      ]
    },
    {
      "metadata": {
        "nbpresent": {
          "id": "6dccff7c-9bb1-447a-9692-656ca1687626"
        },
        "id": "RGreGsCv8SFK",
        "colab_type": "text"
      },
      "cell_type": "markdown",
      "source": [
        "何か変数を作成するときは、可能な限り変数名は考えて作成しましょう。ただ、単なる数字のチェック等をするのみであれば a = などでも良いですし、この講座でも一時的に使う変数などは特に凝った名前は付けていません。\n",
        "\n",
        "大規模な開発になってくるほど変数名は大事です。もちろん、第3者のためにという意味でメリットになりますが、将来の自分のためにもなります。変数を書いた直後はどんな変数を割り当てたのか覚えていますが、1週間、1ヶ月後その変数xを見たときに、どうでしょうか。何の変数だったのか忘れてしまうことは多々あります。さらにコードが長くなってくると、変数も増えてきて、わからなくなります。\n",
        "\n",
        "コーディングについては、絶対的なルールはないですが、ある程度は規定されているので、ぜひ以下のサイトなど見て参考にしてください。"
      ]
    },
    {
      "metadata": {
        "id": "gdo2hkBA8SFM",
        "colab_type": "text"
      },
      "cell_type": "markdown",
      "source": [
        ">[参考URL]\n",
        "\n",
        ">http://pep8-ja.readthedocs.io/ja/latest/"
      ]
    },
    {
      "metadata": {
        "id": "vw5cGKJg8SFN",
        "colab_type": "text"
      },
      "cell_type": "markdown",
      "source": [
        "他、変数に関する注意点として、プログラミング言語には、**予約語**といわれる、あらかじめ用意してある変数や組み込みオブジェクトなど(while, if, sumなど)がありますので、それらを変数名として使わないように注意しましょう。それをしてしまうと、後からその機能が使えなくなってしまいますので、以下の情報等も参考に、変数名の設定には注意してください。"
      ]
    },
    {
      "metadata": {
        "scrolled": true,
        "id": "Fq2zMcne8SFP",
        "colab_type": "code",
        "outputId": "a327c549-a66b-49e0-9f34-5d67d15f87b4",
        "colab": {}
      },
      "cell_type": "code",
      "source": [
        "# 予約語\n",
        "__import__('keyword').kwlist"
      ],
      "execution_count": 0,
      "outputs": [
        {
          "output_type": "execute_result",
          "data": {
            "text/plain": [
              "['False',\n",
              " 'None',\n",
              " 'True',\n",
              " 'and',\n",
              " 'as',\n",
              " 'assert',\n",
              " 'break',\n",
              " 'class',\n",
              " 'continue',\n",
              " 'def',\n",
              " 'del',\n",
              " 'elif',\n",
              " 'else',\n",
              " 'except',\n",
              " 'finally',\n",
              " 'for',\n",
              " 'from',\n",
              " 'global',\n",
              " 'if',\n",
              " 'import',\n",
              " 'in',\n",
              " 'is',\n",
              " 'lambda',\n",
              " 'nonlocal',\n",
              " 'not',\n",
              " 'or',\n",
              " 'pass',\n",
              " 'raise',\n",
              " 'return',\n",
              " 'try',\n",
              " 'while',\n",
              " 'with',\n",
              " 'yield']"
            ]
          },
          "metadata": {
            "tags": []
          },
          "execution_count": 8
        }
      ]
    },
    {
      "metadata": {
        "id": "1zhcbbdM8SFT",
        "colab_type": "code",
        "outputId": "56b340ee-cf90-42a4-d22d-a6ba7a615159",
        "colab": {}
      },
      "cell_type": "code",
      "source": [
        "# 組み込みオブジェクト\n",
        "dir(__builtins__)"
      ],
      "execution_count": 0,
      "outputs": [
        {
          "output_type": "execute_result",
          "data": {
            "text/plain": [
              "['ArithmeticError',\n",
              " 'AssertionError',\n",
              " 'AttributeError',\n",
              " 'BaseException',\n",
              " 'BlockingIOError',\n",
              " 'BrokenPipeError',\n",
              " 'BufferError',\n",
              " 'BytesWarning',\n",
              " 'ChildProcessError',\n",
              " 'ConnectionAbortedError',\n",
              " 'ConnectionError',\n",
              " 'ConnectionRefusedError',\n",
              " 'ConnectionResetError',\n",
              " 'DeprecationWarning',\n",
              " 'EOFError',\n",
              " 'Ellipsis',\n",
              " 'EnvironmentError',\n",
              " 'Exception',\n",
              " 'False',\n",
              " 'FileExistsError',\n",
              " 'FileNotFoundError',\n",
              " 'FloatingPointError',\n",
              " 'FutureWarning',\n",
              " 'GeneratorExit',\n",
              " 'IOError',\n",
              " 'ImportError',\n",
              " 'ImportWarning',\n",
              " 'IndentationError',\n",
              " 'IndexError',\n",
              " 'InterruptedError',\n",
              " 'IsADirectoryError',\n",
              " 'KeyError',\n",
              " 'KeyboardInterrupt',\n",
              " 'LookupError',\n",
              " 'MemoryError',\n",
              " 'NameError',\n",
              " 'None',\n",
              " 'NotADirectoryError',\n",
              " 'NotImplemented',\n",
              " 'NotImplementedError',\n",
              " 'OSError',\n",
              " 'OverflowError',\n",
              " 'PendingDeprecationWarning',\n",
              " 'PermissionError',\n",
              " 'ProcessLookupError',\n",
              " 'RecursionError',\n",
              " 'ReferenceError',\n",
              " 'ResourceWarning',\n",
              " 'RuntimeError',\n",
              " 'RuntimeWarning',\n",
              " 'StopAsyncIteration',\n",
              " 'StopIteration',\n",
              " 'SyntaxError',\n",
              " 'SyntaxWarning',\n",
              " 'SystemError',\n",
              " 'SystemExit',\n",
              " 'TabError',\n",
              " 'TimeoutError',\n",
              " 'True',\n",
              " 'TypeError',\n",
              " 'UnboundLocalError',\n",
              " 'UnicodeDecodeError',\n",
              " 'UnicodeEncodeError',\n",
              " 'UnicodeError',\n",
              " 'UnicodeTranslateError',\n",
              " 'UnicodeWarning',\n",
              " 'UserWarning',\n",
              " 'ValueError',\n",
              " 'Warning',\n",
              " 'WindowsError',\n",
              " 'ZeroDivisionError',\n",
              " '__IPYTHON__',\n",
              " '__build_class__',\n",
              " '__debug__',\n",
              " '__doc__',\n",
              " '__import__',\n",
              " '__loader__',\n",
              " '__name__',\n",
              " '__package__',\n",
              " '__spec__',\n",
              " 'abs',\n",
              " 'all',\n",
              " 'any',\n",
              " 'ascii',\n",
              " 'bin',\n",
              " 'bool',\n",
              " 'bytearray',\n",
              " 'bytes',\n",
              " 'callable',\n",
              " 'chr',\n",
              " 'classmethod',\n",
              " 'compile',\n",
              " 'complex',\n",
              " 'copyright',\n",
              " 'credits',\n",
              " 'delattr',\n",
              " 'dict',\n",
              " 'dir',\n",
              " 'divmod',\n",
              " 'dreload',\n",
              " 'enumerate',\n",
              " 'eval',\n",
              " 'exec',\n",
              " 'filter',\n",
              " 'float',\n",
              " 'format',\n",
              " 'frozenset',\n",
              " 'get_ipython',\n",
              " 'getattr',\n",
              " 'globals',\n",
              " 'hasattr',\n",
              " 'hash',\n",
              " 'help',\n",
              " 'hex',\n",
              " 'id',\n",
              " 'input',\n",
              " 'int',\n",
              " 'isinstance',\n",
              " 'issubclass',\n",
              " 'iter',\n",
              " 'len',\n",
              " 'license',\n",
              " 'list',\n",
              " 'locals',\n",
              " 'map',\n",
              " 'max',\n",
              " 'memoryview',\n",
              " 'min',\n",
              " 'next',\n",
              " 'object',\n",
              " 'oct',\n",
              " 'open',\n",
              " 'ord',\n",
              " 'pow',\n",
              " 'print',\n",
              " 'property',\n",
              " 'range',\n",
              " 'repr',\n",
              " 'reversed',\n",
              " 'round',\n",
              " 'set',\n",
              " 'setattr',\n",
              " 'slice',\n",
              " 'sorted',\n",
              " 'staticmethod',\n",
              " 'str',\n",
              " 'sum',\n",
              " 'super',\n",
              " 'tuple',\n",
              " 'type',\n",
              " 'vars',\n",
              " 'zip']"
            ]
          },
          "metadata": {
            "tags": []
          },
          "execution_count": 9
        }
      ]
    },
    {
      "metadata": {
        "id": "vQYEyzDU8SFV",
        "colab_type": "text"
      },
      "cell_type": "markdown",
      "source": [
        ">**[ポイント]**\n",
        "\n",
        ">予約語や組み込みオブジェクトなどに注意して変数名を設定しよう。"
      ]
    },
    {
      "metadata": {
        "id": "GprnMeR48SFW",
        "colab_type": "text"
      },
      "cell_type": "markdown",
      "source": [
        "次は、リストについてです。リストとは、他の言語で言うところの配列みたいなものです。以下は、1から10まで数字が並んでいるデータを作っています。"
      ]
    },
    {
      "metadata": {
        "id": "ahyKBh9y8SFX",
        "colab_type": "code",
        "outputId": "e10a3ced-db8a-48da-b27f-75e6c78a592e",
        "colab": {
          "base_uri": "https://localhost:8080/",
          "height": 253
        }
      },
      "cell_type": "code",
      "source": [
        "# list\n",
        "sample_data_list = [1, 2, 3, 4, 5, 6, 7, 8, 9, 10]\n",
        "print(sample_data_list)\n",
        "\n",
        "# typeで変数のタイプがわかる\n",
        "print(\"変数のタイプ:\", type(sample_data_list))\n",
        "\n",
        "# 1つの要素を指定。0から始まり、[1]は2番目になるので注意。\n",
        "print(\"2番目の数：\", sample_data_list[1])\n",
        "\n",
        "# lenで要素の数を出力。ここでは1から10までの10個なので、結果は10。\n",
        "print(\"要素数：\", len(sample_data_list[0]))"
      ],
      "execution_count": 0,
      "outputs": [
        {
          "output_type": "stream",
          "text": [
            "[1, 2, 3, 4, 5, 6, 7, 8, 9, 10]\n",
            "変数のタイプ: <class 'list'>\n",
            "2番目の数： 2\n"
          ],
          "name": "stdout"
        },
        {
          "output_type": "error",
          "ename": "TypeError",
          "evalue": "ignored",
          "traceback": [
            "\u001b[0;31m---------------------------------------------------------------------------\u001b[0m",
            "\u001b[0;31mTypeError\u001b[0m                                 Traceback (most recent call last)",
            "\u001b[0;32m<ipython-input-4-05863a0e0941>\u001b[0m in \u001b[0;36m<module>\u001b[0;34m()\u001b[0m\n\u001b[1;32m      9\u001b[0m \u001b[0;34m\u001b[0m\u001b[0m\n\u001b[1;32m     10\u001b[0m \u001b[0;31m# lenで要素の数を出力。ここでは1から10までの10個なので、結果は10。\u001b[0m\u001b[0;34m\u001b[0m\u001b[0;34m\u001b[0m\u001b[0;34m\u001b[0m\u001b[0m\n\u001b[0;32m---> 11\u001b[0;31m \u001b[0mprint\u001b[0m\u001b[0;34m(\u001b[0m\u001b[0;34m\"要素数：\"\u001b[0m\u001b[0;34m,\u001b[0m \u001b[0mlen\u001b[0m\u001b[0;34m(\u001b[0m\u001b[0msample_data_list\u001b[0m\u001b[0;34m[\u001b[0m\u001b[0;36m0\u001b[0m\u001b[0;34m]\u001b[0m\u001b[0;34m)\u001b[0m\u001b[0;34m)\u001b[0m\u001b[0;34m\u001b[0m\u001b[0;34m\u001b[0m\u001b[0m\n\u001b[0m",
            "\u001b[0;31mTypeError\u001b[0m: object of type 'int' has no len()"
          ]
        }
      ]
    },
    {
      "metadata": {
        "id": "3owDOdDK8SFb",
        "colab_type": "text"
      },
      "cell_type": "markdown",
      "source": [
        ">**[やってみよう]**\n",
        "\n",
        ">上の＋を押して（もしくは非編集状態で、「b」を押して）セルを追加し、何かのリストを作成して、要素数を出力してみましょう。"
      ]
    },
    {
      "metadata": {
        "id": "I2EShSOu8SFc",
        "colab_type": "text"
      },
      "cell_type": "markdown",
      "source": [
        "なお、リストにあるそれぞれの要素を2倍したい場合、2をかけても、リスト自体が2倍になるだけです。それぞれの要素を2倍したければ、for文を書くか、次で説明するNumpyを使うと良いです。"
      ]
    },
    {
      "metadata": {
        "scrolled": true,
        "id": "ptWbva1z8SFg",
        "colab_type": "code",
        "outputId": "b28624bf-e531-462b-adbe-020c477f5ab3",
        "colab": {}
      },
      "cell_type": "code",
      "source": [
        "# リスト自体が2倍になる\n",
        "sample_data_list * 2 "
      ],
      "execution_count": 0,
      "outputs": [
        {
          "output_type": "execute_result",
          "data": {
            "text/plain": [
              "[1, 2, 3, 4, 5, 6, 7, 8, 9, 10, 1, 2, 3, 4, 5, 6, 7, 8, 9, 10]"
            ]
          },
          "metadata": {
            "tags": []
          },
          "execution_count": 11
        }
      ]
    },
    {
      "metadata": {
        "id": "9WccHCdO8SFk",
        "colab_type": "text"
      },
      "cell_type": "markdown",
      "source": [
        "次は、辞書型です。これを使うと、キーと値をペアにして複数の要素を管理することができます。キーは整数だけではなく、文字で設定可能です。また、リストとは違って、順番は特に関係ありません。"
      ]
    },
    {
      "metadata": {
        "id": "fStl4GbF8SFl",
        "colab_type": "code",
        "outputId": "8da233c6-73ab-4140-bf2e-5c4cad7eb2e1",
        "colab": {}
      },
      "cell_type": "code",
      "source": [
        "# dictionary\n",
        "sample_dic_data = {'apple': 100, 'banana': 100, 'orange': 300, 'mango': 400, 'melon': 500}\n",
        "print(sample_dic_data['melon'])"
      ],
      "execution_count": 0,
      "outputs": [
        {
          "output_type": "stream",
          "text": [
            "500\n"
          ],
          "name": "stdout"
        }
      ]
    },
    {
      "metadata": {
        "id": "oCxMv3d18SFp",
        "colab_type": "text"
      },
      "cell_type": "markdown",
      "source": [
        ">**[やってみよう]**\n",
        "\n",
        ">上では、melonを表示させましたが、orangeの値を表示させてみましょう。また、キーがappleとorangeの値を足してみましょう。"
      ]
    },
    {
      "metadata": {
        "id": "RffGEG698SFq",
        "colab_type": "text"
      },
      "cell_type": "markdown",
      "source": [
        "次は、条件分岐です。ifの横にある条件式を満たしている場合(True)に、該当の文(はじめにある:からelse:の手前まで)を実行し、そうでない場合はelse:以下を実行します。以下の処理は、数字の5がリストの中に入っているかどうかを判定しています。入ってなければ、elseに飛びます。また、Pythonのコーディングにおける注意点ですが、if文などを使うとき、次の行はインデント(字下げ)します。通常は半角スペース4つ分をおきます。このJupyter上では、改行をしたときに自動で空白ができますが、開発環境によっては注意しましょう。"
      ]
    },
    {
      "metadata": {
        "id": "uo3bF1mU8SFq",
        "colab_type": "code",
        "colab": {}
      },
      "cell_type": "code",
      "source": [
        "# 数字の設定\n",
        "sample_int = 5\n",
        "\n",
        "if sample_int in sample_data_list:\n",
        "    #　\" \" の中に、扱っている変数を表示させたい場合は、以下のように %dと%を組み合わせる\n",
        "    print(\"%d は入っています。\" % (sample_int))\n",
        "else:\n",
        "    print(\"%d は入っていません。\" % (sample_int))"
      ],
      "execution_count": 0,
      "outputs": []
    },
    {
      "metadata": {
        "id": "Tjzph7Hm8SFw",
        "colab_type": "text"
      },
      "cell_type": "markdown",
      "source": [
        ">**[やってみよう]**\n",
        "\n",
        ">出力が変わるように、数字の設定（ここでは、sample_int）を変更して、実行してみましょう。また、条件文や、出力結果等を変えてみたりしてください。"
      ]
    },
    {
      "metadata": {
        "id": "oa40aNB88SFw",
        "colab_type": "text"
      },
      "cell_type": "markdown",
      "source": [
        "補足説明として、「print(\" %d は入っています。\" %(sample_int))」では、変数（sample_int）を文字列の中（\"は入っています。\"）に表示させるために、%dと%(sample_int)を使っています。%d は整数、%s は文字列、%f は浮動小数点数の場合に設定します。文字列フォーマットといいます。他、「print(\"{0} は入っていません。\".format(sample_int))」のようにして表示することも可能です（変数を複数設定することもできます）。このformat記法はPython2.6から登場した方法で、%記法を拡張したものとなります。%記法は今後廃止される可能性があるため注意が必要です。"
      ]
    },
    {
      "metadata": {
        "id": "_lIz7Vqs8SFx",
        "colab_type": "text"
      },
      "cell_type": "markdown",
      "source": [
        "次は、繰り返し処理のfor文です。以下は、[1, 2, 3]のリストデータに対して、初めから順番に（1から）データを取り出し、データがなくなる（3まで）まで繰り返し処理（取り出した数字の表示と足し算）を実行しています。初めは0+1=1、次に1+2=3、最後に3+3=6となり、最終的な合計値を表示しています。"
      ]
    },
    {
      "metadata": {
        "id": "VkPS8WPV8SFx",
        "colab_type": "code",
        "outputId": "eb21b720-7cf5-4223-9ebf-b4d83ee43512",
        "colab": {}
      },
      "cell_type": "code",
      "source": [
        "# 初期値の設定\n",
        "total_num = 0\n",
        "\n",
        "# for 文\n",
        "for num in [1, 2, 3]:\n",
        "    # 取り出した数の表示\n",
        "    print(\"num:\", num)\n",
        "    # 今まで取り出した数の合計\n",
        "    total_num = total_num + num\n",
        "\n",
        "# 最後に合計を表示\n",
        "print(\"total_num:\", total_num)"
      ],
      "execution_count": 0,
      "outputs": [
        {
          "output_type": "stream",
          "text": [
            "num: 1\n",
            "num: 2\n",
            "num: 3\n",
            "total_num: 6\n"
          ],
          "name": "stdout"
        }
      ]
    },
    {
      "metadata": {
        "id": "KQijGl0A8SF0",
        "colab_type": "text"
      },
      "cell_type": "markdown",
      "source": [
        "for文を使って、先ほど作成した辞書型のデータを1つ1つ取り出して、それぞれのキーと値を出力しています。これもなくなるまで繰り返します。"
      ]
    },
    {
      "metadata": {
        "id": "tDT68hpW8SF1",
        "colab_type": "code",
        "outputId": "8f73ad0d-dcba-4c26-f318-6175ad834436",
        "colab": {}
      },
      "cell_type": "code",
      "source": [
        "# for 文\n",
        "for dic_key in sample_dic_data:\n",
        "    print(dic_key, sample_dic_data[dic_key])"
      ],
      "execution_count": 0,
      "outputs": [
        {
          "output_type": "stream",
          "text": [
            "mango 400\n",
            "banana 100\n",
            "orange 300\n",
            "apple 100\n",
            "melon 500\n"
          ],
          "name": "stdout"
        }
      ]
    },
    {
      "metadata": {
        "id": "9Z2s8slQ8SF5",
        "colab_type": "text"
      },
      "cell_type": "markdown",
      "source": [
        "なお、以下のような方法でキーと値を取り出すこともできます。これは、あとで説明する**オブジェクト指向型プログラミング**の特徴で、データ（ここではsample_dic_data）とそれを処理するための**メソッド**（以下のitems()）がセットになっており、それを活用しています。メソッドとはあとで説明する**関数**みたいなもので、それを使って処理（ここでは、キーと値を返す）をします。"
      ]
    },
    {
      "metadata": {
        "id": "ws7pVKJW8SF6",
        "colab_type": "code",
        "outputId": "b348f908-0e5b-44d5-93a2-3fb6041c5a0c",
        "colab": {}
      },
      "cell_type": "code",
      "source": [
        "# key, value\n",
        "for key, value in sample_dic_data.items():\n",
        "    print(key, value)"
      ],
      "execution_count": 0,
      "outputs": [
        {
          "output_type": "stream",
          "text": [
            "mango 400\n",
            "banana 100\n",
            "orange 300\n",
            "apple 100\n",
            "melon 500\n"
          ],
          "name": "stdout"
        }
      ]
    },
    {
      "metadata": {
        "id": "tDIBBGUA8SF9",
        "colab_type": "text"
      },
      "cell_type": "markdown",
      "source": [
        "次もfor文を使っています。先ほどやろうとしていたリストの要素をそれぞれ2倍する処理です。**内包表記**といいます。"
      ]
    },
    {
      "metadata": {
        "id": "HVj96YEu8SF_",
        "colab_type": "code",
        "outputId": "2482fead-bd22-43f6-9146-1f594ca9471e",
        "colab": {}
      },
      "cell_type": "code",
      "source": [
        "# 空のリストを作成\n",
        "sample_data_list1 = []\n",
        "\n",
        "# 内包表記、sample_data_listから1つ1つ要素を取り出し、2倍した数字を新たな要素とするリストを作成\n",
        "sample_data_list1 = [i * 2 for i in sample_data_list]\n",
        "print(sample_data_list1)"
      ],
      "execution_count": 0,
      "outputs": [
        {
          "output_type": "stream",
          "text": [
            "[2, 4, 6, 8, 10, 12, 14, 16, 18, 20]\n"
          ],
          "name": "stdout"
        }
      ]
    },
    {
      "metadata": {
        "id": "Gtrt4Xf58SGD",
        "colab_type": "text"
      },
      "cell_type": "markdown",
      "source": [
        "さらにこれに条件を設定して作成することもできます。例えば偶数の数だけsample_data_listから取り出したい場合は、以下のようにします。「if i %2 ==0」を後につけており、i%2は、iを2で割った余りを意味しています。"
      ]
    },
    {
      "metadata": {
        "id": "geSBifuy8SGG",
        "colab_type": "code",
        "outputId": "8abc2b8a-0530-4a24-aba6-4e00fdd990b2",
        "colab": {}
      },
      "cell_type": "code",
      "source": [
        "[i * 2 for i in sample_data_list if i %2 ==0]"
      ],
      "execution_count": 0,
      "outputs": [
        {
          "output_type": "execute_result",
          "data": {
            "text/plain": [
              "[4, 8, 12, 16, 20]"
            ]
          },
          "metadata": {
            "tags": []
          },
          "execution_count": 18
        }
      ]
    },
    {
      "metadata": {
        "id": "KiRYbThI8SGI",
        "colab_type": "text"
      },
      "cell_type": "markdown",
      "source": [
        "なお、連続した整数を作りたいときは、以下のrangeを使うと便利です。数字としては、Nを設定しますが、0からN-1が取り出される点に注意しましょう。"
      ]
    },
    {
      "metadata": {
        "id": "IXNOoSic8SGJ",
        "colab_type": "code",
        "outputId": "49cf3d0b-3712-456e-c3c3-838b3ea6554c",
        "colab": {}
      },
      "cell_type": "code",
      "source": [
        "# range(N)とすると0からN-1までの整数\n",
        "for i in range(11):\n",
        "    print(i)"
      ],
      "execution_count": 0,
      "outputs": [
        {
          "output_type": "stream",
          "text": [
            "0\n",
            "1\n",
            "2\n",
            "3\n",
            "4\n",
            "5\n",
            "6\n",
            "7\n",
            "8\n",
            "9\n",
            "10\n"
          ],
          "name": "stdout"
        }
      ]
    },
    {
      "metadata": {
        "id": "m-xujynT8SGK",
        "colab_type": "text"
      },
      "cell_type": "markdown",
      "source": [
        "他にも、1から始めたい場合や2つ飛ばしで表示させたい場合は、以下のように引数を変えて実行します。"
      ]
    },
    {
      "metadata": {
        "id": "5ICp8VEX8SGL",
        "colab_type": "code",
        "outputId": "c2a8120a-8f6f-4988-b8e2-ac925535f986",
        "colab": {}
      },
      "cell_type": "code",
      "source": [
        "# range(1, 11, 2)は1から開始して2つ飛ばしで、11の手前まで取り出す\n",
        "for i in range(1, 11, 2):\n",
        "    print(i)"
      ],
      "execution_count": 0,
      "outputs": [
        {
          "output_type": "stream",
          "text": [
            "1\n",
            "3\n",
            "5\n",
            "7\n",
            "9\n"
          ],
          "name": "stdout"
        }
      ]
    },
    {
      "metadata": {
        "id": "BAbr_9EP8SGN",
        "colab_type": "text"
      },
      "cell_type": "markdown",
      "source": [
        "また、for文に関連して、**zip関数**もよく使われるので、紹介します。これは、それぞれ異なるリストを同時に取り出していく処理を実行します。例えば、[1,2,3]というリストと、[11,12,13]という2つのリストがあった場合に、それぞれ同じインデックスで値を取って、表示したい場合は以下のようにします。"
      ]
    },
    {
      "metadata": {
        "id": "3Oh5mIKO8SGO",
        "colab_type": "code",
        "outputId": "a9fe6bdd-02bb-4ea8-a413-5ca76ec094f4",
        "colab": {}
      },
      "cell_type": "code",
      "source": [
        "for one, two in zip([1, 2, 3], [11, 12, 13]):\n",
        "    print(\"\", one, \"&\", two)"
      ],
      "execution_count": 0,
      "outputs": [
        {
          "output_type": "stream",
          "text": [
            " 1 & 11\n",
            " 2 & 12\n",
            " 3 & 13\n"
          ],
          "name": "stdout"
        }
      ]
    },
    {
      "metadata": {
        "id": "Mpy3ZCS18SGS",
        "colab_type": "text"
      },
      "cell_type": "markdown",
      "source": [
        "1と11がはじめに取り出されて、次は2と12、最後は3と13が同時に取り出されます。"
      ]
    },
    {
      "metadata": {
        "id": "ndJYzEAJ8SGT",
        "colab_type": "text"
      },
      "cell_type": "markdown",
      "source": [
        "次の処理は、条件を満たしている限り、計算を続けるwhile文です。数字が10より大きくなった時点で、処理は終わります。"
      ]
    },
    {
      "metadata": {
        "id": "sSPqp_Ur8SGV",
        "colab_type": "code",
        "outputId": "8ece71ec-6f0c-41ec-8529-356d432cdd32",
        "colab": {}
      },
      "cell_type": "code",
      "source": [
        "# while 文\n",
        "sample_int =1 \n",
        "while sample_int <= 10:\n",
        "    sample_int = sample_int + 1\n",
        "\n",
        "print(sample_int)"
      ],
      "execution_count": 0,
      "outputs": [
        {
          "output_type": "stream",
          "text": [
            "11\n"
          ],
          "name": "stdout"
        }
      ]
    },
    {
      "metadata": {
        "id": "sfgY6Keq8SGZ",
        "colab_type": "text"
      },
      "cell_type": "markdown",
      "source": [
        "以下はdefを使って、関数を作成しています。関数を作成すると、同じような処理を実行したいときに、便利です。また、処理をまとめておくと、後でコードを修正するときも便利です。1つ目のcalc_multi関数は、2つの数字（aとb）を**引数**として、その掛け算を返しています。この引数がインプットとなって、returnで結果を返し（**返り値**といいます）、これがアウトプットになります。その次の関数calc_fibは、再帰と言って、自分の関数を中で呼び出しており、フィボナッチ数（1, 1, 2, 3, 5...と前と前々の数字を足して、その数を並べたもの）を作成しています。\n",
        "\n",
        "なお、コードが長くなって行数をつけたい場合には、該当をセルを選択し、escキーを押した後に「l（エル）」キーを押すと、行数が表示されます。"
      ]
    },
    {
      "metadata": {
        "id": "Bzckd6Xz8SGa",
        "colab_type": "code",
        "outputId": "fe42fca7-0dc4-4db3-e7de-a21b13d8fca3",
        "colab": {}
      },
      "cell_type": "code",
      "source": [
        "# function multi\n",
        "def calc_multi(a, b):\n",
        "        return a * b\n",
        "\n",
        "# function (再帰)\n",
        "def calc_fib(n):\n",
        "    if n == 1 or n == 2:\n",
        "        return 1\n",
        "    else:\n",
        "        return calc_fib(n-1) + calc_fib(n-2)\n",
        "    \n",
        "# calc\n",
        "print(\"掛け算:\", calc_multi(3, 10))\n",
        "print(\"フィボナッチ数:\", calc_fib(10))"
      ],
      "execution_count": 0,
      "outputs": [
        {
          "output_type": "stream",
          "text": [
            "掛け算: 30\n",
            "フィボナッチ数: 55\n"
          ],
          "name": "stdout"
        }
      ]
    },
    {
      "metadata": {
        "id": "0P_ZaP0y8SGe",
        "colab_type": "text"
      },
      "cell_type": "markdown",
      "source": [
        "次は無名関数といい、コードを簡素化できます。lambdaを使います。普通の関数を作成するときと同じで、lambdaを記述して引数を設定した後、その処理を記述します。後で出てくるmap関数などどよく組み合わせて使うことが多く、pandas機能と一緒に使って、データの加工処理をします。今はあまりメリットを感じられませんが、後で使うので念頭に置いておいてください。"
      ]
    },
    {
      "metadata": {
        "id": "4ImGwnOe8SGe",
        "colab_type": "code",
        "outputId": "b9ebda5a-0f37-4309-84f9-177287897136",
        "colab": {}
      },
      "cell_type": "code",
      "source": [
        "#　無名関数、aとbを引数として、a * bを返り値とする\n",
        "(lambda a, b: a * b)(3,10)"
      ],
      "execution_count": 0,
      "outputs": [
        {
          "output_type": "execute_result",
          "data": {
            "text/plain": [
              "30"
            ]
          },
          "metadata": {
            "tags": []
          },
          "execution_count": 24
        }
      ]
    },
    {
      "metadata": {
        "id": "LvpXR_ff8SGk",
        "colab_type": "text"
      },
      "cell_type": "markdown",
      "source": [
        "#### <練習問題 1>\n",
        "\n",
        "ある文字列(Data Scienceなど)を変数として、それを1文字ずつ表示させるプログラムを書いてください。"
      ]
    },
    {
      "metadata": {
        "id": "nip-3vv2GAjO",
        "colab_type": "code",
        "outputId": "e5fcb4f3-7335-49eb-dd9a-8829da65cb5d",
        "colab": {
          "base_uri": "https://localhost:8080/",
          "height": 238
        }
      },
      "cell_type": "code",
      "source": [
        "s = \"Data Science\"\n",
        "\n",
        "for num in s:\n",
        "  print(num)\n",
        "\n"
      ],
      "execution_count": 0,
      "outputs": [
        {
          "output_type": "stream",
          "text": [
            "D\n",
            "a\n",
            "t\n",
            "a\n",
            " \n",
            "S\n",
            "c\n",
            "i\n",
            "e\n",
            "n\n",
            "c\n",
            "e\n",
            "<generator object <genexpr> at 0x7fca96c91d58>\n"
          ],
          "name": "stdout"
        }
      ]
    },
    {
      "metadata": {
        "id": "h2Nc5NlV8SGl",
        "colab_type": "text"
      },
      "cell_type": "markdown",
      "source": [
        "#### <練習問題 2>\n",
        "\n",
        "1から50までの自然数の和を計算するプログラムを書いて、最後の計算結果を表示させるプログラムを書いてください。"
      ]
    },
    {
      "metadata": {
        "id": "azNqlGS7Gsk6",
        "colab_type": "code",
        "outputId": "08b999f4-e707-4f5f-963e-ced5e3c9e105",
        "colab": {
          "base_uri": "https://localhost:8080/",
          "height": 51
        }
      },
      "cell_type": "code",
      "source": [
        "def add (a):\n",
        "  if a > 0:\n",
        "    return a + add(a-1)\n",
        "  else:\n",
        "    return 0\n",
        "\n",
        "cal = 0\n",
        "for num in range(51):\n",
        "  cal = cal + num\n",
        "  \n",
        "print(cal)\n",
        "\n",
        "print(add(50))\n",
        "\n"
      ],
      "execution_count": 0,
      "outputs": [
        {
          "output_type": "stream",
          "text": [
            "1275\n",
            "1275\n"
          ],
          "name": "stdout"
        }
      ]
    },
    {
      "metadata": {
        "id": "8LkJ06tK8SGm",
        "colab_type": "text"
      },
      "cell_type": "markdown",
      "source": [
        "### 1.2.2 クラスとインスタンス\n",
        "キーワード：オブジェクト、クラス、インスタンス"
      ]
    },
    {
      "metadata": {
        "id": "K3Zzqjeh8SGp",
        "colab_type": "text"
      },
      "cell_type": "markdown",
      "source": [
        "最後にクラスとインスタンスです。初めてこれらを聞いた方は、すぐに理解するのは難しいと思いますので、実際に以下の実装例を見て、雰囲気だけつかんでください。プログラミング初学者の方は、ここは飛ばしても大丈夫です。すぐには必要ありませんが、今後、機械学習のライブラリーsklearnなどを使う時に必要な概念（インスタンスなど）です。\n",
        "\n",
        "先ほど少し出てきましたが、Pythonはオブジェクト指向型のプログラミング言語で、クラスは「オブジェクトのひな型」みたいなものです。よく例えられる例が「たい焼き」で、以下のclassのPrintClassはたい焼き機の型を作っています。次に、実際のたい焼きが出来上がったのがインスタンスp1というイメージです。インスタンスとは、クラスからできあがる実体です。インスタンスには属性を追加することができ、以下ではp1.xに10、p1.yに100、p1.zに1000を追加しています。参考ですが、以下はクラスとインスタンスのイメージです。"
      ]
    },
    {
      "metadata": {
        "id": "MKqJYN4T8SGp",
        "colab_type": "text"
      },
      "cell_type": "markdown",
      "source": [
        "![comment](http://image.itmedia.co.jp/ait/articles/0803/12/r801.gif)"
      ]
    },
    {
      "metadata": {
        "id": "95Q8KDX_8SGq",
        "colab_type": "text"
      },
      "cell_type": "markdown",
      "source": [
        "参照URL：http://image.itmedia.co.jp/ait/articles/0803/12/r801.gif"
      ]
    },
    {
      "metadata": {
        "id": "_XZ4inSL8SGq",
        "colab_type": "code",
        "colab": {}
      },
      "cell_type": "code",
      "source": [
        "# PrintClassクラスの作成とprint_meメソッド（関数）の作成\n",
        "class PrintClass:\n",
        "    def print_me(self):\n",
        "        print(self.x, self.y)"
      ],
      "execution_count": 0,
      "outputs": []
    },
    {
      "metadata": {
        "id": "CH8nvWsG8SGs",
        "colab_type": "code",
        "outputId": "1d8fead6-13e1-414c-accd-8535542e3682",
        "colab": {
          "base_uri": "https://localhost:8080/",
          "height": 34
        }
      },
      "cell_type": "code",
      "source": [
        "# インスタンスの作成、生成\n",
        "p1 = PrintClass()\n",
        "\n",
        "# 属性の値を割り当て\n",
        "p1.x = 10\n",
        "p1.y = 100\n",
        "p1.z = 1000\n",
        "p1.a = \"a\"\n",
        "\n",
        "# メソッドの呼び出し\n",
        "p1.print_me()"
      ],
      "execution_count": 0,
      "outputs": [
        {
          "output_type": "stream",
          "text": [
            "10 100\n"
          ],
          "name": "stdout"
        }
      ]
    },
    {
      "metadata": {
        "id": "5A4yYcqe8SGu",
        "colab_type": "text"
      },
      "cell_type": "markdown",
      "source": [
        "p1というインスタンスに、print_me()という関数（メソッド）がついていて、それを呼び出して実行しています。新しく追加した属性の値zは以下のように確認できます。"
      ]
    },
    {
      "metadata": {
        "id": "-Ec06Ab58SGu",
        "colab_type": "code",
        "outputId": "43747811-5346-4f16-fb70-63583bbdec7d",
        "colab": {}
      },
      "cell_type": "code",
      "source": [
        "# 先ほど追加した属性を表示\n",
        "p1.z"
      ],
      "execution_count": 0,
      "outputs": [
        {
          "output_type": "execute_result",
          "data": {
            "text/plain": [
              "1000"
            ]
          },
          "metadata": {
            "tags": []
          },
          "execution_count": 27
        }
      ]
    },
    {
      "metadata": {
        "id": "i0d7H79x8SGz",
        "colab_type": "text"
      },
      "cell_type": "markdown",
      "source": [
        "このオブジェクト指向とクラスの概念は少し難しいので、もう少し具体的な例を見てみましょう。\n",
        "\n",
        "以下はクラスとしてMyCalcClassを作成しており、いくつかのメソッドを作っています。"
      ]
    },
    {
      "metadata": {
        "id": "M-ohOY7r8SG0",
        "colab_type": "code",
        "colab": {}
      },
      "cell_type": "code",
      "source": [
        "class MyCalcClass:\n",
        "    \n",
        "    #初期化\n",
        "    def __init__(self, x, y):\n",
        "        self.x = x\n",
        "        self.y = y\n",
        "        \n",
        "    def calc_add1(self, a, b):\n",
        "        return a + b\n",
        "    \n",
        "    def calc_add2(self):\n",
        "        return self.x + self.y\n",
        "\n",
        "    def calc_mutli(self, a, b):\n",
        "        return a * b\n",
        "\n",
        "    def calc_print(self, a):\n",
        "        print(\"data:\", a, \"&\", self.y)"
      ],
      "execution_count": 0,
      "outputs": []
    },
    {
      "metadata": {
        "id": "eINBrPmX8SG2",
        "colab_type": "text"
      },
      "cell_type": "markdown",
      "source": [
        "次に、このクラス（MyCalcClass）からインスタンスを生成します。なお、instance_1とinstance_2は別物として扱われます。上記のたい焼きで例えると、チーズたい焼きとクリームたい焼きは別物ですよね。"
      ]
    },
    {
      "metadata": {
        "id": "120Rqhxx8SG3",
        "colab_type": "code",
        "colab": {}
      },
      "cell_type": "code",
      "source": [
        "instance_1 = MyCalcClass(1, 2)\n",
        "instance_2 = MyCalcClass(5, 10)"
      ],
      "execution_count": 0,
      "outputs": []
    },
    {
      "metadata": {
        "id": "GRcqaXE88SG4",
        "colab_type": "text"
      },
      "cell_type": "markdown",
      "source": [
        "これを使って、このインスタンスが持っているメソッドを呼び出します。まずは、instance_1からです。"
      ]
    },
    {
      "metadata": {
        "id": "fOSoF9nr8SG5",
        "colab_type": "code",
        "outputId": "aa7f2de1-d814-467b-ed54-45c2b767b8af",
        "colab": {
          "base_uri": "https://localhost:8080/",
          "height": 87
        }
      },
      "cell_type": "code",
      "source": [
        "print(\"2つの数の足し算(新たに数字を引数としてセット):\", instance_1.calc_add1(5, 3))\n",
        "print(\"2つの数の足し算(インスタンス化の時の値):\", instance_1.calc_add2())\n",
        "print(\"2つの数のかけ算:\", instance_1.calc_mutli(5, 3))\n",
        "instance_1.calc_print(5)"
      ],
      "execution_count": 0,
      "outputs": [
        {
          "output_type": "stream",
          "text": [
            "2つの数の足し算(新たに数字を引数としてセット): 8\n",
            "2つの数の足し算(インスタンス化の時の値): 3\n",
            "2つの数のかけ算: 15\n",
            "data: 5 & 2\n"
          ],
          "name": "stdout"
        }
      ]
    },
    {
      "metadata": {
        "id": "G-1Dmzxc8SG8",
        "colab_type": "text"
      },
      "cell_type": "markdown",
      "source": [
        "calc_add1は引数5と3を設定しその和を返り値として算出しています。calc_add2は何も引数としてセットされていませんが、selfが初期化の時に設定されており、instance_1 = MyCalcClass(1, 2)で、その値は1と2で初期値が設定されていたため、これらを足した3が表示されます。calc_mutliは引数の掛け算の結果、instance_1.calc_print(5)は、引数5と初期値として設定したself.yの方（2）を表示しています。"
      ]
    },
    {
      "metadata": {
        "id": "KF-4flSZ8SG8",
        "colab_type": "text"
      },
      "cell_type": "markdown",
      "source": [
        "次は、instance_2を使いましょう。上の結果と数字が変わっているので、なぜ変わっているのか、しっかりと追っていきましょう。"
      ]
    },
    {
      "metadata": {
        "id": "axNQZKuj8SG9",
        "colab_type": "code",
        "outputId": "9d82d034-b6a0-4aff-e110-48ff0c0a4c39",
        "colab": {}
      },
      "cell_type": "code",
      "source": [
        "print(\"2つの数の足し算(新たに数字を引数としてセット):\", instance_2.calc_add1(10, 3))\n",
        "print(\"2つの数の足し算(インスタンス化の時の値):\", instance_2.calc_add2())\n",
        "print(\"2つの数のかけ算:\", instance_2.calc_mutli(4, 3))\n",
        "instance_2.calc_print(20)"
      ],
      "execution_count": 0,
      "outputs": [
        {
          "output_type": "stream",
          "text": [
            "2つの数の足し算(新たに数字を引数としてセット): 13\n",
            "2つの数の足し算(インスタンス化の時の値): 15\n",
            "2つの数のかけ算: 12\n",
            "data: 20 & 10\n"
          ],
          "name": "stdout"
        }
      ]
    },
    {
      "metadata": {
        "id": "hA1R1eVZ8SG-",
        "colab_type": "text"
      },
      "cell_type": "markdown",
      "source": [
        ">**[やってみよう]**\n",
        "\n",
        ">上のクラス（MyCalcClass）を使って、新しくインスタンスを生成させて(instance_3など）、何か出力等してみましょう。さらにできれば、異なるメソッド（2つの引数の差分など）をこのクラスに追加して、呼び出して使ってみましょう。"
      ]
    },
    {
      "metadata": {
        "id": "iG42dKGJ8SG_",
        "colab_type": "text"
      },
      "cell_type": "markdown",
      "source": [
        "これは見ているだけではわからないと思うので、実際にサンプルなどを作成して実行しましょう。このクラス設計やその実装ができるようになると、大規模な開発をする場合に色々と役に立ちます。\n",
        "\n",
        "これで、クラスとオブジェクトの説明は終わりますが、以下のURLや参考文献等を見て、初学者の方はまずはイメージだけつかめるようになりましょう。"
      ]
    },
    {
      "metadata": {
        "id": "os9FlEK98SG_",
        "colab_type": "text"
      },
      "cell_type": "markdown",
      "source": [
        ">[参照URL]\n",
        "\n",
        ">http://news.mynavi.jp/series/python/019/"
      ]
    },
    {
      "metadata": {
        "id": "CrTVaxUP8SHA",
        "colab_type": "text"
      },
      "cell_type": "markdown",
      "source": [
        "以上で、Pythonの基礎的なコードの説明は終わりです。もちろん、これだけでPythonの基礎を抑えるのは不十分なので、もし基礎に不安があれば、以下のサイトや、参考文献を見て復習等してください。『はじめてのPython』はとても分厚い本ですが、とても丁寧に説明されており、クラスやオブジェクト指向についてもしっかりと解説されていますので、ぜひ読んでみてください。"
      ]
    },
    {
      "metadata": {
        "id": "RZRRf7Ca8SHB",
        "colab_type": "text"
      },
      "cell_type": "markdown",
      "source": [
        ">[参照URL]\n",
        "\n",
        ">https://www.python.org\n",
        "\n",
        ">http://www.sejuku.net/blog/3413\n",
        "\n",
        ">[参考文献]\n",
        "\n",
        ">『はじめてのPython』(Mark Lutz, オライリー・ジャパン)\n",
        "\n",
        ">『入門 Python3』(Bill Lubanovic, オライリー・ジャパン)"
      ]
    },
    {
      "metadata": {
        "id": "9qEyNghV8SHC",
        "colab_type": "text"
      },
      "cell_type": "markdown",
      "source": [
        "## 1.3 総合問題"
      ]
    },
    {
      "metadata": {
        "id": "xbfh9zqY8SHD",
        "colab_type": "text"
      },
      "cell_type": "markdown",
      "source": [
        "### 1.3.1 素数判定\n",
        "\n",
        "（１）10までの素数を表示させるプログラムを書いてください。なお、素数とは、1とそれ自身の数以外は約数をもたない正の整数のことをいいます。\n",
        "\n",
        "（２）上記をさらに一般化して、Nを自然数として、Nまでの素数を表示する関数を書いてください。"
      ]
    },
    {
      "metadata": {
        "id": "ebriaijbxLmN",
        "colab_type": "code",
        "outputId": "0acf1337-e809-49af-addd-13c325df3b9f",
        "colab": {
          "base_uri": "https://localhost:8080/",
          "height": 1681
        }
      },
      "cell_type": "code",
      "source": [
        "def prime_num(x):\n",
        "  for i in range(2,x-1):\n",
        "    if(x%i == 0):\n",
        "      #print(str(x)+\" is not prime number.\")\n",
        "      return i\n",
        "  #print(str(x) + \" is prime number.\")\n",
        "  return -1\n",
        "def print_prime(N):\n",
        "  for i in range(1,N):\n",
        "    if(prime_num(i) == -1):\n",
        "      print(i)\n",
        "     \n",
        "print_prime(500)\n"
      ],
      "execution_count": 0,
      "outputs": [
        {
          "output_type": "stream",
          "text": [
            "1\n",
            "2\n",
            "3\n",
            "5\n",
            "7\n",
            "11\n",
            "13\n",
            "17\n",
            "19\n",
            "23\n",
            "29\n",
            "31\n",
            "37\n",
            "41\n",
            "43\n",
            "47\n",
            "53\n",
            "59\n",
            "61\n",
            "67\n",
            "71\n",
            "73\n",
            "79\n",
            "83\n",
            "89\n",
            "97\n",
            "101\n",
            "103\n",
            "107\n",
            "109\n",
            "113\n",
            "127\n",
            "131\n",
            "137\n",
            "139\n",
            "149\n",
            "151\n",
            "157\n",
            "163\n",
            "167\n",
            "173\n",
            "179\n",
            "181\n",
            "191\n",
            "193\n",
            "197\n",
            "199\n",
            "211\n",
            "223\n",
            "227\n",
            "229\n",
            "233\n",
            "239\n",
            "241\n",
            "251\n",
            "257\n",
            "263\n",
            "269\n",
            "271\n",
            "277\n",
            "281\n",
            "283\n",
            "293\n",
            "307\n",
            "311\n",
            "313\n",
            "317\n",
            "331\n",
            "337\n",
            "347\n",
            "349\n",
            "353\n",
            "359\n",
            "367\n",
            "373\n",
            "379\n",
            "383\n",
            "389\n",
            "397\n",
            "401\n",
            "409\n",
            "419\n",
            "421\n",
            "431\n",
            "433\n",
            "439\n",
            "443\n",
            "449\n",
            "457\n",
            "461\n",
            "463\n",
            "467\n",
            "479\n",
            "487\n",
            "491\n",
            "499\n"
          ],
          "name": "stdout"
        }
      ]
    },
    {
      "metadata": {
        "id": "v7BSDZfr2Vv-",
        "colab_type": "text"
      },
      "cell_type": "markdown",
      "source": [
        "# 新しいセクション"
      ]
    }
  ]
}